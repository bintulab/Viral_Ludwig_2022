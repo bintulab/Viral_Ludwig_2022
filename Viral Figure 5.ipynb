{
 "cells": [
  {
   "cell_type": "code",
   "execution_count": 1,
   "metadata": {},
   "outputs": [
    {
     "name": "stdout",
     "output_type": "stream",
     "text": [
      "Packages imported and functions defined\n"
     ]
    }
   ],
   "source": [
    "# Author: Connor Ludwig\n",
    "# Organization: Bintu Lab, Stanford University\n",
    "# Date: 11/17/2021\n",
    "\n",
    "import sys\n",
    "import os\n",
    "import numpy as np\n",
    "import matplotlib\n",
    "# matplotlib.use('pdf') # do this because environment does not have GUI backend\n",
    "import matplotlib.pyplot as plt\n",
    "import matplotlib.ticker as ticker\n",
    "import matplotlib.gridspec as gridspec\n",
    "from matplotlib.lines import Line2D\n",
    "from scipy.special import factorial\n",
    "import seaborn as sns\n",
    "import pandas as pd\n",
    "import re\n",
    "import statistics\n",
    "from scipy import stats\n",
    "import math\n",
    "import mpl_axes_aligner\n",
    "\n",
    "font = {'family' : 'Arial',\n",
    "        'size'   : 8}\n",
    "\n",
    "matplotlib.rc('font', **font)\n",
    "\n",
    "# !{sys.executable} -m pip install goenrichment\n",
    "\n",
    "# specify list of tile sequences and an amount of buffer from the end for substring matching (integer value)\n",
    "def mergeTiles(tileList, buffer):\n",
    "    # iterate over tile sequences\n",
    "    for t in range(len(tileList)-1):\n",
    "        i = 0\n",
    "        # while the next tile does NOT start with a substring of the first tile (slicing from the end), increment counter\n",
    "        # if it does, exit while loop with counter value\n",
    "        while not tileList[t+1].startswith(tileList[t][i:]):\n",
    "            i += 1\n",
    "            # if slicing too close to end of sequence, exit loop to avoid incorrect stitching by chance\n",
    "            if i == (len(tileList[t]) - buffer):\n",
    "                break\n",
    "        # as long as counter value has not reached the maximum value (sequence length minus buffer length)\n",
    "        if i != (len(tileList[t]) - buffer):\n",
    "            # set merged sequence as the unique substring of the first tile plus the full sequence of the next tile\n",
    "            out = tileList[t][:i] + tileList[t+1]\n",
    "            # re-define tileList, adding merged sequence in place of the constituent sequences\n",
    "            tileList = tileList[:t] + [out] + tileList[t+2:]\n",
    "            # use recursion to merge consecutive overlapping tiles\n",
    "            return mergeTiles(tileList, buffer)\n",
    "    # return edited tileList\n",
    "    return tileList\n",
    "\n",
    "# The following three scripts are from https://towardsdatascience.com/beautiful-custom-colormaps-with-matplotlib-5bab3d1f0e72\n",
    "def hex_to_rgb(value):\n",
    "    '''\n",
    "    Converts hex to rgb colours\n",
    "    value: string of 6 characters representing a hex colour.\n",
    "    Returns: list length 3 of RGB values'''\n",
    "    value = value.strip(\"#\") # removes hash symbol if present\n",
    "    lv = len(value)\n",
    "    return tuple(int(value[i:i + lv // 3], 16) for i in range(0, lv, lv // 3))\n",
    "\n",
    "def rgb_to_dec(value):\n",
    "    '''\n",
    "    Converts rgb to decimal colours (i.e. divides each value by 256)\n",
    "    value: list (length 3) of RGB values\n",
    "    Returns: list (length 3) of decimal values'''\n",
    "    return [v/256 for v in value]\n",
    "\n",
    "def get_continuous_cmap(hex_list, float_list=None):\n",
    "    ''' creates and returns a color map that can be used in heat map figures.\n",
    "        If float_list is not provided, colour map graduates linearly between each color in hex_list.\n",
    "        If float_list is provided, each color in hex_list is mapped to the respective location in float_list. \n",
    "        \n",
    "        Parameters\n",
    "        ----------\n",
    "        hex_list: list of hex code strings\n",
    "        float_list: list of floats between 0 and 1, same length as hex_list. Must start with 0 and end with 1.\n",
    "        \n",
    "        Returns\n",
    "        ----------\n",
    "        colour map'''\n",
    "    rgb_list = [rgb_to_dec(hex_to_rgb(i)) for i in hex_list]\n",
    "    if float_list:\n",
    "        pass\n",
    "    else:\n",
    "        float_list = list(np.linspace(0,1,len(rgb_list)))\n",
    "        \n",
    "    cdict = dict()\n",
    "    for num, col in enumerate(['red', 'green', 'blue']):\n",
    "        col_list = [[float_list[i], rgb_list[i][num], rgb_list[i][num]] for i in range(len(float_list))]\n",
    "        cdict[col] = col_list\n",
    "    cmp = matplotlib.colors.LinearSegmentedColormap('my_cmp', segmentdata=cdict, N=256)\n",
    "    return cmp\n",
    "\n",
    "print('Packages imported and functions defined')"
   ]
  },
  {
   "cell_type": "markdown",
   "metadata": {},
   "source": [
    "#### Quantify number of total WT/perturbations and tiles subjected to chemical inhibition for Fig. 5A"
   ]
  },
  {
   "cell_type": "code",
   "execution_count": 80,
   "metadata": {},
   "outputs": [
    {
     "name": "stdout",
     "output_type": "stream",
     "text": [
      "Number of WT sequences perturbed: 98\n",
      "Number of perturbations: 7696\n",
      "Number of hit tiles designed for screening with chemical inhibitors: 821\n"
     ]
    }
   ],
   "source": [
    "oligos = pd.read_csv('../Supplemental Tables - CSV/HHV-perturbation/HHV_Hits_DMS_codon-opt-proteins_oligos.csv')\n",
    "oligos_DMS = oligos[(oligos['Oligo ID'].str.contains('DMS')) & (~oligos['Oligo ID'].str.contains('random|fiducial'))]\n",
    "oligos_WT = oligos_DMS[oligos_DMS['Oligo ID'].str.contains('WT')]\n",
    "oligos_mut = oligos_DMS[~oligos_DMS['Oligo ID'].str.contains('WT')]\n",
    "\n",
    "print('Number of WT sequences perturbed:', len(oligos_WT))\n",
    "print('Number of perturbations:', len(oligos_mut))\n",
    "\n",
    "hittiles = pd.read_csv('../Supplemental Tables - CSV/HHVhits_added-info.csv')\n",
    "hittiles = hittiles[~hittiles['Oligo ID'].str.contains('random|fiducial')]\n",
    "print('Number of hit tiles designed for screening with chemical inhibitors:', len(hittiles))"
   ]
  },
  {
   "cell_type": "markdown",
   "metadata": {},
   "source": [
    "### Sequence Analyses"
   ]
  },
  {
   "cell_type": "code",
   "execution_count": 2,
   "metadata": {},
   "outputs": [
    {
     "name": "stdout",
     "output_type": "stream",
     "text": [
      "Complete\n"
     ]
    }
   ],
   "source": [
    "# read in dataframe and re-structure for plotting, etc.\n",
    "df = pd.read_csv('../Supplemental Tables - CSV/HHV-tiling/HHV_ActivD2-ReprD5_detailed.csv')\n",
    "dfA = df[df['Screen']=='Activation']\n",
    "dfA = dfA[['Oligo ID', 'Avg', 'Net Charge', 'Duplicate', 'Tile Sequence']]\n",
    "dfA = dfA.rename(columns={'Avg':'Activation'})\n",
    "dfR = df[df['Screen']=='Repression']\n",
    "dfR = dfR[['Oligo ID', 'Avg', 'Net Charge', 'Duplicate', 'Tile Sequence']]\n",
    "dfR = dfR.rename(columns={'Avg':'Repression'})\n",
    "df = pd.merge(left=dfA, right=dfR, on=['Oligo ID', 'Net Charge', 'Duplicate', 'Tile Sequence'], how='inner')\n",
    "\n",
    "cutoffA = 1.0846347878236864\n",
    "cutoffR = 0.6987727639587653\n",
    "    \n",
    "print('Complete')"
   ]
  },
  {
   "cell_type": "markdown",
   "metadata": {},
   "source": [
    "### Charge vs Hydrophobicity"
   ]
  },
  {
   "cell_type": "code",
   "execution_count": 3,
   "metadata": {},
   "outputs": [
    {
     "data": {
      "image/png": "[encoded data removed]",
      "text/plain": [
       "<Figure size 180x144 with 4 Axes>"
      ]
     },
     "metadata": {
      "needs_background": "light"
     },
     "output_type": "display_data"
    }
   ],
   "source": [
    "def hex2rgb(hexadecimal):\n",
    "    hexadecimal = hexadecimal.lstrip('#')\n",
    "    rgb = tuple(int(h[i:i+2], 16) for i in (0, 2, 4))\n",
    "    return rgb\n",
    "\n",
    "def charge_hydrophobicity(df, cutoffA, cutoffR, screenType):\n",
    "    to_exclude = ['P03495', 'P05949', 'P69699', 'K9N4V0', 'K9N643', 'P04608', 'P22363', 'P03129',\n",
    "                  'P06463', 'P0C0U1', 'P16494', 'P30927', 'P0DOE9', 'P04601', 'P20639', 'P0A015',\n",
    "                  'P01876', 'P02768', 'P22629', 'P0DPH7', 'P03081', 'P63000', 'Q92558', 'P42768',\n",
    "                  'P03247', 'P98170', 'Q07817', 'O75324', 'random', 'fiducial']\n",
    "    df = df[~df['Oligo ID'].str.contains('|'.join(to_exclude))]\n",
    "    \n",
    "    oligos = list(df['Oligo ID'])\n",
    "    activscores = list(df['Activation'])\n",
    "    charges = list(df['Net Charge'])\n",
    "    seqs = list(df['Tile Sequence'])\n",
    "    reprscores = list(df['Repression'])\n",
    "\n",
    "    residueList = ['A', 'C', 'D', 'E', 'F', 'G', 'H', 'I', 'K', 'L', 'M', 'N', 'P', 'Q', 'R', 'S', 'T', 'V', 'W', 'Y']\n",
    "\n",
    "    oligos_new = []\n",
    "    activscores_new = []\n",
    "    charges_new = []\n",
    "    seqs_new = []\n",
    "    reprscores_new = []\n",
    "    residue = []\n",
    "    frequency = []\n",
    "\n",
    "    for i in range(len(oligos)):\n",
    "        for aa in residueList:\n",
    "            oligos_new.append(oligos[i])\n",
    "            activscores_new.append(activscores[i])\n",
    "            charges_new.append(charges[i])\n",
    "            seqs_new.append(seqs[i])\n",
    "            reprscores_new.append(reprscores[i])\n",
    "            residue.append(aa)\n",
    "            frequency.append(seqs[i].count(aa)/len(seqs[i]))\n",
    "\n",
    "    df = pd.DataFrame({'Oligo ID':oligos_new,\n",
    "                       'Sequence':seqs_new,\n",
    "                       'Net Charge':charges_new,\n",
    "                       'Activation':activscores_new,\n",
    "                       'Repression':reprscores_new,\n",
    "                       'Residue':residue,\n",
    "                       'Frequency':frequency})\n",
    "\n",
    "    # Soto methods excludes valine, but calculation of the score includes valine - confirmed 1/16/2022\n",
    "    hydroDict = {'A':1, 'C':0, 'D':0, 'E':0, 'F':1, 'G':0, 'H':0, 'I':1, 'K':0, 'L':1,\n",
    "                 'M':1, 'N':0, 'P':1, 'Q':0, 'R':0, 'S':0, 'T':0, 'V':1, 'W':1, 'Y':1}\n",
    "\n",
    "    df['Hydrophobicity Value'] = df['Residue'].map(hydroDict)\n",
    "    df['Hydrophobic Content'] = df['Frequency'] * df['Hydrophobicity Value']\n",
    "\n",
    "#     cutoffA = round(1.7315260717976442, 3)\n",
    "#     cutoffR = round(0.8850726544786016, 3)\n",
    "    df['Activ Hit'] = np.where(df['Activation'] >= cutoffA, 1, 0)\n",
    "    df['Repr Hit'] = np.where(df['Repression'] >= cutoffR, 1, 0)\n",
    "\n",
    "    dfg = df.groupby(by=['Oligo ID', 'Sequence', 'Net Charge', 'Activation', 'Repression', 'Activ Hit', 'Repr Hit']).sum().reset_index()\n",
    "    charges = [y/2 for y in range(-160,81,5)]\n",
    "    hydroph = [x/200 for x in range(0,171,5)]\n",
    "    \n",
    "    dfg = dfg.assign(charge_cut = pd.cut(dfg['Net Charge'], len(charges), labels=charges),\n",
    "                     hydrophobicity_cut = pd.cut(dfg['Hydrophobic Content'], len(hydroph), labels=hydroph))\n",
    "    dfg = dfg[['charge_cut', 'hydrophobicity_cut', screenType]]\n",
    "    dfg = dfg.groupby(by=['charge_cut', 'hydrophobicity_cut']).max().reset_index()\n",
    "   \n",
    "    dfg_row = list(set(list(dfg['charge_cut'])))\n",
    "    dfg_row.sort()\n",
    "    dfg_row = dfg_row[::-1]\n",
    "    \n",
    "    dfg_col = list(set(list(dfg['hydrophobicity_cut'])))\n",
    "    dfg_col.sort()\n",
    "    \n",
    "    df_mat = pd.DataFrame(index=dfg_row, columns=dfg_col)\n",
    "    for c in dfg_col:\n",
    "        for r in dfg_row:\n",
    "            df_mat.loc[r][c] = list(dfg[(dfg['charge_cut']==r) & (dfg['hydrophobicity_cut']==c)][screenType])[0]\n",
    "            \n",
    "    return df_mat, charges #, cutoffA, cutoffR\n",
    "\n",
    "# df = df[(df['Activation']>=cutoffA) & (df['Repression']>=cutoffR)]\n",
    "\n",
    "matA, chargesA = charge_hydrophobicity(df, cutoffA, cutoffR, 'Activation')\n",
    "colorA = get_continuous_cmap(['#DDDDDD', '#D7AC00'])\n",
    "\n",
    "matR, chargesR = charge_hydrophobicity(df, cutoffA, cutoffR, 'Repression')\n",
    "colorR = get_continuous_cmap(['#DDDDDD', '#23BEDB'])\n",
    "\n",
    "xpos = [0.5, 8.5, 16.5, 24.5, 32.5]\n",
    "xticks = [0.0, 0.2, 0.4, 0.6, 0.8]\n",
    "ypos = [y + 0.5 for y in range(0, 49, 8)]\n",
    "yticks = [40, 20, 0, -20, -40, -60, -80]\n",
    "\n",
    "fig, ax = plt.subplots(1, 2, figsize=(2.5, 2))\n",
    "sns.heatmap(matA.fillna(np.nan), vmin=cutoffA, cmap=colorA, ax=ax[0])\n",
    "ax[0].set_xticks(xpos)\n",
    "ax[0].set_xticklabels(xticks)\n",
    "ax[0].set_yticks(ypos)\n",
    "ax[0].set_yticklabels(yticks)\n",
    "ax[0].set_ylabel('Net Charge')\n",
    "ax[0].set_xlabel('Fraction\\nNon-polar')\n",
    "ax[0].set_title('Activation', fontsize=8, color='#D7AC00')\n",
    "\n",
    "sns.heatmap(matR.fillna(np.nan), vmin=cutoffR, cmap=colorR, ax=ax[1])\n",
    "ax[1].set_xticks(xpos)\n",
    "ax[1].set_xticklabels(xticks)\n",
    "ax[1].set_yticks([])\n",
    "ax[1].set_yticklabels(labels=[])\n",
    "ax[1].set_xlabel('Fraction\\nNon-polar')\n",
    "ax[1].set_title('Repression', fontsize=8, color='#23BEDB')\n",
    "\n",
    "for x in xpos:\n",
    "    ax[0].axvline(x, ls=':', color='#999999', linewidth=0.5)\n",
    "    ax[1].axvline(x, ls=':', color='#999999', linewidth=0.5)\n",
    "for y in ypos:\n",
    "    ax[0].axhline(y, ls=':', color='#999999', linewidth=0.5)\n",
    "    ax[1].axhline(y, ls=':', color='#999999', linewidth=0.5)\n",
    "    \n",
    "plt.tight_layout()\n",
    "plt.savefig('../Individual Figure Panels/Figure 5/net-charge_hydrophobicity.png', dpi=1200)\n"
   ]
  },
  {
   "cell_type": "markdown",
   "metadata": {},
   "source": [
    "### Compositional Bias: Tile-level Analysis"
   ]
  },
  {
   "cell_type": "markdown",
   "metadata": {},
   "source": [
    "The following takes the UniRef90 HHV entries (891 of them) and computes the amino acid frequencies for each virus' proteome. The results are plotted as a bar plot. Note that the following is not featured in a figure panel."
   ]
  },
  {
   "cell_type": "code",
   "execution_count": 4,
   "metadata": {
    "scrolled": false
   },
   "outputs": [
    {
     "name": "stderr",
     "output_type": "stream",
     "text": [
      "C:\\Users\\cludw\\anaconda3\\envs\\cytoflow\\lib\\site-packages\\seaborn\\axisgrid.py:643: UserWarning: Using the barplot function without specifying `order` is likely to produce an incorrect plot.\n",
      "  warnings.warn(warning)\n"
     ]
    },
    {
     "data": {
      "image/png": "[encoded data removed]",
      "text/plain": [
       "<Figure size 540x432 with 20 Axes>"
      ]
     },
     "metadata": {
      "needs_background": "light"
     },
     "output_type": "display_data"
    }
   ],
   "source": [
    "font = {'family' : 'Arial',\n",
    "        'size'   : 8}\n",
    "\n",
    "matplotlib.rc('font', **font)\n",
    "\n",
    "uref = pd.read_csv('../Supplemental Tables - CSV/HHV-tiling/uniref_reviewed_HHV+SuHV.csv')\n",
    "uref = uref.rename(columns={'Cluster ID':'UniProt ID'})\n",
    "uIDmap = pd.read_csv('../Supplemental Tables - CSV/uID_protein_virus_mapping_HHV_expanded.csv')\n",
    "\n",
    "ids = list(uref['UniProt ID'])\n",
    "seqs = list(uref['Representative Sequence'])\n",
    "\n",
    "ids2 = []\n",
    "res = []\n",
    "freq = []\n",
    "\n",
    "for i, s in zip(ids, seqs):\n",
    "    total = 0\n",
    "    resDict = {'A':0, 'C':0, 'D':0, 'E':0, 'F':0, 'G':0, 'H':0, 'I':0, 'K':0, 'L':0,\n",
    "               'M':0, 'N':0, 'P':0, 'Q':0, 'R':0, 'S':0, 'T':0, 'V':0, 'W':0, 'Y':0}\n",
    "\n",
    "    for aa in list(s):\n",
    "        resDict[aa] += 1\n",
    "        total += 1\n",
    "        \n",
    "    for k in resDict:\n",
    "        ids2.append(i)\n",
    "        res.append(k)\n",
    "        freq.append(resDict[k]/total)\n",
    "        \n",
    "humanfreq = [6.60, 6.97, 6.08, 10.02, 2.21, 4.42, 3.79, 2.74, 1.32, 5.62,\n",
    "             5.68, 2.59, 4.70, 6.84, 8.10, 5.31, 2.31, 3.60, 4.64, 6.11]   \n",
    "humanfreq = [h/100 for h in humanfreq]\n",
    "\n",
    "freqdf = pd.DataFrame({'UniProt ID':ids2, 'Residue':res, 'Frequency':freq})\n",
    "freqdf = pd.merge(freqdf, uIDmap, on='UniProt ID', how='left')\n",
    "\n",
    "virus = list(set(list(freqdf['Virus'])))\n",
    "residue = list(set(list(freqdf['Residue'])))\n",
    "resorder = ['G', 'A', 'V', 'L', 'M', 'I', 'F', 'Y', 'W', 'K', 'R', 'H', 'D', 'E', 'S', 'T', 'C', 'N', 'Q', 'P']\n",
    "family = {'SuHV1':'alpha', 'HSV1':'alpha', 'HSV2':'alpha', 'VZV':'alpha', 'HCMV':'beta', 'HHV6A':'beta', 'HHV6B':'beta', 'HHV7':'beta', 'EBV':'gamma', 'KSHV':'gamma'}\n",
    "\n",
    "freqdf = freqdf[~freqdf['Virus'].str.contains('CeHV')]\n",
    "freqdf['Virus'] = pd.Categorical(freqdf['Virus'], categories=['SuHV1', 'HSV1', 'HSV2', 'VZV', 'HCMV', 'HHV6A', 'HHV6B', 'HHV7', 'EBV', 'KSHV'], ordered=True)\n",
    "freqdf['Residue'] = pd.Categorical(freqdf['Residue'], categories=resorder, ordered=True)\n",
    "freqdf = freqdf.sort_values(by=['Residue', 'Virus'])\n",
    "freqdf['Family'] = freqdf['Virus'].map(family)\n",
    "# print(freqdf)\n",
    "\n",
    "pal = sns.color_palette(['#9AC42D', '#63A8DB', '#804571'])\n",
    "g = sns.FacetGrid(data=freqdf, col='Residue', hue='Family', col_wrap=5, palette=pal, aspect=1, height=1.5)\n",
    "g.map(sns.barplot, 'Virus', 'Frequency', errwidth=1)\n",
    "for ax, h in zip(g.axes.flatten(), humanfreq):\n",
    "    ax.set_xticklabels(ax.get_xticklabels(), rotation=90)\n",
    "    ax.axhline(y=h, ls=':', color='k', lw=1)\n",
    "    \n",
    "plt.tight_layout()\n",
    "plt.savefig('../Individual Figure Panels/Figure S5/HHV_amino-acid_frequencies_by_virus.png', dpi=1200)"
   ]
  },
  {
   "cell_type": "markdown",
   "metadata": {},
   "source": [
    "The following is a similar analysis, but computes these on all tiles comprising the proteome (more similar to hits)"
   ]
  },
  {
   "cell_type": "code",
   "execution_count": 5,
   "metadata": {},
   "outputs": [],
   "source": [
    "# font = {'family' : 'Arial',\n",
    "#         'size'   : 8}\n",
    "\n",
    "# matplotlib.rc('font', **font)\n",
    "\n",
    "# uref = pd.read_csv('../Supplemental Tables - CSV/HHV-tiling/uniref_reviewed_HHV+SuHV_all-tiles.csv')\n",
    "# uref['UniProt ID'] = uref['Tile ID'].str.split('_').str[0]\n",
    "# uIDmap = pd.read_csv('../Supplemental Tables - CSV/uID_protein_virus_mapping_HHV_expanded.csv')\n",
    "\n",
    "# ids = list(uref['UniProt ID'])\n",
    "# seqs = list(uref['Tile Sequence'])\n",
    "\n",
    "# ids2 = []\n",
    "# res = []\n",
    "# freq = []\n",
    "\n",
    "# for i, s in zip(ids, seqs):\n",
    "#     total = 0\n",
    "#     resDict = {'A':0, 'C':0, 'D':0, 'E':0, 'F':0, 'G':0, 'H':0, 'I':0, 'K':0, 'L':0,\n",
    "#                'M':0, 'N':0, 'P':0, 'Q':0, 'R':0, 'S':0, 'T':0, 'V':0, 'W':0, 'Y':0}\n",
    "\n",
    "#     for aa in list(s):\n",
    "#         resDict[aa] += 1\n",
    "#         total += 1\n",
    "        \n",
    "#     for k in resDict:\n",
    "#         ids2.append(i)\n",
    "#         res.append(k)\n",
    "#         freq.append(resDict[k]/total)\n",
    "        \n",
    "# humanfreq = [6.60, 6.97, 6.08, 10.02, 2.21, 4.42, 3.79, 2.74, 1.32, 5.62,\n",
    "#              5.68, 2.59, 4.70, 6.84, 8.10, 5.31, 2.31, 3.60, 4.64, 6.11]   \n",
    "# humanfreq = [h/100 for h in humanfreq]\n",
    "\n",
    "# freqdf = pd.DataFrame({'UniProt ID':ids2, 'Residue':res, 'Frequency':freq})\n",
    "# freqdf = pd.merge(freqdf, uIDmap, on='UniProt ID', how='left')\n",
    "\n",
    "# virus = list(set(list(freqdf['Virus'])))\n",
    "# residue = list(set(list(freqdf['Residue'])))\n",
    "# resorder = ['G', 'A', 'V', 'L', 'M', 'I', 'F', 'Y', 'W', 'K', 'R', 'H', 'D', 'E', 'S', 'T', 'C', 'N', 'Q', 'P']\n",
    "# family = {'SuHV1':'alpha', 'HSV1':'alpha', 'HSV2':'alpha', 'VZV':'alpha', 'HCMV':'beta', 'HHV6A':'beta', 'HHV6B':'beta', 'HHV7':'beta', 'EBV':'gamma', 'KSHV':'gamma'}\n",
    "\n",
    "# freqdf = freqdf[~freqdf['Virus'].str.contains('CeHV')]\n",
    "# freqdf['Virus'] = pd.Categorical(freqdf['Virus'], categories=['SuHV1', 'HSV1', 'HSV2', 'VZV', 'HCMV', 'HHV6A', 'HHV6B', 'HHV7', 'EBV', 'KSHV'], ordered=True)\n",
    "# freqdf['Residue'] = pd.Categorical(freqdf['Residue'], categories=resorder, ordered=True)\n",
    "# freqdf = freqdf.sort_values(by=['Residue', 'Virus'])\n",
    "# freqdf['Family'] = freqdf['Virus'].map(family)\n",
    "# # print(freqdf)\n",
    "\n",
    "# pal = sns.color_palette(['#9AC42D', '#63A8DB', '#804571'])\n",
    "# g = sns.FacetGrid(data=freqdf, col='Residue', hue='Family', col_wrap=5, palette=pal, aspect=1, height=1.5)\n",
    "# g.map(sns.barplot, 'Virus', 'Frequency', errwidth=1)\n",
    "# for ax, h in zip(g.axes.flatten(), humanfreq):\n",
    "#     ax.set_xticklabels(ax.get_xticklabels(), rotation=90)\n",
    "#     ax.axhline(y=h, ls=':', color='k', lw=1)\n",
    "    \n",
    "# plt.tight_layout()\n",
    "# plt.savefig('../Individual Figure Panels/Figure S5/HHV_amino-acid_frequencies_ALL-TILES_by_virus.png', dpi=1200)"
   ]
  },
  {
   "cell_type": "markdown",
   "metadata": {},
   "source": [
    "The following takes all tiles from the HHV screen that are not immune, random, or fiducial controls and determines their amino acid compositions. Tiles are categorized by their effect activity (none, activation, repression, or dual) and binned by either virus species or family. The results are plotted as bar plots."
   ]
  },
  {
   "cell_type": "code",
   "execution_count": 6,
   "metadata": {
    "scrolled": false
   },
   "outputs": [
    {
     "data": {
      "image/png": "[encoded data removed]",
      "text/plain": [
       "<Figure size 540x432 with 20 Axes>"
      ]
     },
     "metadata": {
      "needs_background": "light"
     },
     "output_type": "display_data"
    }
   ],
   "source": [
    "df2 = df.copy()\n",
    "to_exclude = ['P03495', 'P05949', 'P69699', 'K9N4V0', 'K9N643', 'P04608', 'P22363', 'P03129',\n",
    "                  'P06463', 'P0C0U1', 'P16494', 'P30927', 'P0DOE9', 'P04601', 'P20639', 'P0A015',\n",
    "                  'P01876', 'P02768', 'P22629', 'P0DPH7', 'P03081', 'P63000', 'Q92558', 'P42768',\n",
    "                  'P03247', 'P98170', 'Q07817', 'O75324', 'random', 'fiducial']\n",
    "df2 = df2[~df['Oligo ID'].str.contains('|'.join(to_exclude))]\n",
    "df2['Category'] = np.where(df2['Activation']>=cutoffA, 'Act', 'None')\n",
    "df2['Category'] = np.where(df2['Repression']>=cutoffR, 'Rep', df2['Category'])\n",
    "df2['Category'] = np.where((df2['Activation']>=cutoffA) & (df2['Repression']>=cutoffR), 'Dual', df2['Category'])\n",
    "df2['UniProt ID'] = df['Oligo ID'].str.split('_').str[1]\n",
    "df2 = pd.merge(df2, uIDmap, on='UniProt ID', how='left')\n",
    "\n",
    "ids = list(df2['Oligo ID'])\n",
    "seqs = list(df2['Tile Sequence'])\n",
    "cats = list(df2['Category'])\n",
    "virs = list(df2['Virus'])\n",
    "acts = list(df2['Activation'])\n",
    "reps = list(df2['Repression'])\n",
    "\n",
    "ids2 = []\n",
    "cats2 = []\n",
    "virs2 = []\n",
    "acts2 = []\n",
    "reps2 = []\n",
    "res = []\n",
    "freq = []\n",
    "\n",
    "for i, s, c, v, a, r in zip(ids, seqs, cats, virs, acts, reps):\n",
    "    total = 0\n",
    "    resDict = {'A':0, 'C':0, 'D':0, 'E':0, 'F':0, 'G':0, 'H':0, 'I':0, 'K':0, 'L':0,\n",
    "               'M':0, 'N':0, 'P':0, 'Q':0, 'R':0, 'S':0, 'T':0, 'V':0, 'W':0, 'Y':0}\n",
    "    for aa in list(s):\n",
    "        resDict[aa] += 1\n",
    "        total += 1        \n",
    "    for k in resDict:\n",
    "        ids2.append(i)\n",
    "        cats2.append(c)\n",
    "        virs2.append(v)\n",
    "        acts2.append(a)\n",
    "        reps2.append(r)\n",
    "        res.append(k)\n",
    "        freq.append(resDict[k]/total)\n",
    "\n",
    "tiledf = pd.DataFrame({'Oligo ID':ids2, 'Category':cats2, 'Virus':virs2, 'Activation':acts2,\n",
    "                       'Repression':reps2, 'Residue':res, 'Frequency':freq})\n",
    "tiledf['Virus'] = pd.Categorical(tiledf['Virus'], categories=['SuHV1', 'HSV1', 'HSV2', 'VZV', 'HCMV', 'HHV6A', 'HHV6B', 'HHV7', 'EBV', 'KSHV'], ordered=True)\n",
    "\n",
    "resorder = ['G', 'A', 'V', 'L', 'M', 'I', 'F', 'Y', 'W', 'K', 'R', 'H', 'D', 'E', 'S', 'T', 'C', 'N', 'Q', 'P']\n",
    "tiledf['Residue'] = pd.Categorical(tiledf['Residue'], categories=resorder, ordered=True)\n",
    "\n",
    "tiledf['Category'] = pd.Categorical(tiledf['Category'], categories=['None', 'Act', 'Rep', 'Dual'])\n",
    "tiledf = tiledf.sort_values(by=['Residue', 'Virus', 'Category'])\n",
    "family = {'SuHV1':'alpha', 'HSV1':'alpha', 'HSV2':'alpha', 'VZV':'alpha', 'HCMV':'beta', 'HHV6A':'beta', 'HHV6B':'beta', 'HHV7':'beta', 'EBV':'gamma', 'KSHV':'gamma'}\n",
    "tiledf['Family'] = tiledf['Virus'].map(family)\n",
    "\n",
    "pal = sns.color_palette(['#999999', '#E3B919', '#1BC6EE', '#EA7063'])\n",
    "g = sns.catplot(x='Virus', y='Frequency',\n",
    "                hue='Category', col='Residue',\n",
    "                data=tiledf, kind='bar', palette=pal,\n",
    "                height=1.5, aspect=1.5, col_wrap=5, errwidth=1, legend=False)\n",
    "for ax in g.axes.flatten():\n",
    "    ax.set_xticklabels(ax.get_xticklabels(), rotation=90)\n",
    "plt.legend(loc='center left', bbox_to_anchor=(1, 0.5), frameon=False, title='Category')\n",
    "plt.tight_layout()\n",
    "plt.savefig('../Individual Figure Panels/Figure S5/HHV-hit-categories_amino-acid_frequencies_by_virus.png', dpi=1200)\n",
    "plt.close()\n",
    "\n",
    "h = sns.catplot(x='Family', y='Frequency',\n",
    "                hue='Category', col='Residue',\n",
    "                data=tiledf, kind='bar', palette=pal,\n",
    "                height=1.5, aspect=1, col_wrap=5, errwidth=1, legend=False)\n",
    "for ax in h.axes.flatten():\n",
    "    ax.set_xticklabels(ax.get_xticklabels(), rotation=90)\n",
    "plt.legend(loc='center left', bbox_to_anchor=(1, 0.5), frameon=False, title='Category')\n",
    "plt.tight_layout()\n",
    "plt.savefig('../Individual Figure Panels/Figure S5/HHV-hit-categories_amino-acid_frequencies_by_family.png', dpi=1200)"
   ]
  },
  {
   "cell_type": "markdown",
   "metadata": {},
   "source": [
    "The following produces a bar plot similar to the above where tiles are grouped by their effector activity and viral family, but also includes the proteome (background) frequencies for visual comparison."
   ]
  },
  {
   "cell_type": "code",
   "execution_count": 7,
   "metadata": {
    "scrolled": false
   },
   "outputs": [
    {
     "data": {
      "image/png": "[encoded data removed]",
      "text/plain": [
       "<Figure size 540x432 with 20 Axes>"
      ]
     },
     "metadata": {
      "needs_background": "light"
     },
     "output_type": "display_data"
    }
   ],
   "source": [
    "freq_tile = pd.concat([tiledf[['Family', 'Residue', 'Frequency', 'Category']].dropna(), freqdf[['Family', 'Residue', 'Frequency']]])\n",
    "freq_tile['Category'] = freq_tile['Category'].fillna('Proteome')\n",
    "freq_tile['Category'] = pd.Categorical(freq_tile['Category'], categories=['Proteome', 'None', 'Act', 'Rep', 'Dual'], ordered=True)\n",
    "\n",
    "pal = sns.color_palette(['#444444', '#999999', '#E3B919', '#1BC6EE', '#EA7063'])\n",
    "\n",
    "h = sns.catplot(x='Family', y='Frequency',\n",
    "                hue='Category', col='Residue',\n",
    "                data=freq_tile, kind='bar', palette=pal,\n",
    "                height=1.5, aspect=1, col_wrap=5, errwidth=1, legend=False)\n",
    "for ax in h.axes.flatten():\n",
    "    ax.set_xticklabels(ax.get_xticklabels(), rotation=90)\n",
    "plt.legend(loc='center left', bbox_to_anchor=(1, 0.5), frameon=False, title='Category')\n",
    "plt.tight_layout()\n",
    "plt.savefig('../Individual Figure Panels/Figure S5/HHV-hit-categories_amino-acid_frequencies_by_family_with-BG.png', dpi=1200)\n",
    "freq_tile.to_csv('../Supplemental Tables - CSV/HHV-perturbation/HHV-hit-categories_amino-acid_frequencies_by_family_with-BG_table.csv', index=False)\n"
   ]
  },
  {
   "cell_type": "code",
   "execution_count": 8,
   "metadata": {},
   "outputs": [
    {
     "name": "stderr",
     "output_type": "stream",
     "text": [
      "C:\\Users\\cludw\\anaconda3\\envs\\cytoflow\\lib\\site-packages\\pandas\\core\\arraylike.py:358: RuntimeWarning: invalid value encountered in log2\n",
      "  result = getattr(ufunc, method)(*inputs, **kwargs)\n"
     ]
    },
    {
     "name": "stdout",
     "output_type": "stream",
     "text": [
      "   Residue Category  Ratiomean  Ratiostd      Mean     Upper     Lower\n",
      "1        G     None   1.034491  0.809595  0.048922  0.833985  2.201590\n",
      "2        G      Act   0.995719  0.580891 -0.006190  0.663015  1.263225\n",
      "3        G      Rep   1.097898  0.704171  0.134744  0.714910  1.479477\n",
      "4        G     Dual   1.119856  0.611350  0.163313  0.628464  1.138977\n",
      "6        A     None   1.072742  0.697206  0.101303  0.722404  1.514279\n",
      "..     ...      ...        ...       ...       ...       ...       ...\n",
      "94       Q     Dual   1.274859  0.887448  0.350338  0.762233  1.718399\n",
      "96       P     None   1.000659  0.797845  0.000950  0.845847  2.302718\n",
      "97       P      Act   1.217525  0.841513  0.283952  0.758019  1.695102\n",
      "98       P      Rep   1.279850  0.851140  0.355975  0.735549  1.577901\n",
      "99       P     Dual   1.377039  0.803551  0.461570  0.663149  1.263734\n",
      "\n",
      "[80 rows x 7 columns]\n"
     ]
    },
    {
     "name": "stderr",
     "output_type": "stream",
     "text": [
      "<ipython-input-8-b0f64907a1b7>:55: UserWarning: Tight layout not applied. tight_layout cannot make axes height small enough to accommodate all axes decorations\n",
      "  plt.tight_layout()\n"
     ]
    },
    {
     "data": {
      "image/png": "[encoded data removed]",
      "text/plain": [
       "<Figure size 180x144 with 4 Axes>"
      ]
     },
     "metadata": {
      "needs_background": "light"
     },
     "output_type": "display_data"
    }
   ],
   "source": [
    "proteome = freq_tile[freq_tile['Category']=='Proteome']\n",
    "proteome = proteome.groupby(by=['Residue']).agg({'Frequency':['mean', 'std']}).reset_index()\n",
    "proteome.columns = proteome.columns.get_level_values(0) + proteome.columns.get_level_values(1)\n",
    "proteome = proteome.rename(columns={'Frequencymean':'Proteome_mean', 'Frequencystd':'Proteome_std'})\n",
    "\n",
    "FTA = freq_tile.copy()\n",
    "FTA = pd.merge(FTA, proteome, how='inner', on='Residue')\n",
    "FTA = FTA.dropna()\n",
    "FTA['Ratio'] = FTA['Frequency']/FTA['Proteome_mean']\n",
    "FTAg = FTA.groupby(by=['Residue', 'Category']).agg({'Ratio':['mean', 'std']}).reset_index()\n",
    "FTAg.columns = FTAg.columns.get_level_values(0) +  FTAg.columns.get_level_values(1)\n",
    "FTAg = FTAg[FTAg['Category']!='Proteome']\n",
    "FTAg['Category'] = pd.Categorical(FTAg['Category'], categories=['None', 'Act', 'Rep', 'Dual'], ordered=True)\n",
    "\n",
    "FTAg['Mean'] = np.log2(FTAg['Ratiomean'])\n",
    "FTAg['Upper'] = np.log2(FTAg['Ratiomean'] + FTAg['Ratiostd'])\n",
    "FTAg['Upper'] = FTAg['Upper'] - FTAg['Mean']\n",
    "FTAg['Lower'] = np.log2(FTAg['Ratiomean'] - FTAg['Ratiostd'])\n",
    "FTAg['Lower'] = FTAg['Mean'] - FTAg['Lower']\n",
    "\n",
    "colorDict = {'None':'#999999', 'Act':'#E3B919', 'Rep':'#1BC6EE', 'Dual':'#EA7063'}\n",
    "labelDict = {'None':'None', 'Act':'Activator', 'Rep':'Repressor', 'Dual':'Dual effector'}\n",
    "    \n",
    "def plot_bars(df, subplot, cat):\n",
    "    df = df[df['Category']==cat]\n",
    "    for i, r, m, u, l in zip(list(range(len(df))), list(df['Residue']), list(df['Mean']), list(df['Upper']), list(df['Lower'])):\n",
    "        ax[subplot].bar(x=i, height=m, color=colorDict[cat])\n",
    "    if subplot == 3:\n",
    "        ax[subplot].set_xticks(ticks=list(range(len(df))))\n",
    "        ax[subplot].set_xticklabels(labels=list(df['Residue']))\n",
    "        ax[subplot].set_xlabel('Amino Acid')\n",
    "        sns.despine(ax=ax[3])\n",
    "    else:\n",
    "        ax[subplot].set_xticks(ticks=[])\n",
    "        ax[subplot].set_xticklabels(labels=[])\n",
    "        sns.despine(bottom=True, ax=ax[subplot])\n",
    "    ax[subplot].axhline(y=0, ls=':', lw=0.5, color='#444444')\n",
    "    ax[subplot].set_ylim(-1.7, 1)\n",
    "    ax[subplot].set_xlim(-0.5, 19.5)\n",
    "    ax[subplot].annotate(text=labelDict[cat], xy=(0, 0.8), ha='left', va='center')\n",
    "    \n",
    "\n",
    "FTAg_tiles = FTAg.copy()\n",
    "print(FTAg)\n",
    "\n",
    "fig, ax = plt.subplots(4, 1, figsize=(2.5,2))\n",
    "plot_bars(FTAg, 0, 'None')\n",
    "plot_bars(FTAg, 1, 'Act')\n",
    "plot_bars(FTAg, 2, 'Rep')\n",
    "plot_bars(FTAg, 3, 'Dual')\n",
    "plt.ylabel('\\t\\tlog$_2$(Enrichment)\\t\\t', ha='left')\n",
    "ax[3].yaxis.set_label_coords(-0.12, -0.5)\n",
    "\n",
    "plt.tight_layout()\n",
    "plt.savefig('../Individual Figure Panels/Figure S5/HHV_amino-acid-frequencies_tiles.png', dpi=1200, bbox_inches='tight')"
   ]
  },
  {
   "cell_type": "code",
   "execution_count": 56,
   "metadata": {},
   "outputs": [
    {
     "data": {
      "image/png": "[encoded data removed]",
      "text/plain": [
       "<Figure size 288x144 with 2 Axes>"
      ]
     },
     "metadata": {
      "needs_background": "light"
     },
     "output_type": "display_data"
    }
   ],
   "source": [
    "FTAg_tiles_pivot = FTAg_tiles.pivot(index='Residue', columns='Category').reset_index()\n",
    "# reslist = list(FTAg_tiles_pivot['Residue'])\n",
    "# actlist = list(FTAg_tiles_pivot['Ratiomean']['Act'])\n",
    "# replist = list(FTAg_tiles_pivot['Ratiomean']['Rep'])\n",
    "# duallist = list(FTAg_tiles_pivot['Ratiomean']['Dual'])\n",
    "\n",
    "# listDict = {'Act':actlist, 'Rep':replist, 'Dual':duallist}\n",
    "catlist = ['Act', 'Rep']\n",
    "\n",
    "fig, ax = plt.subplots(1, 2, figsize=(4, 2))\n",
    "for a, cat in zip(ax.flatten(), catlist):\n",
    "    sns.regplot(data=FTAg_tiles_pivot, x=FTAg_tiles_pivot['Mean'][cat], y=FTAg_tiles_pivot['Mean']['Dual'],\n",
    "                scatter_kws={'s':0}, line_kws={'linewidth':1}, ax=a, color=colorDict[cat])#  '#EA7063')\n",
    "    xlist = list(FTAg_tiles_pivot['Mean'][cat])\n",
    "    ylist = list(FTAg_tiles_pivot['Mean']['Dual'])\n",
    "    reslist = list(FTAg_tiles_pivot['Residue'])\n",
    "    for x, y, res in zip(xlist, ylist, reslist):\n",
    "        a.annotate(text=res, xy=(x, y), color='k', fontsize=6, ha='center', va='center')\n",
    "    if cat == 'Act':\n",
    "        a.set_xlabel('Activator Tile log$_2$(Enrichment)   ')\n",
    "    elif cat == 'Rep':\n",
    "        a.set_xlabel('Repressor Tile log$_2$(Enrichment)   ')\n",
    "    a.set_ylabel('Dual Tile log$_2$(Enrichment)')\n",
    "    a.set_xlim(a.get_xlim()[0]*1.1, a.get_xlim()[1]*1.1)\n",
    "    a.set_ylim(a.get_ylim()[0]*1.1, a.get_ylim()[1]*1.1)\n",
    "    a.axvline(x=0, ls=':', lw=0.5, color='#444444', zorder=0)\n",
    "    a.axhline(y=0, ls=':', lw=0.5, color='#444444', zorder=0)\n",
    "plt.tight_layout()  \n",
    "plt.savefig('../Individual Figure Panels/Figure S5/Correlation_act-dual_vs_rep-dual_tile_enrichments.png', dpi=1200)"
   ]
  },
  {
   "cell_type": "markdown",
   "metadata": {},
   "source": [
    "<!-- The following plots the distributions of amino acid frequencies for each effector category to see if they are normally distributed (informs which statistical test to use). Not all are normally distributed. Need to specify which family to plot in the 'fam' variable. -->"
   ]
  },
  {
   "cell_type": "code",
   "execution_count": 9,
   "metadata": {},
   "outputs": [
    {
     "data": {
      "image/png": "[encoded data removed]",
      "text/plain": [
       "<Figure size 324x288 with 20 Axes>"
      ]
     },
     "metadata": {
      "needs_background": "light"
     },
     "output_type": "display_data"
    }
   ],
   "source": [
    "fam = 'gamma'\n",
    "pal = sns.color_palette(['#999999', '#E3B919', '#1BC6EE', '#EA7063'])\n",
    "g = sns.FacetGrid(data=tiledf[(tiledf['Family']==fam)], hue='Category', col='Residue', col_wrap=5, aspect=0.9, height=1, palette=pal)\n",
    "g.map(sns.kdeplot, 'Frequency', common_norm=False, lw=1)\n",
    "for ax in g.axes.flatten():\n",
    "    ax.set_ylim(0,55)\n",
    "    ax.set_xlim(-0.1, 0.25)\n",
    "# plt.savefig('Figure_4/HHV-hit-categories_amino-acid_frequencies_kde_%sHHV.png' % fam, dpi=300)"
   ]
  },
  {
   "cell_type": "markdown",
   "metadata": {},
   "source": [
    "We want to compare the means of each effector category's amino acid frequencies with the respective viral family proteome frequency. The populations to be compared are not all normally distributed and are different sizes, so we should use the non-parametric t-test equivalent, which is Welch's t-test. The following computes the Welch's t-test statistic and p-value for each pair and corrects for multiple hypothesis testing (FDR and Bonferroni's). The results are written to a CSV."
   ]
  },
  {
   "cell_type": "code",
   "execution_count": 10,
   "metadata": {},
   "outputs": [
    {
     "name": "stdout",
     "output_type": "stream",
     "text": [
      "Complete\n"
     ]
    }
   ],
   "source": [
    "import scipy.stats as stats\n",
    "from statsmodels.sandbox.stats.multicomp import multipletests\n",
    "\n",
    "tiledf3 = tiledf.copy().dropna()\n",
    "tiledf3 = tiledf3[['Family', 'Virus', 'Category', 'Residue', 'Frequency']]\n",
    "freqdf3 = freqdf.copy()\n",
    "freqdf3 = freqdf3[['Family', 'Virus', 'Residue', 'Frequency']]\n",
    "freqdf3\n",
    "\n",
    "fam = []\n",
    "cat = []\n",
    "res = []\n",
    "wtt = []\n",
    "pval = []\n",
    "\n",
    "for f in ['alpha', 'beta', 'gamma']:\n",
    "    for c in ['None', 'Act', 'Rep', 'Dual']:\n",
    "        for r in list(set(list(tiledf3['Residue']))):\n",
    "            tile_freqs = list(tiledf3[(tiledf3['Family']==f) & (tiledf3['Category']==c) & (tiledf3['Residue']==r)]['Frequency'])\n",
    "            bg_freqs = list(freqdf3[(freqdf3['Family']==f) & (freqdf3['Residue']==r)]['Frequency'])\n",
    "            w_stat, w_p = stats.ttest_ind(tile_freqs, bg_freqs)\n",
    "            fam.append(f)\n",
    "            cat.append(c)\n",
    "            res.append(r)\n",
    "            wtt.append(w_stat)\n",
    "            pval.append(w_p)\n",
    "\n",
    "stat_df = pd.DataFrame({'Family':fam, 'Category':cat, 'Residue':res, 'Welch\\'s T':wtt, 'p-value':pval})\n",
    "pvals = list(stat_df['p-value'])\n",
    "is_reject, corrected_pvals, _, _ = multipletests(pvals, alpha=0.1, method='fdr_bh')\n",
    "stat_df['FDR'] = corrected_pvals\n",
    "stat_df['Bonf'] = stat_df['p-value']*len(stat_df)\n",
    "\n",
    "stat_df['FDR Sig'] = np.where(stat_df['FDR']<0.1, 1, 0)\n",
    "stat_df['Bonf Sig'] = np.where(stat_df['Bonf']<0.1, 1, 0)\n",
    "stat_df = stat_df.sort_values(by=['Residue', 'Family', 'Category', 'FDR'], ascending=True)\n",
    "\n",
    "stat_df.to_csv('../Supplemental Tables - CSV/HHV-perturbation/HHV-hit-categories_amino-acid_frequencies_WelchsT-FDR.csv', index=False)\n",
    "print('Complete')"
   ]
  },
  {
   "cell_type": "markdown",
   "metadata": {},
   "source": [
    "The next codeblock produces a volcano plot of the Welch's T statistics by their -log10 p-values for all comparisons. The code block after that does the same but facets by effector category (rows) and residue type (columns)."
   ]
  },
  {
   "cell_type": "markdown",
   "metadata": {},
   "source": [
    "### Prepare sequences for JPred4 secondary structure prediction and summarize info"
   ]
  },
  {
   "cell_type": "code",
   "execution_count": 44,
   "metadata": {},
   "outputs": [
    {
     "name": "stdout",
     "output_type": "stream",
     "text": [
      "Complete\n"
     ]
    },
    {
     "name": "stderr",
     "output_type": "stream",
     "text": [
      "<ipython-input-44-1553d11fc221>:2: SettingWithCopyWarning: \n",
      "A value is trying to be set on a copy of a slice from a DataFrame.\n",
      "Try using .loc[row_indexer,col_indexer] = value instead\n",
      "\n",
      "See the caveats in the documentation: https://pandas.pydata.org/pandas-docs/stable/user_guide/indexing.html#returning-a-view-versus-a-copy\n",
      "  dualdf['Tile ID'] = dualdf['Oligo ID'].str.split('_').str[1:].str.join('_')\n"
     ]
    }
   ],
   "source": [
    "dualdf = df[df['Activation']>=cutoffA]\n",
    "dualdf['Tile ID'] = dualdf['Oligo ID'].str.split('_').str[1:].str.join('_')\n",
    "dualdf = dualdf.drop_duplicates(subset='Tile ID')\n",
    "tileIDs = list(dualdf['Tile ID'])\n",
    "seqList = list(dualdf['Tile Sequence'])\n",
    "\n",
    "savefile = '../Supplemental Tables - CSV/HHV-perturbation/HHV_all-activator-dual_sequences.fasta'\n",
    "with open(savefile, 'w') as fasta:\n",
    "    for ID, seq in zip(tileIDs, seqList):\n",
    "        fasta.write('>'+ID+'\\n')\n",
    "        fasta.write(seq+'\\n')\n",
    "\n",
    "print('Complete')"
   ]
  },
  {
   "cell_type": "code",
   "execution_count": 89,
   "metadata": {},
   "outputs": [],
   "source": [
    "import tarfile\n",
    "jpred4_1 = tarfile.open('../jpred4_results_all/jp_batch_1653791258_actdual_set1_ALL_JOBS_ARCHIVE.tar.gz')\n",
    "jpred4_1.extractall('../jpred4_results_all/jpred4_results_1')\n",
    "jpred4_1.close()\n",
    "\n",
    "jpred4_2 = tarfile.open('../jpred4_results_all/jp_batch_1653791339_actdual_set2_ALL_JOBS_ARCHIVE.tar.gz')\n",
    "jpred4_2.extractall('../jpred4_results_all/jpred4_results_2')\n",
    "jpred4_2.close()\n",
    "\n",
    "jpred4_3 = tarfile.open('../jpred4_results_all/jp_batch_1653791442_actdual_set3_ALL_JOBS_ARCHIVE.tar.gz')\n",
    "jpred4_3.extractall('../jpred4_results_all/jpred4_results_3')\n",
    "jpred4_3.close()"
   ]
  },
  {
   "cell_type": "code",
   "execution_count": 92,
   "metadata": {},
   "outputs": [
    {
     "name": "stdout",
     "output_type": "stream",
     "text": [
      "Complete\n"
     ]
    }
   ],
   "source": [
    "# import sys\n",
    "# !{sys.executable} -m pip install html2text\n",
    "import html2text\n",
    "\n",
    "def extract_jpred4(results_dir):\n",
    "    tileList = []\n",
    "    seqList = []\n",
    "    structureList = []\n",
    "\n",
    "    for sub_dir in os.listdir(results_dir):\n",
    "        sub_dir_path = os.path.join(results_dir, sub_dir)\n",
    "        for file in os.listdir(sub_dir_path):\n",
    "            file_path = os.path.join(sub_dir_path, file)\n",
    "            if '.name' in file:\n",
    "                tileID = file[:-5]\n",
    "                tileList.append(tileID)\n",
    "            if 'simple' in file:\n",
    "                first = True\n",
    "                last = False\n",
    "                with open(file_path, 'r') as simple_html:\n",
    "                    count = 0\n",
    "                    for line in simple_html:\n",
    "                        decoded = html2text.html2text(line).strip()\n",
    "                        if len(decoded) != 0:\n",
    "                            if first:\n",
    "                                seqList.append(decoded)\n",
    "                                first = False\n",
    "                            elif (not first) & (not last):\n",
    "                                structureList.append(decoded)\n",
    "                                last = True\n",
    "\n",
    "    structureList = [s.replace('\\\\', '') for s in structureList]\n",
    "    jpred4_df = pd.DataFrame({'Tile ID':tileList, 'Protein Sequence':seqList, 'Structure':structureList})\n",
    "    jpred4_df.to_csv(results_dir + '_summarized.csv', index=False)\n",
    "    return jpred4_df\n",
    "\n",
    "j1 = extract_jpred4('../jpred4_results_all/jpred4_results_1')\n",
    "j2 = extract_jpred4('../jpred4_results_all/jpred4_results_2')\n",
    "j3 = extract_jpred4('../jpred4_results_all/jpred4_results_3')\n",
    "\n",
    "jall = pd.concat([j1, j2, j3])\n",
    "jall.to_csv('../jpred4_results_all/jpre4_results_combined_summarized.csv', index=False)\n",
    "\n",
    "print('Complete')"
   ]
  },
  {
   "cell_type": "code",
   "execution_count": null,
   "metadata": {},
   "outputs": [],
   "source": []
  },
  {
   "cell_type": "markdown",
   "metadata": {},
   "source": [
    "### Compositional Bias: Domain-level Analysis"
   ]
  },
  {
   "cell_type": "code",
   "execution_count": 45,
   "metadata": {},
   "outputs": [
    {
     "data": {
      "image/png": "[encoded data removed]",
      "text/plain": [
       "<Figure size 540x432 with 20 Axes>"
      ]
     },
     "metadata": {
      "needs_background": "light"
     },
     "output_type": "display_data"
    }
   ],
   "source": [
    "dom = pd.read_csv('../Supplemental Tables - CSV/HHV-tiling/HHV_domains.csv')\n",
    "acts = list(dom[dom['Effect']=='Activation']['Max Sequence'])\n",
    "reps = list(dom[dom['Effect']=='Repression']['Max Sequence'])\n",
    "reps = [r for r in reps if r not in acts]\n",
    "dom = dom[(dom['Effect']=='Activation') | ((dom['Effect']=='Repression') & (dom['Max Sequence'].isin(reps)))]\n",
    "\n",
    "ids = list(dom['Protein ID'])\n",
    "seqs = list(dom['Max Sequence'])\n",
    "cats = list(dom['Effect'])\n",
    "virs = list(dom['Virus'])\n",
    "\n",
    "catDict = {'Activation':'Act', 'Repression':'Rep'}\n",
    "\n",
    "ids2 = []\n",
    "cats2 = []\n",
    "virs2 = []\n",
    "res = []\n",
    "freq = []\n",
    "\n",
    "for i, s, c, v in zip(ids, seqs, cats, virs):\n",
    "    total = 0\n",
    "    resDict = {'A':0, 'C':0, 'D':0, 'E':0, 'F':0, 'G':0, 'H':0, 'I':0, 'K':0, 'L':0,\n",
    "               'M':0, 'N':0, 'P':0, 'Q':0, 'R':0, 'S':0, 'T':0, 'V':0, 'W':0, 'Y':0}\n",
    "    for aa in list(s):\n",
    "        resDict[aa] += 1\n",
    "        total += 1        \n",
    "    for k in resDict:\n",
    "        ids2.append(i)\n",
    "        cats2.append(catDict[c])\n",
    "        virs2.append(v)\n",
    "        res.append(k)\n",
    "        freq.append(resDict[k]/total)\n",
    "\n",
    "domdf = pd.DataFrame({'UniProt ID':ids2, 'Category':cats2, 'Virus':virs2, 'Residue':res, 'Frequency':freq})\n",
    "domdf['Virus'] = pd.Categorical(domdf['Virus'], categories=['SuHV1', 'HSV1', 'HSV2', 'VZV', 'HCMV', 'HHV6A', 'HHV6B', 'HHV7', 'EBV', 'KSHV'], ordered=True)\n",
    "domdf['Category'] = pd.Categorical(domdf['Category'], categories=['Act', 'Rep'])\n",
    "domdf = domdf.sort_values(by=['Residue', 'Virus', 'Category'])\n",
    "family = {'SuHV1':'alpha', 'HSV1':'alpha', 'HSV2':'alpha', 'VZV':'alpha', 'HCMV':'beta', 'HHV6A':'beta', 'HHV6B':'beta', 'HHV7':'beta', 'EBV':'gamma', 'KSHV':'gamma'}\n",
    "domdf['Family'] = domdf['Virus'].map(family)\n",
    "\n",
    "pal = sns.color_palette(['#E3B919', '#1BC6EE'])\n",
    "g = sns.catplot(x='Virus', y='Frequency',\n",
    "                hue='Category', col='Residue',\n",
    "                data=domdf, kind='bar', palette=pal,\n",
    "                height=1.5, aspect=1.5, col_wrap=5, errwidth=1, legend=False)\n",
    "for ax in g.axes.flatten():\n",
    "    ax.set_xticklabels(ax.get_xticklabels(), rotation=90)\n",
    "plt.legend(loc='center left', bbox_to_anchor=(1, 0.5), frameon=False, title='Category')\n",
    "plt.tight_layout()\n",
    "plt.savefig('../Individual Figure Panels/Figure S5/HHV-dom-categories_amino-acid_frequencies_by_virus.png', dpi=1200)\n",
    "plt.close()\n",
    "\n",
    "h = sns.catplot(x='Family', y='Frequency',\n",
    "                hue='Category', col='Residue',\n",
    "                data=domdf, kind='bar', palette=pal,\n",
    "                height=1.5, aspect=1, col_wrap=5, errwidth=1, legend=False)\n",
    "for ax in h.axes.flatten():\n",
    "    ax.set_xticklabels(ax.get_xticklabels(), rotation=90)\n",
    "plt.legend(loc='center left', bbox_to_anchor=(1, 0.5), frameon=False, title='Category')\n",
    "plt.tight_layout()\n",
    "plt.savefig('../Individual Figure Panels/Figure S5/HHV-dom-categories_amino-acid_frequencies_by_family.png', dpi=1200)"
   ]
  },
  {
   "cell_type": "code",
   "execution_count": 46,
   "metadata": {},
   "outputs": [
    {
     "data": {
      "image/png": "[encoded data removed]",
      "text/plain": [
       "<Figure size 540x432 with 20 Axes>"
      ]
     },
     "metadata": {
      "needs_background": "light"
     },
     "output_type": "display_data"
    }
   ],
   "source": [
    "freq_tile = pd.concat([domdf[['Family', 'Residue', 'Frequency', 'Category']].dropna(), freqdf[['Family', 'Residue', 'Frequency']]])\n",
    "freq_tile['Category'] = freq_tile['Category'].fillna('BG')\n",
    "freq_tile['Category'] = pd.Categorical(freq_tile['Category'], categories=['BG', 'Act', 'Rep'], ordered=True)\n",
    "\n",
    "pal = sns.color_palette(['#444444', '#E3B919', '#1BC6EE'])\n",
    "\n",
    "h = sns.catplot(x='Family', y='Frequency',\n",
    "                hue='Category', col='Residue',\n",
    "                data=freq_tile, kind='bar', palette=pal,\n",
    "                height=1.5, aspect=1, col_wrap=5, errwidth=1, legend=False)\n",
    "for ax in h.axes.flatten():\n",
    "    ax.set_xticklabels(ax.get_xticklabels(), rotation=90)\n",
    "plt.legend(loc='center left', bbox_to_anchor=(1, 0.5), frameon=False, title='Category')\n",
    "plt.tight_layout()\n",
    "plt.savefig('../Individual Figure Panels/Figure S5/HHV-dom-categories_amino-acid_frequencies_by_family_with-BG.png', dpi=1200)"
   ]
  },
  {
   "cell_type": "code",
   "execution_count": 47,
   "metadata": {},
   "outputs": [
    {
     "data": {
      "image/png": "[encoded data removed]",
      "text/plain": [
       "<Figure size 540x432 with 20 Axes>"
      ]
     },
     "metadata": {
      "needs_background": "light"
     },
     "output_type": "display_data"
    }
   ],
   "source": [
    "freq_tile = pd.concat([domdf[['Family', 'Residue', 'Frequency', 'Category']].dropna(), freqdf[['Family', 'Residue', 'Frequency']]])\n",
    "freq_tile['Category'] = freq_tile['Category'].fillna('Proteome')\n",
    "\n",
    "freq_tile_sum = freq_tile.groupby(by=['Residue', 'Category']).mean().reset_index()\n",
    "freq_tile_sum.to_csv('../Supplemental Tables - CSV/HHV-perturbation/HHV-dom-categories_amino-acid_frequencies_aggregate_with-BG_table.csv', index=False)\n",
    "\n",
    "freq_tile['Category'] = freq_tile['Category'].replace(['Act', 'Rep'], ['Activation\\nDomains', 'Repression\\nDomains'])\n",
    "freq_tile['Category'] = pd.Categorical(freq_tile['Category'], categories=['Proteome', 'Activation\\nDomains', 'Repression\\nDomains'], ordered=True)\n",
    "\n",
    "pal = sns.color_palette(['#444444', '#E3B919', '#1BC6EE'])\n",
    "\n",
    "h = sns.catplot(x='Category', y='Frequency',\n",
    "                col='Residue',\n",
    "                data=freq_tile, kind='bar', palette=pal,\n",
    "                height=1.5, aspect=1, col_wrap=5, errwidth=1, legend=False)\n",
    "for ax in h.axes.flatten():\n",
    "    ax.set_xticklabels(ax.get_xticklabels(), rotation=90, ha='center')\n",
    "    ax.set_xlabel('')\n",
    "# plt.legend(loc='center left', bbox_to_anchor=(1, 0.5), frameon=False, title='Category')\n",
    "plt.tight_layout()\n",
    "plt.savefig('../Individual Figure Panels/Figure S5/HHV-dom-categories_amino-acid_frequencies_aggregate_with-BG.png', dpi=1200)\n"
   ]
  },
  {
   "cell_type": "code",
   "execution_count": 48,
   "metadata": {},
   "outputs": [
    {
     "name": "stdout",
     "output_type": "stream",
     "text": [
      "Complete\n"
     ]
    }
   ],
   "source": [
    "import scipy.stats as stats\n",
    "from statsmodels.sandbox.stats.multicomp import multipletests\n",
    "\n",
    "domdf2 = domdf.copy().dropna()\n",
    "domdf2 = domdf2[['Family', 'Virus', 'Category', 'Residue', 'Frequency']]\n",
    "freqdf3 = freqdf.copy()\n",
    "freqdf3 = freqdf3[['Family', 'Virus', 'Residue', 'Frequency']]\n",
    "\n",
    "cat = []\n",
    "res = []\n",
    "wtt = []\n",
    "pval = []\n",
    "\n",
    "for c in ['Act', 'Rep']:\n",
    "    for r in list(set(list(domdf2['Residue']))):\n",
    "        tile_freqs = list(domdf2[(domdf2['Category']==c) & (domdf2['Residue']==r)]['Frequency'])\n",
    "        bg_freqs = list(freqdf3[freqdf3['Residue']==r]['Frequency'])\n",
    "        w_stat, w_p = stats.ttest_ind(tile_freqs, bg_freqs)\n",
    "        cat.append(c)\n",
    "        res.append(r)\n",
    "        wtt.append(w_stat)\n",
    "        pval.append(w_p)\n",
    "\n",
    "stat_df = pd.DataFrame({'Category':cat, 'Residue':res, 'Welch\\'s T':wtt, 'p-value':pval})\n",
    "pvals = list(stat_df['p-value'])\n",
    "is_reject, corrected_pvals, _, _ = multipletests(pvals, alpha=0.1, method='fdr_bh')\n",
    "stat_df['FDR'] = corrected_pvals\n",
    "stat_df['Bonf'] = stat_df['p-value']*len(stat_df)\n",
    "\n",
    "stat_df['FDR Sig'] = np.where(stat_df['FDR']<0.05, 1, 0)\n",
    "stat_df['Bonf Sig'] = np.where(stat_df['Bonf']<0.05, 1, 0)\n",
    "\n",
    "resorder = ['G', 'A', 'V', 'L', 'M', 'I', 'F', 'Y', 'W', 'K', 'R', 'H', 'D', 'E', 'S', 'T', 'C', 'N', 'Q', 'P']\n",
    "stat_df['Residue'] = pd.Categorical(stat_df['Residue'], categories=resorder, ordered=True)\n",
    "stat_df = stat_df.sort_values(by=['Residue', 'Category', 'FDR'], ascending=True).reset_index(drop=True)\n",
    "\n",
    "stat_df.to_csv('../Supplemental Tables - CSV/HHV-perturbation/HHV-dom-categories_amino-acid_frequencies_aggregate_WelchsT-FDR.csv', index=False)\n",
    "print('Complete')"
   ]
  },
  {
   "cell_type": "code",
   "execution_count": 50,
   "metadata": {},
   "outputs": [
    {
     "data": {
      "image/png": "[encoded data removed]",
      "text/plain": [
       "<Figure size 180x144 with 2 Axes>"
      ]
     },
     "metadata": {
      "needs_background": "light"
     },
     "output_type": "display_data"
    }
   ],
   "source": [
    "resorder = ['G', 'A', 'V', 'L', 'M', 'I', 'F', 'Y', 'W', 'K', 'R', 'H', 'D', 'E', 'S', 'T', 'C', 'N', 'Q', 'P']\n",
    "\n",
    "proteome = freq_tile[freq_tile['Category']=='Proteome']\n",
    "proteome = proteome.groupby(by=['Residue']).agg({'Frequency':['mean', 'std']}).reset_index()\n",
    "proteome.columns = proteome.columns.get_level_values(0) + proteome.columns.get_level_values(1)\n",
    "proteome = proteome.rename(columns={'Frequencymean':'Proteome_mean', 'Frequencystd':'Proteome_std'})\n",
    "\n",
    "FTA = freq_tile[freq_tile['Category']!='Proteome']\n",
    "FTA = FTA.replace(['Activation\\nDomains', 'Repression\\nDomains'], ['Act', 'Rep'])\n",
    "FTA = pd.merge(FTA, proteome, how='inner', on='Residue')\n",
    "FTA = FTA.dropna()\n",
    "FTA['Ratio'] = FTA['Frequency']/FTA['Proteome_mean']\n",
    "FTAg = FTA.groupby(by=['Residue', 'Category']).agg({'Ratio':['mean', 'std']}).reset_index()\n",
    "FTAg.columns = FTAg.columns.get_level_values(0) +  FTAg.columns.get_level_values(1)\n",
    "FTAg['Category'] = pd.Categorical(FTAg['Category'], categories=['Act', 'Rep'], ordered=True)\n",
    "\n",
    "FTAg['Mean'] = np.log2(FTAg['Ratiomean'])\n",
    "FTAg['Residue'] = pd.Categorical(FTAg['Residue'], categories=resorder, ordered=True)\n",
    "FTAg = FTAg.dropna().sort_values(by=['Residue', 'Category']).reset_index(drop=True)\n",
    "FTAg = pd.merge(FTAg, stat_df, on=['Residue', 'Category'], how='inner')\n",
    "\n",
    "colorDict = {'None':'#999999', 'Act':'#E3B919', 'Rep':'#1BC6EE', 'Dual':'#EA7063'}\n",
    "labelDict = {'None':'None', 'Act':'Activation', 'Rep':'Repression', 'Dual':'Dual effector'}\n",
    "    \n",
    "def plot_bars(df, subplot, cat):\n",
    "    df = df[df['Category']==cat]\n",
    "    for i, r, m, sig in zip(list(range(len(df))), list(df['Residue']), list(df['Mean']), list(df['Bonf Sig'])):\n",
    "        ax[subplot].bar(x=i, height=m, color=colorDict[cat])\n",
    "        if sig == 1:\n",
    "            if m < 0:\n",
    "                ax[subplot].annotate(text='*', xy=(i, m-0.2), ha='center', va='center')\n",
    "            else:\n",
    "                ax[subplot].annotate(text='*', xy=(i, m+0.05), ha='center', va='center')\n",
    "#         ax[subplot].errorbar(x=i, y=m, yerr=[[u], [l]], lw=0.5, color='k')\n",
    "    if subplot == 1:\n",
    "        ax[subplot].set_xticks(ticks=list(range(len(df))))\n",
    "        ax[subplot].set_xticklabels(labels=list(df['Residue']))\n",
    "        ax[subplot].set_xlabel('Amino Acid')\n",
    "        sns.despine(ax=ax[1])\n",
    "    else:\n",
    "        ax[subplot].set_xticks(ticks=[])\n",
    "        ax[subplot].set_xticklabels(labels=[])\n",
    "        sns.despine(bottom=True, ax=ax[subplot])\n",
    "    ax[subplot].axhline(y=0, ls=':', lw=0.5, color='#444444')\n",
    "    ax[subplot].set_ylim(-1.45, 1)\n",
    "    ax[subplot].set_xlim(-0.5, 19.5)\n",
    "    ax[subplot].annotate(text=labelDict[cat], xy=(0, 0.8), ha='left', va='center')\n",
    "    \n",
    "FTAg_doms = FTAg.copy()\n",
    "fig, ax = plt.subplots(2, 1, figsize=(2.5,2))\n",
    "plot_bars(FTAg, 0, 'Act')\n",
    "plot_bars(FTAg, 1, 'Rep')\n",
    "plt.ylabel('log$_2$(Domains/Proteome)', ha='left')\n",
    "ax[1].yaxis.set_label_coords(-0.12, 0.15)\n",
    "\n",
    "plt.tight_layout()\n",
    "plt.savefig('../Individual Figure Panels/Figure 5/HHV_amino-acid-frequencies_domains.png', dpi=1200, bbox_inches='tight')"
   ]
  },
  {
   "cell_type": "markdown",
   "metadata": {},
   "source": [
    "#### Using the tile-level and domain-level analyses (FTAg_tiles and FTAg_doms) - not featured in a figure panel"
   ]
  },
  {
   "cell_type": "code",
   "execution_count": 254,
   "metadata": {},
   "outputs": [
    {
     "data": {
      "image/png": "[encoded data removed]",
      "text/plain": [
       "<Figure size 288x288 with 4 Axes>"
      ]
     },
     "metadata": {
      "needs_background": "light"
     },
     "output_type": "display_data"
    }
   ],
   "source": [
    "tilesDF = FTAg_tiles[FTAg_tiles['Category'].isin(['Act', 'Rep', 'Dual'])]\n",
    "tilesDF = tilesDF[['Residue', 'Category', 'Mean']].rename(columns={'Mean':'Tile'})\n",
    "domsDF = FTAg_doms.replace(['Activation\\nDomains', 'Repression\\nDomains'], ['Act', 'Rep'])\n",
    "domsDF = domsDF[['Residue', 'Category', 'Mean']].rename(columns={'Mean':'Domain'})\n",
    "aggDF = pd.merge(domsDF, tilesDF, on=['Residue', 'Category'], how='left')\n",
    "\n",
    "dualADF = pd.merge(domsDF[domsDF['Category']=='Act'].replace(['Act'], ['Dual-Act']), tilesDF[tilesDF['Category']=='Dual'].replace(['Dual'], ['Dual-Act']), on=['Residue', 'Category'], how='left')\n",
    "dualRDF = pd.merge(domsDF[domsDF['Category']=='Rep'].replace(['Rep'], ['Dual-Rep']), tilesDF[tilesDF['Category']=='Dual'].replace(['Dual'], ['Dual-Rep']), on=['Residue', 'Category'], how='left')\n",
    "\n",
    "aggDF = pd.concat([aggDF, dualADF, dualRDF])\n",
    "aggDF = aggDF.sort_values(by=['Residue', 'Category']).reset_index(drop=True)\n",
    "aggDF\n",
    "\n",
    "# aggDF\n",
    "fig, ax = plt.subplots(2, 2, figsize=(4, 4))\n",
    "\n",
    "catlist = ['Act', 'Rep', 'Dual-Act', 'Dual-Rep']\n",
    "colorlist = ['#E3B919', '#1BC6EE', '#EA7063', '#EA7063']\n",
    "labellist = [('Activator', 'Activator'), ('Repressor', 'Repressor'), ('Activator', 'Dual Effector'), ('Repressor', 'Dual Effector')]\n",
    "\n",
    "for a, cat, color, label in zip(ax.flatten(), catlist, colorlist, labellist):\n",
    "    tempdf = aggDF[aggDF['Category']==cat]\n",
    "    res = list(tempdf['Residue'])\n",
    "    xpos = list(tempdf['Tile'])\n",
    "    ypos = list(tempdf['Domain'])\n",
    "    sns.regplot(data=tempdf, x='Tile', y='Domain', ax=a,\n",
    "                color=color, scatter_kws={'s':0}, line_kws={'linewidth':1})\n",
    "    for r, x, y in zip(res, xpos, ypos):\n",
    "        a.annotate(text=r, xy=(x,y), color='k', fontsize=6, ha='center', va='center')\n",
    "    a.set_ylabel(label[0] + ' Domain Enrichment')\n",
    "    a.set_xlabel(label[1] + ' Tile Enrichment')\n",
    "    a.set_xlim(a.get_xlim()[0]*1.1, a.get_xlim()[1]*1.1)\n",
    "    a.set_ylim(a.get_ylim()[0]*1.1, a.get_ylim()[1]*1.1)\n",
    "    a.axvline(x=0, ls=':', lw=0.5, color='#444444', zorder=-1)\n",
    "    a.axhline(y=0, ls=':', lw=0.5, color='#444444', zorder=-1)\n",
    "\n",
    "plt.tight_layout()\n",
    "# plt.savefig('Figure_4/HHV_amino-acid-frequencies_tiles-vs-domains.png', dpi=1200)"
   ]
  },
  {
   "cell_type": "markdown",
   "metadata": {},
   "source": [
    "### EBNA2 Type 2 Activation Domain Perturbation Tiling Plot"
   ]
  },
  {
   "cell_type": "code",
   "execution_count": 58,
   "metadata": {},
   "outputs": [
    {
     "name": "stdout",
     "output_type": "stream",
     "text": [
      "2.955520504972891\n",
      "Activation threshold: -1.393846406032031\n",
      "Repression threshold: -1.071410423724703\n",
      "Complete\n"
     ]
    }
   ],
   "source": [
    "import pandas as pd\n",
    "import numpy as np\n",
    "import matplotlib\n",
    "from matplotlib import pyplot as plt\n",
    "import seaborn as sns\n",
    "from statistics import geometric_mean\n",
    "\n",
    "font = {'family' : 'Arial',\n",
    "        'size'   : 8}\n",
    "\n",
    "matplotlib.rc('font', **font)\n",
    "\n",
    "# filter out library members with too few reads, add meta data about perturbation type, and calculate hits threshold\n",
    "# screen_type should be 'Act' or 'Rep'\n",
    "def process_screen(df, screen_type, sigma, counts_filter):\n",
    "    df['countsSUM_R1'] = df['countsON_R1'] + df['countsOFF_R1']\n",
    "    df['countsSUM_R2'] = df['countsON_R2'] + df['countsOFF_R2']\n",
    "    df = df[(df['countsSUM_R1']>=counts_filter) & (df['countsSUM_R2']>=counts_filter)]\n",
    "    \n",
    "    df = df.rename(columns={'label':'Oligo ID'})\n",
    "    df['Type'] = np.where(df['Oligo ID'].str.contains('random'), 'random', 'substitution')\n",
    "    df['Type'] = np.where(df['Oligo ID'].str.contains('del5'), 'deletion', df['Type'])\n",
    "    df['Type'] = np.where(df['Oligo ID'].str.contains('fiducial'), 'fiducial', df['Type'])\n",
    "    df['Type'] = np.where(df['Oligo ID'].str.contains('_WT'), 'WT', df['Type'])\n",
    "    \n",
    "    if screen_type == 'Act':\n",
    "        df['R1'] = -df['R1']\n",
    "        df['R2'] = -df['R2']\n",
    "        df['Avg'] = -df['Avg']\n",
    "        \n",
    "    rand = list(df[df['Type']=='random']['Avg'])\n",
    "    thresh = np.mean(rand) + sigma*np.std(rand)\n",
    "    df['Hit'] = np.where(df['Avg']>=thresh, 1, 0)\n",
    "    \n",
    "    return df, thresh\n",
    "\n",
    "# add additional information, including fiducial details, WT tile effect, and other meta data\n",
    "# IMPORTANT: all mutations are off by +1, so this code corrects for that\n",
    "def add_info(df, fiducials, maxTiles, prot_seqs):\n",
    "    # merge in fiducial information and protein sequences\n",
    "    df['Full Tile ID'] = df['Oligo ID'].str.split('_').str[1:].str.join('_')\n",
    "    df = pd.merge(df, fiducials[['Full Tile ID', 'Gene', 'Effect']], on='Full Tile ID', how='left')\n",
    "    df = pd.merge(df, prot_seqs, on='Full Tile ID', how='left')\n",
    "    df['Effect'] = np.where(df['Effect'].isnull(), '-', df['Effect'])\n",
    "    df['Tile ID'] = np.where(~df['Full Tile ID'].str.contains('fiducial|random'), df['Full Tile ID'].str.split('_').str[:-1].str.join('_'), '-')\n",
    "    df['Mutation'] = np.where(~df['Full Tile ID'].str.contains('fiducial|random'), df['Full Tile ID'].str.split('_').str[-1], '-')\n",
    "    \n",
    "    # isolate mutations and position information\n",
    "    df['Original'] = np.where(df['Type'].isin(['substitution', 'deletion']), df['Mutation'].str[0], '-')\n",
    "    df['Position'] = np.where(df['Type']=='substitution', df['Mutation'].str[1:-1], '-')\n",
    "    df['Perturbation'] = np.where(df['Type']=='substitution', df['Mutation'].str[-1], '-')\n",
    "    df['Position'] = np.where(df['Type']=='deletion', df['Mutation'].str[1:-4], df['Position'])\n",
    "    df['Perturbation'] = np.where(df['Type']=='deletion', 'del5', df['Perturbation'])\n",
    "    df['Position'] = [int(p) - 1 if p!='-' else '-' for p in list(df['Position'])]\n",
    "    \n",
    "    # correct mutation position in the 'Mutation', 'Full Tile ID', and 'Oligo ID' fields\n",
    "    df['Mutation'] = np.where(df['Type'].isin(['substitution', 'deletion']), df['Original'] + df['Position'].astype(str) + df['Perturbation'], df['Mutation'])\n",
    "    df['Full Tile ID'] = np.where(df['Type'].isin(['substitution', 'deletion']), df['Tile ID'] + '_' + df['Mutation'], df['Full Tile ID'])\n",
    "    df['Oligo ID'] = np.where(df['Type'].isin(['substitution', 'deletion']), 'HHV-DMS_' + df['Full Tile ID'], df['Oligo ID'])\n",
    "    \n",
    "    df = pd.merge(df, maxTiles, on='Tile ID', how='outer')\n",
    "    df['Effect'] = np.where(df['Effect_y'].isnull(), df['Effect_x'], df['Effect_y'])\n",
    "    df = df.drop(columns=['Effect_x', 'Effect_y', 'Gene'])\n",
    "    \n",
    "    return df\n",
    "\n",
    "# read in necessary files as dataframes: screen scores, fiducials, and details on original WT max tiles\n",
    "Act = pd.read_csv('../Supplemental Tables - CSV/HHV-perturbation/HHVpert_ActivD2_combo.csv', sep=',')\n",
    "Rep = pd.read_csv('../Supplemental Tables - CSV/HHV-perturbation/HHVpert_ReprD5_combo.csv', sep=',')\n",
    "orig_cutoffA = 1.0846347878236864\n",
    "orig_cutoffR = 0.6987727639587653\n",
    "\n",
    "fiducials = pd.read_csv('../Supplemental Tables - CSV/fiducial_controls.csv', sep=',').drop(columns='Unnamed: 0')\n",
    "fiducials['Number'] = fiducials.index + 1\n",
    "fiducials['Full Tile ID'] = 'fiducial_' + fiducials['Number'].astype(str).str.zfill(3)\n",
    "fiducials['Effect'] = np.where(fiducials['Description'].str.contains('Repr'), 'repressor', 'activator')\n",
    "fiducials['Effect'] = np.where(fiducials['label'].str.contains('random'), '-', fiducials['Effect'])\n",
    "\n",
    "maxTiles = pd.read_csv('../Supplemental Tables - CSV/HHV-perturbation/HHV-perturb_max-tiles.csv')\n",
    "maxTiles['Effect'] = np.where((maxTiles['Activation']>=orig_cutoffA), 'activator', '-')\n",
    "maxTiles['Effect'] = np.where((maxTiles['Repression']>=orig_cutoffR), 'repressor', maxTiles['Effect'])\n",
    "maxTiles['Effect'] = np.where((maxTiles['Activation']>=orig_cutoffA) & (maxTiles['Repression']>=orig_cutoffR), 'dual', maxTiles['Effect'])\n",
    "maxTiles = maxTiles[['Tile ID', 'Tile Start', 'Tile End', 'Effect', 'Protein', 'Virus Abbreviation']]\n",
    "\n",
    "prot_seqs = pd.read_csv('../Supplemental Tables - CSV/HHV-perturbation/HHV_Hits_DMS_codon-opt-proteins_oligos.csv')\n",
    "prot_seqs = prot_seqs[['Name', 'Protein Sequence']].rename(columns={'Name':'Full Tile ID'})\n",
    "\n",
    "# process files\n",
    "Act, threshA = process_screen(Act, 'Act', 2, 50)\n",
    "Act = add_info(Act, fiducials, maxTiles, prot_seqs)\n",
    "Act.to_csv('../Supplemental Tables - CSV/HHV-perturbation/HHVpert_ActivD2_combo_expanded.csv', index=False)\n",
    "E1act = list(Act[(Act['Type']=='WT') & (Act['Oligo ID'].str.contains('P12978'))]['Avg'])[0]\n",
    "print(E1act)\n",
    "\n",
    "Rep, threshR = process_screen(Rep, 'Rep', 2, 50)\n",
    "Rep = add_info(Rep, fiducials, maxTiles, prot_seqs)\n",
    "Rep.to_csv('../Supplemental Tables - CSV/HHV-perturbation/HHVpert_ReprD5_combo_expanded.csv', index=False)\n",
    "\n",
    "print('Activation threshold: %s' % str(threshA))\n",
    "print('Repression threshold: %s' % str(threshR))\n",
    "print('Complete')"
   ]
  },
  {
   "cell_type": "code",
   "execution_count": 59,
   "metadata": {},
   "outputs": [],
   "source": [
    "### Standard deviation in WT scores\n",
    "WT_A = 0.21506548936633008\n",
    "WT_R = 0.17315610959701574\n",
    "threshA = -1.393846406032031\n",
    "threshR = -1.071410423724703"
   ]
  },
  {
   "cell_type": "code",
   "execution_count": 60,
   "metadata": {},
   "outputs": [
    {
     "name": "stderr",
     "output_type": "stream",
     "text": [
      "<ipython-input-60-52c7ba508bd2>:83: SettingWithCopyWarning: \n",
      "A value is trying to be set on a copy of a slice from a DataFrame.\n",
      "Try using .loc[row_indexer,col_indexer] = value instead\n",
      "\n",
      "See the caveats in the documentation: https://pandas.pydata.org/pandas-docs/stable/user_guide/indexing.html#returning-a-view-versus-a-copy\n",
      "  subs['mut2plot'] = subs['Original'] + ':' + subs['Perturbation']\n",
      "<ipython-input-60-52c7ba508bd2>:83: SettingWithCopyWarning: \n",
      "A value is trying to be set on a copy of a slice from a DataFrame.\n",
      "Try using .loc[row_indexer,col_indexer] = value instead\n",
      "\n",
      "See the caveats in the documentation: https://pandas.pydata.org/pandas-docs/stable/user_guide/indexing.html#returning-a-view-versus-a-copy\n",
      "  subs['mut2plot'] = subs['Original'] + ':' + subs['Perturbation']\n"
     ]
    },
    {
     "name": "stdout",
     "output_type": "stream",
     "text": [
      "Complete\n"
     ]
    }
   ],
   "source": [
    "import os\n",
    "from matplotlib.ticker import (MultipleLocator, AutoMinorLocator)\n",
    "from matplotlib.patches import Rectangle\n",
    "from matplotlib.lines import Line2D\n",
    "\n",
    "font = {'family' : 'Arial',\n",
    "        'size'   : 8}\n",
    "\n",
    "matplotlib.rc('font', **font)\n",
    "\n",
    "jpred4 = pd.read_csv('../Supplemental Tables - CSV/HHV-perturbation/jpred4_results_summarized.csv').drop(columns='Protein Sequence')\n",
    "dropoutDict = {'P12978_010':'PPPPPPPPPPQRRDAWTQEPSPLDRDPLGYDVGHGPLASAMRMLWMANYIVRQSRGDRGLILPQGPQTAPQARLVQPHVP',\n",
    "               'P52351_041':'TKKKKRYREDDDRELTKDKNDIKELVDAIGMLRHEISALKYIRSQSPQRQHCTAVDTMPTIEEKNVASPKPSVVNASLTP'}\n",
    "coords = {'P12978_010':[91, 170], 'P52351_041':[401, 480]}\n",
    "\n",
    "# generate tiling plots containing all info and sequence\n",
    "def tiling_plot(df, effect_type, thresh, structure):\n",
    "    # set variables based on effect type\n",
    "    if effect_type == 'activator':\n",
    "        color = '#D7AC00'\n",
    "        ylabel = 'Activation\\nlog$_2$(ON:OFF)'\n",
    "        savedir = '../Individual Figure Panels/Figure 5' # 'Activator_Perturbations'\n",
    "        sigma2 = 2*WT_A\n",
    "        \n",
    "    elif effect_type == 'repressor':\n",
    "        color = '#23BEDB'\n",
    "        ylabel = 'Repression\\nlog$_2$(OFF:ON)'\n",
    "        savedir = '../Individual Figure Panels/Figure 5' # 'Repressor_Perturbations'\n",
    "        sigma2 = 2*WT_R\n",
    "    \n",
    "    # check if output directory exists - if not, make directory\n",
    "    if not os.path.exists(savedir):\n",
    "        os.makedirs(savedir)\n",
    "    \n",
    "    # subset dataframe to focus on those with correct activity, determine y-limits, and get list of tile identifiers\n",
    "    df = pd.merge(df, structure, on='Tile ID', how='left')\n",
    "    df = df[df['Effect'].isin([effect_type, 'dual'])]\n",
    "    df = df[df['Tile ID'].str.contains('Q69022|P52534')]\n",
    "    ymax = max(list(df['R1']) + list(df['R2']))*1.2\n",
    "    ymin = min(list(df['R1']) + list(df['R2']))*1.2\n",
    "    tileList = list(set(list(df[df['Tile ID']!='-']['Tile ID'])))\n",
    "    \n",
    "    # for each tile, create plot with effect of all perturbations\n",
    "    for tile in tileList:\n",
    "        tempdf = df[df['Tile ID']==tile]\n",
    "        # if WT sequence not in the subsetted dataframe, then don't make plot\n",
    "        if 'WT' not in list(tempdf['Type']):\n",
    "            virus = list(tempdf['Virus Abbreviation'])[0]\n",
    "            protein = list(tempdf['Protein'])[0]\n",
    "            print('No WT measurement for %s %s (%s)' % (virus, protein, tile))\n",
    "            WT_seq = dropoutDict[tile]\n",
    "            WT_struct = ''.join(['-']*80)\n",
    "            print(WT_struct)\n",
    "            start = coords[tile][0]\n",
    "            end = coords[tile][1] + 1\n",
    "\n",
    "        else:\n",
    "            # extract information about WT sequence: virus, protein, scores for each replicate, sequence, and coordinates\n",
    "            virus = list(tempdf[tempdf['Type']=='WT']['Virus Abbreviation'])[0]\n",
    "            protein = list(tempdf[tempdf['Type']=='WT']['Protein'])[0]\n",
    "            WT_avg = list(tempdf[tempdf['Type']=='WT']['Avg'])[0]\n",
    "            WT_vals = [WT_avg + sigma2, WT_avg - sigma2]\n",
    "            WT_seq = list(tempdf[tempdf['Type']=='WT']['Protein Sequence'])[0]\n",
    "            WT_struct = list(tempdf[tempdf['Type']=='WT']['Structure'])[0]\n",
    "            start = int(list(tempdf[tempdf['Type']=='WT']['Tile Start'])[0])\n",
    "            end = int(list(tempdf[tempdf['Type']=='WT']['Tile End'])[0]) + 1\n",
    "        xticks = list(range(start, end, 1))\n",
    "        xticks_mod = [x - 0.5 for x in xticks]\n",
    "        xrange = list(range(start, end+1, 5))\n",
    "        \n",
    "        # create dataframes for specific subplots\n",
    "        struct_dict = {'-':'#FFFFFF', 'E':'#555555', 'H':'#AAAAAA'}\n",
    "        WT_struct = [struct_dict[s] for s in WT_struct if s in struct_dict]\n",
    "        struct_df = pd.DataFrame(index=xticks, data={'JPred4':list(WT_struct)}).T\n",
    "        \n",
    "        deletion = tempdf[tempdf['Type']=='deletion']\n",
    "        deletion = deletion.sort_values(by='Position')\n",
    "        delx = [p + 2 for p in list(deletion['Position'])]\n",
    "        dely = list(deletion['Avg'])\n",
    "        delyerr = list(deletion['Standard Error'])\n",
    "        \n",
    "        subs = tempdf[tempdf['Type']=='substitution']\n",
    "        subs['mut2plot'] = subs['Original'] + ':' + subs['Perturbation']\n",
    "        subs = subs.sort_values(by='Position')\n",
    "        subx = list(subs['Position'])\n",
    "        suby = list(subs['Avg'])\n",
    "        subyerr = list(subs['Standard Error'])\n",
    "        subaa = list(subs['Perturbation'])\n",
    "        sub_nonhit = list(subs[subs['Hit']==0]['Position'])\n",
    "        \n",
    "        # initialize plots\n",
    "        fig, ax = plt.subplots(2, 1, figsize=(3.5,1.5), gridspec_kw={'height_ratios':[1, 19]}, sharex=False)\n",
    "        plt.subplots_adjust(hspace=0.03)\n",
    "        \n",
    "        ax[0].set_xlim(xrange[0]-0.5, xrange[-1]-0.5)\n",
    "        ax[0].set_xticks([])\n",
    "        ax[0].set_ylim(1,2)\n",
    "        ax[0].set_yticks([])\n",
    "        ax[0].set_ylabel('', rotation=0, va='center', ha='right')\n",
    "        sns.despine(left=True, bottom=True, ax=ax[0])\n",
    "        for s, x in zip(list(WT_struct), xticks_mod):\n",
    "              ax[0].add_patch(Rectangle((x, 1), 1, 1, edgecolor='white', facecolor='white'))\n",
    "            \n",
    "        custom_patch = [Line2D([0], [0], color='#555555', marker='s', lw=0),\n",
    "                        Line2D([0], [0], color='#AAAAAA', marker='s', lw=0)]\n",
    "                \n",
    "        # plot deletion scan data, with WT scores as horizontal span\n",
    "        ax[1].set_xlim(xrange[0]-0.5, xrange[-1]-0.5)\n",
    "        ax[1].xaxis.set_major_locator(MultipleLocator(10))\n",
    "        ax[1].xaxis.set_minor_locator(MultipleLocator(5))\n",
    "        ax[1].set_ylim(ymin, ymax)\n",
    "        ax[1].axhline(y=thresh, color='#333333', ls=':', zorder=-5, lw=0.5)\n",
    "        if 'WT' in list(tempdf['Type']):\n",
    "            ax[1].axhspan(ymax=WT_vals[0], ymin=WT_vals[1], color=color, alpha=0.25, zorder=-2)\n",
    "            ax[1].axhline(y=WT_avg, color=color, ls=':', zorder=-1, lw=0.5)\n",
    "        if protein == 'EBNA2':\n",
    "            ax[1].axhline(y=E1act, color='#9d7d27', ls='-.', zorder=-1, lw=0.5)\n",
    "            ax[1].annotate(text='Type 1 WT score', xy=(351, 3.3), ha='left', va='center', color='#9d7d27', fontsize=6)\n",
    "        \n",
    "        for x in xrange:\n",
    "            ax[1].axvline(x=x-0.5, color='#DDDDDD', ls=':', lw=0.5)\n",
    "        \n",
    "        plotdf_del = pd.DataFrame({'X':delx, 'Y':dely})\n",
    "        sns.scatterplot(data=plotdf_del, x='X', y='Y', color=color, ax=ax[1], linewidth=0, s=0)\n",
    "        for x, y, ye in zip(delx, dely, delyerr):\n",
    "            ax[1].errorbar(x, y, xerr=2.5, yerr=ye, color=color, zorder=100, lw=1.2)\n",
    "        \n",
    "        # plot substitution data\n",
    "        for x, y, aa in zip(subx, suby, subaa):\n",
    "            ax[1].plot(x, y, marker='o', color=color, markersize=1.5)\n",
    "            if (x == 409) & (aa=='D'):\n",
    "                ax[1].plot(x, y, marker='*', markersize=5, color=color, mew=0.5)\n",
    "        \n",
    "        if protein == 'EBNA2':\n",
    "            title = virus + ' ' + protein + ' Type 2 (' + tile.split('_')[0] + ')' #'\\n\\n'\n",
    "        else:\n",
    "            title = virus + ' ' + protein + ' (' + tile.split('_')[0] + ')'\n",
    "        ax[1].set_xlabel('Residue Position along %s' % title) #Protein')\n",
    "        ax[1].set_ylabel(ylabel)\n",
    "        \n",
    "        savename = '_'.join([virus, protein, tile, effect_type, 'perturb.png'])\n",
    "        plt.tight_layout()\n",
    "        plt.subplots_adjust(hspace=0.1)\n",
    "        plt.savefig(os.path.join(savedir, savename), dpi=1200, bbox_inches='tight')\n",
    "        plt.close()\n",
    "        \n",
    "tiling_plot(Act, 'activator', threshA, jpred4)\n",
    "tiling_plot(Rep, 'repressor', threshR, jpred4)\n",
    "print('Complete')"
   ]
  },
  {
   "cell_type": "markdown",
   "metadata": {},
   "source": [
    "### Get fasta with every HHV protein"
   ]
  },
  {
   "cell_type": "code",
   "execution_count": 61,
   "metadata": {},
   "outputs": [
    {
     "name": "stdout",
     "output_type": "stream",
     "text": [
      "Fasta written\n"
     ]
    }
   ],
   "source": [
    "origProt = pd.read_csv('../Supplemental Tables - CSV/HHV-tiling/uniref_reviewed_HHV+SuHV.csv').rename(columns={'Cluster ID':'UniProt ID'})\n",
    "keyHHV = pd.read_csv('../Supplemental Tables - CSV/uID_protein_virus_mapping_HHV_expanded.csv').drop_duplicates(subset=['UniProt ID', 'Original'])\n",
    "origProt = pd.merge(origProt, keyHHV, on=['UniProt ID'], how='inner')\n",
    "origProt = origProt[['UniProt ID', 'Representative Sequence', 'Virus', 'Protein', 'Gene']]\n",
    "origProt['Protein'] = np.where(origProt['UniProt ID']=='P33485', 'ORF3', origProt['Protein'])\n",
    "\n",
    "uniprot = list(origProt['UniProt ID'])\n",
    "sequence = list(origProt['Representative Sequence'])\n",
    "virus = list(origProt['Virus'])\n",
    "protein = list(origProt['Protein'])\n",
    "gene = list(origProt['Gene'])\n",
    "\n",
    "with open('../Supplemental Tables - CSV/HHV-tiling/HHV_all_proteins.fasta', 'w') as outFile:\n",
    "    for uID, seq, vir, prot, gen in zip(uniprot, sequence, virus, protein, gene):\n",
    "        header = '>%s|-|%s;%s;%s' % (uID, vir, prot, gen)\n",
    "        outFile.write(header + '\\n' + seq + '\\n')\n",
    "\n",
    "outFile.close()\n",
    "print('Fasta written')"
   ]
  },
  {
   "cell_type": "markdown",
   "metadata": {},
   "source": [
    "### Stacked barplots with global analysis of substitution effects"
   ]
  },
  {
   "cell_type": "markdown",
   "metadata": {},
   "source": [
    "#### Barplots featured in Fig. 5H & 5I"
   ]
  },
  {
   "cell_type": "code",
   "execution_count": 63,
   "metadata": {},
   "outputs": [
    {
     "name": "stdout",
     "output_type": "stream",
     "text": [
      "No WT measurement for HHV7 SCAF (P52351_041)\n",
      "No WT measurement for EBV EBNA2 (P12978_010)\n",
      "Complete\n"
     ]
    }
   ],
   "source": [
    "from matplotlib.lines import Line2D\n",
    "\n",
    "font = {'family' : 'Arial',\n",
    "        'size'   : 8}\n",
    "\n",
    "matplotlib.rc('font', **font)\n",
    "\n",
    "dropoutDict = {'P12978_010':'PPPPPPPPPPQRRDAWTQEPSPLDRDPLGYDVGHGPLASAMRMLWMANYIVRQSRGDRGLILPQGPQTAPQARLVQPHVP',\n",
    "               'P52351_041':'TKKKKRYREDDDRELTKDKNDIKELVDAIGMLRHEISALKYIRSQSPQRQHCTAVDTMPTIEEKNVASPKPSVVNASLTP'}\n",
    "dropoutcoords = {'P12978_010':[91, 170], 'P52351_041':[401, 480]}\n",
    "estWT = {'P12978_010':146, 'P52351_041':446}\n",
    "\n",
    "# generate stacked bar plots showing what fraction of substitutions enhance, do nothing, reduce, break tile activity\n",
    "def effect_stacked_bar(df, effect_type, thresh):\n",
    "    # set variables based on effect type\n",
    "    if effect_type == 'activator':\n",
    "        colors = sns.color_palette(['#D7AC00', '#E7CD66', '#CCCCCC', '#999999'])\n",
    "        title = 'Effect of Substitutions on Activation'\n",
    "        sigma2 = 2*WT_A\n",
    "        df = df[df['Effect'].isin([effect_type, 'dual'])]\n",
    "        \n",
    "    elif effect_type == 'repressor':\n",
    "        colors = sns.color_palette(['#23BEDB', '#7BD8E9', '#CCCCCC', '#999999'])\n",
    "        title = 'Effect of Substitutions on Repression'\n",
    "        sigma2 = 2*WT_R\n",
    "        df = df[df['Effect'].isin([effect_type])]\n",
    "    \n",
    "    # subset dataframe to focus on those with correct activity, determine y-limits, and get list of tile identifiers\n",
    "    tileList = list(set(list(df[df['Tile ID']!='-']['Tile ID'])))\n",
    "    \n",
    "    sub_change = []\n",
    "    sub_direction = []\n",
    "    \n",
    "    # for each tile, create plot with effect of all perturbations\n",
    "    for tile in tileList:\n",
    "        tempdf = df[df['Tile ID']==tile]\n",
    "        # if WT sequence not in the subsetted dataframe, then don't make plot\n",
    "        if 'WT' not in list(tempdf['Type']):\n",
    "            virus = list(tempdf['Virus Abbreviation'])[0]\n",
    "            protein = list(tempdf['Protein'])[0]\n",
    "            WT_avg = np.mean(list(tempdf[tempdf['Position']>estWT[tile]]['Avg']))\n",
    "            WT_vals = [WT_avg + sigma2, WT_avg - sigma2]\n",
    "            WT_seq = dropoutDict[tile]\n",
    "            print('No WT measurement for %s %s (%s)' % (virus, protein, tile))\n",
    "        \n",
    "        else:\n",
    "            # extract information about WT sequence: virus, protein, scores for each replicate, sequence, and coordinates\n",
    "            virus = list(tempdf[tempdf['Type']=='WT']['Virus Abbreviation'])[0]\n",
    "            protein = list(tempdf[tempdf['Type']=='WT']['Protein'])[0]\n",
    "            WT_avg = list(tempdf[tempdf['Type']=='WT']['Avg'])[0]\n",
    "            WT_vals = [WT_avg + sigma2, WT_avg - sigma2]\n",
    "            WT_seq = list(tempdf[tempdf['Type']=='WT']['Protein Sequence'])[0]\n",
    "            start = int(list(tempdf[tempdf['Type']=='WT']['Tile Start'])[0])\n",
    "            end = int(list(tempdf[tempdf['Type']=='WT']['Tile End'])[0]) + 1\n",
    "\n",
    "        # substitutions\n",
    "        subs = tempdf[tempdf['Type']=='substitution']\n",
    "        sub_original = list(subs['Original'])\n",
    "        sub_new = list(subs['Perturbation'])\n",
    "        sub_score = list(subs['Avg'])\n",
    "        \n",
    "        for o, n, s in zip(sub_original, sub_new, sub_score):\n",
    "            key = o + ':' + n\n",
    "            sub_change.append(key)\n",
    "            if s > WT_vals[0]:\n",
    "                sub_direction.append('Enhancing')\n",
    "            elif (s <= WT_vals[0]) & (s >= WT_vals[1]):\n",
    "                sub_direction.append('No Effect')\n",
    "            elif (s < WT_vals[1]) & (s >= thresh):\n",
    "                sub_direction.append('Reducing')\n",
    "            else:\n",
    "                sub_direction.append('Breaking')\n",
    "\n",
    "    new_df = pd.DataFrame({'Substitution':sub_change, 'Effect':sub_direction})\n",
    "    \n",
    "    eff_cats = ['Enhancing', 'No Effect', 'Reducing', 'Breaking']\n",
    "    new_df['Effect'] = pd.Categorical(new_df['Effect'], categories=eff_cats)\n",
    "    mut_cats = ['W:A', 'F:A', 'Y:A', 'D:A', 'D:N', 'E:A', 'E:Q', 'K:A', 'K:Q', 'K:R', 'R:A', 'S:D', 'T:D', 'Q:A', 'P:A']\n",
    "    new_df['Substitution'] = pd.Categorical(new_df['Substitution'], categories=mut_cats)\n",
    "    \n",
    "    new_df['Count'] = 1\n",
    "    new_df = new_df.groupby(by=['Substitution', 'Effect']).sum()\n",
    "    new_df['Percent'] = new_df.groupby(level=0).transform(lambda x: (x/x.sum()).round(4))\n",
    "    fig, ax = plt.subplots(1, 1, figsize=(3.1,1.5))\n",
    "    sns.histplot(data=new_df.sort_values(by=['Substitution', 'Effect']), x='Substitution', hue='Effect', weights='Percent', multiple='stack', ax=ax,\n",
    "                 palette=colors, edgecolor='#FFFFFF', linewidth=0.5)\n",
    "    custom_patch = [Line2D([0], [0], color=colors[0], marker='s', lw=0),\n",
    "                    Line2D([0], [0], color=colors[1], marker='s', lw=0),\n",
    "                    Line2D([0], [0], color=colors[2], marker='s', lw=0),\n",
    "                    Line2D([0], [0], color=colors[3], marker='s', lw=0)]\n",
    "    ax.legend(custom_patch, eff_cats, loc='center left',\n",
    "              bbox_to_anchor=(1, 0.5), frameon=False, handletextpad=-0.3,\n",
    "              labelspacing=0.3, borderpad=-0.6, title='Effect vs WT')\n",
    "    ax.set_ylabel('Fraction of\\nSubstitutions')\n",
    "    ax.set_yticks([0, 0.2, 0.4, 0.6, 0.8, 1])\n",
    "    ax.set_yticklabels([0, 0.2, 0.4, 0.6, 0.8, 1.0])\n",
    "    ax.set_ylim(0,1)\n",
    "    for l in ax.get_xticklabels():\n",
    "        l.set_rotation(90)\n",
    "    ax.set_xlim(-0.5, len(mut_cats)-0.5)\n",
    "    ax.set_title(title, fontsize=8)\n",
    "    plt.tight_layout()\n",
    "    plt.savefig('../Individual Figure Panels/Figure 5/fraction-substitutions-effect_%s.png' % effect_type, dpi=1200)\n",
    "    plt.close()\n",
    "    return None\n",
    "         \n",
    "effect_stacked_bar(Act, 'activator', threshA)\n",
    "effect_stacked_bar(Rep, 'repressor', threshR)\n",
    "\n",
    "print('Complete')"
   ]
  },
  {
   "cell_type": "markdown",
   "metadata": {},
   "source": [
    "### Compute frequency of residues in essential deleted regions"
   ]
  },
  {
   "cell_type": "code",
   "execution_count": 64,
   "metadata": {},
   "outputs": [
    {
     "name": "stdout",
     "output_type": "stream",
     "text": [
      "Complete\n"
     ]
    }
   ],
   "source": [
    "# frequencies across the entire domain first\n",
    "dropoutDict = {'P12978_010':'PPPPPPPPPPQRRDAWTQEPSPLDRDPLGYDVGHGPLASAMRMLWMANYIVRQSRGDRGLILPQGPQTAPQARLVQPHVP',\n",
    "               'P52351_041':'TKKKKRYREDDDRELTKDKNDIKELVDAIGMLRHEISALKYIRSQSPQRQHCTAVDTMPTIEEKNVASPKPSVVNASLTP'}\n",
    "dropoutcoords = {'P12978_010':[91, 170], 'P52351_041':[401, 480]}\n",
    "estWT = {'P12978_010':146, 'P52351_041':446}\n",
    "\n",
    "def domain_seqs(df, effect_type):\n",
    "    # set variables based on effect type\n",
    "    df = df[df['Type']=='WT']\n",
    "    if effect_type == 'activator':\n",
    "        df = df[df['Effect'].isin([effect_type, 'dual'])]\n",
    "        df = df[~df['Tile ID'].str.contains('Q9J3N2_006|F5HIC6_025')]\n",
    "        df = df[['Tile ID', 'Protein Sequence', 'Tile Start', 'Tile End']]\n",
    "        df['Effect'] = 'Activation'\n",
    "        \n",
    "    elif effect_type == 'repressor':\n",
    "        df = df[df['Effect'].isin([effect_type])]\n",
    "        df = df[['Tile ID', 'Protein Sequence', 'Tile Start', 'Tile End']]\n",
    "        df = pd.concat([df, pd.DataFrame({'Tile ID':list(dropoutDict.keys()),\n",
    "                                          'Protein Sequence':[dropoutDict[k] for k in dropoutDict],\n",
    "                                          'Tile Start':[dropoutcoords[k][0] for k in dropoutcoords],\n",
    "                                          'Tile End':[dropoutcoords[k][1] for k in dropoutcoords]})])\n",
    "        df['Effect'] = 'Repression'\n",
    "    \n",
    "    df['Protein ID'] = df['Tile ID'].str.split('_').str[0]\n",
    "    df = df.rename(columns={'Protein Sequence':'Max Sequence'}).drop(columns='Tile ID').reset_index(drop=True)\n",
    "    return df\n",
    "    \n",
    "Adom = domain_seqs(Act, 'activator')\n",
    "Rdom = domain_seqs(Rep, 'repressor')\n",
    "print('Complete')"
   ]
  },
  {
   "cell_type": "code",
   "execution_count": 65,
   "metadata": {},
   "outputs": [
    {
     "name": "stdout",
     "output_type": "stream",
     "text": [
      "No WT measurement for HHV7 SCAF (P52351_041) - estimating\n",
      "No WT measurement for EBV EBNA2 (P12978_010) - estimating\n",
      "No WT measurement for HHV7 SCAF (P52351_041) - estimating\n",
      "No WT measurement for EBV EBNA2 (P12978_010) - estimating\n",
      "No WT measurement for HHV7 SCAF (P52351_041) - estimating\n",
      "No WT measurement for EBV EBNA2 (P12978_010) - estimating\n",
      "No WT measurement for HHV7 SCAF (P52351_041) - estimating\n",
      "No WT measurement for EBV EBNA2 (P12978_010) - estimating\n",
      "Complete\n"
     ]
    }
   ],
   "source": [
    "import os\n",
    "# generate tiling plots containing all info and sequence\n",
    "\n",
    "dropoutDict = {'P12978_010':'PPPPPPPPPPQRRDAWTQEPSPLDRDPLGYDVGHGPLASAMRMLWMANYIVRQSRGDRGLILPQGPQTAPQARLVQPHVP',\n",
    "               'P52351_041':'TKKKKRYREDDDRELTKDKNDIKELVDAIGMLRHEISALKYIRSQSPQRQHCTAVDTMPTIEEKNVASPKPSVVNASLTP'}\n",
    "dropoutcoords = {'P12978_010':[91, 170], 'P52351_041':[401, 480]}\n",
    "estWT = {'P12978_010':146, 'P52351_041':446}\n",
    "\n",
    "def deletion_seqs(df, effect_type, thresh, category, neighbor=0, coords=0):\n",
    "    # set variables based on effect type\n",
    "    if effect_type == 'activator':\n",
    "        df = df[df['Effect'].isin([effect_type, 'dual'])]\n",
    "        df = df[~df['Tile ID'].str.contains('Q9J3N2_006|F5HIC6_025')]\n",
    "        color = '#D7AC00'\n",
    "        ylabel = 'log$_2$(ON:OFF) Activation Score'\n",
    "        savedir = 'Activator_Perturbations'\n",
    "        sigma2 = 2*WT_A\n",
    "        \n",
    "    elif effect_type == 'repressor':\n",
    "        df = df[df['Effect'].isin([effect_type])]\n",
    "        color = '#23BEDB'\n",
    "        ylabel = 'log$_2$(OFF:ON) Repression Score'\n",
    "        savedir = 'Repressor_Perturbations'\n",
    "        sigma2 = 2*WT_R\n",
    "    \n",
    "    # check if output directory exists - if not, make directory\n",
    "    if not os.path.exists(savedir):\n",
    "        os.makedirs(savedir)\n",
    "    \n",
    "    # subset dataframe to focus on those with correct activity, determine y-limits, and get list of tile identifiers\n",
    "    tileList = list(set(list(df[df['Tile ID']!='-']['Tile ID'])))\n",
    "    \n",
    "    new_tile_list = []\n",
    "    del_seq_list = []    \n",
    "    shifted_starts = []\n",
    "    shifted_ends = []\n",
    "    # for each tile\n",
    "    for tile in tileList:\n",
    "        tempdf = df[df['Tile ID']==tile]\n",
    "        # if WT sequence not in the subsetted dataframe, then estimate activity\n",
    "        if 'WT' not in list(tempdf['Type']):\n",
    "            virus = list(tempdf['Virus Abbreviation'])[0]\n",
    "            protein = list(tempdf['Protein'])[0]\n",
    "            WT_avg = np.mean(list(tempdf[tempdf['Position']>estWT[tile]]['Avg']))\n",
    "            WT_vals = [WT_avg + sigma2, WT_avg - sigma2]\n",
    "            WT_seq = dropoutDict[tile]\n",
    "            start = dropoutcoords[tile][0]\n",
    "            end = dropoutcoords[tile][1] + 1\n",
    "            print('No WT measurement for %s %s (%s) - estimating' % (virus, protein, tile))           \n",
    "\n",
    "        else:\n",
    "            # extract information about WT sequence: virus, protein, scores for each replicate, sequence, and coordinates\n",
    "            virus = list(tempdf[tempdf['Type']=='WT']['Virus Abbreviation'])[0]\n",
    "            protein = list(tempdf[tempdf['Type']=='WT']['Protein'])[0]\n",
    "            WT_avg = list(tempdf[tempdf['Type']=='WT']['Avg'])[0]\n",
    "            WT_vals = [WT_avg + sigma2, WT_avg - sigma2]\n",
    "            WT_seq = list(tempdf[tempdf['Type']=='WT']['Protein Sequence'])[0]\n",
    "            start = int(list(tempdf[tempdf['Type']=='WT']['Tile Start'])[0])\n",
    "            end = int(list(tempdf[tempdf['Type']=='WT']['Tile End'])[0]) + 1\n",
    "\n",
    "        deletion = tempdf[tempdf['Type']=='deletion']\n",
    "        deletion = deletion.sort_values(by='Position').reset_index(drop=True)\n",
    "        deletion['Category'] = np.where(deletion['Avg'] > WT_vals[0], 'enhancing', 'no effect')\n",
    "        deletion['Category'] = np.where(deletion['Avg'] < WT_vals[1], 'reducing', deletion['Category'])\n",
    "        deletion['Category'] = np.where(deletion['Avg'] < thresh, 'breaking', deletion['Category'])\n",
    "        del_pos = list(deletion['Position'])\n",
    "        del_cat = list(deletion['Category'])\n",
    "    \n",
    "        new_del_pos = []\n",
    "        new_del_end = []\n",
    "        for i in range(len(del_pos)):\n",
    "            if neighbor == 1:\n",
    "                if i == 0:\n",
    "                    if (del_cat[i] in category) | (del_cat[i + 1] in category):\n",
    "                        new_del_pos.append(del_pos[i])\n",
    "                        new_del_end.append(del_pos[i]+5)\n",
    "                elif i == (len(del_pos) - 1):\n",
    "                    if (del_cat[i] in category) | (del_cat[i - 1] in category):\n",
    "                        new_del_pos.append(del_pos[i])\n",
    "                        new_del_end.append(del_pos[i]+5)\n",
    "                else:\n",
    "                    if (del_cat[i - 1] in category) | (del_cat[i] in category) | (del_cat[i + 1] in category):\n",
    "                        new_del_pos.append(del_pos[i])\n",
    "                        new_del_end.append(del_pos[i]+5)\n",
    "            else:\n",
    "                if del_cat[i] in category:\n",
    "                    new_del_pos.append(del_pos[i])\n",
    "                    new_del_end.append(del_pos[i]+5)\n",
    "        \n",
    "        \n",
    "        common = [j for j in new_del_pos if j in new_del_end]\n",
    "        region_starts = [s-start for s in new_del_pos if s not in common]\n",
    "        region_ends = [e-start for e in new_del_end if e not in common]\n",
    "        del_seq = [WT_seq[s:e] for s, e in zip(region_starts, region_ends)]\n",
    "        new_starts = [s+start for s in region_starts]\n",
    "        new_ends = [e+start-1 for e in region_ends]\n",
    "        new_tile_list.extend([tile]*len(del_seq))\n",
    "        del_seq_list.extend(del_seq)         \n",
    "        shifted_starts.extend(new_starts)\n",
    "        shifted_ends.extend(new_ends)\n",
    "    if coords == 0:\n",
    "        return new_tile_list, del_seq_list\n",
    "    else:\n",
    "        return new_tile_list, del_seq_list, shifted_starts, shifted_ends\n",
    "    \n",
    "# this ensures that distinct essential regions are not merged into one when extended on either side by 5aa\n",
    "# this is important because otherwise a non-overlapping motif present only in adjacent padded regions can be improperly counted\n",
    "def process_extended(nonext, ext):\n",
    "    new_ext = [[], [], [], []]\n",
    "    dfne = pd.DataFrame({'Tile ID':nonext[0], 'Sequence':nonext[1], 'Start':nonext[2], 'End':nonext[3]})\n",
    "    dfe = pd.DataFrame({'Tile ID':ext[0], 'Ext. Sequence':ext[1], 'Ext. Start':ext[2], 'Ext. End':ext[3]})\n",
    "    df = pd.merge(dfe, dfne, how='outer', on='Tile ID')\n",
    "    df['Mod. Start'] = np.where((df['Start'] - df['Ext. Start'])<=5, df['Ext. Start'], df['Start'] - 5)\n",
    "    df['Mod. End'] = np.where((df['Ext. End'] - df['End'])<=5, df['Ext. End'], df['End'] + 5)\n",
    "    df['Keep'] = [1 if i in j else 0 for i, j in zip(list(df['Sequence']), list(df['Ext. Sequence']))]\n",
    "    df = df[df['Keep']==1].reset_index(drop=True)\n",
    "    df['Slice Start'] = df['Mod. Start'] - df['Ext. Start']\n",
    "    df['Slice End'] = df['Slice Start'] + (df['Mod. End'] - df['Mod. Start']) + 1\n",
    "    df['Mod. Sequence'] = [seq[s:e] for seq, s, e in zip(list(df['Ext. Sequence']), list(df['Slice Start']), list(df['Slice End']))]\n",
    "    \n",
    "    return list(df['Tile ID']), list(df['Mod. Sequence']), list(df['Mod. Start']), list(df['Mod. End']), list(df['Start']), list(df['End'])\n",
    "    \n",
    "    \n",
    "# options for categories: 'enhancing', 'no effect', 'reducing', 'breaking'\n",
    "Ane_tile, Ane_seq, Ane_starts, Ane_ends = deletion_seqs(Act, 'activator', threshA, 'no effect|enhancing', coords=1)\n",
    "Arb_tile, Arb_seq, Arb_starts, Arb_ends = deletion_seqs(Act, 'activator', threshA, 'reducing|breaking', coords=1)\n",
    "Ab_nonext = deletion_seqs(Act, 'activator', threshA, 'breaking', coords=1)\n",
    "Ab_ext = deletion_seqs(Act, 'activator', threshA, 'breaking', neighbor=1, coords=1)\n",
    "### EXTENDED ESSENTIAL REGIONS\n",
    "Ab_tile_ext, Ab_seq_ext, Ab_starts_ext, Ab_ends_ext, Ab_starts, Ab_ends = process_extended(Ab_nonext, Ab_ext)\n",
    "\n",
    "Rne_tile, Rne_seq, Rne_starts, Rne_ends = deletion_seqs(Rep, 'repressor', threshR, 'no effect|enhancing', coords=1)\n",
    "Rrb_tile, Rrb_seq, Rrb_starts, Rrb_ends = deletion_seqs(Rep, 'repressor', threshR, 'reducing|breaking', coords=1)\n",
    "Rb_nonext = deletion_seqs(Rep, 'repressor', threshR, 'breaking', coords=1)\n",
    "Rb_ext = deletion_seqs(Rep, 'repressor', threshR, 'breaking', neighbor=1, coords=1)\n",
    "### EXTENDED ESSENTIAL REGIONS\n",
    "Rb_tile_ext, Rb_seq_ext, Rb_starts_ext, Rb_ends_ext, Rb_starts, Rb_ends = process_extended(Rb_nonext, Rb_ext)\n",
    "\n",
    "print('Complete')"
   ]
  },
  {
   "cell_type": "markdown",
   "metadata": {},
   "source": [
    "#### Barplots featured in Fig. 5J & 5K"
   ]
  },
  {
   "cell_type": "code",
   "execution_count": 69,
   "metadata": {},
   "outputs": [
    {
     "data": {
      "image/png": "[encoded data removed]",
      "text/plain": [
       "<Figure size 172.8x108 with 1 Axes>"
      ]
     },
     "metadata": {
      "needs_background": "light"
     },
     "output_type": "display_data"
    },
    {
     "data": {
      "image/png": "[encoded data removed]",
      "text/plain": [
       "<Figure size 172.8x108 with 1 Axes>"
      ]
     },
     "metadata": {
      "needs_background": "light"
     },
     "output_type": "display_data"
    }
   ],
   "source": [
    "def compute_freq(tilelist, seqlist, effect):\n",
    "    if effect == 'Act':\n",
    "        newseqlist = []\n",
    "        for t, s in zip(tilelist, seqlist):\n",
    "            if t not in ['Q9J3N2_006', 'F5HIC6_025']:\n",
    "                newseqlist.append(s)\n",
    "        seqlist = ''.join(newseqlist)\n",
    "    elif effect == 'Rep':\n",
    "        seqlist = ''.join(seqlist)\n",
    "    resDict = {'A':0, 'C':0, 'D':0, 'E':0, 'F':0, 'G':0, 'H':0, 'I':0, 'K':0, 'L':0,\n",
    "               'M':0, 'N':0, 'P':0, 'Q':0, 'R':0, 'S':0, 'T':0, 'V':0, 'W':0, 'Y':0}\n",
    "    resorder = ['G', 'A', 'V', 'L', 'M', 'I', 'F', 'Y', 'W', 'K', 'R', 'H', 'D', 'E', 'S', 'T', 'C', 'N', 'Q', 'P']\n",
    "\n",
    "    total = 0\n",
    "    for s in seqlist:\n",
    "        resDict[s] += 1\n",
    "        total += 1\n",
    "    res = []\n",
    "    freq = []\n",
    "    for k in resorder:\n",
    "        res.append(k)\n",
    "        freq.append(resDict[k]/total)\n",
    "\n",
    "    hhvfreq = [0.0608, 0.0794, 0.0692, 0.101, 0.022, 0.0461, 0.0422, 0.0309, 0.0128, 0.0379,\n",
    "               0.0718, 0.0273, 0.0477, 0.0502, 0.0749, 0.0651, 0.026, 0.0364, 0.0333, 0.0652]\n",
    "\n",
    "    resDF = pd.DataFrame({'Residue':res, 'Deletion':freq, 'HHV':hhvfreq})\n",
    "    resDF['Residual'] = np.log2(resDF['Deletion']/resDF['HHV'])\n",
    "    return resDF\n",
    "\n",
    "def plot_resfreq(tilelist, del_seq, effect, category):\n",
    "    resDF = compute_freq(tilelist, del_seq, effect)\n",
    "    colorDict = {'Act':'#D7AC00', 'Rep':'#23BEDB'}\n",
    "    labelDict = {'Act':'Activation', 'Rep':'Repression'}\n",
    "        \n",
    "    plt.figure(figsize=(2.4, 1.5))\n",
    "    sns.barplot(data=resDF.sort_values(by=['Residual'], ascending=False), x='Residue', y='Residual', color=colorDict[effect])\n",
    "    plt.title('Enrichment in Deleted Regions\\nEssential for %s' % labelDict[effect], fontsize=8)\n",
    "    plt.ylabel('log$_2$ Enrichment')\n",
    "    plt.ylim([-3, 2])\n",
    "    plt.yticks([-3, -2, -1, 0, 1, 2], [-3, -2, -1, 0, 1, 2])\n",
    "    plt.xlabel('Amino Acid')\n",
    "    plt.tight_layout()\n",
    "    plt.savefig('../Individual Figure Panels/Figure 5/deletion_freq_enrichment_over_HHV_background_eff-%s_cat-%s_vertical.png' % (effect, category), dpi=1200)\n",
    "\n",
    "plot_resfreq(Ab_nonext[0], Ab_nonext[1], 'Act', 'breaking')\n",
    "plot_resfreq(Rb_nonext[0], Rb_nonext[1], 'Rep', 'breaking')"
   ]
  },
  {
   "cell_type": "markdown",
   "metadata": {},
   "source": [
    "#### Barplots featured in Fig. 5F & 5G"
   ]
  },
  {
   "cell_type": "code",
   "execution_count": 68,
   "metadata": {},
   "outputs": [
    {
     "data": {
      "image/png": "[encoded data removed]",
      "text/plain": [
       "<Figure size 151.2x108 with 1 Axes>"
      ]
     },
     "metadata": {
      "needs_background": "light"
     },
     "output_type": "display_data"
    },
    {
     "data": {
      "image/png": "[encoded data removed]",
      "text/plain": [
       "<Figure size 151.2x108 with 1 Axes>"
      ]
     },
     "metadata": {
      "needs_background": "light"
     },
     "output_type": "display_data"
    }
   ],
   "source": [
    "jpred4 = pd.read_csv('../Supplemental Tables - CSV/HHV-perturbation/jpred4_results_summarized.csv').drop(columns='Protein Sequence')\n",
    "maxtile = pd.read_csv('../Supplemental Tables - CSV/HHV-perturbation/HHV-perturb_max-tiles.csv')\n",
    "jpred4 = pd.merge(jpred4, maxtile[['Tile ID', 'Tile Start', 'Tile End']], on='Tile ID', how='left')\n",
    "\n",
    "def struct_analysis(df, tilelist, seqlist, startlist, endlist):\n",
    "    structdict = {df.loc[i, 'Tile ID']:[df.loc[i, 'Structure'], df.loc[i, 'Tile Start'], df.loc[i, 'Tile End']] for i in range(len(df))}\n",
    "    full_counts = [0, 0, 0, 0]\n",
    "    ess_counts = [0, 0, 0, 0]\n",
    "    \n",
    "    for t, q, s, e in zip(tilelist, seqlist, startlist, endlist):\n",
    "#         if (t == 'Q9J3N2_006') | (t == 'F5HIC6_025'):\n",
    "#             continue\n",
    "        pred = ''.join([p for p in list(structdict[t][0]) if p in ['H', 'E', '-']])\n",
    "        i = int(s - structdict[t][1])\n",
    "        j = int(e - structdict[t][1]) + 1\n",
    "        k = pred[i:j]\n",
    "        feat = ['H', 'E', '-']\n",
    "        for l in range(len(full_counts)):\n",
    "            if l == 3:\n",
    "                full_counts[3] += len(pred)\n",
    "                ess_counts[3] += len(k)\n",
    "            else:\n",
    "                full_counts[l] += pred.count(feat[l])\n",
    "                ess_counts[l] += k.count(feat[l])\n",
    "        \n",
    "    df2 = pd.DataFrame({'Count':['Helical', 'Extended', 'Other'],\n",
    "                        'Essential':ess_counts[:-1],\n",
    "                        'Full':full_counts[:-1]})\n",
    "    df2['Full'] = df2['Full'] - df2['Essential']\n",
    "    df2['Essential Fraction'] = df2['Essential']/ess_counts[-1]\n",
    "    df2['Full Fraction'] = df2['Full']/full_counts[-1]\n",
    "#     print(df2)\n",
    "    return df2\n",
    "    \n",
    "\n",
    "def plot_struct_bias(df, effect):\n",
    "    if effect == 'Activation':\n",
    "        colors = ['#D7AC00', '#BBBBBB']\n",
    "\n",
    "    else:\n",
    "        colors = ['#23BEDB', '#BBBBBB']\n",
    "    df = df[['Count', 'Essential Fraction', 'Full Fraction']].rename(columns={'Count':'Prediction', 'Essential Fraction':'Essential', 'Full Fraction':'Non-essential'})\n",
    "    df = pd.melt(df, id_vars='Prediction', value_vars=['Essential', 'Non-essential'], var_name='Fraction')\n",
    "    plt.figure(figsize=(2.1, 1.5))\n",
    "    sns.barplot(data=df, x='Prediction', y='value', hue='Fraction', palette=sns.color_palette(colors), edgecolor='white')\n",
    "    plt.title('Secondary Structure Prediction\\nfor %s Domains' % effect, fontsize=8)\n",
    "    plt.ylabel('Fraction\\nof Residues')\n",
    "    plt.yticks([0.0, 0.2, 0.4, 0.6])\n",
    "    plt.ylim(0,0.7)\n",
    "    plt.xlabel('JPred4 Prediction')\n",
    "    plt.legend(frameon=False, handlelength=1, labelspacing=0.1, handletextpad=0.5, borderpad=-0.1, fontsize=8)\n",
    "    plt.tight_layout()\n",
    "    plt.savefig('../Individual Figure Panels/Figure 5/HHV_%s_essential-region_breaking-only_JPred4-secondary-structure.png' % effect, dpi=1200)\n",
    "    \n",
    "dfA_str = struct_analysis(jpred4, Ab_nonext[0], Ab_nonext[1], Ab_nonext[2], Ab_nonext[3])\n",
    "dfR_str = struct_analysis(jpred4, Rb_nonext[0], Rb_nonext[1], Rb_nonext[2], Rb_nonext[3])\n",
    "\n",
    "plot_struct_bias(dfA_str, 'Activation')\n",
    "plot_struct_bias(dfR_str, 'Repression')"
   ]
  },
  {
   "cell_type": "code",
   "execution_count": null,
   "metadata": {},
   "outputs": [],
   "source": []
  },
  {
   "cell_type": "code",
   "execution_count": null,
   "metadata": {},
   "outputs": [],
   "source": []
  },
  {
   "cell_type": "code",
   "execution_count": null,
   "metadata": {},
   "outputs": [],
   "source": []
  }
 ],
 "metadata": {
  "kernelspec": {
   "display_name": "Python 3",
   "language": "python",
   "name": "python3"
  },
  "language_info": {
   "codemirror_mode": {
    "name": "ipython",
    "version": 3
   },
   "file_extension": ".py",
   "mimetype": "text/x-python",
   "name": "python",
   "nbconvert_exporter": "python",
   "pygments_lexer": "ipython3",
   "version": "3.8.5"
  }
 },
 "nbformat": 4,
 "nbformat_minor": 4
}
