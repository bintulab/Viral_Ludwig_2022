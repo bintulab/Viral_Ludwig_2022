{
 "cells": [
  {
   "cell_type": "code",
   "execution_count": 18,
   "metadata": {},
   "outputs": [],
   "source": [
    "import pandas as pd\n",
    "import sys\n",
    "# !{sys.executable} -m pip install xlsxwriter\n",
    "import xlsxwriter"
   ]
  },
  {
   "cell_type": "markdown",
   "metadata": {},
   "source": [
    "### Supplemental Table 1: vTR-CoV tiling and Spike DMS screen measurements"
   ]
  },
  {
   "cell_type": "code",
   "execution_count": 20,
   "metadata": {},
   "outputs": [
    {
     "name": "stdout",
     "output_type": "stream",
     "text": [
      "Complete\n"
     ]
    }
   ],
   "source": [
    "vTR_CoV_A_screen = pd.read_csv('../Supplemental Tables - CSV/vTR-CoV-tiling/vTR-CoV_ActivD2_bothseqs_combo_detailed_log2OnOff_reAddDups_estON.csv')\n",
    "vTR_CoV_R_screen = pd.read_csv('../Supplemental Tables - CSV/vTR-CoV-tiling/vTR-CoV_ReprD5_bothseqs_combo_detailed_log2OnOff_reAddDups_estOFF.csv')\n",
    "Spike_R_screen = pd.read_csv('../Supplemental Tables - CSV/vTR-CoV-tiling/Spike_DMS-D7_combo_detailed_estOFF.csv')\n",
    "\n",
    "dflist = [vTR_CoV_A_screen, vTR_CoV_R_screen, Spike_R_screen]\n",
    "tabnames = ['vTR-CoV Tiling Activation', 'vTR-CoV Tiling Repression', 'Spike Perturbation Repression']\n",
    "\n",
    "writer = pd.ExcelWriter('../Supplemental Tables - Excel/Ludwig_2023_Table_S1.xlsx', engine='xlsxwriter')\n",
    "for df, tab in zip(dflist, tabnames):\n",
    "    df.to_excel(writer, sheet_name=tab, index=False)\n",
    "writer.save()\n",
    "print('Complete')"
   ]
  },
  {
   "cell_type": "markdown",
   "metadata": {},
   "source": [
    "### Supplemental Table 2: HHV tiling screen measurements"
   ]
  },
  {
   "cell_type": "code",
   "execution_count": 21,
   "metadata": {},
   "outputs": [
    {
     "name": "stdout",
     "output_type": "stream",
     "text": [
      "Complete\n"
     ]
    }
   ],
   "source": [
    "HHV_A_screen = pd.read_csv('../Supplemental Tables - CSV/HHV-tiling/aHV-bHV-gHV_ActivD2_bothseqs_combo_detailed_log2OnOff_reAddDups_estON.csv')\n",
    "HHV_R_screen = pd.read_csv('../Supplemental Tables - CSV/HHV-tiling/aHV-bHV-gHV_ReprD5_bothseqs_combo_detailed_log2OnOff_reAddDups_estOFF.csv')\n",
    "\n",
    "dflist = [HHV_A_screen, HHV_R_screen]\n",
    "tabnames = ['HHV Tiling Activation', 'HHV Tiling Repression']\n",
    "\n",
    "writer = pd.ExcelWriter('../Supplemental Tables - Excel/Ludwig_2023_Table_S2.xlsx', engine='xlsxwriter')\n",
    "for df, tab in zip(dflist, tabnames):\n",
    "    df.to_excel(writer, sheet_name=tab, index=False)\n",
    "writer.save()\n",
    "print('Complete')"
   ]
  },
  {
   "cell_type": "markdown",
   "metadata": {},
   "source": [
    "### Supplemental Table 3: vTR, CoV, and HHV domains"
   ]
  },
  {
   "cell_type": "code",
   "execution_count": 22,
   "metadata": {},
   "outputs": [
    {
     "name": "stdout",
     "output_type": "stream",
     "text": [
      "Complete\n"
     ]
    }
   ],
   "source": [
    "vTR_doms = pd.read_csv('../Supplemental Tables - CSV/vTR-CoV-tiling/vTR_domains_estON-OFF.csv')\n",
    "CoV_doms = pd.read_csv('../Supplemental Tables - CSV/vTR-CoV-tiling/CoV_domains_estON-OFF.csv')\n",
    "HHV_doms = pd.read_csv('../Supplemental Tables - CSV/HHV-tiling/HHV_domains_estON-OFF.csv')\n",
    "\n",
    "dflist = [vTR_doms, CoV_doms, HHV_doms]\n",
    "tabnames = ['vTR Domains', 'CoV Domains', 'HHV Domains']\n",
    "\n",
    "writer = pd.ExcelWriter('../Supplemental Tables - Excel/Ludwig_2023_Table_S3.xlsx', engine='xlsxwriter')\n",
    "for df, tab in zip(dflist, tabnames):\n",
    "    df.to_excel(writer, sheet_name=tab, index=False)\n",
    "writer.save()\n",
    "print('Complete')"
   ]
  },
  {
   "cell_type": "markdown",
   "metadata": {},
   "source": [
    "### Supplemental Table 4: HHV sequence and chemical perturbation measurements"
   ]
  },
  {
   "cell_type": "code",
   "execution_count": 23,
   "metadata": {},
   "outputs": [
    {
     "name": "stdout",
     "output_type": "stream",
     "text": [
      "Complete\n"
     ]
    }
   ],
   "source": [
    "HHVpert_A_screen = pd.read_csv('../Supplemental Tables - CSV/HHV-perturbation/HHVpert_ActivD2_combo_expanded_mutation-effects_estON.csv')\n",
    "HHVpert_R_screen = pd.read_csv('../Supplemental Tables - CSV/HHV-perturbation/HHVpert_ReprD5_combo_expanded_mutation-effects_estOFF.csv')\n",
    "DMSO_AD1_screen = pd.read_csv('../Supplemental Tables - CSV/HHV-chemical-inhibition/HHVhits_Act-D1_DMSO_combo_expanded.csv')\n",
    "celastrol_AD1_screen = pd.read_csv('../Supplemental Tables - CSV/HHV-chemical-inhibition/HHVhits_Act-D1_celastrol_combo_expanded.csv')\n",
    "DMSO_A_screen = pd.read_csv('../Supplemental Tables - CSV/HHV-chemical-inhibition/HHVhits_Act_DMSO_combo_expanded.csv')\n",
    "SGC_A_screen = pd.read_csv('../Supplemental Tables - CSV/HHV-chemical-inhibition/HHVhits_Act_SGC-CBP30_combo_expanded.csv')\n",
    "DMSO_R_screen = pd.read_csv('../Supplemental Tables - CSV/HHV-chemical-inhibition/HHVhits_Rep_DMSO_combo_expanded.csv')\n",
    "taz_R_screen = pd.read_csv('../Supplemental Tables - CSV/HHV-chemical-inhibition/HHVhits_Rep_taz_combo_expanded.csv')\n",
    "TMP_R_screen = pd.read_csv('../Supplemental Tables - CSV/HHV-chemical-inhibition/HHVhits_Rep_TMP269_combo_expanded.csv')\n",
    "\n",
    "dflist = [HHVpert_A_screen, HHVpert_R_screen, DMSO_AD1_screen, celastrol_AD1_screen,\n",
    "          DMSO_A_screen, SGC_A_screen, DMSO_R_screen, taz_R_screen, TMP_R_screen]\n",
    "tabnames = ['HHV Perturbation Activation', 'HHV Perturbation Repression',\n",
    "            'HHV D1 DMSO Activation', 'HHV D1 Celastrol Activation',\n",
    "            'HHV D2 DMSO Activation', 'HHV D2 SGC-CBP30 Activation',\n",
    "            'HHV D5 DMSO Repression', 'HHV D5 Tazemetostat Repression',\n",
    "            'HHV D5 TMP269 Repression']\n",
    "\n",
    "writer = pd.ExcelWriter('../Supplemental Tables - Excel/Ludwig_2023_Table_S4.xlsx', engine='xlsxwriter')\n",
    "for df, tab in zip(dflist, tabnames):\n",
    "    df.to_excel(writer, sheet_name=tab, index=False)\n",
    "writer.save()\n",
    "print('Complete')"
   ]
  },
  {
   "cell_type": "markdown",
   "metadata": {},
   "source": [
    "### Supplemental Table 5: DEseq analysis for RNA-seq data"
   ]
  },
  {
   "cell_type": "code",
   "execution_count": 24,
   "metadata": {},
   "outputs": [
    {
     "name": "stdout",
     "output_type": "stream",
     "text": [
      "Complete\n"
     ]
    }
   ],
   "source": [
    "mCitrine = pd.read_csv('../Supplemental Tables - CSV/RNA-seq/DEseq/CL048_dox-nodox.csv')\n",
    "U84 = pd.read_csv('../Supplemental Tables - CSV/RNA-seq/DEseq/CL457-CL048_dox.csv')\n",
    "RL5A = pd.read_csv('../Supplemental Tables - CSV/RNA-seq/DEseq/CL418-CL048_dox.csv')\n",
    "U8 = pd.read_csv('../Supplemental Tables - CSV/RNA-seq/DEseq/CL456-CL048_dox.csv')\n",
    "EBNA2_111 = pd.read_csv('../Supplemental Tables - CSV/RNA-seq/DEseq/CL403-CL048_dox.csv')\n",
    "EBNA2_222 = pd.read_csv('../Supplemental Tables - CSV/RNA-seq/DEseq/CL404-CL048_dox.csv')\n",
    "EBNA2_121 = pd.read_csv('../Supplemental Tables - CSV/RNA-seq/DEseq/CL405-CL048_dox.csv')\n",
    "EBNA2_212 = pd.read_csv('../Supplemental Tables - CSV/RNA-seq/DEseq/CL406-CL048_dox.csv')\n",
    "VIRF2_wt = pd.read_csv('../Supplemental Tables - CSV/RNA-seq/DEseq/CL290-CL048_dox.csv')\n",
    "VIRF2_mut = pd.read_csv('../Supplemental Tables - CSV/RNA-seq/DEseq/CL458-CL048_dox.csv')\n",
    "VIRF4_wt = pd.read_csv('../Supplemental Tables - CSV/RNA-seq/DEseq/CL195-CL048_dox.csv')\n",
    "VIRF4_mut = pd.read_csv('../Supplemental Tables - CSV/RNA-seq/DEseq/CL459-CL048_dox.csv')\n",
    "VIRF2_InD = pd.read_csv('../Supplemental Tables - CSV/RNA-seq/DEseq/CL290_IFN-nodox_CL048_noIFN-dox_varIFN.csv')\n",
    "VIRF2_nID = pd.read_csv('../Supplemental Tables - CSV/RNA-seq/DEseq/CL290_noIFN-dox_CL048_noIFN-dox_varPlasmid.csv')\n",
    "VIRF2_ID = pd.read_csv('../Supplemental Tables - CSV/RNA-seq/DEseq/CL290_IFN-dox_CL048_noIFN-dox_varIFN.csv')\n",
    "VIRF3_nID = pd.read_csv('../Supplemental Tables - CSV/RNA-seq/DEseq/CL194_noIFN-dox_CL048_noIFN-dox_varPlasmid.csv')\n",
    "VIRF3_ID = pd.read_csv('../Supplemental Tables - CSV/RNA-seq/DEseq/CL194_IFN-dox_CL048_noIFN-dox_varIFN.csv')\n",
    "VIRF4_nID = pd.read_csv('../Supplemental Tables - CSV/RNA-seq/DEseq/CL195_noIFN-dox_CL048_noIFN-dox_varPlasmid.csv')\n",
    "VIRF4_ID = pd.read_csv('../Supplemental Tables - CSV/RNA-seq/DEseq/CL195_IFN-dox_CL048_noIFN-dox_varIFN.csv')\n",
    "\n",
    "dflist = [mCitrine, U84, RL5A, U8,\n",
    "          EBNA2_111, EBNA2_222, EBNA2_121, EBNA2_212,\n",
    "          VIRF2_wt, VIRF2_mut, VIRF4_wt, VIRF4_mut,\n",
    "          VIRF2_InD, VIRF2_nID, VIRF2_ID, VIRF3_nID, VIRF3_ID, VIRF4_nID, VIRF4_ID]\n",
    "\n",
    "def update_df(df):\n",
    "    df = df.rename(columns={'Unnamed: 0': 'Ensembl ID', 'lfcSE':'log2FoldChange Std Error'})\n",
    "    df = df[~df['Ensembl ID'].str.contains('EBNA|VIRF|U8|mCitrine|RL5A')]\n",
    "    return df\n",
    "\n",
    "dflist = [update_df(d) for d in dflist]\n",
    "\n",
    "tabnames = ['mCitrine dox vs nodox', 'U84 vs mCitrine', 'RL5A vs mCitrine',\n",
    "            'U8 vs mCitrine', 'EBNA2 1-1-1 vs mCitrine', 'EBNA2 2-2-2 vs mCitrine',\n",
    "            'EBNA2 1-2-1 vs mCitrine', 'EBNA2 2-1-2 vs mCitrine', 'VIRF2 WT vs mCitrine',\n",
    "            'VIRF2 mut vs mCitrine', 'VIRF4 WT vs mCitrine', 'VIRF4 mut vs mCitrine',\n",
    "            'IFN vs mCitrine', 'VIRF2 no IFN vs mCitrine', 'VIRF2 IFN vs mCitrine',\n",
    "            'VIRF3 no IFN vs mCitrine', 'VIRF3 IFN vs mCitrine', 'VIRF4 no IFN vs mCitrine', 'VIRF4 IFN vs mCitrine']\n",
    "\n",
    "writer = pd.ExcelWriter('../Supplemental Tables - Excel/Ludwig_2023_Table_S5.xlsx', engine='xlsxwriter')\n",
    "for df, tab in zip(dflist, tabnames):\n",
    "    df.to_excel(writer, sheet_name=tab, index=False)\n",
    "writer.save()\n",
    "print('Complete')"
   ]
  },
  {
   "cell_type": "markdown",
   "metadata": {},
   "source": [
    "### Supplemental Table 6: Motif finding results"
   ]
  },
  {
   "cell_type": "code",
   "execution_count": 30,
   "metadata": {},
   "outputs": [
    {
     "name": "stdout",
     "output_type": "stream",
     "text": [
      "Complete\n"
     ]
    }
   ],
   "source": [
    "Act_reduce_break = pd.read_csv('../Supplemental Tables - CSV/HHV-perturbation/HHVpert_Activation_domain_reducing-breaking_motifs_simplified.csv')\n",
    "Rep_reduce_break = pd.read_csv('../Supplemental Tables - CSV/HHV-perturbation/HHVpert_Repression_domain_reducing-breaking_motifs_simplified.csv')\n",
    "Act_break = pd.read_csv('../Supplemental Tables - CSV/HHV-perturbation/HHVpert_Activation_domain_breaking_motifs_simplified.csv')\n",
    "Rep_break = pd.read_csv('../Supplemental Tables - CSV/HHV-perturbation/HHVpert_Repression_domain_breaking_motifs_simplified.csv')\n",
    "\n",
    "def rename_col(df):\n",
    "    df.columns = df.columns.str.replace('Breaking', 'Essential')\n",
    "    return df\n",
    "\n",
    "dflist = [Act_reduce_break, Rep_reduce_break,\n",
    "          rename_col(Act_break), rename_col(Rep_break)]\n",
    "tabnames = ['Activation Initial Search', 'Repression Initial Search',\n",
    "            'Activation Final Search', 'Repression Final Search']\n",
    "\n",
    "writer = pd.ExcelWriter('../Supplemental Tables - Excel/Ludwig_2023_Table_S6.xlsx', engine='xlsxwriter')\n",
    "for df, tab in zip(dflist, tabnames):\n",
    "    df.to_excel(writer, sheet_name=tab, index=False)\n",
    "writer.save()\n",
    "print('Complete')"
   ]
  },
  {
   "cell_type": "markdown",
   "metadata": {},
   "source": [
    "### Supplemental Table 7: Individual flow cytometry validations"
   ]
  },
  {
   "cell_type": "code",
   "execution_count": 31,
   "metadata": {},
   "outputs": [
    {
     "name": "stdout",
     "output_type": "stream",
     "text": [
      "Complete\n"
     ]
    }
   ],
   "source": [
    "vals_VCA = pd.read_csv('../Flow Summaries - CSV/vTR-CoV-tiling_Act_screen_validation_summary.csv')\n",
    "vals_VCR = pd.read_csv('../Flow Summaries - CSV/vTR-CoV-tiling_Repr_screen_validation_summary.csv')\n",
    "vals_Spike = pd.read_csv('../Flow Summaries - CSV/Spike-DMS_Repr_screen_validation_summary.csv')\n",
    "vals_HHVA = pd.read_csv('../Flow Summaries - CSV/HHV-tiling_Act_screen_validation_summary.csv')\n",
    "vals_HHVR = pd.read_csv('../Flow Summaries - CSV/HHV-tiling_Repr_screen_validation_summary.csv')\n",
    "vals_pertA = pd.read_csv('../Flow Summaries - CSV/HHV-perturbation_Act_screen_validation_summary.csv')\n",
    "vals_pertR = pd.read_csv('../Flow Summaries - CSV/HHV-perturbation_Repr_screen_validation_summary.csv')\n",
    "\n",
    "dflist = [vals_VCA, vals_VCR, vals_Spike, vals_HHVA, vals_HHVR, vals_pertA, vals_pertR]\n",
    "tabnames = ['vTR-CoV Tiling Activation', 'vTR-CoV Tiling Repression', 'Spike Perturbation Repression', 'HHV Tiling Activation',\n",
    "            'HHV Tiling Repression', 'HHV Perturbation Activation', 'HHV Perturbation Repression']\n",
    "\n",
    "writer = pd.ExcelWriter('../Supplemental Tables - Excel/Ludwig_2023_Table_S7.xlsx', engine='xlsxwriter')\n",
    "for df, tab in zip(dflist, tabnames):\n",
    "    df.to_excel(writer, sheet_name=tab, index=False)\n",
    "writer.save()\n",
    "print('Complete')"
   ]
  },
  {
   "cell_type": "code",
   "execution_count": null,
   "metadata": {},
   "outputs": [],
   "source": []
  },
  {
   "cell_type": "code",
   "execution_count": null,
   "metadata": {},
   "outputs": [],
   "source": []
  },
  {
   "cell_type": "code",
   "execution_count": null,
   "metadata": {},
   "outputs": [],
   "source": []
  },
  {
   "cell_type": "markdown",
   "metadata": {},
   "source": [
    "### Quantify total number of domains"
   ]
  },
  {
   "cell_type": "code",
   "execution_count": 26,
   "metadata": {},
   "outputs": [
    {
     "name": "stdout",
     "output_type": "stream",
     "text": [
      "vTR activation domains: 87\n",
      "vTR activation domains: 106\n",
      "vTR activation domains: 79\n",
      "vTR activation domains: 56\n",
      "vTR activation domains: 72\n",
      "vTR activation domains: 196\n",
      "Total non-redundant activation domains: 224\n",
      "Total non-redundant activation domains: 324\n"
     ]
    }
   ],
   "source": [
    "import pandas as pd\n",
    "vTRdom = pd.read_csv('../Supplemental Tables - CSV/vTR-CoV-tiling/vTR_domains.csv')\n",
    "vTRA = len(vTRdom[vTRdom['Effect']=='Activation'])\n",
    "vTRR = len(vTRdom[vTRdom['Effect']=='Repression'])\n",
    "vTRAlist = list(vTRdom[vTRdom['Effect']=='Activation']['Protein ID'])\n",
    "vTRRlist = list(vTRdom[vTRdom['Effect']=='Repression']['Protein ID'])\n",
    "\n",
    "CoVdom = pd.read_csv('../Supplemental Tables - CSV/vTR-CoV-tiling/CoV_domains.csv')\n",
    "CoVA = len(CoVdom[CoVdom['Effect']=='Activation'])\n",
    "CoVR = len(CoVdom[CoVdom['Effect']=='Repression'])\n",
    "CoVAlist = list(CoVdom[CoVdom['Effect']=='Activation']['Protein ID'])\n",
    "CoVRlist = list(CoVdom[CoVdom['Effect']=='Repression']['Protein ID'])\n",
    "\n",
    "HHVdom = pd.read_csv('../Supplemental Tables - CSV/HHV-tiling/HHV_domains.csv')\n",
    "HHVA = len(HHVdom[HHVdom['Effect']=='Activation'])\n",
    "HHVR = len(HHVdom[HHVdom['Effect']=='Repression'])\n",
    "HHVAlist = list(HHVdom[HHVdom['Effect']=='Activation']['Protein ID'])\n",
    "HHVRlist = list(HHVdom[HHVdom['Effect']=='Repression']['Protein ID'])\n",
    "\n",
    "print('vTR activation domains:', vTRA)\n",
    "print('vTR activation domains:', vTRR)\n",
    "print('vTR activation domains:', CoVA)\n",
    "print('vTR activation domains:', CoVR)\n",
    "print('vTR activation domains:', HHVA)\n",
    "print('vTR activation domains:', HHVR)\n",
    "\n",
    "print('Total non-redundant activation domains:', vTRA + CoVA + HHVA - 14)\n",
    "print('Total non-redundant activation domains:', vTRR + CoVR + HHVR - 34)\n",
    "\n",
    "# there are 14 activation domains shared between vTR and HHV\n",
    "# there are 34 repression domains shared between vTR and HHV"
   ]
  },
  {
   "cell_type": "code",
   "execution_count": 41,
   "metadata": {},
   "outputs": [
    {
     "name": "stdout",
     "output_type": "stream",
     "text": [
      "['P29129', 'P29129', 'P03209', 'C0H677', 'P03211', 'P08393', 'P89474', 'P03204', 'P28284', 'P28284', 'P28284', 'P17147', 'P17147', 'Q2HR82', 'P03220', 'P04485', 'Q2HR71', 'P04296', 'P04296', 'P04296', 'P12977', 'P03206', 'P03206', 'Q2HRA1', 'P03203', 'F5HCV3', 'F5HCV3', 'P19893', 'Q2HR73', 'Q2HR73', 'Q2HR73', 'P12978', 'P36384', 'P36384', 'P03169', 'P06726', 'P06726'] 37\n",
      "['P03209', 'P03211', 'P03211', 'Q2HRA1', 'P04296', 'P04296', 'P89474', 'F5HCV3', 'F5HCV3', 'Q2HR73', 'Q2HR73', 'Q2HR73', 'P29129', 'P29129', 'P17147', 'P03206', 'P03206', 'P28284', 'P28284', 'P28284', 'P28284', 'P03220', 'C0H677', 'P12978', 'P06726', 'P06726', 'P04485', 'P19893', 'Q2HR82', 'P08393', 'P03204', 'P12977', 'P03203', 'P36384', 'Q2HR71', 'P03169'] 36\n"
     ]
    }
   ],
   "source": [
    "# intersect1 = [i for i in vTRAlist if i in HHVAlist]\n",
    "# intersect2 = [i for i in HHVAlist if i in vTRAlist]\n",
    "\n",
    "intersect1 = [i for i in vTRRlist if i in HHVRlist]\n",
    "intersect2 = [i for i in HHVRlist if i in vTRRlist]\n",
    "\n",
    "print(intersect1, len(intersect1))\n",
    "print(intersect2, len(intersect2))"
   ]
  },
  {
   "cell_type": "code",
   "execution_count": 24,
   "metadata": {},
   "outputs": [],
   "source": [
    "# HHVdom[(HHVdom['Effect']=='Repression') & (HHVdom['Protein ID'].isin(set(intersect2)))].sort_values(by='Protein ID')"
   ]
  },
  {
   "cell_type": "code",
   "execution_count": 25,
   "metadata": {},
   "outputs": [],
   "source": [
    "# vTRdom[(vTRdom['Effect']=='Repression') & (vTRdom['Protein ID'].isin(set(intersect2)))].sort_values(by='Protein ID')"
   ]
  }
 ],
 "metadata": {
  "kernelspec": {
   "display_name": "Python 3",
   "language": "python",
   "name": "python3"
  },
  "language_info": {
   "codemirror_mode": {
    "name": "ipython",
    "version": 3
   },
   "file_extension": ".py",
   "mimetype": "text/x-python",
   "name": "python",
   "nbconvert_exporter": "python",
   "pygments_lexer": "ipython3",
   "version": "3.8.5"
  }
 },
 "nbformat": 4,
 "nbformat_minor": 4
}
