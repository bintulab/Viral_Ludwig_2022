{
 "cells": [
  {
   "cell_type": "code",
   "execution_count": 6,
   "metadata": {},
   "outputs": [],
   "source": [
    "import sys\n",
    "import os\n",
    "import numpy as np\n",
    "import matplotlib\n",
    "import matplotlib.pyplot as plt\n",
    "import matplotlib.ticker as ticker\n",
    "import matplotlib.gridspec as gridspec\n",
    "from matplotlib.lines import Line2D\n",
    "from scipy.special import factorial\n",
    "import seaborn as sns\n",
    "import pandas as pd\n",
    "import re\n",
    "import statistics\n",
    "from scipy import stats\n",
    "import math\n",
    "\n",
    "font = {'size':8,\n",
    "        'family':'Arial'}\n",
    "matplotlib.rc('font', **font)\n",
    "\n",
    "# from other notebooks\n",
    "cutoffA_vTR = 3.24704700060297\n",
    "cutoffR_vTR = 0.6920252964595188\n",
    "cutoffA_HHV = 1.0846347878236864\n",
    "cutoffR_HHV = 0.6987727639587654"
   ]
  },
  {
   "cell_type": "markdown",
   "metadata": {},
   "source": [
    "### HHV proteins tiled by virus"
   ]
  },
  {
   "cell_type": "markdown",
   "metadata": {},
   "source": [
    "#### Barplot featured in Fig. S3A"
   ]
  },
  {
   "cell_type": "code",
   "execution_count": 40,
   "metadata": {},
   "outputs": [
    {
     "name": "stdout",
     "output_type": "stream",
     "text": [
      "    Virus  Count\n",
      "2     EBV     93\n",
      "3    HCMV    238\n",
      "4   HHV6A    103\n",
      "5   HHV6B    102\n",
      "6    HHV7     63\n",
      "7    HSV1     85\n",
      "8    HSV2     79\n",
      "9    KSHV     85\n",
      "10  SuHV1     37\n",
      "11    VZV     70\n"
     ]
    },
    {
     "data": {
      "image/png": "[encoded data removed]",
      "text/plain": [
       "<Figure size 180x100.8 with 1 Axes>"
      ]
     },
     "metadata": {
      "needs_background": "light"
     },
     "output_type": "display_data"
    }
   ],
   "source": [
    "from pandas.api.types import CategoricalDtype\n",
    "\n",
    "u90 = pd.read_csv('../Supplemental Tables - CSV/HHV-tiling/uniref_reviewed_HHV+SuHV.csv')\n",
    "u90 = u90.rename(columns={'Cluster ID':'UniProt ID'})\n",
    "dfmap = pd.read_csv('../Supplemental Tables - CSV/uID_protein_virus_mapping_HHV_expanded.csv')\n",
    "u90 = pd.merge(u90, dfmap, on='UniProt ID', how='left')\n",
    "u90['Count'] = 1\n",
    "u90 = u90[['Virus', 'Count']].groupby('Virus', axis=0).sum().reset_index()\n",
    "u90 = u90[~u90['Virus'].str.contains('CeHV')]\n",
    "print(u90)\n",
    "\n",
    "vir2sub = {'HSV1':'alpha', 'HSV2':'alpha', 'VZV':'alpha', 'SuHV1':'alpha',\n",
    "           'HCMV':'beta', 'HHV6A':'beta', 'HHV6B':'beta', 'HHV7':'beta',\n",
    "           'EBV':'gamma', 'KSHV':'gamma'}\n",
    "u90['Subfamily'] = u90['Virus'].map(vir2sub)\n",
    "u90['Virus'] = u90['Virus'].astype(CategoricalDtype(categories=['SuHV1', 'HSV1', 'HSV2', 'VZV', 'HCMV',\n",
    "                                                                'HHV6A', 'HHV6B', 'HHV7','EBV', 'KSHV'], ordered=True))\n",
    "u90 = u90.sort_values(by='Virus')\n",
    "\n",
    "colors = ['#9AC42D']*4 + ['#63A8DB']*4 + ['#804571']*2\n",
    "colors2 = ['#9AC42D', '#63A8DB', '#804571']\n",
    "sf_pal = sns.color_palette(colors)\n",
    "plt.figure(figsize=(2.5,1.4))\n",
    "sns.barplot(data=u90, x='Virus', y='Count', palette=sf_pal)\n",
    "plt.yticks(ticks=[0, 100, 200])\n",
    "plt.xticks(rotation=90)\n",
    "plt.ylabel('Proteins Tiled')\n",
    "alpha = matplotlib.lines.Line2D([0], [0], marker='s', lw=0, color=colors2[0], label='alpha')\n",
    "beta = matplotlib.lines.Line2D([0], [0], marker='s', lw=0, color=colors2[1], label='beta')\n",
    "gamma = matplotlib.lines.Line2D([0], [0], marker='s', lw=0, color=colors2[2], label='gamma')\n",
    "plt.legend(handles=[alpha, beta, gamma], loc='center left', bbox_to_anchor=(1, 0.5), frameon=False, title='Subfamily',\n",
    "           labelspacing=0.2, markerscale=0.5, handletextpad=0.2, borderpad=0, borderaxespad=0.5, handlelength=1)\n",
    "sns.despine()\n",
    "plt.tight_layout()\n",
    "plt.savefig('../Individual Figure Panels/Figure S3/HHV_screen_proteins_tiled_by_virus.png', dpi=1200)"
   ]
  },
  {
   "cell_type": "markdown",
   "metadata": {},
   "source": [
    "### Magnetic separation for HHV activation screen"
   ]
  },
  {
   "cell_type": "markdown",
   "metadata": {},
   "source": [
    "#### Flow distributions featured in Fig. S3B & S3C"
   ]
  },
  {
   "cell_type": "code",
   "execution_count": 2,
   "metadata": {},
   "outputs": [
    {
     "data": {
      "text/html": [
       "<div>\n",
       "<style scoped>\n",
       "    .dataframe tbody tr th:only-of-type {\n",
       "        vertical-align: middle;\n",
       "    }\n",
       "\n",
       "    .dataframe tbody tr th {\n",
       "        vertical-align: top;\n",
       "    }\n",
       "\n",
       "    .dataframe thead th {\n",
       "        text-align: right;\n",
       "    }\n",
       "</style>\n",
       "<table border=\"1\" class=\"dataframe\">\n",
       "  <thead>\n",
       "    <tr style=\"text-align: right;\">\n",
       "      <th></th>\n",
       "      <th>Reporter</th>\n",
       "      <th>Fraction</th>\n",
       "      <th>Citrine-A</th>\n",
       "      <th>FSC 488/10-A</th>\n",
       "      <th>FSC 488/10-H</th>\n",
       "      <th>SSC 488/10-A</th>\n",
       "      <th>mCherry-A</th>\n",
       "      <th>P1</th>\n",
       "      <th>P2</th>\n",
       "      <th>mCherry</th>\n",
       "      <th>Citrine_Act</th>\n",
       "      <th>Citrine_Rep</th>\n",
       "    </tr>\n",
       "  </thead>\n",
       "  <tbody>\n",
       "    <tr>\n",
       "      <th>0</th>\n",
       "      <td>DY032</td>\n",
       "      <td>pre-magsep</td>\n",
       "      <td>1.968361e+06</td>\n",
       "      <td>1.010879e+09</td>\n",
       "      <td>7.971203e+08</td>\n",
       "      <td>3.699215e+08</td>\n",
       "      <td>8.660235e+07</td>\n",
       "      <td>1.0</td>\n",
       "      <td>1.0</td>\n",
       "      <td>0.946253</td>\n",
       "      <td>0.026269</td>\n",
       "      <td>0.004402</td>\n",
       "    </tr>\n",
       "    <tr>\n",
       "      <th>1</th>\n",
       "      <td>DY032</td>\n",
       "      <td>unbound</td>\n",
       "      <td>7.599170e+05</td>\n",
       "      <td>1.321352e+09</td>\n",
       "      <td>1.048310e+09</td>\n",
       "      <td>3.732983e+08</td>\n",
       "      <td>7.977867e+07</td>\n",
       "      <td>1.0</td>\n",
       "      <td>1.0</td>\n",
       "      <td>0.941835</td>\n",
       "      <td>0.004202</td>\n",
       "      <td>0.000186</td>\n",
       "    </tr>\n",
       "    <tr>\n",
       "      <th>2</th>\n",
       "      <td>DY032</td>\n",
       "      <td>bound</td>\n",
       "      <td>2.573614e+07</td>\n",
       "      <td>1.036569e+09</td>\n",
       "      <td>7.111715e+08</td>\n",
       "      <td>1.398560e+09</td>\n",
       "      <td>7.749006e+07</td>\n",
       "      <td>1.0</td>\n",
       "      <td>1.0</td>\n",
       "      <td>0.989733</td>\n",
       "      <td>0.747433</td>\n",
       "      <td>0.521561</td>\n",
       "    </tr>\n",
       "    <tr>\n",
       "      <th>3</th>\n",
       "      <td>JT039</td>\n",
       "      <td>pre-magsep</td>\n",
       "      <td>9.719899e+07</td>\n",
       "      <td>1.212391e+09</td>\n",
       "      <td>8.821790e+08</td>\n",
       "      <td>1.569425e+09</td>\n",
       "      <td>1.333310e+08</td>\n",
       "      <td>1.0</td>\n",
       "      <td>1.0</td>\n",
       "      <td>0.988853</td>\n",
       "      <td>0.926922</td>\n",
       "      <td>0.902661</td>\n",
       "    </tr>\n",
       "    <tr>\n",
       "      <th>4</th>\n",
       "      <td>JT039</td>\n",
       "      <td>unbound</td>\n",
       "      <td>1.760478e+07</td>\n",
       "      <td>1.430094e+09</td>\n",
       "      <td>1.136675e+09</td>\n",
       "      <td>4.752881e+08</td>\n",
       "      <td>1.191037e+08</td>\n",
       "      <td>1.0</td>\n",
       "      <td>1.0</td>\n",
       "      <td>0.923505</td>\n",
       "      <td>0.392989</td>\n",
       "      <td>0.293685</td>\n",
       "    </tr>\n",
       "    <tr>\n",
       "      <th>5</th>\n",
       "      <td>JT039</td>\n",
       "      <td>bound</td>\n",
       "      <td>1.043897e+08</td>\n",
       "      <td>1.178348e+09</td>\n",
       "      <td>8.951990e+08</td>\n",
       "      <td>1.305901e+09</td>\n",
       "      <td>1.233750e+08</td>\n",
       "      <td>1.0</td>\n",
       "      <td>1.0</td>\n",
       "      <td>0.986248</td>\n",
       "      <td>0.996275</td>\n",
       "      <td>0.986340</td>\n",
       "    </tr>\n",
       "  </tbody>\n",
       "</table>\n",
       "</div>"
      ],
      "text/plain": [
       "  Reporter    Fraction     Citrine-A  FSC 488/10-A  FSC 488/10-H  \\\n",
       "0    DY032  pre-magsep  1.968361e+06  1.010879e+09  7.971203e+08   \n",
       "1    DY032     unbound  7.599170e+05  1.321352e+09  1.048310e+09   \n",
       "2    DY032       bound  2.573614e+07  1.036569e+09  7.111715e+08   \n",
       "3    JT039  pre-magsep  9.719899e+07  1.212391e+09  8.821790e+08   \n",
       "4    JT039     unbound  1.760478e+07  1.430094e+09  1.136675e+09   \n",
       "5    JT039       bound  1.043897e+08  1.178348e+09  8.951990e+08   \n",
       "\n",
       "   SSC 488/10-A     mCherry-A   P1   P2   mCherry  Citrine_Act  Citrine_Rep  \n",
       "0  3.699215e+08  8.660235e+07  1.0  1.0  0.946253     0.026269     0.004402  \n",
       "1  3.732983e+08  7.977867e+07  1.0  1.0  0.941835     0.004202     0.000186  \n",
       "2  1.398560e+09  7.749006e+07  1.0  1.0  0.989733     0.747433     0.521561  \n",
       "3  1.569425e+09  1.333310e+08  1.0  1.0  0.988853     0.926922     0.902661  \n",
       "4  4.752881e+08  1.191037e+08  1.0  1.0  0.923505     0.392989     0.293685  \n",
       "5  1.305901e+09  1.233750e+08  1.0  1.0  0.986248     0.996275     0.986340  "
      ]
     },
     "execution_count": 2,
     "metadata": {},
     "output_type": "execute_result"
    }
   ],
   "source": [
    "df = pd.read_csv('../Flow Single-Cell Data - CSV/HHV_primary_Screens_magsep_single-cell.csv')\n",
    "df = df[(df['P1']==True) & (df['P2']==True)]\n",
    "df = df.rename(columns={'Citrine':'Citrine_Act'})\n",
    "df['Citrine_Rep'] = np.where(df['Citrine-A']>1e7, True, False)\n",
    "df = df[df['Fraction']!='wash']\n",
    "df['Fraction'] = pd.Categorical(df['Fraction'], categories=['pre-magsep', 'unbound', 'bound'])\n",
    "aggdf = df.groupby(by=['Reporter', 'Fraction'], as_index=False).mean().sort_values(by=['Reporter', 'Fraction'])\n",
    "\n",
    "aggdf"
   ]
  },
  {
   "cell_type": "code",
   "execution_count": 23,
   "metadata": {},
   "outputs": [
    {
     "name": "stdout",
     "output_type": "stream",
     "text": [
      "Complete\n"
     ]
    }
   ],
   "source": [
    "font = {'size':8,\n",
    "        'family':'Arial'}\n",
    "matplotlib.rc('font', **font)\n",
    "\n",
    "tempdf = df.copy()\n",
    "tempdf['mCitrine'] = np.log10(tempdf['Citrine-A'])\n",
    "\n",
    "def plot_magsep(data_df, agg_df, screentype):\n",
    "    if screentype == 'Activation':\n",
    "        reporter = 'DY032'\n",
    "        citrine = 'Citrine_Act'\n",
    "        color = '#F3CE48'\n",
    "        cutoff = 3e6\n",
    "        upperylim = 4\n",
    "    elif screentype == 'Repression':\n",
    "        reporter = 'JT039'\n",
    "        citrine = 'Citrine_Rep'\n",
    "        color = '#23BEDB'\n",
    "        cutoff = 1e7\n",
    "        upperylim = 2.5\n",
    "    \n",
    "    ON = list(agg_df[agg_df['Reporter']==reporter][citrine])\n",
    "    ON = [round(on*100, 1) for on in ON]\n",
    "    OFF = [str(round(100-on, 1)) + '%' for on in ON]\n",
    "    ON = [str(on) + '%' for on in ON]\n",
    "    \n",
    "    pal = sns.color_palette([color, color])\n",
    "    g = sns.FacetGrid(data=data_df[data_df['Reporter']==reporter],\n",
    "                      col='Fraction', hue='Replicate', palette=pal,\n",
    "                      aspect=0.92, height=1.35)\n",
    "    g.map(sns.kdeplot, 'mCitrine', fill=True, bw_adjust=1)\n",
    "    g.set_titles(template='{col_name}')\n",
    "    \n",
    "    plt.xlim([4.5,9.5])\n",
    "    plt.ylim([0,upperylim])\n",
    "    plt.xticks([5, 6, 7, 8, 9], ['10$^5$', '10$^6$', '10$^7$', '10$^8$', '10$^9$'])\n",
    "    for i, ax, on, off in zip(range(6), g.axes.flat, ON, OFF):\n",
    "        ax.text(0.05, 0.95, off, transform=ax.transAxes, ha='left', va='top')\n",
    "        ax.text(0.95, 0.95, on, transform=ax.transAxes, ha='right', va='top')\n",
    "        ax.axvline(x=np.log10(cutoff), ls=':', color='#333333', lw=1)\n",
    "#         ax.grid(False)\n",
    "    \n",
    "    plt.savefig('../Individual Figure Panels/Figure S3/HHV_primary_Screens_%s_magsep_kdeplot.png' % screentype, dpi=1200)\n",
    "    plt.close()\n",
    "    \n",
    "    \n",
    "plot_magsep(tempdf, aggdf, 'Activation')\n",
    "plot_magsep(tempdf, aggdf, 'Repression')\n",
    "\n",
    "print('Complete')"
   ]
  },
  {
   "cell_type": "markdown",
   "metadata": {},
   "source": [
    "### Correlation of HHV screen scores and validation % ON or OFF"
   ]
  },
  {
   "cell_type": "code",
   "execution_count": 51,
   "metadata": {
    "scrolled": true
   },
   "outputs": [
    {
     "data": {
      "text/html": [
       "<div>\n",
       "<style scoped>\n",
       "    .dataframe tbody tr th:only-of-type {\n",
       "        vertical-align: middle;\n",
       "    }\n",
       "\n",
       "    .dataframe tbody tr th {\n",
       "        vertical-align: top;\n",
       "    }\n",
       "\n",
       "    .dataframe thead th {\n",
       "        text-align: right;\n",
       "    }\n",
       "</style>\n",
       "<table border=\"1\" class=\"dataframe\">\n",
       "  <thead>\n",
       "    <tr style=\"text-align: right;\">\n",
       "      <th></th>\n",
       "      <th>Reporter</th>\n",
       "      <th>Condition</th>\n",
       "      <th>Construct</th>\n",
       "      <th>Protein</th>\n",
       "      <th>Replicate</th>\n",
       "      <th>Time</th>\n",
       "      <th>Citrine-A</th>\n",
       "      <th>FSC 488/10-A</th>\n",
       "      <th>FSC 488/10-H</th>\n",
       "      <th>SSC 488/10-A</th>\n",
       "      <th>mCherry-A</th>\n",
       "      <th>P1</th>\n",
       "      <th>P2</th>\n",
       "      <th>mCherry</th>\n",
       "      <th>Citrine_Act</th>\n",
       "      <th>Citrine_Rep</th>\n",
       "    </tr>\n",
       "  </thead>\n",
       "  <tbody>\n",
       "    <tr>\n",
       "      <th>0</th>\n",
       "      <td>DY032</td>\n",
       "      <td>dox</td>\n",
       "      <td>CL144</td>\n",
       "      <td>Human MYBA</td>\n",
       "      <td>Rep1</td>\n",
       "      <td>2.0</td>\n",
       "      <td>1.162849e+08</td>\n",
       "      <td>1.201747e+09</td>\n",
       "      <td>9.931874e+08</td>\n",
       "      <td>3.442835e+08</td>\n",
       "      <td>1.052507e+08</td>\n",
       "      <td>1.0</td>\n",
       "      <td>1.0</td>\n",
       "      <td>1.0</td>\n",
       "      <td>0.949705</td>\n",
       "      <td>0.901215</td>\n",
       "    </tr>\n",
       "    <tr>\n",
       "      <th>1</th>\n",
       "      <td>DY032</td>\n",
       "      <td>dox</td>\n",
       "      <td>CL144</td>\n",
       "      <td>Human MYBA</td>\n",
       "      <td>Rep2</td>\n",
       "      <td>2.0</td>\n",
       "      <td>1.160444e+08</td>\n",
       "      <td>1.235165e+09</td>\n",
       "      <td>1.016668e+09</td>\n",
       "      <td>3.474856e+08</td>\n",
       "      <td>1.062152e+08</td>\n",
       "      <td>1.0</td>\n",
       "      <td>1.0</td>\n",
       "      <td>1.0</td>\n",
       "      <td>0.941752</td>\n",
       "      <td>0.883988</td>\n",
       "    </tr>\n",
       "    <tr>\n",
       "      <th>2</th>\n",
       "      <td>DY032</td>\n",
       "      <td>dox</td>\n",
       "      <td>CL303</td>\n",
       "      <td>SuHV1 ICP4</td>\n",
       "      <td>Rep1</td>\n",
       "      <td>2.0</td>\n",
       "      <td>2.006007e+08</td>\n",
       "      <td>1.121347e+09</td>\n",
       "      <td>9.420318e+08</td>\n",
       "      <td>3.516755e+08</td>\n",
       "      <td>7.868721e+07</td>\n",
       "      <td>1.0</td>\n",
       "      <td>1.0</td>\n",
       "      <td>1.0</td>\n",
       "      <td>0.979629</td>\n",
       "      <td>0.957323</td>\n",
       "    </tr>\n",
       "    <tr>\n",
       "      <th>3</th>\n",
       "      <td>DY032</td>\n",
       "      <td>dox</td>\n",
       "      <td>CL303</td>\n",
       "      <td>SuHV1 ICP4</td>\n",
       "      <td>Rep2</td>\n",
       "      <td>2.0</td>\n",
       "      <td>1.883596e+08</td>\n",
       "      <td>1.155564e+09</td>\n",
       "      <td>9.620311e+08</td>\n",
       "      <td>3.678149e+08</td>\n",
       "      <td>7.782683e+07</td>\n",
       "      <td>1.0</td>\n",
       "      <td>1.0</td>\n",
       "      <td>1.0</td>\n",
       "      <td>0.977665</td>\n",
       "      <td>0.956984</td>\n",
       "    </tr>\n",
       "    <tr>\n",
       "      <th>4</th>\n",
       "      <td>DY032</td>\n",
       "      <td>dox</td>\n",
       "      <td>CL304</td>\n",
       "      <td>HHV6B U95</td>\n",
       "      <td>Rep1</td>\n",
       "      <td>2.0</td>\n",
       "      <td>5.845759e+07</td>\n",
       "      <td>1.165530e+09</td>\n",
       "      <td>9.716896e+08</td>\n",
       "      <td>3.552639e+08</td>\n",
       "      <td>7.774243e+07</td>\n",
       "      <td>1.0</td>\n",
       "      <td>1.0</td>\n",
       "      <td>1.0</td>\n",
       "      <td>0.895160</td>\n",
       "      <td>0.802736</td>\n",
       "    </tr>\n",
       "    <tr>\n",
       "      <th>...</th>\n",
       "      <td>...</td>\n",
       "      <td>...</td>\n",
       "      <td>...</td>\n",
       "      <td>...</td>\n",
       "      <td>...</td>\n",
       "      <td>...</td>\n",
       "      <td>...</td>\n",
       "      <td>...</td>\n",
       "      <td>...</td>\n",
       "      <td>...</td>\n",
       "      <td>...</td>\n",
       "      <td>...</td>\n",
       "      <td>...</td>\n",
       "      <td>...</td>\n",
       "      <td>...</td>\n",
       "      <td>...</td>\n",
       "    </tr>\n",
       "    <tr>\n",
       "      <th>271</th>\n",
       "      <td>JT039</td>\n",
       "      <td>nodox</td>\n",
       "      <td>JT126</td>\n",
       "      <td>empty</td>\n",
       "      <td>Rep2</td>\n",
       "      <td>5.0</td>\n",
       "      <td>8.356878e+07</td>\n",
       "      <td>1.113476e+09</td>\n",
       "      <td>9.404946e+08</td>\n",
       "      <td>4.088612e+08</td>\n",
       "      <td>1.174629e+08</td>\n",
       "      <td>1.0</td>\n",
       "      <td>1.0</td>\n",
       "      <td>1.0</td>\n",
       "      <td>0.970775</td>\n",
       "      <td>0.953513</td>\n",
       "    </tr>\n",
       "    <tr>\n",
       "      <th>272</th>\n",
       "      <td>JT039</td>\n",
       "      <td>nodox</td>\n",
       "      <td>JT151</td>\n",
       "      <td>Human KRAB</td>\n",
       "      <td>Rep1</td>\n",
       "      <td>0.0</td>\n",
       "      <td>1.331292e+08</td>\n",
       "      <td>1.224400e+09</td>\n",
       "      <td>1.014142e+09</td>\n",
       "      <td>4.625284e+08</td>\n",
       "      <td>1.315167e+08</td>\n",
       "      <td>1.0</td>\n",
       "      <td>1.0</td>\n",
       "      <td>1.0</td>\n",
       "      <td>0.970458</td>\n",
       "      <td>0.955888</td>\n",
       "    </tr>\n",
       "    <tr>\n",
       "      <th>273</th>\n",
       "      <td>JT039</td>\n",
       "      <td>nodox</td>\n",
       "      <td>JT151</td>\n",
       "      <td>Human KRAB</td>\n",
       "      <td>Rep1</td>\n",
       "      <td>5.0</td>\n",
       "      <td>7.970914e+07</td>\n",
       "      <td>1.092030e+09</td>\n",
       "      <td>9.180154e+08</td>\n",
       "      <td>4.032485e+08</td>\n",
       "      <td>9.560396e+07</td>\n",
       "      <td>1.0</td>\n",
       "      <td>1.0</td>\n",
       "      <td>1.0</td>\n",
       "      <td>0.955348</td>\n",
       "      <td>0.926125</td>\n",
       "    </tr>\n",
       "    <tr>\n",
       "      <th>274</th>\n",
       "      <td>JT039</td>\n",
       "      <td>nodox</td>\n",
       "      <td>JT151</td>\n",
       "      <td>Human KRAB</td>\n",
       "      <td>Rep2</td>\n",
       "      <td>0.0</td>\n",
       "      <td>1.382979e+08</td>\n",
       "      <td>1.281184e+09</td>\n",
       "      <td>1.064256e+09</td>\n",
       "      <td>4.621152e+08</td>\n",
       "      <td>1.382659e+08</td>\n",
       "      <td>1.0</td>\n",
       "      <td>1.0</td>\n",
       "      <td>1.0</td>\n",
       "      <td>0.972111</td>\n",
       "      <td>0.959528</td>\n",
       "    </tr>\n",
       "    <tr>\n",
       "      <th>275</th>\n",
       "      <td>JT039</td>\n",
       "      <td>nodox</td>\n",
       "      <td>JT151</td>\n",
       "      <td>Human KRAB</td>\n",
       "      <td>Rep2</td>\n",
       "      <td>5.0</td>\n",
       "      <td>8.244684e+07</td>\n",
       "      <td>1.105681e+09</td>\n",
       "      <td>9.345241e+08</td>\n",
       "      <td>4.191306e+08</td>\n",
       "      <td>9.456327e+07</td>\n",
       "      <td>1.0</td>\n",
       "      <td>1.0</td>\n",
       "      <td>1.0</td>\n",
       "      <td>0.956604</td>\n",
       "      <td>0.930354</td>\n",
       "    </tr>\n",
       "  </tbody>\n",
       "</table>\n",
       "<p>276 rows × 16 columns</p>\n",
       "</div>"
      ],
      "text/plain": [
       "    Reporter Condition Construct     Protein Replicate  Time     Citrine-A  \\\n",
       "0      DY032       dox     CL144  Human MYBA      Rep1   2.0  1.162849e+08   \n",
       "1      DY032       dox     CL144  Human MYBA      Rep2   2.0  1.160444e+08   \n",
       "2      DY032       dox     CL303  SuHV1 ICP4      Rep1   2.0  2.006007e+08   \n",
       "3      DY032       dox     CL303  SuHV1 ICP4      Rep2   2.0  1.883596e+08   \n",
       "4      DY032       dox     CL304   HHV6B U95      Rep1   2.0  5.845759e+07   \n",
       "..       ...       ...       ...         ...       ...   ...           ...   \n",
       "271    JT039     nodox     JT126       empty      Rep2   5.0  8.356878e+07   \n",
       "272    JT039     nodox     JT151  Human KRAB      Rep1   0.0  1.331292e+08   \n",
       "273    JT039     nodox     JT151  Human KRAB      Rep1   5.0  7.970914e+07   \n",
       "274    JT039     nodox     JT151  Human KRAB      Rep2   0.0  1.382979e+08   \n",
       "275    JT039     nodox     JT151  Human KRAB      Rep2   5.0  8.244684e+07   \n",
       "\n",
       "     FSC 488/10-A  FSC 488/10-H  SSC 488/10-A     mCherry-A   P1   P2  \\\n",
       "0    1.201747e+09  9.931874e+08  3.442835e+08  1.052507e+08  1.0  1.0   \n",
       "1    1.235165e+09  1.016668e+09  3.474856e+08  1.062152e+08  1.0  1.0   \n",
       "2    1.121347e+09  9.420318e+08  3.516755e+08  7.868721e+07  1.0  1.0   \n",
       "3    1.155564e+09  9.620311e+08  3.678149e+08  7.782683e+07  1.0  1.0   \n",
       "4    1.165530e+09  9.716896e+08  3.552639e+08  7.774243e+07  1.0  1.0   \n",
       "..            ...           ...           ...           ...  ...  ...   \n",
       "271  1.113476e+09  9.404946e+08  4.088612e+08  1.174629e+08  1.0  1.0   \n",
       "272  1.224400e+09  1.014142e+09  4.625284e+08  1.315167e+08  1.0  1.0   \n",
       "273  1.092030e+09  9.180154e+08  4.032485e+08  9.560396e+07  1.0  1.0   \n",
       "274  1.281184e+09  1.064256e+09  4.621152e+08  1.382659e+08  1.0  1.0   \n",
       "275  1.105681e+09  9.345241e+08  4.191306e+08  9.456327e+07  1.0  1.0   \n",
       "\n",
       "     mCherry  Citrine_Act  Citrine_Rep  \n",
       "0        1.0     0.949705     0.901215  \n",
       "1        1.0     0.941752     0.883988  \n",
       "2        1.0     0.979629     0.957323  \n",
       "3        1.0     0.977665     0.956984  \n",
       "4        1.0     0.895160     0.802736  \n",
       "..       ...          ...          ...  \n",
       "271      1.0     0.970775     0.953513  \n",
       "272      1.0     0.970458     0.955888  \n",
       "273      1.0     0.955348     0.926125  \n",
       "274      1.0     0.972111     0.959528  \n",
       "275      1.0     0.956604     0.930354  \n",
       "\n",
       "[276 rows x 16 columns]"
      ]
     },
     "execution_count": 51,
     "metadata": {},
     "output_type": "execute_result"
    }
   ],
   "source": [
    "df = pd.read_csv('../Flow Single-Cell Data - CSV/HHV_Screen_validations_endpoint_single-cell.csv')\n",
    "df = df[(df['P1']==True) & (df['P2']==True) & (df['mCherry']==True)]\n",
    "df = df.rename(columns={'Citrine':'Citrine_Act'})\n",
    "df['Citrine_Rep'] = np.where(df['Citrine-A']>1e7, True, False)\n",
    "df.loc[df['Protein'].isna(), 'Protein'] = 'empty' \n",
    "\n",
    "aggdf = df.groupby(by=['Reporter', 'Condition', 'Construct', 'Protein', 'Replicate', 'Time'], as_index=False).mean()\n",
    "aggdf"
   ]
  },
  {
   "cell_type": "code",
   "execution_count": 52,
   "metadata": {},
   "outputs": [
    {
     "name": "stdout",
     "output_type": "stream",
     "text": [
      "Complete\n"
     ]
    }
   ],
   "source": [
    "constructDict = {'CL144':['Human', 'MYBA', '', ''],\n",
    "                 'JT151':['Human', 'KRAB', '', ''],\n",
    "                 'JT126':['', 'empty', '', '']}\n",
    "\n",
    "data = pd.read_csv('../Supplemental Tables - CSV/HHV-tiling/HHV_ActivD2-ReprD5_detailed.csv')\n",
    "key = pd.read_csv('../Flow Single-Cell Data - CSV/HHV_validations_key.csv')\n",
    "key = key[['Construct', 'Tile_ID']].rename(columns={'Tile_ID':'Tile ID'})\n",
    "key = pd.merge(key, data, on='Tile ID', how='left')\n",
    "\n",
    "for i in constructDict:\n",
    "    key.loc[key['Construct']==i, 'Virus Abbreviation'] = constructDict[i][0]\n",
    "    key.loc[key['Construct']==i, 'Protein'] = constructDict[i][1]\n",
    "    key.loc[key['Construct']==i, 'Tile Start'] = constructDict[i][2]\n",
    "    key.loc[key['Construct']==i, 'Tile End'] = constructDict[i][3]\n",
    "# key.loc[key['Protein']=='ORF50', 'Protein'] = 'RTA'\n",
    "\n",
    "aggdfA = aggdf[aggdf['Reporter']=='DY032']\n",
    "aggdfA = aggdfA[['Construct', 'Condition', 'Replicate', 'Citrine_Act']]\n",
    "aggdfA['Citrine OFF'] = 1 - aggdfA['Citrine_Act']\n",
    "\n",
    "# normdf = aggdfA[aggdfA['Condition']=='dox']\n",
    "normdf = aggdfA.copy()\n",
    "normdf['Citrine ON'] = normdf['Citrine_Act']*100\n",
    "normdf = normdf.groupby(by=['Construct', 'Condition'])['Citrine ON'].agg(['mean', 'std']).reset_index()\n",
    "# normdf = normdf.groupby(by=['Construct'])['Citrine ON'].agg(['mean', 'std']).reset_index()\n",
    "normdf = normdf.rename(columns={'mean':'Citrine ON', 'std':'ON std'})\n",
    "keyA = pd.merge(key, normdf, on='Construct', how='left') #.drop_duplicates(subset=['Tile ID', 'Screen'])\n",
    "\n",
    "aggdfR = aggdf[aggdf['Reporter']=='JT039']\n",
    "aggdfR = aggdfR[['Construct', 'Condition', 'Replicate', 'Citrine_Rep']]\n",
    "aggdfR['Citrine OFF'] = 1 - aggdfR['Citrine_Rep']\n",
    "\n",
    "# normdf = aggdfR[aggdfR['Condition']=='dox']\n",
    "normdf = aggdfR.copy()\n",
    "normdf['Citrine OFF'] = normdf['Citrine OFF']*100\n",
    "normdf = normdf.groupby(by=['Construct', 'Condition'])['Citrine OFF'].agg(['mean', 'std']).reset_index()\n",
    "# normdf = normdf.groupby(by=['Construct'])['Citrine OFF'].agg(['mean', 'std']).reset_index()\n",
    "normdf = normdf.rename(columns={'mean':'Citrine OFF', 'std':'OFF std'})\n",
    "\n",
    "keyR = pd.merge(key, normdf, on='Construct', how='left') #.drop_duplicates(subset=['Tile ID', 'Screen'])\n",
    "print('Complete')"
   ]
  },
  {
   "cell_type": "code",
   "execution_count": 53,
   "metadata": {},
   "outputs": [
    {
     "name": "stdout",
     "output_type": "stream",
     "text": [
      "Complete\n"
     ]
    }
   ],
   "source": [
    "keyA_save = keyA[keyA['Screen']!='Repression']\n",
    "keyA_save = keyA_save[['Construct', 'Tile ID', 'Virus Abbreviation', 'Protein', 'Avg', 'Standard Error', 'Condition', 'Citrine ON', 'ON std']]\n",
    "keyA_save = keyA_save[~keyA_save['Citrine ON'].isna()].reset_index(drop=True)\n",
    "keyA_save = keyA_save.rename(columns={'Virus Abbreviation':'Virus', 'Avg':'Screen Score Mean', 'Standard Error':'Screen Score Std Error',\n",
    "                                      'Citrine ON':'Flow Cytometry %ON Mean', 'ON std':'Flow Cytometry %ON Std Dev'})\n",
    "keyA_save = keyA_save.drop_duplicates()\n",
    "keyA_save.to_csv('../Flow Summaries - CSV/HHV-tiling_Act_screen_validation_summary.csv', index=False)\n",
    "\n",
    "keyR_save = keyR[keyR['Screen']!='Activation']\n",
    "keyR_save = keyR_save[['Construct', 'Tile ID', 'Virus Abbreviation', 'Protein', 'Avg', 'Standard Error', 'Condition', 'Citrine OFF', 'OFF std']]\n",
    "keyR_save = keyR_save[~keyR_save['Citrine OFF'].isna()].reset_index(drop=True)\n",
    "keyR_save = keyR_save.rename(columns={'Virus Abbreviation':'Virus', 'Avg':'Screen Score Mean', 'Standard Error':'Screen Score Std Error',\n",
    "                                      'Citrine OFF':'Flow Cytometry %OFF Mean', 'OFF std':'Flow Cytometry %OFF Std Dev'})\n",
    "keyR_save = keyR_save.drop_duplicates()\n",
    "keyR_save.to_csv('../Flow Summaries - CSV/HHV-tiling_Repr_screen_validation_summary.csv', index=False)\n",
    "print('Complete')"
   ]
  },
  {
   "cell_type": "markdown",
   "metadata": {},
   "source": [
    "#### Correlation plot featured in Fig. 2B"
   ]
  },
  {
   "cell_type": "code",
   "execution_count": 55,
   "metadata": {},
   "outputs": [
    {
     "name": "stdout",
     "output_type": "stream",
     "text": [
      "[96.92073446  5.70115069  0.9198081   1.06626647]\n",
      "0.9693675889328063 2.7752536222287567e-14\n"
     ]
    },
    {
     "data": {
      "image/png": "[encoded data removed]",
      "text/plain": [
       "<Figure size 97.2x144 with 1 Axes>"
      ]
     },
     "metadata": {
      "needs_background": "light"
     },
     "output_type": "display_data"
    }
   ],
   "source": [
    "from scipy.optimize import curve_fit\n",
    "from scipy.stats import spearmanr\n",
    "colorA = '#F3CE48' #'#E3B919'\n",
    "\n",
    "plt.figure(figsize=(1.35,2))\n",
    "plotDF = keyA[(keyA['Condition']=='dox') & (keyA['Screen']!='Repression') & (~keyA['Citrine ON'].isna()) & (~keyA['Avg'].isna())].sort_values('Avg')\n",
    "plotDF = plotDF[plotDF['Duplicate']==0]\n",
    "\n",
    "sns.scatterplot(data=plotDF, x='Avg', y='Citrine ON', color=colorA, s=10)\n",
    "x = np.array(list(plotDF['Avg']))\n",
    "y = np.array(list(plotDF['Citrine ON']))\n",
    "xerr = list(plotDF['Standard Error'])\n",
    "yerr = list(plotDF['ON std'])\n",
    "for xi, yi, xe, ye in zip(list(x), list(y), xerr, yerr):\n",
    "    plt.errorbar(x=xi, y=yi, xerr=xe, yerr=ye, color=colorA, lw=1)\n",
    "\n",
    "def logistic(x, A, x0, k, off):\n",
    "    return A/(1 + np.exp(-k*(x-x0)))+off\n",
    "p, _ = curve_fit(logistic, x, y, p0=[10,6,1,0])\n",
    "print(p)\n",
    "plt.plot(x, logistic(x, *p), color='#999999', lw=1, zorder=0)\n",
    "\n",
    "coef, p = spearmanr(x, y)\n",
    "print(coef, p)\n",
    "plt.annotate('r = ' + str(round(coef, 2)), xy=(9.7, 0), ha='right', va='bottom')\n",
    "# plt.axvline(x=cutoffA_HHV, ls=':', lw=1, color='#333333')\n",
    "plt.xlabel('Activation\\nlog$_2$(ON:OFF)')\n",
    "plt.ylabel('% mCitrine ON')\n",
    "plt.yticks([0, 25, 50, 75, 100], [0, 25, 50, 75, 100])\n",
    "plt.ylim(-5, 105)\n",
    "plt.tight_layout()\n",
    "plt.savefig('../Individual Figure Panels/Figure 2/HHV_Act_screen-validation_correlation.png', dpi=1200)\n"
   ]
  },
  {
   "cell_type": "markdown",
   "metadata": {},
   "source": [
    "#### Correlation plot featured in Fig. 2C"
   ]
  },
  {
   "cell_type": "code",
   "execution_count": 54,
   "metadata": {},
   "outputs": [
    {
     "name": "stdout",
     "output_type": "stream",
     "text": [
      "[105.77107461   2.17386321   1.05766339  -4.35079577]\n",
      "0.8935064935064935 4.9461674793322084e-08\n"
     ]
    },
    {
     "data": {
      "image/png": "[encoded data removed]",
      "text/plain": [
       "<Figure size 97.2x144 with 1 Axes>"
      ]
     },
     "metadata": {
      "needs_background": "light"
     },
     "output_type": "display_data"
    }
   ],
   "source": [
    "from scipy.optimize import curve_fit\n",
    "from scipy.stats import spearmanr\n",
    "colorR = '#23BEDB'\n",
    "\n",
    "plt.figure(figsize=(1.35,2))\n",
    "plotDF = keyR[(keyR['Condition']=='dox') & (keyR['Screen']!='Activation') & (~keyR['Citrine OFF'].isna()) & (~keyR['Avg'].isna())].sort_values('Avg')\n",
    "plotDF = plotDF[plotDF['Duplicate']==0]\n",
    "\n",
    "sns.scatterplot(data=plotDF, x='Avg', y='Citrine OFF', color=colorR, s=10)\n",
    "x = np.array(list(plotDF['Avg']))\n",
    "y = np.array(list(plotDF['Citrine OFF']))\n",
    "xerr = list(plotDF['Standard Error'])\n",
    "yerr = list(plotDF['OFF std'])\n",
    "for xi, yi, xe, ye in zip(list(x), list(y), xerr, yerr):\n",
    "    plt.errorbar(x=xi, y=yi, xerr=xe, yerr=ye, color=colorR, lw=1)\n",
    "\n",
    "def logistic(x, A, x0, k, off):\n",
    "    return A/(1 + np.exp(-k*(x-x0)))+off\n",
    "p, _ = curve_fit(logistic, x, y, p0=[100,6,1,0])\n",
    "print(p)\n",
    "plt.plot(x, logistic(x, *p), color='#999999', lw=1, zorder=0)\n",
    "\n",
    "coef, p = spearmanr(x, y)\n",
    "print(coef, p)\n",
    "plt.annotate('r = ' + str(round(coef, 2)), xy=(6.5, 0), ha='right', va='bottom')\n",
    "plt.xlabel('Repression\\nlog$_2$(OFF:ON)')\n",
    "plt.ylabel('% mCitrine OFF')\n",
    "plt.yticks([0, 25, 50, 75, 100], [0, 25, 50, 75, 100])\n",
    "plt.ylim(-5, 105)\n",
    "plt.tight_layout()\n",
    "plt.savefig('../Individual Figure Panels/Figure 2/HHV_Rep_screen-validation_correlation.png', dpi=1200)\n"
   ]
  },
  {
   "cell_type": "markdown",
   "metadata": {},
   "source": [
    "### HHV validation endpoint flow distributions"
   ]
  },
  {
   "cell_type": "markdown",
   "metadata": {},
   "source": [
    "#### All validation flow cytometry distributions (not featured in a panel)"
   ]
  },
  {
   "cell_type": "code",
   "execution_count": 56,
   "metadata": {
    "scrolled": true
   },
   "outputs": [
    {
     "name": "stderr",
     "output_type": "stream",
     "text": [
      "<ipython-input-56-ecd0222a5708>:22: SettingWithCopyWarning: \n",
      "A value is trying to be set on a copy of a slice from a DataFrame.\n",
      "Try using .loc[row_indexer,col_indexer] = value instead\n",
      "\n",
      "See the caveats in the documentation: https://pandas.pydata.org/pandas-docs/stable/user_guide/indexing.html#returning-a-view-versus-a-copy\n",
      "  df['mCitrine'] = np.log10(df['Citrine-A'])\n",
      "<ipython-input-56-ecd0222a5708>:22: SettingWithCopyWarning: \n",
      "A value is trying to be set on a copy of a slice from a DataFrame.\n",
      "Try using .loc[row_indexer,col_indexer] = value instead\n",
      "\n",
      "See the caveats in the documentation: https://pandas.pydata.org/pandas-docs/stable/user_guide/indexing.html#returning-a-view-versus-a-copy\n",
      "  df['mCitrine'] = np.log10(df['Citrine-A'])\n"
     ]
    },
    {
     "name": "stdout",
     "output_type": "stream",
     "text": [
      "Complete\n"
     ]
    }
   ],
   "source": [
    "font = {'size':8,\n",
    "        'family':'Arial'}\n",
    "matplotlib.rc('font', **font)\n",
    "\n",
    "def plot_validations(df, screentype, key):\n",
    "    if screentype == 'Activation':\n",
    "        reporter = 'DY032'\n",
    "        color = '#F3CE48'\n",
    "        yvar = 'Citrine ON'\n",
    "        opposite = 'Repression'\n",
    "        cutoff = 3e6\n",
    "    elif screentype == 'Repression':\n",
    "        reporter = 'JT039'\n",
    "        color = '#23BEDB'\n",
    "        yvar = 'Citrine OFF'\n",
    "        opposite = 'Activation'\n",
    "        cutoff = 1e7\n",
    "    \n",
    "    df = df[df['Reporter']==reporter]\n",
    "    df['mCitrine'] = np.log10(df['Citrine-A'])\n",
    "    df = df.drop(columns='Protein')\n",
    "    df = pd.merge(df, key[['Construct', 'Avg', 'Virus Abbreviation', 'Protein', 'Tile Start', 'Tile End', yvar, 'Screen']], how='left', on='Construct')\n",
    "    df.loc[df['Avg'].isna(), 'Avg'] = -10\n",
    "    df['Condition'] = pd.Categorical(df['Condition'], categories=['nodox', 'dox'], ordered=True)\n",
    "    df = df.sort_values(by=['Avg', 'Condition', 'Replicate'], ascending=[False, True, True])\n",
    "    df['Condition-Replicate'] = df['Condition'].astype(str) + '-' + df['Replicate']\n",
    "\n",
    "    labeldf = df[df['Screen']!=opposite].sort_values(by=['Avg'], ascending=False)\n",
    "    labeldf = labeldf[['Construct', 'Virus Abbreviation', 'Protein', 'Tile Start', 'Tile End', yvar, 'Avg']].drop_duplicates()\n",
    "    labeldf['Tile Start'] = np.where(labeldf['Tile Start']=='', labeldf['Tile Start'], labeldf['Tile Start'].astype(str).str.split('.').str[0])\n",
    "    labeldf['Tile End'] = np.where(labeldf['Tile End']=='', labeldf['Tile End'], labeldf['Tile End'].astype(str).str.split('.').str[0])\n",
    "    labeldf['Sample'] = np.where(labeldf['Tile Start']=='', labeldf['Virus Abbreviation'] + ' ' + labeldf['Protein'],\n",
    "                             labeldf['Virus Abbreviation'] + ' ' + labeldf['Protein'] + '\\n[' \\\n",
    "                             + labeldf['Tile Start'] + '-' + labeldf['Tile End'] + ']')\n",
    "\n",
    "    samples = dict(zip(list(labeldf['Construct']), list(labeldf['Sample'])))\n",
    "    df['Sample'] = df['Construct'].map(samples)\n",
    "    df = df[df['Screen']!=opposite].sort_values(by=['Avg', 'Condition', 'Replicate'], ascending=[False, True, True])\n",
    "    \n",
    "    if screentype == 'Activation':\n",
    "        ON = list(labeldf[yvar])\n",
    "        ON = [round(on, 1) for on in ON]\n",
    "        OFF = [str(round(100-on, 1)) + '%' for on in ON]\n",
    "        ON = [str(on) + '%' for on in ON]\n",
    "        \n",
    "    elif screentype == 'Repression':\n",
    "        OFF = list(labeldf[yvar])\n",
    "        OFF = [round(off, 1) for off in OFF]\n",
    "        ON = [str(round(100-off, 1)) + '%' for off in OFF]\n",
    "        OFF = [str(off) + '%' for off in OFF]\n",
    "        \n",
    "    pal = sns.color_palette(['#999999', '#999999', color, color])\n",
    "    \n",
    "    g = sns.FacetGrid(data=df, col='Sample', col_wrap=6,\n",
    "                      hue='Condition-Replicate', palette=pal,\n",
    "                      aspect=1, height=1.25)\n",
    "    g.map(sns.kdeplot, 'mCitrine', fill=True, bw_adjust=0.2)\n",
    "    g.map(plt.axvline, x=np.log10(cutoff), ls=':', color='#333333', lw=1)\n",
    "    g.set_titles(template='{col_name}')\n",
    "    plt.xlim([4.5,9.5])\n",
    "    plt.ylim([0,4])\n",
    "    plt.xticks([5, 6, 7, 8, 9], ['10$^5$', '10$^6$', '10$^7$', '10$^8$', '10$^9$'])\n",
    "    for ax, on, off in zip(g.axes.flat, ON, OFF):\n",
    "        ax.text(0.05, 0.95, off, transform=ax.transAxes, ha='left', va='top')\n",
    "        ax.text(0.95, 0.95, on, transform=ax.transAxes, ha='right', va='top')\n",
    "#         ax.set_xlabel('mCitrine')\n",
    "        ax.grid(False)\n",
    "    plt.savefig('../Individual Figure Panels/Figure S3/HHV_%s_validations_kdeplot.png' % screentype, dpi=1200)\n",
    "    plt.close()\n",
    "\n",
    "plot_validations(df, 'Activation', keyA)\n",
    "plot_validations(df, 'Repression', keyR)\n",
    "print('Complete')"
   ]
  },
  {
   "cell_type": "markdown",
   "metadata": {},
   "source": [
    "#### Barplot summaries of validations featured in Fig. S3F & S3G"
   ]
  },
  {
   "cell_type": "code",
   "execution_count": 50,
   "metadata": {},
   "outputs": [
    {
     "name": "stdout",
     "output_type": "stream",
     "text": [
      "Complete\n"
     ]
    },
    {
     "data": {
      "image/png": "[encoded data removed]",
      "text/plain": [
       "<Figure size 140.4x223.2 with 1 Axes>"
      ]
     },
     "metadata": {
      "needs_background": "light"
     },
     "output_type": "display_data"
    },
    {
     "data": {
      "image/png": "[encoded data removed]",
      "text/plain": [
       "<Figure size 140.4x223.2 with 1 Axes>"
      ]
     },
     "metadata": {
      "needs_background": "light"
     },
     "output_type": "display_data"
    }
   ],
   "source": [
    "font = {'size':8,\n",
    "        'family':'Arial'}\n",
    "matplotlib.rc('font', **font)\n",
    "\n",
    "def plot_validation_summary(df, screentype):\n",
    "    if screentype == 'Activation':\n",
    "        reporter = 'DY032'\n",
    "        color = '#F3CE48'\n",
    "        meancol = 'Citrine ON'\n",
    "        stdcol = 'ON std'\n",
    "        xlabel = '% mCitrine ON'\n",
    "        opposite = 'Repression'\n",
    "        cutoff = 3e6\n",
    "    elif screentype == 'Repression':\n",
    "        reporter = 'JT039'\n",
    "        color = '#23BEDB'\n",
    "        meancol = 'Citrine OFF'\n",
    "        stdcol = 'OFF std'\n",
    "        xlabel = '% mCitrine OFF'\n",
    "        opposite = 'Activation'\n",
    "        cutoff = 1e7\n",
    "    df =df[df['Duplicate']==0]\n",
    "    df = df[(df['Screen']==screentype) & (~df[meancol].isna())].sort_values(by='Avg', ascending=False)\n",
    "    df['Tile Start'] = np.where(df['Tile Start']=='', df['Tile Start'], df['Tile Start'].astype(str).str.split('.').str[0])\n",
    "    df['Tile End'] = np.where(df['Tile End']=='', df['Tile End'], df['Tile End'].astype(str).str.split('.').str[0])\n",
    "    df['Sample'] = np.where(df['Tile Start']=='', df['Virus Abbreviation'] + ' ' + df['Protein'],\n",
    "                             df['Virus Abbreviation'] + ' ' + df['Protein'] + ' [' \\\n",
    "                             + df['Tile Start'] + '-' + df['Tile End'] + ']')\n",
    "    \n",
    "    samplelistD = list(df[df['Condition']=='dox']['Sample'])\n",
    "    ticklistD = list(range(len(samplelistD)))\n",
    "    meanlistD = list(df[df['Condition']=='dox'][meancol])\n",
    "    stdlistD = list(df[df['Condition']=='dox'][stdcol])\n",
    "    \n",
    "    samplelistN = list(df[df['Condition']=='nodox']['Sample'])\n",
    "    ticklistN = list(range(len(samplelistN)))\n",
    "    meanlistN = list(df[df['Condition']=='nodox'][meancol])\n",
    "    stdlistN = list(df[df['Condition']=='nodox'][stdcol])\n",
    "    \n",
    "#     samplelist = list(df['Sample'])\n",
    "#     ticklist = list(range(len(samplelist)))\n",
    "#     meanlist = list(df[meancol])\n",
    "#     stdlist = list(df[stdcol])\n",
    "    \n",
    "    fig, ax = plt.subplots(figsize=(1.95, 3.1))\n",
    "    \n",
    "    for s, t, m, sd in zip(samplelistN, ticklistN, meanlistN, stdlistN):\n",
    "        ax.plot(m, t, marker='o', markersize=3, color='#999999')\n",
    "        ax.errorbar(x=m, y=t, xerr=sd, lw=1, color='#999999')\n",
    "        \n",
    "    for s, t, m, sd in zip(samplelistD, ticklistD, meanlistD, stdlistD):\n",
    "        ax.plot(m, t, marker='o', markersize=3, color=color)\n",
    "        ax.errorbar(x=m, y=t, xerr=sd, lw=1, color=color)\n",
    "        \n",
    "#     for s, t, m, sd in zip(samplelist, ticklist, meanlist, stdlist):\n",
    "#         ax.plot(m, t, marker='o', markersize=3, color=color)\n",
    "#         ax.errorbar(x=m, y=t, xerr=sd, lw=1, color=color)\n",
    "        \n",
    "    ax.set_xlabel(xlabel)\n",
    "    ax.set_xticks(ticks=[0, 50, 100])\n",
    "    for x in range(0, 101, 25):\n",
    "        ax.axvline(x=x, ls=':', lw=1, color='#BBBBBB', zorder=-10)\n",
    "    ax.set_yticks(ticks=ticklistD)\n",
    "    ax.set_yticklabels(labels=samplelistD, fontsize=6)\n",
    "    ax.set_ylim(ax.get_ylim()[0] + 0.5, ax.get_ylim()[1] - 0.5)\n",
    "    ax.invert_yaxis()\n",
    "    plt.tight_layout()\n",
    "    plt.savefig('../Individual Figure Panels/Figure S3/vTR_%s_validation_summary2.png' % screentype, dpi=1200)\n",
    "        \n",
    "plot_validation_summary(keyA, 'Activation')\n",
    "plot_validation_summary(keyR, 'Repression')\n",
    "print('Complete')"
   ]
  },
  {
   "cell_type": "markdown",
   "metadata": {},
   "source": [
    "### Dual activator-repressors"
   ]
  },
  {
   "cell_type": "code",
   "execution_count": 62,
   "metadata": {},
   "outputs": [
    {
     "name": "stdout",
     "output_type": "stream",
     "text": [
      "Complete\n"
     ]
    }
   ],
   "source": [
    "# read in dataframe and re-structure for plotting, etc.\n",
    "df = pd.read_csv('../Supplemental Tables - CSV/HHV-tiling/HHV_ActivD2-ReprD5_detailed.csv')\n",
    "dfA = df[df['Screen']=='Activation']\n",
    "dfA = dfA[['Oligo ID', 'Avg', 'Net Charge', 'Duplicate', 'Tile Sequence']]\n",
    "dfA = dfA.rename(columns={'Avg':'Activation'})\n",
    "dfR = df[df['Screen']=='Repression']\n",
    "dfR = dfR[['Oligo ID', 'Avg', 'Net Charge', 'Duplicate', 'Tile Sequence']]\n",
    "dfR = dfR.rename(columns={'Avg':'Repression'})\n",
    "df = pd.merge(left=dfA, right=dfR, on=['Oligo ID', 'Net Charge', 'Duplicate', 'Tile Sequence'], how='inner')\n",
    "    \n",
    "print('Complete')"
   ]
  },
  {
   "cell_type": "markdown",
   "metadata": {},
   "source": [
    "#### Scatterplot featured in Fig. S3H highlighting a tile from EBV MTP"
   ]
  },
  {
   "cell_type": "code",
   "execution_count": 67,
   "metadata": {
    "scrolled": true
   },
   "outputs": [
    {
     "data": {
      "image/png": "[encoded data removed]",
      "text/plain": [
       "<Figure size 128.88x127.44 with 1 Axes>"
      ]
     },
     "metadata": {
      "needs_background": "light"
     },
     "output_type": "display_data"
    }
   ],
   "source": [
    "from adjustText import adjust_text\n",
    "\n",
    "highlight = {'gHV_P03179_056':'EBV MTP\\n[551-630]'}\n",
    "df['Marker'] = df['Oligo ID'].map(highlight)\n",
    "\n",
    "highlight_df = df[~df['Marker'].isna()]\n",
    "xvals = list(highlight_df['Repression'])\n",
    "yvals = list(highlight_df['Activation'])\n",
    "labels = list(highlight_df['Marker'])\n",
    "\n",
    "plt.figure(figsize=(1.79, 1.77))\n",
    "sns.scatterplot(data=df[df['Duplicate']==0], y='Activation', x='Repression', color='#999999', linewidth=0, s=4, alpha=0.5)\n",
    "sns.scatterplot(data=highlight_df, y='Activation', x='Repression', color='#EA7063', s=10)\n",
    "\n",
    "plt.axhline(cutoffA_HHV, ls=':', lw=1, color='k')\n",
    "plt.axvline(cutoffR_HHV, ls=':', lw=1, color='k')\n",
    "plt.xlabel('Repr. log$_2$(OFF:ON)')\n",
    "plt.ylabel('Act. log$_2$(ON:OFF)')\n",
    "plt.tight_layout()\n",
    "\n",
    "texts = []\n",
    "for x, y, l in zip(xvals, yvals, labels):\n",
    "    texts.append(plt.text(x, y, l, fontsize=6))\n",
    "adjust_text(texts, arrowprops=dict(arrowstyle='-', color='#999999', lw=0), force_objects=(2, 2))\n",
    "\n",
    "plt.savefig('../Individual Figure Panels/Figure S3/Act_vs_Rep_screen_scores_scatterplot_highlight_EBV-MTP.png', dpi=1200)"
   ]
  },
  {
   "cell_type": "code",
   "execution_count": 69,
   "metadata": {},
   "outputs": [
    {
     "data": {
      "text/html": [
       "<div>\n",
       "<style scoped>\n",
       "    .dataframe tbody tr th:only-of-type {\n",
       "        vertical-align: middle;\n",
       "    }\n",
       "\n",
       "    .dataframe tbody tr th {\n",
       "        vertical-align: top;\n",
       "    }\n",
       "\n",
       "    .dataframe thead th {\n",
       "        text-align: right;\n",
       "    }\n",
       "</style>\n",
       "<table border=\"1\" class=\"dataframe\">\n",
       "  <thead>\n",
       "    <tr style=\"text-align: right;\">\n",
       "      <th></th>\n",
       "      <th>mCitrine-A</th>\n",
       "      <th>Condition</th>\n",
       "      <th>Construct</th>\n",
       "      <th>FSC 488/10-A</th>\n",
       "      <th>FSC 488/10-H</th>\n",
       "      <th>Protein</th>\n",
       "      <th>Replicate</th>\n",
       "      <th>Reporter</th>\n",
       "      <th>SSC 488/10-A</th>\n",
       "      <th>Time</th>\n",
       "      <th>mCherry-A</th>\n",
       "      <th>P1</th>\n",
       "      <th>P2</th>\n",
       "      <th>mCherry</th>\n",
       "      <th>Citrine</th>\n",
       "    </tr>\n",
       "  </thead>\n",
       "  <tbody>\n",
       "    <tr>\n",
       "      <th>0</th>\n",
       "      <td>4.321566e+07</td>\n",
       "      <td>nodox</td>\n",
       "      <td>CL308</td>\n",
       "      <td>1.163360e+09</td>\n",
       "      <td>1.015024e+09</td>\n",
       "      <td>DBP</td>\n",
       "      <td>Rep2</td>\n",
       "      <td>JT039</td>\n",
       "      <td>406972928.0</td>\n",
       "      <td>0.0</td>\n",
       "      <td>1.504810e+08</td>\n",
       "      <td>True</td>\n",
       "      <td>True</td>\n",
       "      <td>True</td>\n",
       "      <td>True</td>\n",
       "    </tr>\n",
       "    <tr>\n",
       "      <th>1</th>\n",
       "      <td>2.919066e+07</td>\n",
       "      <td>nodox</td>\n",
       "      <td>CL308</td>\n",
       "      <td>1.277580e+09</td>\n",
       "      <td>1.053109e+09</td>\n",
       "      <td>DBP</td>\n",
       "      <td>Rep2</td>\n",
       "      <td>JT039</td>\n",
       "      <td>379673088.0</td>\n",
       "      <td>0.0</td>\n",
       "      <td>1.116096e+08</td>\n",
       "      <td>True</td>\n",
       "      <td>True</td>\n",
       "      <td>True</td>\n",
       "      <td>True</td>\n",
       "    </tr>\n",
       "    <tr>\n",
       "      <th>2</th>\n",
       "      <td>2.457594e+08</td>\n",
       "      <td>nodox</td>\n",
       "      <td>CL308</td>\n",
       "      <td>1.227754e+09</td>\n",
       "      <td>1.011246e+09</td>\n",
       "      <td>DBP</td>\n",
       "      <td>Rep2</td>\n",
       "      <td>JT039</td>\n",
       "      <td>399625728.0</td>\n",
       "      <td>0.0</td>\n",
       "      <td>1.723261e+08</td>\n",
       "      <td>True</td>\n",
       "      <td>True</td>\n",
       "      <td>True</td>\n",
       "      <td>True</td>\n",
       "    </tr>\n",
       "    <tr>\n",
       "      <th>3</th>\n",
       "      <td>6.702370e+07</td>\n",
       "      <td>nodox</td>\n",
       "      <td>CL308</td>\n",
       "      <td>1.000246e+09</td>\n",
       "      <td>8.321357e+08</td>\n",
       "      <td>DBP</td>\n",
       "      <td>Rep2</td>\n",
       "      <td>JT039</td>\n",
       "      <td>447561472.0</td>\n",
       "      <td>0.0</td>\n",
       "      <td>1.335468e+08</td>\n",
       "      <td>True</td>\n",
       "      <td>True</td>\n",
       "      <td>True</td>\n",
       "      <td>True</td>\n",
       "    </tr>\n",
       "    <tr>\n",
       "      <th>4</th>\n",
       "      <td>1.215271e+08</td>\n",
       "      <td>nodox</td>\n",
       "      <td>CL308</td>\n",
       "      <td>1.140471e+09</td>\n",
       "      <td>9.531727e+08</td>\n",
       "      <td>DBP</td>\n",
       "      <td>Rep2</td>\n",
       "      <td>JT039</td>\n",
       "      <td>420478208.0</td>\n",
       "      <td>0.0</td>\n",
       "      <td>1.602408e+08</td>\n",
       "      <td>True</td>\n",
       "      <td>True</td>\n",
       "      <td>True</td>\n",
       "      <td>True</td>\n",
       "    </tr>\n",
       "    <tr>\n",
       "      <th>...</th>\n",
       "      <td>...</td>\n",
       "      <td>...</td>\n",
       "      <td>...</td>\n",
       "      <td>...</td>\n",
       "      <td>...</td>\n",
       "      <td>...</td>\n",
       "      <td>...</td>\n",
       "      <td>...</td>\n",
       "      <td>...</td>\n",
       "      <td>...</td>\n",
       "      <td>...</td>\n",
       "      <td>...</td>\n",
       "      <td>...</td>\n",
       "      <td>...</td>\n",
       "      <td>...</td>\n",
       "    </tr>\n",
       "    <tr>\n",
       "      <th>659995</th>\n",
       "      <td>1.785033e+07</td>\n",
       "      <td>dox</td>\n",
       "      <td>CL424</td>\n",
       "      <td>1.046276e+09</td>\n",
       "      <td>7.148485e+08</td>\n",
       "      <td>MTP</td>\n",
       "      <td>Rep1</td>\n",
       "      <td>JT039</td>\n",
       "      <td>329707008.0</td>\n",
       "      <td>5.0</td>\n",
       "      <td>7.658331e+07</td>\n",
       "      <td>True</td>\n",
       "      <td>True</td>\n",
       "      <td>True</td>\n",
       "      <td>True</td>\n",
       "    </tr>\n",
       "    <tr>\n",
       "      <th>659996</th>\n",
       "      <td>2.418041e+06</td>\n",
       "      <td>dox</td>\n",
       "      <td>CL424</td>\n",
       "      <td>1.134696e+09</td>\n",
       "      <td>7.334011e+08</td>\n",
       "      <td>MTP</td>\n",
       "      <td>Rep1</td>\n",
       "      <td>JT039</td>\n",
       "      <td>497466880.0</td>\n",
       "      <td>5.0</td>\n",
       "      <td>7.923920e+07</td>\n",
       "      <td>True</td>\n",
       "      <td>True</td>\n",
       "      <td>True</td>\n",
       "      <td>False</td>\n",
       "    </tr>\n",
       "    <tr>\n",
       "      <th>659997</th>\n",
       "      <td>1.698452e+07</td>\n",
       "      <td>dox</td>\n",
       "      <td>CL424</td>\n",
       "      <td>1.374986e+09</td>\n",
       "      <td>8.981361e+08</td>\n",
       "      <td>MTP</td>\n",
       "      <td>Rep1</td>\n",
       "      <td>JT039</td>\n",
       "      <td>530595328.0</td>\n",
       "      <td>5.0</td>\n",
       "      <td>1.733666e+08</td>\n",
       "      <td>True</td>\n",
       "      <td>True</td>\n",
       "      <td>True</td>\n",
       "      <td>True</td>\n",
       "    </tr>\n",
       "    <tr>\n",
       "      <th>659998</th>\n",
       "      <td>1.445541e+07</td>\n",
       "      <td>dox</td>\n",
       "      <td>CL424</td>\n",
       "      <td>1.088567e+09</td>\n",
       "      <td>7.344448e+08</td>\n",
       "      <td>MTP</td>\n",
       "      <td>Rep1</td>\n",
       "      <td>JT039</td>\n",
       "      <td>318508544.0</td>\n",
       "      <td>5.0</td>\n",
       "      <td>9.691189e+07</td>\n",
       "      <td>True</td>\n",
       "      <td>True</td>\n",
       "      <td>True</td>\n",
       "      <td>True</td>\n",
       "    </tr>\n",
       "    <tr>\n",
       "      <th>659999</th>\n",
       "      <td>7.738269e+07</td>\n",
       "      <td>dox</td>\n",
       "      <td>CL424</td>\n",
       "      <td>6.432520e+08</td>\n",
       "      <td>4.364298e+08</td>\n",
       "      <td>MTP</td>\n",
       "      <td>Rep1</td>\n",
       "      <td>JT039</td>\n",
       "      <td>285453824.0</td>\n",
       "      <td>5.0</td>\n",
       "      <td>3.299237e+07</td>\n",
       "      <td>True</td>\n",
       "      <td>True</td>\n",
       "      <td>True</td>\n",
       "      <td>True</td>\n",
       "    </tr>\n",
       "  </tbody>\n",
       "</table>\n",
       "<p>2200000 rows × 15 columns</p>\n",
       "</div>"
      ],
      "text/plain": [
       "          mCitrine-A Condition Construct  FSC 488/10-A  FSC 488/10-H Protein  \\\n",
       "0       4.321566e+07     nodox     CL308  1.163360e+09  1.015024e+09     DBP   \n",
       "1       2.919066e+07     nodox     CL308  1.277580e+09  1.053109e+09     DBP   \n",
       "2       2.457594e+08     nodox     CL308  1.227754e+09  1.011246e+09     DBP   \n",
       "3       6.702370e+07     nodox     CL308  1.000246e+09  8.321357e+08     DBP   \n",
       "4       1.215271e+08     nodox     CL308  1.140471e+09  9.531727e+08     DBP   \n",
       "...              ...       ...       ...           ...           ...     ...   \n",
       "659995  1.785033e+07       dox     CL424  1.046276e+09  7.148485e+08     MTP   \n",
       "659996  2.418041e+06       dox     CL424  1.134696e+09  7.334011e+08     MTP   \n",
       "659997  1.698452e+07       dox     CL424  1.374986e+09  8.981361e+08     MTP   \n",
       "659998  1.445541e+07       dox     CL424  1.088567e+09  7.344448e+08     MTP   \n",
       "659999  7.738269e+07       dox     CL424  6.432520e+08  4.364298e+08     MTP   \n",
       "\n",
       "       Replicate Reporter  SSC 488/10-A  Time     mCherry-A    P1    P2  \\\n",
       "0           Rep2    JT039   406972928.0   0.0  1.504810e+08  True  True   \n",
       "1           Rep2    JT039   379673088.0   0.0  1.116096e+08  True  True   \n",
       "2           Rep2    JT039   399625728.0   0.0  1.723261e+08  True  True   \n",
       "3           Rep2    JT039   447561472.0   0.0  1.335468e+08  True  True   \n",
       "4           Rep2    JT039   420478208.0   0.0  1.602408e+08  True  True   \n",
       "...          ...      ...           ...   ...           ...   ...   ...   \n",
       "659995      Rep1    JT039   329707008.0   5.0  7.658331e+07  True  True   \n",
       "659996      Rep1    JT039   497466880.0   5.0  7.923920e+07  True  True   \n",
       "659997      Rep1    JT039   530595328.0   5.0  1.733666e+08  True  True   \n",
       "659998      Rep1    JT039   318508544.0   5.0  9.691189e+07  True  True   \n",
       "659999      Rep1    JT039   285453824.0   5.0  3.299237e+07  True  True   \n",
       "\n",
       "        mCherry  Citrine  \n",
       "0          True     True  \n",
       "1          True     True  \n",
       "2          True     True  \n",
       "3          True     True  \n",
       "4          True     True  \n",
       "...         ...      ...  \n",
       "659995     True     True  \n",
       "659996     True    False  \n",
       "659997     True     True  \n",
       "659998     True     True  \n",
       "659999     True     True  \n",
       "\n",
       "[2200000 rows x 15 columns]"
      ]
     },
     "execution_count": 69,
     "metadata": {},
     "output_type": "execute_result"
    }
   ],
   "source": [
    "df1 = pd.read_csv('../Flow Single-Cell Data - CSV/HHV_validations_dual-Act-Rep_set-1_single-cell.csv')\n",
    "df1 = df1.rename(columns={'Citrine-A':'mCitrine-A'})\n",
    "df2 = pd.read_csv('../Flow Single-Cell Data - CSV/HHV_validations_dual-Act-Rep_set-2_single-cell.csv')\n",
    "DF = pd.concat([df1, df2])\n",
    "DF"
   ]
  },
  {
   "cell_type": "markdown",
   "metadata": {},
   "source": [
    "#### All validation flow cytometry distributions for a set of nine dual effector tiles (not featured in a panel)"
   ]
  },
  {
   "cell_type": "code",
   "execution_count": 71,
   "metadata": {
    "scrolled": true
   },
   "outputs": [
    {
     "name": "stderr",
     "output_type": "stream",
     "text": [
      "<ipython-input-71-73fd486420df>:20: SettingWithCopyWarning: \n",
      "A value is trying to be set on a copy of a slice from a DataFrame.\n",
      "Try using .loc[row_indexer,col_indexer] = value instead\n",
      "\n",
      "See the caveats in the documentation: https://pandas.pydata.org/pandas-docs/stable/user_guide/indexing.html#returning-a-view-versus-a-copy\n",
      "  DF['Condition+Replicate'] = DF['Condition'] + '_' + DF['Replicate']\n",
      "C:\\Users\\cludw\\anaconda3\\envs\\cytoflow\\lib\\site-packages\\pandas\\core\\arraylike.py:358: RuntimeWarning: invalid value encountered in log10\n",
      "  result = getattr(ufunc, method)(*inputs, **kwargs)\n",
      "<ipython-input-71-73fd486420df>:21: SettingWithCopyWarning: \n",
      "A value is trying to be set on a copy of a slice from a DataFrame.\n",
      "Try using .loc[row_indexer,col_indexer] = value instead\n",
      "\n",
      "See the caveats in the documentation: https://pandas.pydata.org/pandas-docs/stable/user_guide/indexing.html#returning-a-view-versus-a-copy\n",
      "  DF['mCitrine'] = np.log10(DF['mCitrine-A'])\n",
      "<ipython-input-71-73fd486420df>:22: SettingWithCopyWarning: \n",
      "A value is trying to be set on a copy of a slice from a DataFrame.\n",
      "Try using .loc[row_indexer,col_indexer] = value instead\n",
      "\n",
      "See the caveats in the documentation: https://pandas.pydata.org/pandas-docs/stable/user_guide/indexing.html#returning-a-view-versus-a-copy\n",
      "  DF['Virus'] = DF['Construct'].map(constr2virus)\n",
      "<ipython-input-71-73fd486420df>:23: SettingWithCopyWarning: \n",
      "A value is trying to be set on a copy of a slice from a DataFrame.\n",
      "Try using .loc[row_indexer,col_indexer] = value instead\n",
      "\n",
      "See the caveats in the documentation: https://pandas.pydata.org/pandas-docs/stable/user_guide/indexing.html#returning-a-view-versus-a-copy\n",
      "  DF['Start'] = DF['Construct'].map(constr2start)\n",
      "<ipython-input-71-73fd486420df>:24: SettingWithCopyWarning: \n",
      "A value is trying to be set on a copy of a slice from a DataFrame.\n",
      "Try using .loc[row_indexer,col_indexer] = value instead\n",
      "\n",
      "See the caveats in the documentation: https://pandas.pydata.org/pandas-docs/stable/user_guide/indexing.html#returning-a-view-versus-a-copy\n",
      "  DF['End'] = DF['Construct'].map(constr2end)\n",
      "<ipython-input-71-73fd486420df>:25: SettingWithCopyWarning: \n",
      "A value is trying to be set on a copy of a slice from a DataFrame.\n",
      "Try using .loc[row_indexer,col_indexer] = value instead\n",
      "\n",
      "See the caveats in the documentation: https://pandas.pydata.org/pandas-docs/stable/user_guide/indexing.html#returning-a-view-versus-a-copy\n",
      "  DF['Order'] = DF['Construct'].map(constr2order)\n",
      "<ipython-input-71-73fd486420df>:26: SettingWithCopyWarning: \n",
      "A value is trying to be set on a copy of a slice from a DataFrame.\n",
      "Try using .loc[row_indexer,col_indexer] = value instead\n",
      "\n",
      "See the caveats in the documentation: https://pandas.pydata.org/pandas-docs/stable/user_guide/indexing.html#returning-a-view-versus-a-copy\n",
      "  DF['Letter'] = DF['Order'].map(orderMap)\n",
      "<ipython-input-71-73fd486420df>:27: SettingWithCopyWarning: \n",
      "A value is trying to be set on a copy of a slice from a DataFrame.\n",
      "Try using .loc[row_indexer,col_indexer] = value instead\n",
      "\n",
      "See the caveats in the documentation: https://pandas.pydata.org/pandas-docs/stable/user_guide/indexing.html#returning-a-view-versus-a-copy\n",
      "  DF['Sample'] = np.where(DF['Construct']!='JT126', DF['Letter'] + DF['Virus'] + ' ' + DF['Protein'] + '\\n[' + DF['Start'] + '-' + DF['End'] + ']',\n"
     ]
    },
    {
     "data": {
      "image/png": "[encoded data removed]",
      "text/plain": [
       "<Figure size 540x576 with 60 Axes>"
      ]
     },
     "metadata": {
      "needs_background": "light"
     },
     "output_type": "display_data"
    }
   ],
   "source": [
    "key = {'CL304':['HHV6B', 'U95', 71, 150, 7],\n",
    "       'CL305':['HSV2', 'VP16', 71, 150, 5],\n",
    "       'CL306':['EBV', 'BNRF1', 551, 630, 3],\n",
    "       'CL308':['HSV1', 'DBP', 1081, 1160, 2],\n",
    "       'CL313':['HCMV', 'UL32', 51, 130, 6],\n",
    "       'CL336':['VZV', 'UNG', 51, 130, 8],\n",
    "       'CL114':['EBV', 'RTA', 526, 605, 0],\n",
    "       'CL424':['EBV', 'MTP', 541, 620, 1],\n",
    "       'CL448':['KSHV', 'VIRF2', 301, 380, 4],\n",
    "       'JT126':['', 'empty', '', '', 9]}\n",
    "\n",
    "orderMap = {'0':'(a)\\n', '1':'(b)\\n', '2':'(c)\\n', '3':'(d)\\n', '4':'(e)\\n', '5':'(f)\\n', '6':'(g)\\n', '7':'(h)\\n', '8':'(i)\\n', '9':'(j) '}\n",
    "\n",
    "constr2virus = {k:key[k][0] for k in key}\n",
    "constr2start = {k:str(key[k][2]) for k in key}\n",
    "constr2end = {k:str(key[k][3]) for k in key}\n",
    "constr2order = {k:str(key[k][4]) for k in key}\n",
    "\n",
    "DF = DF[DF['mCherry']==True]\n",
    "DF['Condition+Replicate'] = DF['Condition'] + '_' + DF['Replicate']\n",
    "DF['mCitrine'] = np.log10(DF['mCitrine-A'])\n",
    "DF['Virus'] = DF['Construct'].map(constr2virus)\n",
    "DF['Start'] = DF['Construct'].map(constr2start)\n",
    "DF['End'] = DF['Construct'].map(constr2end)\n",
    "DF['Order'] = DF['Construct'].map(constr2order)\n",
    "DF['Letter'] = DF['Order'].map(orderMap)\n",
    "DF['Sample'] = np.where(DF['Construct']!='JT126', DF['Letter'] + DF['Virus'] + ' ' + DF['Protein'] + '\\n[' + DF['Start'] + '-' + DF['End'] + ']',\n",
    "                        'empty')\n",
    "DF = DF.sort_values(by='Order')\n",
    "\n",
    "labeldf = DF[(DF['Condition']=='dox') | (DF['Time']==0)]\n",
    "labeldf = labeldf[['Sample', 'Construct', 'Time', 'Citrine', 'Order']]\n",
    "labeldf = labeldf.groupby(by=['Sample', 'Construct', 'Time']).mean().reset_index()\n",
    "\n",
    "OFF = list(labeldf['Citrine'])\n",
    "OFF = [round(100*(1-off), 1)  for off in OFF]\n",
    "ON = [str(round(100-off, 1)) + '%' for off in OFF]\n",
    "OFF = [str(off) + '%' for off in OFF]\n",
    "ylabels = list(labeldf['Sample'])\n",
    "\n",
    "g = sns.FacetGrid(data=DF, row='Sample', col='Time', aspect=1.5625, height=0.8, hue='Condition+Replicate',\n",
    "                  palette=sns.color_palette(['#999999', '#999999', '#EA7063', '#EA7063']))\n",
    "g.map(sns.kdeplot, 'mCitrine', bw_adjust=0.1, fill=True, alpha=0.25, linewidth=1).set(xlim=(5.3, 9.3))\n",
    "g.map(plt.axvline, x=np.log10(1e7), ls='--', color='#666666', lw=1)\n",
    "\n",
    "for i, ax, on, off, ylab in zip(range(60), g.axes.flatten(), ON, OFF, ylabels):\n",
    "    if i < 6:\n",
    "        ax.set_title('Day %d' % i, fontsize=8)\n",
    "    else:\n",
    "        ax.set_title(label=None)\n",
    "    if (i % 6 == 0):\n",
    "        ax.set_ylabel(ylab)\n",
    "    ax.text(0.05, 0.95, off, transform=ax.transAxes, ha='left', va='top')\n",
    "    ax.text(0.95, 0.95, on, transform=ax.transAxes, ha='right', va='top')\n",
    "    ax.set_ylim(0, 2.2)\n",
    "        \n",
    "# change x-tick marks to reflect log scale\n",
    "plt.xticks([6, 7, 8, 9], ['10$^6$', '10$^7$', '10$^8$', '10$^9$'])\n",
    "plt.tight_layout()\n",
    "plt.savefig('../Individual Figure Panels/Figure S3/HHV_validations_dual-Act-Rep_facet.png', dpi=1200)"
   ]
  },
  {
   "cell_type": "markdown",
   "metadata": {},
   "source": [
    "#### Timecourse for EBV MTP [551-630] featured in Fig. S3J"
   ]
  },
  {
   "cell_type": "code",
   "execution_count": 116,
   "metadata": {},
   "outputs": [
    {
     "name": "stderr",
     "output_type": "stream",
     "text": [
      "<ipython-input-116-8252c3491ab2>:2: SettingWithCopyWarning: \n",
      "A value is trying to be set on a copy of a slice from a DataFrame.\n",
      "Try using .loc[row_indexer,col_indexer] = value instead\n",
      "\n",
      "See the caveats in the documentation: https://pandas.pydata.org/pandas-docs/stable/user_guide/indexing.html#returning-a-view-versus-a-copy\n",
      "  DF2['Order'] = DF2.index\n"
     ]
    },
    {
     "data": {
      "image/png": "[encoded data removed]",
      "text/plain": [
       "<Figure size 93.6x216 with 3 Axes>"
      ]
     },
     "metadata": {
      "needs_background": "light"
     },
     "output_type": "display_data"
    }
   ],
   "source": [
    "DF2 = DF[(DF['Construct']=='CL424') & (DF['Time'].isin([1, 3, 5]))]\n",
    "DF2['Order'] = DF2.index\n",
    "DF2 = DF2.sort_values(by='Order')\n",
    "# print(DF2)\n",
    "\n",
    "g = sns.FacetGrid(data=DF2, row='Time', aspect=1.3, height=1, hue='Condition+Replicate',\n",
    "                  palette=sns.color_palette(['#999999', '#999999', '#EA7063', '#EA7063']))\n",
    "g.map(sns.kdeplot, 'mCitrine', bw_adjust=0.1, fill=True, alpha=0.25, linewidth=1).set(xlim=(5.3, 9.3))\n",
    "g.map(plt.axvline, x=np.log10(1e7), ls='--', color='#666666', lw=1)\n",
    "\n",
    "labeldf = DF2[DF2['Condition']=='dox']\n",
    "labeldf = labeldf[['Sample', 'Construct', 'Time', 'Citrine', 'Order']]\n",
    "labeldf = labeldf.groupby(by=['Sample', 'Construct', 'Time']).mean().reset_index()\n",
    "\n",
    "OFF = list(labeldf['Citrine'])\n",
    "OFF = [round(100*(1-off), 1)  for off in OFF]\n",
    "ON = [str(round(100-off, 1)) + '%' for off in OFF]\n",
    "OFF = [str(off) + '%' for off in OFF]\n",
    "ylabels = list(labeldf['Sample'])\n",
    "\n",
    "for ax, on, off, day in zip(g.axes.flatten(), ON, OFF, [1, 3, 5]):\n",
    "    ax.set_ylabel('Day %d' % day, fontsize=8, labelpad=0)\n",
    "    ax.text(0.05, 0.95, off, transform=ax.transAxes, ha='left', va='top')\n",
    "    ax.text(0.95, 0.95, on, transform=ax.transAxes, ha='right', va='top')\n",
    "    ax.set_ylim(0, 2.5)\n",
    "    if day == 1:\n",
    "        ax.set_title('EBV MTP\\n[551-630]', fontsize=8)\n",
    "    else:\n",
    "        ax.set_title('')\n",
    "    \n",
    "legend_elements = [Line2D([0], [0], marker='_', color='#999999', label='no dox'),\n",
    "                   Line2D([0], [0], marker='_', color='#EA7063', label='dox')]\n",
    "plt.legend(handles=legend_elements, loc='upper center', bbox_to_anchor=(0.5, -0.3), frameon=False,\n",
    "           columnspacing=1.5, handlelength=0.5, borderpad=0.1, fontsize=8, handletextpad=0.5, ncol=2)\n",
    "plt.tight_layout()\n",
    "plt.savefig('../Individual Figure Panels/Figure S3/Dual_EBV_MTP_tile-056_day-1-3-5_timecourse_facet.png', dpi=1200)"
   ]
  },
  {
   "cell_type": "markdown",
   "metadata": {},
   "source": [
    "### vTR vs HHV hits"
   ]
  },
  {
   "cell_type": "markdown",
   "metadata": {},
   "source": [
    "#### Scatterplots featured in Fig. S3K & S3L"
   ]
  },
  {
   "cell_type": "code",
   "execution_count": 127,
   "metadata": {},
   "outputs": [
    {
     "name": "stdout",
     "output_type": "stream",
     "text": [
      "0.275318753020255 2.4353934586125243e-58\n",
      "0.545135349242317 2.1952365846075725e-239\n",
      "Complete\n"
     ]
    }
   ],
   "source": [
    "from scipy.stats import spearmanr\n",
    "df_vTR = pd.read_csv('../Supplemental Tables - CSV/vTR-CoV-tiling/vTR-CoV_ActivD2-ReprD5_detailed.csv')\n",
    "df_HHV = pd.read_csv('../Supplemental Tables - CSV/HHV-tiling/HHV_ActivD2-ReprD5_detailed.csv')\n",
    "\n",
    "def screen_corr(df1, df2, screenName1, screenName2, screenType):\n",
    "    if screenType == 'Activation':\n",
    "        ratio = 'ON:OFF'\n",
    "        cutoff1 = cutoffA_vTR\n",
    "        cutoff2 = cutoffA_HHV\n",
    "        xticks = [-5, 0, 5, 10]\n",
    "        xcoor = -7.5\n",
    "        ycoor = 11\n",
    "    elif screenType == 'Repression':\n",
    "        ratio = 'OFF:ON'\n",
    "        cutoff1 = cutoffR_vTR\n",
    "        cutoff2 = cutoffR_HHV\n",
    "        xticks = [-2, 0, 2, 4, 6]\n",
    "        xcoor = 2.65\n",
    "        ycoor = -0.8\n",
    "    col_name1 = screenName1 + ' log$_2$(%s)' % ratio\n",
    "    col_name2 = screenName2 + ' log$_2$(%s)' % ratio\n",
    "    \n",
    "    df1 = df1[df1['Screen']==screenType].rename(columns={'Avg':col_name1})\n",
    "    df1 = df1[['Tile ID', col_name1]]\n",
    "    df2 = df2[df2['Screen']==screenType].rename(columns={'Avg':col_name2})\n",
    "    df2 = df2[['Tile ID', col_name2]]\n",
    "    df = pd.merge(df1, df2, on='Tile ID', how='inner').drop_duplicates(subset=[col_name1, col_name2])\n",
    "    \n",
    "    x = np.array(list(df[col_name1]))\n",
    "    y = np.array(list(df[col_name2]))\n",
    "    coef, p = spearmanr(x, y)\n",
    "    print(coef, p)\n",
    "    \n",
    "    plt.figure(figsize=(1.75, 1.9))\n",
    "    sns.scatterplot(data=df, x=col_name1, y=col_name2, linewidth=0, s=4, alpha=0.5, color='#999999')\n",
    "    plt.xticks(xticks)\n",
    "    plt.axvline(x=cutoff1, color='k', ls=':', lw=1)\n",
    "    plt.axhline(y=cutoff2, color='k', ls=':', lw=1)\n",
    "    plt.annotate('r = ' + str(round(coef, 2)), xy=(xcoor, ycoor), ha='left', va='top')\n",
    "    plt.title(screenType, fontsize=8)\n",
    "    plt.tight_layout()\n",
    "    plt.savefig('../Individual Figure Panels/Figure S3/%s-vs-%s_%s_tile_correlation.png' % (screenName1, screenName2, screenType), dpi=1200)\n",
    "    plt.close()\n",
    "\n",
    "screen_corr(df_vTR, df_HHV, 'vTR', 'HHV', 'Activation')\n",
    "screen_corr(df_vTR, df_HHV, 'vTR', 'HHV', 'Repression')\n",
    "\n",
    "print('Complete')\n"
   ]
  },
  {
   "cell_type": "markdown",
   "metadata": {},
   "source": [
    "### HHV proteins that were hits in vTR only, both screens, or HHV only"
   ]
  },
  {
   "cell_type": "markdown",
   "metadata": {},
   "source": [
    "#### Count total number of activation and repression domains and the number of proteins they come from (info related to Fig. 2E)"
   ]
  },
  {
   "cell_type": "code",
   "execution_count": 11,
   "metadata": {},
   "outputs": [
    {
     "name": "stdout",
     "output_type": "stream",
     "text": [
      "Total number of domains: 268\n",
      "Total number of activation domains: 72\n",
      "Total number of repression domains: 196\n",
      "Total number of proteins with activation and/or repression domains: 178\n"
     ]
    }
   ],
   "source": [
    "import pandas as pd\n",
    "alldoms = pd.read_csv('../Supplemental Tables - CSV/HHV-tiling/HHV_domains.csv')\n",
    "alldomsA = alldoms[alldoms['Effect']=='Activation']\n",
    "alldomsR = alldoms[alldoms['Effect']=='Repression']\n",
    "\n",
    "print('Total number of domains:', len(alldoms))\n",
    "print('Total number of activation domains:', len(alldomsA))\n",
    "print('Total number of repression domains:', len(alldomsR))\n",
    "total_proteins = list(set(list(alldoms['Protein ID'])))\n",
    "print('Total number of proteins with activation and/or repression domains:', len(total_proteins))"
   ]
  },
  {
   "cell_type": "markdown",
   "metadata": {},
   "source": [
    "#### Calculate numbers for Venn diagram in Fig. 2E (also in 'Viral Figure 2 + S3 (HHV tiling, notebook 1)')"
   ]
  },
  {
   "cell_type": "code",
   "execution_count": 12,
   "metadata": {},
   "outputs": [
    {
     "name": "stdout",
     "output_type": "stream",
     "text": [
      "67\n",
      "147 34 31\n"
     ]
    }
   ],
   "source": [
    "# !{sys.executable} -m pip install matplotlib_venn\n",
    "# this does NOT double count HHV6A/HHV6B domains of identical sequence\n",
    "from matplotlib_venn import venn2\n",
    "\n",
    "vTRprot = pd.read_csv('../Supplemental Tables - CSV/vTR-CoV-tiling/uniprot_vTR-census_wo-BSL4.csv')\n",
    "vTRList = list(vTRprot['Entry'])\n",
    "\n",
    "HHVprot = pd.read_csv('../Supplemental Tables - CSV/HHV-tiling/HHV_full-length-proteins_uID_sequence.csv')\n",
    "HHVList = list(HHVprot['Cluster ID'])\n",
    "\n",
    "shared = [i for i in vTRList if i in HHVList]\n",
    "print(len(shared))\n",
    "dom_vTR = pd.read_csv('../Supplemental Tables - CSV/vTR-CoV-tiling/vTR_domains_estON-OFF.csv')\n",
    "dom_HHV = pd.read_csv('../Supplemental Tables - CSV/HHV-tiling/HHV_domains_estON-OFF.csv')\n",
    "\n",
    "vA = list(set(list(dom_vTR[dom_vTR['Effect']=='Activation']['Protein ID'])))\n",
    "hA = list(set(list(dom_HHV[dom_HHV['Effect']=='Activation']['Protein ID'])))\n",
    "vR = list(set(list(dom_vTR[dom_vTR['Effect']=='Repression']['Protein ID'])))\n",
    "hR = list(set(list(dom_HHV[dom_HHV['Effect']=='Repression']['Protein ID'])))\n",
    "\n",
    "dom_vTR2 = vA + vR\n",
    "dom_vTR2 = list(set([v for v in dom_vTR2 if v in HHVList]))\n",
    "dom_HHV2 = hA + hR\n",
    "dom_HHV2 = list(set(dom_HHV2))\n",
    "dom_vTR_HHV2 = list(set([v for v in dom_vTR2 if v in dom_HHV2]))\n",
    "# nondom_vTR = list(set([v for v in dom_vTR if v not in dom_HHV]))\n",
    "print(len(dom_HHV2)-len(dom_vTR_HHV2), len(dom_vTR2), len(dom_vTR_HHV2))\n"
   ]
  },
  {
   "cell_type": "markdown",
   "metadata": {},
   "source": [
    "### Domain strengths of HHV proteins that were hits in both vTR/HHV (known) vs just HHV (new)"
   ]
  },
  {
   "cell_type": "markdown",
   "metadata": {},
   "source": [
    "#### Swarmplots featured in Fig. S3M & S3N"
   ]
  },
  {
   "cell_type": "code",
   "execution_count": 13,
   "metadata": {},
   "outputs": [
    {
     "data": {
      "image/png": "[encoded data removed]",
      "text/plain": [
       "<Figure size 270x104.4 with 2 Axes>"
      ]
     },
     "metadata": {
      "needs_background": "light"
     },
     "output_type": "display_data"
    }
   ],
   "source": [
    "HHVdoms = dom_HHV.copy()\n",
    "col_name = 'Effector Domain'\n",
    "true_condition = 'Putative/\\nknown'\n",
    "false_condition = 'Newly\\nidentified'\n",
    "HHVdoms[col_name] = np.where(HHVdoms['Protein ID'].isin(dom_vTR_HHV2), true_condition, false_condition)\n",
    "HHVdoms[col_name] = pd.Categorical(HHVdoms[col_name], categories=[true_condition, false_condition], ordered=True)\n",
    "AY_med = np.median(list(HHVdoms[(HHVdoms['Effect']=='Activation') & (HHVdoms[col_name]==true_condition)]['Max Score']))\n",
    "AN_med = np.median(list(HHVdoms[(HHVdoms['Effect']=='Activation') & (HHVdoms[col_name]==false_condition)]['Max Score']))\n",
    "RY_med = np.median(list(HHVdoms[(HHVdoms['Effect']=='Repression') & (HHVdoms[col_name]==true_condition)]['Max Score']))\n",
    "RN_med = np.median(list(HHVdoms[(HHVdoms['Effect']=='Repression') & (HHVdoms[col_name]==false_condition)]['Max Score']))\n",
    "\n",
    "fig, ax = plt.subplots(1, 2, figsize=(3.75,1.45), gridspec_kw={'width_ratios':[1.6,1.6]})\n",
    "sns.swarmplot(data=HHVdoms[HHVdoms['Effect']=='Activation'],\n",
    "              x=col_name, y='Max Score', color='#E3B919', ax=ax[0], s=2) #, dodge=True)#, alpha=0.5)\n",
    "ax[0].plot([0, 1], [AY_med, AN_med], 'k_', markersize=20, zorder=10)\n",
    "ax[0].set_ylabel('Act. log$_2$(ON:OFF)')\n",
    "ax[0].set_xlabel('')\n",
    "sns.despine(ax=ax[0])\n",
    "\n",
    "sns.swarmplot(data=HHVdoms[HHVdoms['Effect']=='Repression'],\n",
    "              x=col_name, y='Max Score', color='#1BC6EE', ax=ax[1], s=2) #, dodge=True)#, alpha=0.5)\n",
    "ax[1].plot([0, 1], [RY_med, RN_med], 'k_', markersize=20, zorder=10)\n",
    "ax[1].set_ylabel('Repr. log$_2$(OFF:ON)')\n",
    "ax[1].set_xlabel('')\n",
    "sns.despine(ax=ax[1])\n",
    "plt.tight_layout()\n",
    "plt.savefig('../Individual Figure Panels/Figure S3/HHV-vTR_unique-vs-shared_hit_strength.png', dpi=1200)\n"
   ]
  },
  {
   "cell_type": "markdown",
   "metadata": {},
   "source": [
    "### Strongest tile for all proteins (hits and non-hits) vs predicted NLS score (NucPred)"
   ]
  },
  {
   "cell_type": "code",
   "execution_count": 4,
   "metadata": {},
   "outputs": [],
   "source": [
    "def hex_to_rgb(value):\n",
    "    '''\n",
    "    Converts hex to rgb colours\n",
    "    value: string of 6 characters representing a hex colour.\n",
    "    Returns: list length 3 of RGB values'''\n",
    "    value = value.strip(\"#\") # removes hash symbol if present\n",
    "    lv = len(value)\n",
    "    return tuple(int(value[i:i + lv // 3], 16) for i in range(0, lv, lv // 3))\n",
    "\n",
    "def rgb_to_dec(value):\n",
    "    '''\n",
    "    Converts rgb to decimal colours (i.e. divides each value by 256)\n",
    "    value: list (length 3) of RGB values\n",
    "    Returns: list (length 3) of decimal values'''\n",
    "    return [v/256 for v in value]\n",
    "\n",
    "def get_continuous_cmap(hex_list, float_list=None):\n",
    "    ''' creates and returns a color map that can be used in heat map figures.\n",
    "        If float_list is not provided, colour map graduates linearly between each color in hex_list.\n",
    "        If float_list is provided, each color in hex_list is mapped to the respective location in float_list. \n",
    "        \n",
    "        Parameters\n",
    "        ----------\n",
    "        hex_list: list of hex code strings\n",
    "        float_list: list of floats between 0 and 1, same length as hex_list. Must start with 0 and end with 1.\n",
    "        \n",
    "        Returns\n",
    "        ----------\n",
    "        colour map'''\n",
    "    rgb_list = [rgb_to_dec(hex_to_rgb(i)) for i in hex_list]\n",
    "    if float_list:\n",
    "        pass\n",
    "    else:\n",
    "        float_list = list(np.linspace(0,1,len(rgb_list)))\n",
    "        \n",
    "    cdict = dict()\n",
    "    for num, col in enumerate(['red', 'green', 'blue']):\n",
    "        col_list = [[float_list[i], rgb_list[i][num], rgb_list[i][num]] for i in range(len(float_list))]\n",
    "        cdict[col] = col_list\n",
    "    cmp = matplotlib.colors.LinearSegmentedColormap('my_cmp', segmentdata=cdict, N=256)\n",
    "    return cmp"
   ]
  },
  {
   "cell_type": "code",
   "execution_count": 141,
   "metadata": {},
   "outputs": [
    {
     "name": "stdout",
     "output_type": "stream",
     "text": [
      "Complete\n"
     ]
    }
   ],
   "source": [
    "# for generating fasta file for NucPred\n",
    "u90 = pd.read_csv('../Supplemental Tables - CSV/HHV-tiling/uniref_reviewed_HHV+SuHV.csv')\n",
    "IDs = list(u90['Cluster ID'])\n",
    "seqs = list(u90['Representative Sequence'])\n",
    "\n",
    "with open('../Supplemental Tables - CSV/HHV-tiling/HHV_uniref90.fasta', 'w') as fasta:\n",
    "    for i, s in zip(IDs, seqs):\n",
    "        fasta.write('>' + i + '\\n')\n",
    "        fasta.write(s + '\\n')\n",
    "        \n",
    "print('Complete')"
   ]
  },
  {
   "cell_type": "markdown",
   "metadata": {},
   "source": [
    "#### Read in NucPred prediction and get strongest tile from each protein"
   ]
  },
  {
   "cell_type": "code",
   "execution_count": 16,
   "metadata": {},
   "outputs": [],
   "source": [
    "NLS = pd.read_csv('../Supplemental Tables - CSV/HHV-tiling/HHV_uniref90_NucPred.csv')\n",
    "NLS = NLS.rename(columns={'Sequence-ID':'Protein ID', 'NucPred-score':'NucPred'})\n",
    "\n",
    "df = pd.read_csv('../Supplemental Tables - CSV/HHV-tiling/HHV_ActivD2-ReprD5_detailed.csv')\n",
    "df = pd.merge(df, NLS, how='left', on='Protein ID')\n",
    "df = df[~df['NucPred'].isna()]\n",
    "dfA = df[df['Screen']=='Activation'].sort_values('Avg', ascending=False)\n",
    "dfR = df[df['Screen']=='Repression'].sort_values('Avg', ascending=False)\n",
    "dfA = dfA.drop_duplicates(subset='Protein ID', keep='first')\n",
    "dfR = dfR.drop_duplicates(subset='Protein ID', keep='first')\n",
    "\n",
    "colorA = get_continuous_cmap(['#BBBBBB', '#D7AC00'])\n",
    "colorR = get_continuous_cmap(['#BBBBBB', '#23BEDB'])"
   ]
  },
  {
   "cell_type": "markdown",
   "metadata": {},
   "source": [
    "#### Boxplot featured in Fig. S3Q"
   ]
  },
  {
   "cell_type": "code",
   "execution_count": 17,
   "metadata": {},
   "outputs": [
    {
     "name": "stderr",
     "output_type": "stream",
     "text": [
      "<ipython-input-17-7fec5418af93>:4: SettingWithCopyWarning: \n",
      "A value is trying to be set on a copy of a slice from a DataFrame.\n",
      "Try using .loc[row_indexer,col_indexer] = value instead\n",
      "\n",
      "See the caveats in the documentation: https://pandas.pydata.org/pandas-docs/stable/user_guide/indexing.html#returning-a-view-versus-a-copy\n",
      "  dfA2['Group'] = np.where(dfA2['Avg']<=cutoffA_HHV, 'Non\\nHit', 'Hit')\n",
      "<ipython-input-17-7fec5418af93>:6: SettingWithCopyWarning: \n",
      "A value is trying to be set on a copy of a slice from a DataFrame.\n",
      "Try using .loc[row_indexer,col_indexer] = value instead\n",
      "\n",
      "See the caveats in the documentation: https://pandas.pydata.org/pandas-docs/stable/user_guide/indexing.html#returning-a-view-versus-a-copy\n",
      "  dfA2cut['Group'] = pd.cut(dfA2cut['Avg'], 4, labels=['Q1', 'Q2', 'Q3', 'Q4'])\n"
     ]
    },
    {
     "data": {
      "image/png": "[encoded data removed]",
      "text/plain": [
       "<Figure size 129.6x108 with 1 Axes>"
      ]
     },
     "metadata": {
      "needs_background": "light"
     },
     "output_type": "display_data"
    }
   ],
   "source": [
    "toexclude = list(set(list(dfR[dfR['Avg']>cutoffR_HHV]['Oligo ID'])))\n",
    "\n",
    "dfA2 = dfA[~dfA['Oligo ID'].isin(toexclude)]\n",
    "dfA2['Group'] = np.where(dfA2['Avg']<=cutoffA_HHV, 'Non\\nHit', 'Hit')\n",
    "dfA2cut = dfA2[dfA2['Group']=='Hit']\n",
    "dfA2cut['Group'] = pd.cut(dfA2cut['Avg'], 4, labels=['Q1', 'Q2', 'Q3', 'Q4'])\n",
    "dfA2 = pd.concat([dfA2[dfA2['Group']=='Non\\nHit'], dfA2cut])\n",
    "dfA2['Group'] = pd.Categorical(dfA2['Group'], categories=['Non\\nHit', 'Q1', 'Q2', 'Q3', 'Q4'])\n",
    "\n",
    "plt.figure(figsize=(1.8,1.5))\n",
    "sns.boxplot(data=dfA2, x='Group', y='NucPred', linewidth=0.5, palette=colorA(np.linspace(0,1,5)), fliersize=1)\n",
    "plt.ylabel('NucPred\\nNLS Likelihood')\n",
    "plt.xlabel('Binned Activation\\nlog$_2$(ON:OFF) Score')\n",
    "plt.tight_layout()\n",
    "plt.savefig('../Individual Figure Panels/Figure S3/NLS_prediction_binned_Activation.png', dpi=1200)"
   ]
  },
  {
   "cell_type": "markdown",
   "metadata": {},
   "source": [
    "#### Boxplot featured in Fig. S3R"
   ]
  },
  {
   "cell_type": "code",
   "execution_count": 18,
   "metadata": {},
   "outputs": [
    {
     "name": "stderr",
     "output_type": "stream",
     "text": [
      "<ipython-input-18-9a749d2281d1>:4: SettingWithCopyWarning: \n",
      "A value is trying to be set on a copy of a slice from a DataFrame.\n",
      "Try using .loc[row_indexer,col_indexer] = value instead\n",
      "\n",
      "See the caveats in the documentation: https://pandas.pydata.org/pandas-docs/stable/user_guide/indexing.html#returning-a-view-versus-a-copy\n",
      "  dfR2['Group'] = np.where(dfR2['Avg']<=cutoffR_HHV, 'Non\\nHit', 'Hit')\n",
      "<ipython-input-18-9a749d2281d1>:6: SettingWithCopyWarning: \n",
      "A value is trying to be set on a copy of a slice from a DataFrame.\n",
      "Try using .loc[row_indexer,col_indexer] = value instead\n",
      "\n",
      "See the caveats in the documentation: https://pandas.pydata.org/pandas-docs/stable/user_guide/indexing.html#returning-a-view-versus-a-copy\n",
      "  dfR2cut['Group'] = pd.cut(dfR2cut['Avg'], 4, labels=['Q1', 'Q2', 'Q3', 'Q4'])\n"
     ]
    },
    {
     "data": {
      "image/png": "[encoded data removed]",
      "text/plain": [
       "<Figure size 129.6x108 with 1 Axes>"
      ]
     },
     "metadata": {
      "needs_background": "light"
     },
     "output_type": "display_data"
    }
   ],
   "source": [
    "toexclude = list(set(list(dfA[dfA['Avg']>cutoffA_HHV]['Oligo ID'])))\n",
    "\n",
    "dfR2 = dfR[~dfR['Oligo ID'].isin(toexclude)]\n",
    "dfR2['Group'] = np.where(dfR2['Avg']<=cutoffR_HHV, 'Non\\nHit', 'Hit')\n",
    "dfR2cut = dfR2[dfR2['Group']=='Hit']\n",
    "dfR2cut['Group'] = pd.cut(dfR2cut['Avg'], 4, labels=['Q1', 'Q2', 'Q3', 'Q4'])\n",
    "dfR2 = pd.concat([dfR2[dfR2['Group']=='Non\\nHit'], dfR2cut])\n",
    "dfR2['Group'] = pd.Categorical(dfR2['Group'], categories=['Non\\nHit', 'Q1', 'Q2', 'Q3', 'Q4'])\n",
    "\n",
    "plt.figure(figsize=(1.8,1.5))\n",
    "sns.boxplot(data=dfR2, x='Group', y='NucPred', linewidth=0.5, palette=colorR(np.linspace(0,1,5)), fliersize=1)\n",
    "plt.ylabel('NucPred\\nNLS Likelihood')\n",
    "plt.xlabel('Binned Repression\\nlog$_2$(OFF:ON) Score')\n",
    "plt.tight_layout()\n",
    "plt.savefig('../Individual Figure Panels/Figure S3/NLS_prediction_binned_Repression.png', dpi=1200)"
   ]
  },
  {
   "cell_type": "markdown",
   "metadata": {},
   "source": [
    "### Inducible expression system featured in Fig. S3P"
   ]
  },
  {
   "cell_type": "code",
   "execution_count": 256,
   "metadata": {},
   "outputs": [
    {
     "name": "stderr",
     "output_type": "stream",
     "text": [
      "<ipython-input-256-a79a8d838700>:5: SettingWithCopyWarning: \n",
      "A value is trying to be set on a copy of a slice from a DataFrame.\n",
      "Try using .loc[row_indexer,col_indexer] = value instead\n",
      "\n",
      "See the caveats in the documentation: https://pandas.pydata.org/pandas-docs/stable/user_guide/indexing.html#returning-a-view-versus-a-copy\n",
      "  row_copy['Condition'] = 'dox'\n"
     ]
    },
    {
     "data": {
      "image/png": "[encoded data removed]",
      "text/plain": [
       "<Figure size 122.4x108 with 1 Axes>"
      ]
     },
     "metadata": {
      "needs_background": "light"
     },
     "output_type": "display_data"
    }
   ],
   "source": [
    "ies = pd.read_csv('../Flow Single-Cell Data - CSV/HTI_mCitrine_3Cpro_single-cell.csv')\n",
    "ies = ies[(ies['Protein']=='mCitrine') & (ies['mCherry']==True)].sort_values(by=['Time', 'Condition'])\n",
    "ies = ies.groupby(by=['Condition', 'Replicate', 'Time']).sum().reset_index().drop(columns=['Replicate'])\n",
    "row_copy = ies.loc[(ies['Condition']=='nodox') & (ies['Time']==0)]\n",
    "row_copy['Condition'] = 'dox'\n",
    "ies = pd.concat([ies, row_copy]).reset_index(drop=True)\n",
    "ies['% mCitrine ON'] = 100*ies['Citrine']/ies['mCherry']\n",
    "plt.figure(figsize=(1.7,1.5))\n",
    "sns.lineplot(data=ies, x='Time', y='% mCitrine ON', hue='Condition', palette=sns.color_palette(['#70C632', '#999999']))\n",
    "plt.xticks(range(8))\n",
    "plt.xlabel('Day')\n",
    "plt.yticks(range(0, 101, 25))\n",
    "plt.ylim(-5,105)\n",
    "for y in list(range(0, 101, 25)):\n",
    "    plt.axhline(y=y, ls=':', lw=1, zorder=-10, color='#BBBBBB')\n",
    "plt.legend(frameon=False, loc='lower center', bbox_to_anchor=(0.5, 1), handlelength=0.5, ncol=2,\n",
    "           borderpad=0.1, handletextpad=0.5)\n",
    "plt.tight_layout()\n",
    "plt.savefig('../Individual Figure Panels/Figure S3/Inducible_expression_system_mCitrine_example.png', dpi=1200)"
   ]
  },
  {
   "cell_type": "markdown",
   "metadata": {},
   "source": [
    "### END"
   ]
  },
  {
   "cell_type": "code",
   "execution_count": 86,
   "metadata": {},
   "outputs": [
    {
     "name": "stdout",
     "output_type": "stream",
     "text": [
      "87\n",
      "106\n",
      "71\n",
      "74\n",
      "117\n",
      "54\n"
     ]
    }
   ],
   "source": [
    "vTRdom = pd.read_csv('Screen_Files/vTR-CoV/vTR_domains.csv')\n",
    "print(len(vTRdom[vTRdom['Effect']=='Activation']))\n",
    "print(len(vTRdom[vTRdom['Effect']=='Repression']))\n",
    "print(len(vTRdom[vTRdom['Effect']=='Activation'].groupby('Protein ID')))\n",
    "print(len(vTRdom[vTRdom['Effect']=='Repression'].groupby('Protein ID')))\n",
    "print(len(vTRdom.groupby('Protein ID')))\n",
    "virlist = ['SuHV1', 'CeHV1', 'CeHV2', 'HSV1', 'HSV2', 'VZV', 'HCMV', 'HHV6A', 'HHV6B', 'HHV7', 'EBV', 'KSHV']\n",
    "print(len(vTRdom[vTRdom['Virus'].isin(virlist)].groupby('Protein ID')))"
   ]
  }
 ],
 "metadata": {
  "kernelspec": {
   "display_name": "Python 3",
   "language": "python",
   "name": "python3"
  },
  "language_info": {
   "codemirror_mode": {
    "name": "ipython",
    "version": 3
   },
   "file_extension": ".py",
   "mimetype": "text/x-python",
   "name": "python",
   "nbconvert_exporter": "python",
   "pygments_lexer": "ipython3",
   "version": "3.8.5"
  }
 },
 "nbformat": 4,
 "nbformat_minor": 4
}
