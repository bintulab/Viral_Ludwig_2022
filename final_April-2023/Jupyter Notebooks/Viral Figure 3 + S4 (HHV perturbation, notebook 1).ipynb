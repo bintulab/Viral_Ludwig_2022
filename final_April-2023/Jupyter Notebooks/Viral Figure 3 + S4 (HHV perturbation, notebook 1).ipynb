{
 "cells": [
  {
   "cell_type": "markdown",
   "metadata": {},
   "source": [
    "### Import packages"
   ]
  },
  {
   "cell_type": "code",
   "execution_count": 1,
   "metadata": {},
   "outputs": [],
   "source": [
    "import pandas as pd\n",
    "import numpy as np\n",
    "import matplotlib\n",
    "from matplotlib import pyplot as plt\n",
    "import seaborn as sns\n",
    "from statistics import geometric_mean\n",
    "\n",
    "# HHV tiling screen cutoffs\n",
    "orig_cutoffA = 1.0846347878236864\n",
    "orig_cutoffR = 0.6987727639587653"
   ]
  },
  {
   "cell_type": "markdown",
   "metadata": {},
   "source": [
    "### Perturbation screen magnetic separation"
   ]
  },
  {
   "cell_type": "code",
   "execution_count": 3,
   "metadata": {},
   "outputs": [
    {
     "data": {
      "text/html": [
       "<div>\n",
       "<style scoped>\n",
       "    .dataframe tbody tr th:only-of-type {\n",
       "        vertical-align: middle;\n",
       "    }\n",
       "\n",
       "    .dataframe tbody tr th {\n",
       "        vertical-align: top;\n",
       "    }\n",
       "\n",
       "    .dataframe thead th {\n",
       "        text-align: right;\n",
       "    }\n",
       "</style>\n",
       "<table border=\"1\" class=\"dataframe\">\n",
       "  <thead>\n",
       "    <tr style=\"text-align: right;\">\n",
       "      <th></th>\n",
       "      <th>Reporter</th>\n",
       "      <th>Fraction</th>\n",
       "      <th>FSC 488/10-A</th>\n",
       "      <th>FSC 488/10-H</th>\n",
       "      <th>SSC 488/10-A</th>\n",
       "      <th>mCherry-A</th>\n",
       "      <th>mCitrine-A</th>\n",
       "      <th>P1</th>\n",
       "      <th>P2</th>\n",
       "      <th>mCherry</th>\n",
       "      <th>Citrine_Act</th>\n",
       "      <th>Citrine_Rep</th>\n",
       "    </tr>\n",
       "  </thead>\n",
       "  <tbody>\n",
       "    <tr>\n",
       "      <th>0</th>\n",
       "      <td>DY032</td>\n",
       "      <td>pre-magsep</td>\n",
       "      <td>9.830699e+08</td>\n",
       "      <td>7.992112e+08</td>\n",
       "      <td>5.788796e+08</td>\n",
       "      <td>8.513310e+07</td>\n",
       "      <td>1.061871e+07</td>\n",
       "      <td>1.0</td>\n",
       "      <td>1.0</td>\n",
       "      <td>0.906772</td>\n",
       "      <td>0.154790</td>\n",
       "      <td>0.111918</td>\n",
       "    </tr>\n",
       "    <tr>\n",
       "      <th>1</th>\n",
       "      <td>DY032</td>\n",
       "      <td>unbound</td>\n",
       "      <td>1.082170e+09</td>\n",
       "      <td>9.018115e+08</td>\n",
       "      <td>3.739109e+08</td>\n",
       "      <td>7.942560e+07</td>\n",
       "      <td>6.665546e+06</td>\n",
       "      <td>1.0</td>\n",
       "      <td>1.0</td>\n",
       "      <td>0.940997</td>\n",
       "      <td>0.251898</td>\n",
       "      <td>0.129479</td>\n",
       "    </tr>\n",
       "    <tr>\n",
       "      <th>2</th>\n",
       "      <td>DY032</td>\n",
       "      <td>bound</td>\n",
       "      <td>9.267689e+08</td>\n",
       "      <td>7.207701e+08</td>\n",
       "      <td>1.288594e+09</td>\n",
       "      <td>8.702304e+07</td>\n",
       "      <td>7.490567e+07</td>\n",
       "      <td>1.0</td>\n",
       "      <td>1.0</td>\n",
       "      <td>0.988887</td>\n",
       "      <td>0.963484</td>\n",
       "      <td>0.851640</td>\n",
       "    </tr>\n",
       "    <tr>\n",
       "      <th>3</th>\n",
       "      <td>JT039</td>\n",
       "      <td>pre-magsep</td>\n",
       "      <td>9.812887e+08</td>\n",
       "      <td>7.948631e+08</td>\n",
       "      <td>3.897466e+08</td>\n",
       "      <td>1.055722e+08</td>\n",
       "      <td>8.049223e+07</td>\n",
       "      <td>1.0</td>\n",
       "      <td>1.0</td>\n",
       "      <td>0.901604</td>\n",
       "      <td>0.838813</td>\n",
       "      <td>0.673063</td>\n",
       "    </tr>\n",
       "    <tr>\n",
       "      <th>4</th>\n",
       "      <td>JT039</td>\n",
       "      <td>unbound</td>\n",
       "      <td>1.062956e+09</td>\n",
       "      <td>9.014005e+08</td>\n",
       "      <td>4.534527e+08</td>\n",
       "      <td>1.387047e+08</td>\n",
       "      <td>8.784665e+06</td>\n",
       "      <td>1.0</td>\n",
       "      <td>1.0</td>\n",
       "      <td>0.965001</td>\n",
       "      <td>0.513272</td>\n",
       "      <td>0.195730</td>\n",
       "    </tr>\n",
       "    <tr>\n",
       "      <th>5</th>\n",
       "      <td>JT039</td>\n",
       "      <td>bound</td>\n",
       "      <td>9.455708e+08</td>\n",
       "      <td>7.436425e+08</td>\n",
       "      <td>1.477659e+09</td>\n",
       "      <td>1.169342e+08</td>\n",
       "      <td>1.128946e+08</td>\n",
       "      <td>1.0</td>\n",
       "      <td>1.0</td>\n",
       "      <td>0.980210</td>\n",
       "      <td>0.995306</td>\n",
       "      <td>0.956265</td>\n",
       "    </tr>\n",
       "  </tbody>\n",
       "</table>\n",
       "</div>"
      ],
      "text/plain": [
       "  Reporter    Fraction  FSC 488/10-A  FSC 488/10-H  SSC 488/10-A  \\\n",
       "0    DY032  pre-magsep  9.830699e+08  7.992112e+08  5.788796e+08   \n",
       "1    DY032     unbound  1.082170e+09  9.018115e+08  3.739109e+08   \n",
       "2    DY032       bound  9.267689e+08  7.207701e+08  1.288594e+09   \n",
       "3    JT039  pre-magsep  9.812887e+08  7.948631e+08  3.897466e+08   \n",
       "4    JT039     unbound  1.062956e+09  9.014005e+08  4.534527e+08   \n",
       "5    JT039       bound  9.455708e+08  7.436425e+08  1.477659e+09   \n",
       "\n",
       "      mCherry-A    mCitrine-A   P1   P2   mCherry  Citrine_Act  Citrine_Rep  \n",
       "0  8.513310e+07  1.061871e+07  1.0  1.0  0.906772     0.154790     0.111918  \n",
       "1  7.942560e+07  6.665546e+06  1.0  1.0  0.940997     0.251898     0.129479  \n",
       "2  8.702304e+07  7.490567e+07  1.0  1.0  0.988887     0.963484     0.851640  \n",
       "3  1.055722e+08  8.049223e+07  1.0  1.0  0.901604     0.838813     0.673063  \n",
       "4  1.387047e+08  8.784665e+06  1.0  1.0  0.965001     0.513272     0.195730  \n",
       "5  1.169342e+08  1.128946e+08  1.0  1.0  0.980210     0.995306     0.956265  "
      ]
     },
     "execution_count": 3,
     "metadata": {},
     "output_type": "execute_result"
    }
   ],
   "source": [
    "df = pd.read_csv('../Flow Single-Cell Data - CSV/HHVpert_Screens_magsep_single-cell.csv')\n",
    "df = df[(df['P1']==True) & (df['P2']==True)]\n",
    "df = df.rename(columns={'Citrine':'Citrine_Act'})\n",
    "df['Citrine_Rep'] = np.where(df['mCitrine-A']>1e7, True, False)\n",
    "df = df[df['Fraction']!='wash']\n",
    "df['Fraction'] = pd.Categorical(df['Fraction'], categories=['pre-magsep', 'unbound', 'bound'])\n",
    "aggdf = df.groupby(by=['Reporter', 'Fraction'], as_index=False).mean().sort_values(by=['Reporter', 'Fraction'])\n",
    "\n",
    "aggdf"
   ]
  },
  {
   "cell_type": "markdown",
   "metadata": {},
   "source": [
    "#### Flow cytometry distributions featured in Fig. S4C & S4G"
   ]
  },
  {
   "cell_type": "code",
   "execution_count": 4,
   "metadata": {},
   "outputs": [
    {
     "name": "stdout",
     "output_type": "stream",
     "text": [
      "Complete\n"
     ]
    }
   ],
   "source": [
    "font = {'size':8,\n",
    "        'family':'Arial'}\n",
    "matplotlib.rc('font', **font)\n",
    "\n",
    "tempdf = df.copy()\n",
    "tempdf['mCitrine'] = np.log10(tempdf['mCitrine-A'])\n",
    "\n",
    "def plot_magsep(data_df, agg_df, screentype):\n",
    "    if screentype == 'Activation':\n",
    "        reporter = 'DY032'\n",
    "        citrine = 'Citrine_Act'\n",
    "        color = '#F3CE48'\n",
    "        cutoff = 3e6\n",
    "        upperylim = 4\n",
    "    elif screentype == 'Repression':\n",
    "        reporter = 'JT039'\n",
    "        citrine = 'Citrine_Rep'\n",
    "        color = '#23BEDB'\n",
    "        cutoff = 1e7\n",
    "        upperylim = 2.5\n",
    "    \n",
    "    ON = list(agg_df[agg_df['Reporter']==reporter][citrine])\n",
    "    ON = [round(on*100, 1) for on in ON]\n",
    "    OFF = [str(round(100-on, 1)) + '%' for on in ON]\n",
    "    ON = [str(on) + '%' for on in ON]\n",
    "    \n",
    "    pal = sns.color_palette([color, color])\n",
    "    g = sns.FacetGrid(data=data_df[data_df['Reporter']==reporter],\n",
    "                      col='Fraction', hue='Replicate', palette=pal,\n",
    "                      aspect=0.92, height=1.35)\n",
    "    g.map(sns.kdeplot, 'mCitrine', fill=True, bw_adjust=1)\n",
    "    g.set_titles(template='{col_name}')\n",
    "    \n",
    "    plt.xlim([4.5,9.5])\n",
    "    plt.ylim([0,upperylim])\n",
    "    plt.xticks([5, 6, 7, 8, 9], ['10$^5$', '10$^6$', '10$^7$', '10$^8$', '10$^9$'])\n",
    "    for i, ax, on, off in zip(range(6), g.axes.flat, ON, OFF):\n",
    "        ax.text(0.05, 0.95, off, transform=ax.transAxes, ha='left', va='top')\n",
    "        ax.text(0.95, 0.95, on, transform=ax.transAxes, ha='right', va='top')\n",
    "        ax.axvline(x=np.log10(cutoff), ls=':', color='#333333', lw=1)\n",
    "#         ax.grid(False)\n",
    "    \n",
    "    plt.savefig('../Individual Figure Panels/Figure S4/HHVpert_Screens_%s_magsep_kdeplot.png' % screentype, dpi=1200)\n",
    "    plt.close()\n",
    "    \n",
    "plot_magsep(tempdf, aggdf, 'Activation')\n",
    "plot_magsep(tempdf, aggdf, 'Repression')\n",
    "\n",
    "print('Complete')"
   ]
  },
  {
   "cell_type": "markdown",
   "metadata": {},
   "source": [
    "### Define functions and read in files"
   ]
  },
  {
   "cell_type": "code",
   "execution_count": 3,
   "metadata": {},
   "outputs": [
    {
     "name": "stdout",
     "output_type": "stream",
     "text": [
      "Activation threshold: -1.393846406032031\n",
      "Repression threshold: -1.071410423724703\n",
      "Complete\n"
     ]
    }
   ],
   "source": [
    "font = {'family' : 'Arial',\n",
    "        'size'   : 8}\n",
    "\n",
    "matplotlib.rc('font', **font)\n",
    "\n",
    "# filter out library members with too few reads, add meta data about perturbation type, and calculate hits threshold\n",
    "# screen_type should be 'Act' or 'Rep'\n",
    "def process_screen(df, screen_type, sigma, counts_filter):\n",
    "    df['countsSUM_R1'] = df['countsON_R1'] + df['countsOFF_R1']\n",
    "    df['countsSUM_R2'] = df['countsON_R2'] + df['countsOFF_R2']\n",
    "    df = df[(df['countsSUM_R1']>=counts_filter) & (df['countsSUM_R2']>=counts_filter)]\n",
    "    \n",
    "    df = df.rename(columns={'label':'Oligo ID'})\n",
    "    df['Type'] = np.where(df['Oligo ID'].str.contains('random'), 'random', 'substitution')\n",
    "    df['Type'] = np.where(df['Oligo ID'].str.contains('del5'), 'deletion', df['Type'])\n",
    "    df['Type'] = np.where(df['Oligo ID'].str.contains('fiducial'), 'fiducial', df['Type'])\n",
    "    df['Type'] = np.where(df['Oligo ID'].str.contains('_WT'), 'WT', df['Type'])\n",
    "    \n",
    "    if screen_type == 'Act':\n",
    "        df['R1'] = -df['R1']\n",
    "        df['R2'] = -df['R2']\n",
    "        df['Avg'] = -df['Avg']\n",
    "        \n",
    "    rand = list(df[df['Type']=='random']['Avg'])\n",
    "    thresh = np.mean(rand) + sigma*np.std(rand)\n",
    "    df['Hit'] = np.where(df['Avg']>=thresh, 1, 0)\n",
    "    \n",
    "    return df, thresh\n",
    "\n",
    "# add additional information, including fiducial details, WT tile effect, and other meta data\n",
    "# IMPORTANT: all mutations are off by +1, so this code corrects for that\n",
    "def add_info(df, fiducials, maxTiles, prot_seqs):\n",
    "    # merge in fiducial information and protein sequences\n",
    "    df['Full Tile ID'] = df['Oligo ID'].str.split('_').str[1:].str.join('_')\n",
    "    df = pd.merge(df, fiducials[['Full Tile ID', 'Gene', 'Effect']], on='Full Tile ID', how='left')\n",
    "    df = pd.merge(df, prot_seqs, on='Full Tile ID', how='left')\n",
    "    df['Effect'] = np.where(df['Effect'].isnull(), '-', df['Effect'])\n",
    "    df['Tile ID'] = np.where(~df['Full Tile ID'].str.contains('fiducial|random'), df['Full Tile ID'].str.split('_').str[:-1].str.join('_'), '-')\n",
    "    df['Mutation'] = np.where(~df['Full Tile ID'].str.contains('fiducial|random'), df['Full Tile ID'].str.split('_').str[-1], '-')\n",
    "    \n",
    "    # isolate mutations and position information\n",
    "    df['Original'] = np.where(df['Type'].isin(['substitution', 'deletion']), df['Mutation'].str[0], '-')\n",
    "    df['Position'] = np.where(df['Type']=='substitution', df['Mutation'].str[1:-1], '-')\n",
    "    df['Perturbation'] = np.where(df['Type']=='substitution', df['Mutation'].str[-1], '-')\n",
    "    df['Position'] = np.where(df['Type']=='deletion', df['Mutation'].str[1:-4], df['Position'])\n",
    "    df['Perturbation'] = np.where(df['Type']=='deletion', 'del5', df['Perturbation'])\n",
    "    df['Position'] = [int(p) - 1 if p!='-' else '-' for p in list(df['Position'])]\n",
    "    \n",
    "    # correct mutation position in the 'Mutation', 'Full Tile ID', and 'Oligo ID' fields\n",
    "    df['Mutation'] = np.where(df['Type'].isin(['substitution', 'deletion']), df['Original'] + df['Position'].astype(str) + df['Perturbation'], df['Mutation'])\n",
    "    df['Full Tile ID'] = np.where(df['Type'].isin(['substitution', 'deletion']), df['Tile ID'] + '_' + df['Mutation'], df['Full Tile ID'])\n",
    "    df['Oligo ID'] = np.where(df['Type'].isin(['substitution', 'deletion']), 'HHV-DMS_' + df['Full Tile ID'], df['Oligo ID'])\n",
    "    \n",
    "    df = pd.merge(df, maxTiles, on='Tile ID', how='outer')\n",
    "    df['Effect'] = np.where(df['Effect_y'].isnull(), df['Effect_x'], df['Effect_y'])\n",
    "    \n",
    "    # fill in information for F5HCV3_060\n",
    "    df['Tile Start'] = np.where(df['Tile ID']=='F5HCV3_060', 591, df['Tile Start'])\n",
    "    df['Tile End'] = np.where(df['Tile ID']=='F5HCV3_060', 670, df['Tile End'])\n",
    "    df['Protein'] = np.where(df['Tile ID']=='F5HCV3_060', 'RTA', df['Protein'])\n",
    "    df['Virus Abbreviation'] = np.where(df['Tile ID']=='F5HCV3_060', 'KSHV', df['Virus Abbreviation'])\n",
    "    df['Effect'] = np.where(df['Tile ID']=='F5HCV3_060', 'activator', df['Effect'])\n",
    "    df = df.drop(columns=['Effect_x', 'Effect_y', 'Gene'])\n",
    "    \n",
    "    return df\n",
    "\n",
    "# read in necessary files as dataframes: screen scores, fiducials, and details on original WT max tiles\n",
    "Act = pd.read_csv('../Supplemental Tables - CSV/HHV-perturbation/HHVpert_ActivD2_combo.csv', sep=',')\n",
    "Rep = pd.read_csv('../Supplemental Tables - CSV/HHV-perturbation/HHVpert_ReprD5_combo.csv', sep=',')\n",
    "\n",
    "fiducials = pd.read_csv('../Supplemental Tables - CSV/fiducial_controls.csv', sep=',').drop(columns='Unnamed: 0')\n",
    "fiducials['Number'] = fiducials.index + 1\n",
    "fiducials['Full Tile ID'] = 'fiducial_' + fiducials['Number'].astype(str).str.zfill(3)\n",
    "fiducials['Effect'] = np.where(fiducials['Description'].str.contains('Repr'), 'repressor', 'activator')\n",
    "fiducials['Effect'] = np.where(fiducials['label'].str.contains('random'), '-', fiducials['Effect'])\n",
    "\n",
    "maxTiles = pd.read_csv('../Supplemental Tables - CSV/HHV-perturbation/HHV-perturb_max-tiles.csv')\n",
    "maxTiles['Effect'] = np.where((maxTiles['Activation']>=orig_cutoffA), 'activator', '-')\n",
    "maxTiles['Effect'] = np.where((maxTiles['Repression']>=orig_cutoffR), 'repressor', maxTiles['Effect'])\n",
    "maxTiles['Effect'] = np.where((maxTiles['Activation']>=orig_cutoffA) & (maxTiles['Repression']>=orig_cutoffR), 'dual', maxTiles['Effect'])\n",
    "maxTiles = maxTiles[['Tile ID', 'Tile Start', 'Tile End', 'Effect', 'Protein', 'Virus Abbreviation']]\n",
    "\n",
    "prot_seqs = pd.read_csv('../Supplemental Tables - CSV/HHV-perturbation/HHV_Hits_DMS_codon-opt-proteins_oligos.csv')\n",
    "prot_seqs = prot_seqs[['Name', 'Protein Sequence']].rename(columns={'Name':'Full Tile ID'})\n",
    "\n",
    "# process files\n",
    "Act, threshA = process_screen(Act, 'Act', 2, 50)\n",
    "Act = add_info(Act, fiducials, maxTiles, prot_seqs)\n",
    "Act.to_csv('../Supplemental Tables - CSV/HHV-perturbation/HHVpert_ActivD2_combo_expanded.csv', index=False)\n",
    "\n",
    "Rep, threshR = process_screen(Rep, 'Rep', 2, 50)\n",
    "Rep = add_info(Rep, fiducials, maxTiles, prot_seqs)\n",
    "Rep.to_csv('../Supplemental Tables - CSV/HHV-perturbation/HHVpert_ReprD5_combo_expanded.csv', index=False)\n",
    "\n",
    "print('Activation threshold: %s' % str(threshA))\n",
    "print('Repression threshold: %s' % str(threshR))\n",
    "print('Complete')"
   ]
  },
  {
   "cell_type": "code",
   "execution_count": null,
   "metadata": {},
   "outputs": [],
   "source": [
    "# HHVpertA_params = [1.12690357e+02, -8.54491618e-02, 7.74320312e-01, -1.26350798e+01]\n",
    "# HHVpertR_params = [110.2344217, 1.05645013, 0.8194159, -2.01826796]"
   ]
  },
  {
   "cell_type": "markdown",
   "metadata": {},
   "source": [
    "### Screen reproducibility plots"
   ]
  },
  {
   "cell_type": "markdown",
   "metadata": {},
   "source": [
    "#### Scatterplots featured in S4D & S4H"
   ]
  },
  {
   "cell_type": "code",
   "execution_count": 4,
   "metadata": {},
   "outputs": [
    {
     "data": {
      "image/png": "[encoded data removed]",
      "text/plain": [
       "<Figure size 144x144 with 1 Axes>"
      ]
     },
     "metadata": {
      "needs_background": "light"
     },
     "output_type": "display_data"
    }
   ],
   "source": [
    "Act_sorted = Act.copy()\n",
    "Act_sorted['WT Effect'] = np.where(Act_sorted['Effect']=='-', 'random', Act_sorted['Effect'])\n",
    "Act_sorted['WT Effect'] = pd.Categorical(Act_sorted['WT Effect'], categories=['random', 'activator', 'repressor', 'dual'])\n",
    "\n",
    "x = [threshA-2, threshA+2]\n",
    "y = [threshA+2, threshA-2]\n",
    "ticks = [-6, -3, 0, 3, 6]\n",
    "reproduce_colors = ['#999999', '#E3B919', '#1BC6EE', '#EA7063']\n",
    "\n",
    "plt.figure(figsize=(2,2))\n",
    "sns.scatterplot(data=Act_sorted, x='R1', y='R2', hue='WT Effect', linewidth=0, s=4, palette=sns.color_palette(reproduce_colors))\n",
    "plt.plot(x, y, ls=':', color='#333333', lw=1)\n",
    "plt.annotate(xy=(-2, 1), text='Activators', rotation=45)\n",
    "plt.annotate(xy=(-7.2, 5.5), text=('n = %s tiles' % format(len(Act_sorted), ',d')))\n",
    "plt.legend(loc='lower right', bbox_to_anchor=(1,0), frameon=False, labelspacing=0, handletextpad=-0.5, borderpad=-0.2,\n",
    "           title='WT Effect', markerscale=0.5)\n",
    "\n",
    "plt.xlim(-8.5, 7.2)\n",
    "plt.xticks(ticks)\n",
    "plt.yticks(ticks)\n",
    "plt.ylim(-8.5, 7.2)\n",
    "plt.xlabel('Replicate 1, log$_2$(ON:OFF)')\n",
    "plt.ylabel('Replicate 2, log$_2$(ON:OFF)')\n",
    "plt.tight_layout()\n",
    "plt.savefig('../Individual Figure Panels/Figure S4/HHVpert_Activation_reproducibility.png', dpi=1200)"
   ]
  },
  {
   "cell_type": "code",
   "execution_count": 5,
   "metadata": {},
   "outputs": [
    {
     "data": {
      "image/png": "[encoded data removed]",
      "text/plain": [
       "<Figure size 144x144 with 1 Axes>"
      ]
     },
     "metadata": {
      "needs_background": "light"
     },
     "output_type": "display_data"
    }
   ],
   "source": [
    "Rep_sorted = Rep.copy()\n",
    "Rep_sorted['WT Effect'] = np.where(Rep_sorted['Effect']=='-', 'random', Rep_sorted['Effect'])\n",
    "Rep_sorted['WT Effect'] = pd.Categorical(Rep_sorted['WT Effect'], categories=['random', 'activator', 'repressor', 'dual'])\n",
    "\n",
    "x = [threshR-2, threshR+2]\n",
    "y = [threshR+2, threshR-2]\n",
    "ticks = [-6, -3, 0, 3, 6]\n",
    "reproduce_colors = ['#999999', '#E3B919', '#1BC6EE', '#EA7063']\n",
    "\n",
    "plt.figure(figsize=(2,2))\n",
    "sns.scatterplot(data=Rep_sorted, x='R1', y='R2', hue='WT Effect', linewidth=0, s=4, palette=sns.color_palette(reproduce_colors))\n",
    "plt.plot(x, y, ls=':', color='#333333', lw=1)\n",
    "plt.annotate(xy=(-2.5, 1.5), text='Repressors', rotation=45)\n",
    "plt.annotate(xy=(-5.4, 6.5), text=('n = %s tiles' % format(len(Rep_sorted), ',d')))\n",
    "plt.legend(loc='lower right', bbox_to_anchor=(1,0), frameon=False, labelspacing=0, handletextpad=-0.5, borderpad=-0.2,\n",
    "           title='WT Effect', markerscale=0.5)\n",
    "\n",
    "plt.xlim(-6.5, 8)\n",
    "plt.xticks(ticks)\n",
    "plt.yticks(ticks)\n",
    "plt.ylim(-6.5, 8)\n",
    "plt.xlabel('Replicate 1, log$_2$(OFF:ON)')\n",
    "plt.ylabel('Replicate 2, log$_2$(OFF:ON)')\n",
    "plt.tight_layout()\n",
    "plt.savefig('../Individual Figure Panels/Figure S4/HHVpert_Repression_reproducibility.png', dpi=1200)"
   ]
  },
  {
   "cell_type": "code",
   "execution_count": 6,
   "metadata": {},
   "outputs": [
    {
     "name": "stdout",
     "output_type": "stream",
     "text": [
      "Mean of WT Activation Std Errors: 0.21506548936633008\n",
      "Mean of WT Repression Std Errors: 0.17315610959701574\n"
     ]
    }
   ],
   "source": [
    "WT_A = np.mean(list(Act[Act['Type']=='WT']['Standard Error']))\n",
    "WT_R = np.mean(list(Rep[Rep['Type']=='WT']['Standard Error']))\n",
    "print('Mean of WT Activation Std Errors: %s' % WT_A)\n",
    "print('Mean of WT Repression Std Errors: %s' % WT_R)"
   ]
  },
  {
   "cell_type": "markdown",
   "metadata": {},
   "source": [
    "### Perturbation screen validations"
   ]
  },
  {
   "cell_type": "code",
   "execution_count": 25,
   "metadata": {},
   "outputs": [
    {
     "data": {
      "text/html": [
       "<div>\n",
       "<style scoped>\n",
       "    .dataframe tbody tr th:only-of-type {\n",
       "        vertical-align: middle;\n",
       "    }\n",
       "\n",
       "    .dataframe tbody tr th {\n",
       "        vertical-align: top;\n",
       "    }\n",
       "\n",
       "    .dataframe thead th {\n",
       "        text-align: right;\n",
       "    }\n",
       "</style>\n",
       "<table border=\"1\" class=\"dataframe\">\n",
       "  <thead>\n",
       "    <tr style=\"text-align: right;\">\n",
       "      <th></th>\n",
       "      <th>Reporter</th>\n",
       "      <th>Condition</th>\n",
       "      <th>Construct</th>\n",
       "      <th>Protein</th>\n",
       "      <th>Replicate</th>\n",
       "      <th>Time</th>\n",
       "      <th>FSC 488/10-A</th>\n",
       "      <th>FSC 488/10-H</th>\n",
       "      <th>SSC 488/10-A</th>\n",
       "      <th>mCherry-A</th>\n",
       "      <th>mCitrine-A</th>\n",
       "      <th>P1</th>\n",
       "      <th>P2</th>\n",
       "      <th>mCherry</th>\n",
       "      <th>Citrine_Act</th>\n",
       "      <th>Citrine_Rep</th>\n",
       "    </tr>\n",
       "  </thead>\n",
       "  <tbody>\n",
       "    <tr>\n",
       "      <th>0</th>\n",
       "      <td>DY032</td>\n",
       "      <td>dox</td>\n",
       "      <td>CL109</td>\n",
       "      <td>EBV EBNA2 (B95-8)</td>\n",
       "      <td>Rep1</td>\n",
       "      <td>2.0</td>\n",
       "      <td>8.011471e+08</td>\n",
       "      <td>5.241023e+08</td>\n",
       "      <td>3.367501e+08</td>\n",
       "      <td>7.823060e+07</td>\n",
       "      <td>1.508198e+08</td>\n",
       "      <td>1.0</td>\n",
       "      <td>1.0</td>\n",
       "      <td>1.0</td>\n",
       "      <td>0.932259</td>\n",
       "      <td>0.842341</td>\n",
       "    </tr>\n",
       "    <tr>\n",
       "      <th>1</th>\n",
       "      <td>DY032</td>\n",
       "      <td>dox</td>\n",
       "      <td>CL109</td>\n",
       "      <td>EBV EBNA2 (B95-8)</td>\n",
       "      <td>Rep2</td>\n",
       "      <td>2.0</td>\n",
       "      <td>8.314875e+08</td>\n",
       "      <td>5.439350e+08</td>\n",
       "      <td>3.357448e+08</td>\n",
       "      <td>7.713868e+07</td>\n",
       "      <td>1.438074e+08</td>\n",
       "      <td>1.0</td>\n",
       "      <td>1.0</td>\n",
       "      <td>1.0</td>\n",
       "      <td>0.931575</td>\n",
       "      <td>0.847232</td>\n",
       "    </tr>\n",
       "    <tr>\n",
       "      <th>2</th>\n",
       "      <td>DY032</td>\n",
       "      <td>dox</td>\n",
       "      <td>CL113</td>\n",
       "      <td>VZV VP16</td>\n",
       "      <td>Rep1</td>\n",
       "      <td>2.0</td>\n",
       "      <td>7.520591e+08</td>\n",
       "      <td>4.924653e+08</td>\n",
       "      <td>3.009498e+08</td>\n",
       "      <td>1.057049e+08</td>\n",
       "      <td>9.264276e+07</td>\n",
       "      <td>1.0</td>\n",
       "      <td>1.0</td>\n",
       "      <td>1.0</td>\n",
       "      <td>0.904672</td>\n",
       "      <td>0.798948</td>\n",
       "    </tr>\n",
       "    <tr>\n",
       "      <th>3</th>\n",
       "      <td>DY032</td>\n",
       "      <td>dox</td>\n",
       "      <td>CL113</td>\n",
       "      <td>VZV VP16</td>\n",
       "      <td>Rep2</td>\n",
       "      <td>2.0</td>\n",
       "      <td>7.772120e+08</td>\n",
       "      <td>5.122631e+08</td>\n",
       "      <td>2.971269e+08</td>\n",
       "      <td>1.058140e+08</td>\n",
       "      <td>9.001856e+07</td>\n",
       "      <td>1.0</td>\n",
       "      <td>1.0</td>\n",
       "      <td>1.0</td>\n",
       "      <td>0.905974</td>\n",
       "      <td>0.793772</td>\n",
       "    </tr>\n",
       "    <tr>\n",
       "      <th>4</th>\n",
       "      <td>DY032</td>\n",
       "      <td>dox</td>\n",
       "      <td>CL114</td>\n",
       "      <td>EBV RTA</td>\n",
       "      <td>Rep1</td>\n",
       "      <td>2.0</td>\n",
       "      <td>7.958771e+08</td>\n",
       "      <td>5.223842e+08</td>\n",
       "      <td>3.124008e+08</td>\n",
       "      <td>7.795502e+07</td>\n",
       "      <td>1.187524e+08</td>\n",
       "      <td>1.0</td>\n",
       "      <td>1.0</td>\n",
       "      <td>1.0</td>\n",
       "      <td>0.931894</td>\n",
       "      <td>0.857194</td>\n",
       "    </tr>\n",
       "    <tr>\n",
       "      <th>...</th>\n",
       "      <td>...</td>\n",
       "      <td>...</td>\n",
       "      <td>...</td>\n",
       "      <td>...</td>\n",
       "      <td>...</td>\n",
       "      <td>...</td>\n",
       "      <td>...</td>\n",
       "      <td>...</td>\n",
       "      <td>...</td>\n",
       "      <td>...</td>\n",
       "      <td>...</td>\n",
       "      <td>...</td>\n",
       "      <td>...</td>\n",
       "      <td>...</td>\n",
       "      <td>...</td>\n",
       "      <td>...</td>\n",
       "    </tr>\n",
       "    <tr>\n",
       "      <th>219</th>\n",
       "      <td>JT039</td>\n",
       "      <td>nodox</td>\n",
       "      <td>CL450</td>\n",
       "      <td>KSHV VIRF3</td>\n",
       "      <td>Rep2</td>\n",
       "      <td>5.0</td>\n",
       "      <td>8.226111e+08</td>\n",
       "      <td>5.356869e+08</td>\n",
       "      <td>2.883605e+08</td>\n",
       "      <td>4.273049e+07</td>\n",
       "      <td>6.896695e+07</td>\n",
       "      <td>1.0</td>\n",
       "      <td>1.0</td>\n",
       "      <td>1.0</td>\n",
       "      <td>0.932180</td>\n",
       "      <td>0.883344</td>\n",
       "    </tr>\n",
       "    <tr>\n",
       "      <th>220</th>\n",
       "      <td>JT039</td>\n",
       "      <td>nodox</td>\n",
       "      <td>CL451</td>\n",
       "      <td>KSHV VIRF3</td>\n",
       "      <td>Rep1</td>\n",
       "      <td>5.0</td>\n",
       "      <td>9.095007e+08</td>\n",
       "      <td>6.020277e+08</td>\n",
       "      <td>3.917924e+08</td>\n",
       "      <td>1.438580e+08</td>\n",
       "      <td>1.020281e+08</td>\n",
       "      <td>1.0</td>\n",
       "      <td>1.0</td>\n",
       "      <td>1.0</td>\n",
       "      <td>0.979106</td>\n",
       "      <td>0.970186</td>\n",
       "    </tr>\n",
       "    <tr>\n",
       "      <th>221</th>\n",
       "      <td>JT039</td>\n",
       "      <td>nodox</td>\n",
       "      <td>CL451</td>\n",
       "      <td>KSHV VIRF3</td>\n",
       "      <td>Rep2</td>\n",
       "      <td>5.0</td>\n",
       "      <td>9.246286e+08</td>\n",
       "      <td>5.872980e+08</td>\n",
       "      <td>3.967420e+08</td>\n",
       "      <td>1.478457e+08</td>\n",
       "      <td>9.824240e+07</td>\n",
       "      <td>1.0</td>\n",
       "      <td>1.0</td>\n",
       "      <td>1.0</td>\n",
       "      <td>0.979645</td>\n",
       "      <td>0.969775</td>\n",
       "    </tr>\n",
       "    <tr>\n",
       "      <th>222</th>\n",
       "      <td>JT039</td>\n",
       "      <td>nodox</td>\n",
       "      <td>JT151</td>\n",
       "      <td>Human KRAB</td>\n",
       "      <td>Rep1</td>\n",
       "      <td>5.0</td>\n",
       "      <td>8.930273e+08</td>\n",
       "      <td>5.904874e+08</td>\n",
       "      <td>4.160291e+08</td>\n",
       "      <td>1.711906e+08</td>\n",
       "      <td>1.116728e+08</td>\n",
       "      <td>1.0</td>\n",
       "      <td>1.0</td>\n",
       "      <td>1.0</td>\n",
       "      <td>0.956987</td>\n",
       "      <td>0.936094</td>\n",
       "    </tr>\n",
       "    <tr>\n",
       "      <th>223</th>\n",
       "      <td>JT039</td>\n",
       "      <td>nodox</td>\n",
       "      <td>JT151</td>\n",
       "      <td>Human KRAB</td>\n",
       "      <td>Rep2</td>\n",
       "      <td>5.0</td>\n",
       "      <td>8.782723e+08</td>\n",
       "      <td>5.808656e+08</td>\n",
       "      <td>3.860527e+08</td>\n",
       "      <td>1.645071e+08</td>\n",
       "      <td>1.037858e+08</td>\n",
       "      <td>1.0</td>\n",
       "      <td>1.0</td>\n",
       "      <td>1.0</td>\n",
       "      <td>0.954703</td>\n",
       "      <td>0.929647</td>\n",
       "    </tr>\n",
       "  </tbody>\n",
       "</table>\n",
       "<p>224 rows × 16 columns</p>\n",
       "</div>"
      ],
      "text/plain": [
       "    Reporter Condition Construct            Protein Replicate  Time  \\\n",
       "0      DY032       dox     CL109  EBV EBNA2 (B95-8)      Rep1   2.0   \n",
       "1      DY032       dox     CL109  EBV EBNA2 (B95-8)      Rep2   2.0   \n",
       "2      DY032       dox     CL113           VZV VP16      Rep1   2.0   \n",
       "3      DY032       dox     CL113           VZV VP16      Rep2   2.0   \n",
       "4      DY032       dox     CL114            EBV RTA      Rep1   2.0   \n",
       "..       ...       ...       ...                ...       ...   ...   \n",
       "219    JT039     nodox     CL450         KSHV VIRF3      Rep2   5.0   \n",
       "220    JT039     nodox     CL451         KSHV VIRF3      Rep1   5.0   \n",
       "221    JT039     nodox     CL451         KSHV VIRF3      Rep2   5.0   \n",
       "222    JT039     nodox     JT151         Human KRAB      Rep1   5.0   \n",
       "223    JT039     nodox     JT151         Human KRAB      Rep2   5.0   \n",
       "\n",
       "     FSC 488/10-A  FSC 488/10-H  SSC 488/10-A     mCherry-A    mCitrine-A  \\\n",
       "0    8.011471e+08  5.241023e+08  3.367501e+08  7.823060e+07  1.508198e+08   \n",
       "1    8.314875e+08  5.439350e+08  3.357448e+08  7.713868e+07  1.438074e+08   \n",
       "2    7.520591e+08  4.924653e+08  3.009498e+08  1.057049e+08  9.264276e+07   \n",
       "3    7.772120e+08  5.122631e+08  2.971269e+08  1.058140e+08  9.001856e+07   \n",
       "4    7.958771e+08  5.223842e+08  3.124008e+08  7.795502e+07  1.187524e+08   \n",
       "..            ...           ...           ...           ...           ...   \n",
       "219  8.226111e+08  5.356869e+08  2.883605e+08  4.273049e+07  6.896695e+07   \n",
       "220  9.095007e+08  6.020277e+08  3.917924e+08  1.438580e+08  1.020281e+08   \n",
       "221  9.246286e+08  5.872980e+08  3.967420e+08  1.478457e+08  9.824240e+07   \n",
       "222  8.930273e+08  5.904874e+08  4.160291e+08  1.711906e+08  1.116728e+08   \n",
       "223  8.782723e+08  5.808656e+08  3.860527e+08  1.645071e+08  1.037858e+08   \n",
       "\n",
       "      P1   P2  mCherry  Citrine_Act  Citrine_Rep  \n",
       "0    1.0  1.0      1.0     0.932259     0.842341  \n",
       "1    1.0  1.0      1.0     0.931575     0.847232  \n",
       "2    1.0  1.0      1.0     0.904672     0.798948  \n",
       "3    1.0  1.0      1.0     0.905974     0.793772  \n",
       "4    1.0  1.0      1.0     0.931894     0.857194  \n",
       "..   ...  ...      ...          ...          ...  \n",
       "219  1.0  1.0      1.0     0.932180     0.883344  \n",
       "220  1.0  1.0      1.0     0.979106     0.970186  \n",
       "221  1.0  1.0      1.0     0.979645     0.969775  \n",
       "222  1.0  1.0      1.0     0.956987     0.936094  \n",
       "223  1.0  1.0      1.0     0.954703     0.929647  \n",
       "\n",
       "[224 rows x 16 columns]"
      ]
     },
     "execution_count": 25,
     "metadata": {},
     "output_type": "execute_result"
    }
   ],
   "source": [
    "df = pd.read_csv('../Flow Single-Cell Data - CSV/HHVpert_Screen_validations_endpoint_single-cell.csv')\n",
    "df = df[(df['P1']==True) & (df['P2']==True) & (df['mCherry']==True)]\n",
    "df = df.rename(columns={'Citrine':'Citrine_Act'})\n",
    "df['Citrine_Rep'] = np.where(df['mCitrine-A']>1e7, True, False)\n",
    "df.loc[df['Protein'].isna(), 'Protein'] = 'empty' \n",
    "\n",
    "aggdf = df.groupby(by=['Reporter', 'Condition', 'Construct', 'Protein', 'Replicate', 'Time'], as_index=False).mean()\n",
    "aggdf"
   ]
  },
  {
   "cell_type": "code",
   "execution_count": 26,
   "metadata": {},
   "outputs": [
    {
     "name": "stdout",
     "output_type": "stream",
     "text": [
      "Complete\n"
     ]
    }
   ],
   "source": [
    "constructDict = {'CL144':['Human', 'MYBA', '', ''],\n",
    "                 'JT151':['Human', 'KRAB', '', ''],\n",
    "                 'JT126':['', 'empty', '', '']}\n",
    "\n",
    "dataA = pd.read_csv('../Supplemental Tables - CSV/HHV-perturbation/HHVpert_ActivD2_combo_expanded.csv')\n",
    "dataA['Screen'] = 'Activation'\n",
    "dataR = pd.read_csv('../Supplemental Tables - CSV/HHV-perturbation/HHVpert_ReprD5_combo_expanded.csv')\n",
    "dataR['Screen'] = 'Repression'\n",
    "data = pd.concat([dataA, dataR])\n",
    "key = pd.read_csv('../Flow Single-Cell Data - CSV/HHVpert_validations_key.csv')\n",
    "key = key[['Construct', 'Tile_ID']].rename(columns={'Tile_ID':'Full Tile ID'})\n",
    "key = pd.merge(key, data, on='Full Tile ID', how='left')\n",
    "\n",
    "for i in constructDict:\n",
    "    key.loc[key['Construct']==i, 'Virus Abbreviation'] = constructDict[i][0]\n",
    "    key.loc[key['Construct']==i, 'Protein'] = constructDict[i][1]\n",
    "    key.loc[key['Construct']==i, 'Tile Start'] = constructDict[i][2]\n",
    "    key.loc[key['Construct']==i, 'Tile End'] = constructDict[i][3]\n",
    "    \n",
    "aggdfA = aggdf[aggdf['Reporter']=='DY032']\n",
    "aggdfA = aggdfA[['Construct', 'Condition', 'Replicate', 'Citrine_Act']]\n",
    "aggdfA['Citrine OFF'] = 1 - aggdfA['Citrine_Act']\n",
    "\n",
    "normdf = aggdfA.copy()\n",
    "normdf['Citrine ON'] = normdf['Citrine_Act']*100\n",
    "normdf = normdf.groupby(by=['Construct', 'Condition'])['Citrine ON'].agg(['mean', 'std']).reset_index()\n",
    "normdf = normdf.rename(columns={'mean':'Citrine ON', 'std':'ON std'})\n",
    "keyA = pd.merge(key, normdf, on='Construct', how='left')\n",
    "\n",
    "aggdfR = aggdf[aggdf['Reporter']=='JT039']\n",
    "aggdfR = aggdfR[['Construct', 'Condition', 'Replicate', 'Citrine_Rep']]\n",
    "aggdfR['Citrine OFF'] = 1 - aggdfR['Citrine_Rep']\n",
    "\n",
    "normdf = aggdfR.copy()\n",
    "normdf['Citrine OFF'] = normdf['Citrine OFF']*100\n",
    "normdf = normdf.groupby(by=['Construct', 'Condition'])['Citrine OFF'].agg(['mean', 'std']).reset_index()\n",
    "normdf = normdf.rename(columns={'mean':'Citrine OFF', 'std':'OFF std'})\n",
    "\n",
    "keyR = pd.merge(key, normdf, on='Construct', how='left')\n",
    "print('Complete')"
   ]
  },
  {
   "cell_type": "code",
   "execution_count": 36,
   "metadata": {},
   "outputs": [
    {
     "name": "stdout",
     "output_type": "stream",
     "text": [
      "Complete\n"
     ]
    }
   ],
   "source": [
    "keyA_save = keyA[keyA['Screen']!='Repression']\n",
    "keyA_save = keyA_save[['Construct', 'Full Tile ID', 'Virus Abbreviation', 'Protein', 'Avg', 'Standard Error', 'Condition', 'Citrine ON', 'ON std']]\n",
    "keyA_save = keyA_save[~keyA_save['Citrine ON'].isna()].reset_index(drop=True)\n",
    "keyA_save = keyA_save.rename(columns={'Full Tile ID':'Tile ID', 'Virus Abbreviation':'Virus', 'Avg':'Screen Score Mean', 'Standard Error':'Screen Score Std Error',\n",
    "                                      'Citrine ON':'Flow Cytometry %ON Mean', 'ON std':'Flow Cytometry %ON Std Dev'})\n",
    "keyA_save = keyA_save.drop_duplicates()\n",
    "keyA_save.to_csv('../Flow Summaries - CSV/HHV-perturbation_Act_screen_validation_summary.csv', index=False)\n",
    "\n",
    "keyR_save = keyR[keyR['Screen']!='Activation']\n",
    "keyR_save = keyR_save[['Construct', 'Full Tile ID', 'Virus Abbreviation', 'Protein', 'Avg', 'Standard Error', 'Condition', 'Citrine OFF', 'OFF std']]\n",
    "keyR_save = keyR_save[~keyR_save['Citrine OFF'].isna()].reset_index(drop=True)\n",
    "keyR_save = keyR_save.rename(columns={'Full Tile ID':'Tile ID', 'Virus Abbreviation':'Virus', 'Avg':'Screen Score Mean', 'Standard Error':'Screen Score Std Error',\n",
    "                                      'Citrine OFF':'Flow Cytometry %OFF Mean', 'OFF std':'Flow Cytometry %OFF Std Dev'})\n",
    "keyR_save = keyR_save.drop_duplicates()\n",
    "keyR_save.to_csv('../Flow Summaries - CSV/HHV-perturbation_Repr_screen_validation_summary.csv', index=False)\n",
    "print('Complete')"
   ]
  },
  {
   "cell_type": "markdown",
   "metadata": {},
   "source": [
    "#### Activation screen correlation plot featured in Fig. S4F"
   ]
  },
  {
   "cell_type": "code",
   "execution_count": 30,
   "metadata": {},
   "outputs": [
    {
     "name": "stdout",
     "output_type": "stream",
     "text": [
      "[ 1.12690386e+02 -8.54501108e-02  7.74320033e-01 -1.26351069e+01]\n",
      "0.9540322580645161 1.0236308881803934e-16\n"
     ]
    },
    {
     "data": {
      "image/png": "[encoded data removed]",
      "text/plain": [
       "<Figure size 122.4x144 with 1 Axes>"
      ]
     },
     "metadata": {
      "needs_background": "light"
     },
     "output_type": "display_data"
    }
   ],
   "source": [
    "from scipy.optimize import curve_fit\n",
    "from scipy.stats import spearmanr\n",
    "colorA = '#F3CE48'\n",
    "\n",
    "plt.figure(figsize=(1.7,2))\n",
    "plotDF = keyA[(keyA['Condition']=='dox') & (keyA['Screen']!='Repression') & (~keyA['Citrine ON'].isna()) & (~keyA['Avg'].isna())].sort_values('Avg')\n",
    "plotDF = plotDF.drop_duplicates()\n",
    "\n",
    "sns.scatterplot(data=plotDF, x='Avg', y='Citrine ON', color=colorA, s=10)\n",
    "x = np.array(list(plotDF['Avg']))\n",
    "y = np.array(list(plotDF['Citrine ON']))\n",
    "xerr = list(plotDF['Standard Error'])\n",
    "yerr = list(plotDF['ON std'])\n",
    "for xi, yi, xe, ye in zip(list(x), list(y), xerr, yerr):\n",
    "    plt.errorbar(x=xi, y=yi, xerr=xe, yerr=ye, color=colorA, lw=1)\n",
    "\n",
    "def logistic(x, A, x0, k, off):\n",
    "    return A/(1 + np.exp(-k*(x-x0)))+off\n",
    "p, _ = curve_fit(logistic, x, y, p0=[30,6,1,0])\n",
    "print(p)\n",
    "plt.plot(x, logistic(x, *p), color='#999999', lw=1, zorder=0)\n",
    "\n",
    "coef, p = spearmanr(x, y)\n",
    "print(coef, p)\n",
    "plt.annotate('r = ' + str(round(coef, 2)), xy=(4, 0), ha='right', va='bottom')\n",
    "plt.axvline(x=threshA, ls=':', lw=1, color='#333333')\n",
    "plt.xlabel('Act. log$_2$(ON:OFF)')\n",
    "plt.ylabel('% mCitrine ON')\n",
    "plt.ylim(-5, 105)\n",
    "plt.tight_layout()\n",
    "plt.savefig('../Individual Figure Panels/Figure S4/HHVpert_Act_screen-validation_correlation.png', dpi=1200)\n"
   ]
  },
  {
   "cell_type": "markdown",
   "metadata": {},
   "source": [
    "#### Repression screen correlation plot featured in Fig. S4J"
   ]
  },
  {
   "cell_type": "code",
   "execution_count": 31,
   "metadata": {},
   "outputs": [
    {
     "name": "stdout",
     "output_type": "stream",
     "text": [
      "[110.23441804   1.05645011   0.81941594  -2.01826638]\n",
      "0.9661538461538461 4.966365671376562e-15\n"
     ]
    },
    {
     "data": {
      "image/png": "[encoded data removed]",
      "text/plain": [
       "<Figure size 122.4x144 with 1 Axes>"
      ]
     },
     "metadata": {
      "needs_background": "light"
     },
     "output_type": "display_data"
    }
   ],
   "source": [
    "from scipy.optimize import curve_fit\n",
    "from scipy.stats import spearmanr\n",
    "colorR = '#23BEDB' #'#1BC6EE'\n",
    "\n",
    "plt.figure(figsize=(1.7,2))\n",
    "plotDF = keyR[(keyR['Condition']=='dox') & (keyR['Screen']!='Activation') & (~keyR['Citrine OFF'].isna()) & (~keyR['Avg'].isna())].sort_values('Avg')\n",
    "plotDF = plotDF.drop_duplicates()\n",
    "\n",
    "sns.scatterplot(data=plotDF, x='Avg', y='Citrine OFF', color=colorR, s=10)\n",
    "x = np.array(list(plotDF['Avg']))\n",
    "y = np.array(list(plotDF['Citrine OFF']))\n",
    "xerr = list(plotDF['Standard Error'])\n",
    "yerr = list(plotDF['OFF std'])\n",
    "for xi, yi, xe, ye in zip(list(x), list(y), xerr, yerr):\n",
    "    plt.errorbar(x=xi, y=yi, xerr=xe, yerr=ye, color=colorR, lw=1)\n",
    "\n",
    "def logistic(x, A, x0, k, off):\n",
    "    return A/(1 + np.exp(-k*(x-x0)))+off\n",
    "p, _ = curve_fit(logistic, x, y, p0=[100,6,1,0])\n",
    "print(p)\n",
    "plt.plot(x, logistic(x, *p), color='#999999', lw=1, zorder=0)\n",
    "\n",
    "coef, p = spearmanr(x, y)\n",
    "print(coef, p)\n",
    "plt.annotate('r = ' + str(round(coef, 2)), xy=(5.5, 0), ha='right', va='bottom')\n",
    "plt.axvline(x=threshR, ls=':', lw=1, color='#333333')\n",
    "plt.xlabel('Repr. log$_2$(OFF:ON)')\n",
    "plt.ylabel('% mCitrine OFF')\n",
    "plt.ylim(-5, 105)\n",
    "plt.tight_layout()\n",
    "plt.savefig('../Individual Figure Panels/Figure S4/HHVpert_Rep_screen-validation_correlation.png', dpi=1200)\n"
   ]
  },
  {
   "cell_type": "markdown",
   "metadata": {},
   "source": [
    "#### All validation flow cytometry distributions (not featured in a figure panel)"
   ]
  },
  {
   "cell_type": "code",
   "execution_count": 35,
   "metadata": {},
   "outputs": [
    {
     "name": "stderr",
     "output_type": "stream",
     "text": [
      "<ipython-input-35-6e0410464d6f>:22: SettingWithCopyWarning: \n",
      "A value is trying to be set on a copy of a slice from a DataFrame.\n",
      "Try using .loc[row_indexer,col_indexer] = value instead\n",
      "\n",
      "See the caveats in the documentation: https://pandas.pydata.org/pandas-docs/stable/user_guide/indexing.html#returning-a-view-versus-a-copy\n",
      "  df['mCitrine'] = np.log10(df['mCitrine-A'])\n",
      "<ipython-input-35-6e0410464d6f>:22: SettingWithCopyWarning: \n",
      "A value is trying to be set on a copy of a slice from a DataFrame.\n",
      "Try using .loc[row_indexer,col_indexer] = value instead\n",
      "\n",
      "See the caveats in the documentation: https://pandas.pydata.org/pandas-docs/stable/user_guide/indexing.html#returning-a-view-versus-a-copy\n",
      "  df['mCitrine'] = np.log10(df['mCitrine-A'])\n"
     ]
    },
    {
     "name": "stdout",
     "output_type": "stream",
     "text": [
      "Complete\n"
     ]
    }
   ],
   "source": [
    "font = {'size':8,\n",
    "        'family':'Arial'}\n",
    "matplotlib.rc('font', **font)\n",
    "\n",
    "def plot_validations(df, screentype, key):\n",
    "    if screentype == 'Activation':\n",
    "        reporter = 'DY032'\n",
    "        color = '#F3CE48'\n",
    "        yvar = 'Citrine ON'\n",
    "#         yvar = 'Citrine_Act'\n",
    "        opposite = 'Repression'\n",
    "        cutoff = 3e6\n",
    "    elif screentype == 'Repression':\n",
    "        reporter = 'JT039'\n",
    "        color = '#23BEDB'\n",
    "        yvar = 'Citrine OFF'\n",
    "#         yvar = 'Citrine_Rep'\n",
    "        opposite = 'Activation'\n",
    "        cutoff = 1e7\n",
    "    \n",
    "    df = df[df['Reporter']==reporter]\n",
    "    df['mCitrine'] = np.log10(df['mCitrine-A'])\n",
    "    df = df.drop(columns='Protein')\n",
    "    df = pd.merge(df, key[['Construct', 'Avg', 'Virus Abbreviation', 'Protein', 'Mutation', 'Tile Start', 'Tile End', yvar, 'Screen']], how='left', on='Construct')\n",
    "    df.loc[df['Avg'].isna(), 'Avg'] = -10\n",
    "    df['Condition'] = pd.Categorical(df['Condition'], categories=['nodox', 'dox'], ordered=True)\n",
    "    df = df.sort_values(by=['Avg', 'Condition', 'Replicate'], ascending=[False, True, True])\n",
    "    df['Condition-Replicate'] = df['Condition'].astype(str) + '-' + df['Replicate']\n",
    "\n",
    "    labeldf = df[df['Screen']!=opposite].sort_values(by=['Avg'], ascending=False)\n",
    "    labeldf = labeldf[['Construct', 'Virus Abbreviation', 'Protein', 'Mutation', 'Tile Start', 'Tile End', yvar, 'Avg']].drop_duplicates()\n",
    "    labeldf['Tile Start'] = np.where(labeldf['Tile Start']=='', labeldf['Tile Start'], labeldf['Tile Start'].astype(str).str.split('.').str[0])\n",
    "    labeldf['Tile End'] = np.where(labeldf['Tile End']=='', labeldf['Tile End'], labeldf['Tile End'].astype(str).str.split('.').str[0])\n",
    "    labeldf['Sample'] = np.where(labeldf['Tile Start']=='', labeldf['Virus Abbreviation'] + ' ' + labeldf['Protein'],\n",
    "                             labeldf['Virus Abbreviation'] + ' ' + labeldf['Protein'] + ' ' + labeldf['Mutation'] + '\\n[' \\\n",
    "                             + labeldf['Tile Start'] + '-' + labeldf['Tile End'] + ']')\n",
    "\n",
    "    samples = dict(zip(list(labeldf['Construct']), list(labeldf['Sample'])))\n",
    "    df['Sample'] = df['Construct'].map(samples)\n",
    "    df = df[df['Screen']!=opposite].sort_values(by=['Avg', 'Condition', 'Replicate'], ascending=[False, True, True])\n",
    "#     print(df)\n",
    "    \n",
    "    if screentype == 'Activation':\n",
    "        ON = list(labeldf[yvar])\n",
    "        ON = [round(on, 1) for on in ON]\n",
    "        OFF = [str(round(100-on, 1)) + '%' for on in ON]\n",
    "        ON = [str(on) + '%' for on in ON]\n",
    "        \n",
    "    elif screentype == 'Repression':\n",
    "        OFF = list(labeldf[yvar])\n",
    "        OFF = [round(off, 1) for off in OFF]\n",
    "        ON = [str(round(100-off, 1)) + '%' for off in OFF]\n",
    "        OFF = [str(off) + '%' for off in OFF]\n",
    "        \n",
    "    pal = sns.color_palette(['#999999', '#999999', color, color])\n",
    "    \n",
    "    g = sns.FacetGrid(data=df, col='Sample', col_wrap=6,\n",
    "                      hue='Condition-Replicate', palette=pal,\n",
    "                      aspect=1, height=1.25)\n",
    "    g.map(sns.kdeplot, 'mCitrine', fill=True, bw_adjust=0.2)\n",
    "    g.map(plt.axvline, x=np.log10(cutoff), ls=':', color='#333333', lw=1)\n",
    "    g.set_titles(template='{col_name}')\n",
    "    plt.xlim([4.5,9.5])\n",
    "    plt.ylim([0,4])\n",
    "    plt.xticks([5, 6, 7, 8, 9], ['10$^5$', '10$^6$', '10$^7$', '10$^8$', '10$^9$'])\n",
    "    for ax, on, off in zip(g.axes.flat, ON, OFF):\n",
    "        ax.text(0.05, 0.95, off, transform=ax.transAxes, ha='left', va='top')\n",
    "        ax.text(0.95, 0.95, on, transform=ax.transAxes, ha='right', va='top')\n",
    "#         ax.set_xlabel('mCitrine')\n",
    "        ax.grid(False)\n",
    "    plt.savefig('../Individual Figure Panels/Figure S4/HHVpert_%s_validations_kdeplot.png' % screentype, dpi=1200)\n",
    "    plt.close()\n",
    "\n",
    "plot_validations(df, 'Activation', keyA)\n",
    "plot_validations(df, 'Repression', keyR)\n",
    "print('Complete')"
   ]
  },
  {
   "cell_type": "markdown",
   "metadata": {},
   "source": [
    "#### Separate multi-plot figures, grouped by protein so that WT and mutants are together; not featured in a figure panel EXCEPT for KSHV VIRF2 and VIRF4 in Fig. 5E-G"
   ]
  },
  {
   "cell_type": "code",
   "execution_count": 84,
   "metadata": {},
   "outputs": [
    {
     "name": "stderr",
     "output_type": "stream",
     "text": [
      "<ipython-input-84-4f1cd2d5dd84>:97: SettingWithCopyWarning: \n",
      "A value is trying to be set on a copy of a slice from a DataFrame.\n",
      "Try using .loc[row_indexer,col_indexer] = value instead\n",
      "\n",
      "See the caveats in the documentation: https://pandas.pydata.org/pandas-docs/stable/user_guide/indexing.html#returning-a-view-versus-a-copy\n",
      "  keyA2['Protein'] = keyA2['Virus Abbreviation'] + ' ' + keyA2['Protein']\n",
      "<ipython-input-84-4f1cd2d5dd84>:24: SettingWithCopyWarning: \n",
      "A value is trying to be set on a copy of a slice from a DataFrame.\n",
      "Try using .loc[row_indexer,col_indexer] = value instead\n",
      "\n",
      "See the caveats in the documentation: https://pandas.pydata.org/pandas-docs/stable/user_guide/indexing.html#returning-a-view-versus-a-copy\n",
      "  df['mCitrine'] = np.log10(df['mCitrine-A'])\n"
     ]
    },
    {
     "name": "stdout",
     "output_type": "stream",
     "text": [
      "EBV UL95\n",
      "KSHV ORF10\n"
     ]
    },
    {
     "name": "stderr",
     "output_type": "stream",
     "text": [
      "<ipython-input-84-4f1cd2d5dd84>:24: SettingWithCopyWarning: \n",
      "A value is trying to be set on a copy of a slice from a DataFrame.\n",
      "Try using .loc[row_indexer,col_indexer] = value instead\n",
      "\n",
      "See the caveats in the documentation: https://pandas.pydata.org/pandas-docs/stable/user_guide/indexing.html#returning-a-view-versus-a-copy\n",
      "  df['mCitrine'] = np.log10(df['mCitrine-A'])\n"
     ]
    },
    {
     "name": "stdout",
     "output_type": "stream",
     "text": [
      "KSHV VIRF2\n"
     ]
    },
    {
     "name": "stderr",
     "output_type": "stream",
     "text": [
      "<ipython-input-84-4f1cd2d5dd84>:24: SettingWithCopyWarning: \n",
      "A value is trying to be set on a copy of a slice from a DataFrame.\n",
      "Try using .loc[row_indexer,col_indexer] = value instead\n",
      "\n",
      "See the caveats in the documentation: https://pandas.pydata.org/pandas-docs/stable/user_guide/indexing.html#returning-a-view-versus-a-copy\n",
      "  df['mCitrine'] = np.log10(df['mCitrine-A'])\n"
     ]
    },
    {
     "name": "stdout",
     "output_type": "stream",
     "text": [
      "VZV VP16\n"
     ]
    },
    {
     "name": "stderr",
     "output_type": "stream",
     "text": [
      "<ipython-input-84-4f1cd2d5dd84>:24: SettingWithCopyWarning: \n",
      "A value is trying to be set on a copy of a slice from a DataFrame.\n",
      "Try using .loc[row_indexer,col_indexer] = value instead\n",
      "\n",
      "See the caveats in the documentation: https://pandas.pydata.org/pandas-docs/stable/user_guide/indexing.html#returning-a-view-versus-a-copy\n",
      "  df['mCitrine'] = np.log10(df['mCitrine-A'])\n"
     ]
    },
    {
     "name": "stdout",
     "output_type": "stream",
     "text": [
      "KSHV VIRF4\n",
      "HHV6A U95\n",
      "HCMV IE2\n"
     ]
    },
    {
     "name": "stderr",
     "output_type": "stream",
     "text": [
      "<ipython-input-84-4f1cd2d5dd84>:24: SettingWithCopyWarning: \n",
      "A value is trying to be set on a copy of a slice from a DataFrame.\n",
      "Try using .loc[row_indexer,col_indexer] = value instead\n",
      "\n",
      "See the caveats in the documentation: https://pandas.pydata.org/pandas-docs/stable/user_guide/indexing.html#returning-a-view-versus-a-copy\n",
      "  df['mCitrine'] = np.log10(df['mCitrine-A'])\n"
     ]
    },
    {
     "name": "stdout",
     "output_type": "stream",
     "text": [
      "EBV RTA\n"
     ]
    },
    {
     "name": "stderr",
     "output_type": "stream",
     "text": [
      "<ipython-input-84-4f1cd2d5dd84>:24: SettingWithCopyWarning: \n",
      "A value is trying to be set on a copy of a slice from a DataFrame.\n",
      "Try using .loc[row_indexer,col_indexer] = value instead\n",
      "\n",
      "See the caveats in the documentation: https://pandas.pydata.org/pandas-docs/stable/user_guide/indexing.html#returning-a-view-versus-a-copy\n",
      "  df['mCitrine'] = np.log10(df['mCitrine-A'])\n"
     ]
    },
    {
     "name": "stdout",
     "output_type": "stream",
     "text": [
      "KSHV VIRF3\n",
      "Human MYBA\n"
     ]
    },
    {
     "name": "stderr",
     "output_type": "stream",
     "text": [
      "<ipython-input-84-4f1cd2d5dd84>:24: SettingWithCopyWarning: \n",
      "A value is trying to be set on a copy of a slice from a DataFrame.\n",
      "Try using .loc[row_indexer,col_indexer] = value instead\n",
      "\n",
      "See the caveats in the documentation: https://pandas.pydata.org/pandas-docs/stable/user_guide/indexing.html#returning-a-view-versus-a-copy\n",
      "  df['mCitrine'] = np.log10(df['mCitrine-A'])\n"
     ]
    },
    {
     "name": "stdout",
     "output_type": "stream",
     "text": [
      "EBV MTP\n"
     ]
    },
    {
     "name": "stderr",
     "output_type": "stream",
     "text": [
      "<ipython-input-84-4f1cd2d5dd84>:24: SettingWithCopyWarning: \n",
      "A value is trying to be set on a copy of a slice from a DataFrame.\n",
      "Try using .loc[row_indexer,col_indexer] = value instead\n",
      "\n",
      "See the caveats in the documentation: https://pandas.pydata.org/pandas-docs/stable/user_guide/indexing.html#returning-a-view-versus-a-copy\n",
      "  df['mCitrine'] = np.log10(df['mCitrine-A'])\n"
     ]
    },
    {
     "name": "stdout",
     "output_type": "stream",
     "text": [
      "EBV EBNA2\n",
      "KSHV DBP\n"
     ]
    },
    {
     "name": "stderr",
     "output_type": "stream",
     "text": [
      "<ipython-input-84-4f1cd2d5dd84>:24: SettingWithCopyWarning: \n",
      "A value is trying to be set on a copy of a slice from a DataFrame.\n",
      "Try using .loc[row_indexer,col_indexer] = value instead\n",
      "\n",
      "See the caveats in the documentation: https://pandas.pydata.org/pandas-docs/stable/user_guide/indexing.html#returning-a-view-versus-a-copy\n",
      "  df['mCitrine'] = np.log10(df['mCitrine-A'])\n",
      "<ipython-input-84-4f1cd2d5dd84>:104: SettingWithCopyWarning: \n",
      "A value is trying to be set on a copy of a slice from a DataFrame.\n",
      "Try using .loc[row_indexer,col_indexer] = value instead\n",
      "\n",
      "See the caveats in the documentation: https://pandas.pydata.org/pandas-docs/stable/user_guide/indexing.html#returning-a-view-versus-a-copy\n",
      "  keyR2['Protein'] = keyR2['Virus Abbreviation'] + ' ' + keyR2['Protein']\n"
     ]
    },
    {
     "name": "stdout",
     "output_type": "stream",
     "text": [
      "EBV UL95\n",
      "KSHV KbZIP\n"
     ]
    },
    {
     "name": "stderr",
     "output_type": "stream",
     "text": [
      "<ipython-input-84-4f1cd2d5dd84>:24: SettingWithCopyWarning: \n",
      "A value is trying to be set on a copy of a slice from a DataFrame.\n",
      "Try using .loc[row_indexer,col_indexer] = value instead\n",
      "\n",
      "See the caveats in the documentation: https://pandas.pydata.org/pandas-docs/stable/user_guide/indexing.html#returning-a-view-versus-a-copy\n",
      "  df['mCitrine'] = np.log10(df['mCitrine-A'])\n"
     ]
    },
    {
     "name": "stdout",
     "output_type": "stream",
     "text": [
      "Human KRAB\n"
     ]
    },
    {
     "name": "stderr",
     "output_type": "stream",
     "text": [
      "<ipython-input-84-4f1cd2d5dd84>:24: SettingWithCopyWarning: \n",
      "A value is trying to be set on a copy of a slice from a DataFrame.\n",
      "Try using .loc[row_indexer,col_indexer] = value instead\n",
      "\n",
      "See the caveats in the documentation: https://pandas.pydata.org/pandas-docs/stable/user_guide/indexing.html#returning-a-view-versus-a-copy\n",
      "  df['mCitrine'] = np.log10(df['mCitrine-A'])\n"
     ]
    },
    {
     "name": "stdout",
     "output_type": "stream",
     "text": [
      "HHV7 U84\n"
     ]
    },
    {
     "name": "stderr",
     "output_type": "stream",
     "text": [
      "<ipython-input-84-4f1cd2d5dd84>:24: SettingWithCopyWarning: \n",
      "A value is trying to be set on a copy of a slice from a DataFrame.\n",
      "Try using .loc[row_indexer,col_indexer] = value instead\n",
      "\n",
      "See the caveats in the documentation: https://pandas.pydata.org/pandas-docs/stable/user_guide/indexing.html#returning-a-view-versus-a-copy\n",
      "  df['mCitrine'] = np.log10(df['mCitrine-A'])\n"
     ]
    },
    {
     "name": "stdout",
     "output_type": "stream",
     "text": [
      "HCMV UL29\n"
     ]
    },
    {
     "name": "stderr",
     "output_type": "stream",
     "text": [
      "<ipython-input-84-4f1cd2d5dd84>:24: SettingWithCopyWarning: \n",
      "A value is trying to be set on a copy of a slice from a DataFrame.\n",
      "Try using .loc[row_indexer,col_indexer] = value instead\n",
      "\n",
      "See the caveats in the documentation: https://pandas.pydata.org/pandas-docs/stable/user_guide/indexing.html#returning-a-view-versus-a-copy\n",
      "  df['mCitrine'] = np.log10(df['mCitrine-A'])\n"
     ]
    },
    {
     "name": "stdout",
     "output_type": "stream",
     "text": [
      "KSHV VIRF2\n"
     ]
    },
    {
     "name": "stderr",
     "output_type": "stream",
     "text": [
      "<ipython-input-84-4f1cd2d5dd84>:24: SettingWithCopyWarning: \n",
      "A value is trying to be set on a copy of a slice from a DataFrame.\n",
      "Try using .loc[row_indexer,col_indexer] = value instead\n",
      "\n",
      "See the caveats in the documentation: https://pandas.pydata.org/pandas-docs/stable/user_guide/indexing.html#returning-a-view-versus-a-copy\n",
      "  df['mCitrine'] = np.log10(df['mCitrine-A'])\n"
     ]
    },
    {
     "name": "stdout",
     "output_type": "stream",
     "text": [
      "EBV EBNA3\n",
      "HCMV UL82\n"
     ]
    },
    {
     "name": "stderr",
     "output_type": "stream",
     "text": [
      "<ipython-input-84-4f1cd2d5dd84>:24: SettingWithCopyWarning: \n",
      "A value is trying to be set on a copy of a slice from a DataFrame.\n",
      "Try using .loc[row_indexer,col_indexer] = value instead\n",
      "\n",
      "See the caveats in the documentation: https://pandas.pydata.org/pandas-docs/stable/user_guide/indexing.html#returning-a-view-versus-a-copy\n",
      "  df['mCitrine'] = np.log10(df['mCitrine-A'])\n"
     ]
    },
    {
     "name": "stdout",
     "output_type": "stream",
     "text": [
      "HHV6A U95\n",
      "HCMV IE2\n"
     ]
    },
    {
     "name": "stderr",
     "output_type": "stream",
     "text": [
      "<ipython-input-84-4f1cd2d5dd84>:24: SettingWithCopyWarning: \n",
      "A value is trying to be set on a copy of a slice from a DataFrame.\n",
      "Try using .loc[row_indexer,col_indexer] = value instead\n",
      "\n",
      "See the caveats in the documentation: https://pandas.pydata.org/pandas-docs/stable/user_guide/indexing.html#returning-a-view-versus-a-copy\n",
      "  df['mCitrine'] = np.log10(df['mCitrine-A'])\n"
     ]
    },
    {
     "name": "stdout",
     "output_type": "stream",
     "text": [
      "EBV RTA\n"
     ]
    },
    {
     "name": "stderr",
     "output_type": "stream",
     "text": [
      "<ipython-input-84-4f1cd2d5dd84>:24: SettingWithCopyWarning: \n",
      "A value is trying to be set on a copy of a slice from a DataFrame.\n",
      "Try using .loc[row_indexer,col_indexer] = value instead\n",
      "\n",
      "See the caveats in the documentation: https://pandas.pydata.org/pandas-docs/stable/user_guide/indexing.html#returning-a-view-versus-a-copy\n",
      "  df['mCitrine'] = np.log10(df['mCitrine-A'])\n"
     ]
    },
    {
     "name": "stdout",
     "output_type": "stream",
     "text": [
      "KSHV VIRF3\n"
     ]
    },
    {
     "name": "stderr",
     "output_type": "stream",
     "text": [
      "<ipython-input-84-4f1cd2d5dd84>:24: SettingWithCopyWarning: \n",
      "A value is trying to be set on a copy of a slice from a DataFrame.\n",
      "Try using .loc[row_indexer,col_indexer] = value instead\n",
      "\n",
      "See the caveats in the documentation: https://pandas.pydata.org/pandas-docs/stable/user_guide/indexing.html#returning-a-view-versus-a-copy\n",
      "  df['mCitrine'] = np.log10(df['mCitrine-A'])\n"
     ]
    },
    {
     "name": "stdout",
     "output_type": "stream",
     "text": [
      "HCMV RL5A\n"
     ]
    },
    {
     "name": "stderr",
     "output_type": "stream",
     "text": [
      "<ipython-input-84-4f1cd2d5dd84>:24: SettingWithCopyWarning: \n",
      "A value is trying to be set on a copy of a slice from a DataFrame.\n",
      "Try using .loc[row_indexer,col_indexer] = value instead\n",
      "\n",
      "See the caveats in the documentation: https://pandas.pydata.org/pandas-docs/stable/user_guide/indexing.html#returning-a-view-versus-a-copy\n",
      "  df['mCitrine'] = np.log10(df['mCitrine-A'])\n"
     ]
    },
    {
     "name": "stdout",
     "output_type": "stream",
     "text": [
      "EBV MTP\n"
     ]
    },
    {
     "name": "stderr",
     "output_type": "stream",
     "text": [
      "<ipython-input-84-4f1cd2d5dd84>:24: SettingWithCopyWarning: \n",
      "A value is trying to be set on a copy of a slice from a DataFrame.\n",
      "Try using .loc[row_indexer,col_indexer] = value instead\n",
      "\n",
      "See the caveats in the documentation: https://pandas.pydata.org/pandas-docs/stable/user_guide/indexing.html#returning-a-view-versus-a-copy\n",
      "  df['mCitrine'] = np.log10(df['mCitrine-A'])\n"
     ]
    },
    {
     "name": "stdout",
     "output_type": "stream",
     "text": [
      "HSV1 US3\n"
     ]
    },
    {
     "name": "stderr",
     "output_type": "stream",
     "text": [
      "<ipython-input-84-4f1cd2d5dd84>:24: SettingWithCopyWarning: \n",
      "A value is trying to be set on a copy of a slice from a DataFrame.\n",
      "Try using .loc[row_indexer,col_indexer] = value instead\n",
      "\n",
      "See the caveats in the documentation: https://pandas.pydata.org/pandas-docs/stable/user_guide/indexing.html#returning-a-view-versus-a-copy\n",
      "  df['mCitrine'] = np.log10(df['mCitrine-A'])\n"
     ]
    },
    {
     "name": "stdout",
     "output_type": "stream",
     "text": [
      "Complete\n"
     ]
    }
   ],
   "source": [
    "font = {'size':8,\n",
    "        'family':'Arial'}\n",
    "matplotlib.rc('font', **font)\n",
    "\n",
    "def plot_validations_subset(df, screentype, key, protein):\n",
    "    if screentype == 'Activation':\n",
    "        reporter = 'DY032'\n",
    "        color = '#F3CE48'\n",
    "        yvar = 'Citrine ON'\n",
    "        opposite = 'Repression'\n",
    "        cutoff = 3e6\n",
    "    elif screentype == 'Repression':\n",
    "        reporter = 'JT039'\n",
    "        color = '#23BEDB'\n",
    "        yvar = 'Citrine OFF'\n",
    "        opposite = 'Activation'\n",
    "        cutoff = 1e7\n",
    "    \n",
    "    if protein == 'KSHV VIRF4':\n",
    "        df = df[df['Construct']!='CL452']\n",
    "    df = df[(df['Reporter']==reporter) & (df['Protein']==protein)]\n",
    "    df['mCitrine'] = np.log10(df['mCitrine-A'])\n",
    "    df = df.drop(columns='Protein')\n",
    "    df = pd.merge(df, key[['Construct', 'Avg', 'Virus Abbreviation', 'Protein', 'Mutation', 'Tile Start', 'Tile End', yvar, 'Screen']], how='left', on='Construct')\n",
    "    df.loc[df['Avg'].isna(), 'Avg'] = -10\n",
    "    df['Condition'] = pd.Categorical(df['Condition'], categories=['nodox', 'dox'], ordered=True)\n",
    "    df = df.sort_values(by=['Avg', 'Condition', 'Replicate'], ascending=[False, True, True])\n",
    "    df['Condition-Replicate'] = df['Condition'].astype(str) + '-' + df['Replicate']\n",
    "\n",
    "    labeldf = df[df['Screen']!=opposite].sort_values(by=['Avg'], ascending=False)\n",
    "    labeldf = labeldf[['Construct', 'Virus Abbreviation', 'Protein', 'Mutation', 'Tile Start', 'Tile End', yvar, 'Avg']].drop_duplicates()\n",
    "    labeldf['Tile Start'] = np.where(labeldf['Tile Start']=='', labeldf['Tile Start'], labeldf['Tile Start'].astype(str).str.split('.').str[0])\n",
    "    labeldf['Tile End'] = np.where(labeldf['Tile End']=='', labeldf['Tile End'], labeldf['Tile End'].astype(str).str.split('.').str[0])\n",
    "    labeldf['Sample'] = np.where(labeldf['Tile Start']=='', labeldf['Virus Abbreviation'] + ' ' + labeldf['Protein'],\n",
    "                             labeldf['Virus Abbreviation'] + ' ' + labeldf['Protein'] + ' ' + labeldf['Mutation'] + '\\n[' \\\n",
    "                             + labeldf['Tile Start'] + '-' + labeldf['Tile End'] + ']')\n",
    "\n",
    "    samples = dict(zip(list(labeldf['Construct']), list(labeldf['Sample'])))\n",
    "    df['Sample'] = df['Construct'].map(samples)\n",
    "    mutorder = list(set(list(df['Mutation'])))\n",
    "    mutorder = ['WT'] + [m for m in mutorder if m != 'WT']\n",
    "    df['Mutation'] = pd.Categorical(df['Mutation'], categories=mutorder, ordered=True)\n",
    "    labeldf['Mutation'] = pd.Categorical(labeldf['Mutation'], categories=mutorder, ordered=True)\n",
    "    labeldf = labeldf.sort_values(by='Mutation')\n",
    "    df = df[df['Screen']!=opposite].sort_values(by=['Mutation', 'Tile Start', 'Construct', 'Condition', 'Replicate'])\n",
    "    \n",
    "    if screentype == 'Activation':\n",
    "        ON = list(labeldf[yvar])\n",
    "        ON = [round(on, 1) for on in ON]\n",
    "        OFF = [str(round(100-on, 1)) + '%' for on in ON]\n",
    "        ON = [str(on) + '%' for on in ON]\n",
    "        \n",
    "    elif screentype == 'Repression':\n",
    "        OFF = list(labeldf[yvar])\n",
    "        OFF = [round(off, 1) for off in OFF]\n",
    "        ON = [str(round(100-off, 1)) + '%' for off in OFF]\n",
    "        OFF = [str(off) + '%' for off in OFF]\n",
    "        \n",
    "    pal = sns.color_palette(['#999999', '#999999', color, color])\n",
    "    if len(df) == 0:\n",
    "        return None\n",
    "    g = sns.FacetGrid(data=df, col='Sample',\n",
    "                      hue='Condition-Replicate', palette=pal,\n",
    "                      aspect=0.8333, height=1.5)\n",
    "    g.map(sns.kdeplot, 'mCitrine', fill=True, bw_adjust=0.2)\n",
    "    g.map(plt.axvline, x=np.log10(cutoff), ls=':', color='#333333', lw=1)\n",
    "    if protein == 'KSHV VIRF2':\n",
    "        for i, ax in zip(range(2), g.axes.flatten()):\n",
    "            if i == 0:\n",
    "                ax.set_title('WT', pad=0.5, fontsize=8)\n",
    "            elif i == 1:\n",
    "                ax.set_title('\\u0394L321-S325', pad=0.5, fontsize=8)\n",
    "        plt.suptitle('KSHV VIRF2 [301-380]', y=0.88, fontsize=8)\n",
    "    elif protein == 'KSHV VIRF4':\n",
    "        for i, ax in zip(range(2), g.axes.flatten()):\n",
    "            if i == 0:\n",
    "                ax.set_title('WT', pad=0.5, fontsize=8)\n",
    "            elif i == 1:\n",
    "                ax.set_title('W671A', pad=0.5, fontsize=8)\n",
    "        plt.suptitle('KSHV VIRF4 [611-690]', y=0.88, fontsize=8)\n",
    "    else:        \n",
    "        g.set_titles(template='{col_name}')\n",
    "    plt.xlim([4.5,9.5])\n",
    "    plt.ylim([0,4.5])\n",
    "    plt.xticks([5, 6, 7, 8, 9], ['10$^5$', '10$^6$', '10$^7$', '10$^8$', '10$^9$'])\n",
    "    for ax, on, off in zip(g.axes.flat, ON, OFF):\n",
    "        ax.text(0.05, 0.95, off, transform=ax.transAxes, ha='left', va='top')\n",
    "        ax.text(0.95, 0.95, on, transform=ax.transAxes, ha='right', va='top')\n",
    "        ax.grid(False)\n",
    "    plt.tight_layout()\n",
    "    plt.savefig('../Individual Figure Panels/Figure S4/validation_subsets/HHVpert_%s_%s_subset_validations_kdeplot.png' % (screentype, '-'.join(protein.split(' '))), dpi=1200)\n",
    "    plt.close()\n",
    "\n",
    "keyA2 = keyA[keyA['Effect']!='repressor']\n",
    "keyA2['Protein'] = keyA2['Virus Abbreviation'] + ' ' + keyA2['Protein']\n",
    "protA = set(keyA2['Protein'])\n",
    "for a in protA:\n",
    "    print(a)\n",
    "    plot_validations_subset(df, 'Activation', keyA, a)\n",
    "\n",
    "keyR2 = keyR[keyR['Effect']!='activator']\n",
    "keyR2['Protein'] = keyR2['Virus Abbreviation'] + ' ' + keyR2['Protein']\n",
    "protR = set(keyR2['Protein'])\n",
    "for r in protR:\n",
    "    print(r)\n",
    "    plot_validations_subset(df, 'Repression', keyR, r)\n",
    "print('Complete')"
   ]
  },
  {
   "cell_type": "code",
   "execution_count": null,
   "metadata": {},
   "outputs": [],
   "source": []
  },
  {
   "cell_type": "markdown",
   "metadata": {},
   "source": [
    "#### Dotplot summaries of activation and repression validations featured in Fig. S4E & S4I"
   ]
  },
  {
   "cell_type": "code",
   "execution_count": 32,
   "metadata": {},
   "outputs": [
    {
     "name": "stdout",
     "output_type": "stream",
     "text": [
      "Complete\n"
     ]
    },
    {
     "data": {
      "image/png": "[encoded data removed]",
      "text/plain": [
       "<Figure size 292.32x180 with 1 Axes>"
      ]
     },
     "metadata": {
      "needs_background": "light"
     },
     "output_type": "display_data"
    },
    {
     "data": {
      "image/png": "[encoded data removed]",
      "text/plain": [
       "<Figure size 239.76x175.68 with 1 Axes>"
      ]
     },
     "metadata": {
      "needs_background": "light"
     },
     "output_type": "display_data"
    }
   ],
   "source": [
    "font = {'size':8,\n",
    "        'family':'Arial'}\n",
    "matplotlib.rc('font', **font)\n",
    "\n",
    "def plot_validation_summary(df, screentype):\n",
    "    if screentype == 'Activation':\n",
    "        reporter = 'DY032'\n",
    "        color = '#F3CE48'\n",
    "        meancol = 'Citrine ON'\n",
    "        stdcol = 'ON std'\n",
    "        xlabel = '% mCitrine ON'\n",
    "        opposite = 'Repression'\n",
    "        cutoff = 3e6\n",
    "#         dims = [2.5, 3.8]\n",
    "        dims = [4.06, 2.5]\n",
    "    elif screentype == 'Repression':\n",
    "        reporter = 'JT039'\n",
    "        color = '#23BEDB'\n",
    "        meancol = 'Citrine OFF'\n",
    "        stdcol = 'OFF std'\n",
    "        xlabel = '% mCitrine OFF'\n",
    "        opposite = 'Activation'\n",
    "        cutoff = 1e7\n",
    "#         dims = [2.42, 3.14]\n",
    "        dims = [3.33, 2.44]\n",
    "    \n",
    "    df = df[(df['Screen']==screentype) & (~df[meancol].isna())].sort_values(by='Avg', ascending=False)\n",
    "    df['Tile Start'] = np.where(df['Tile Start']=='', df['Tile Start'], df['Tile Start'].astype(str).str.split('.').str[0])\n",
    "    df['Tile End'] = np.where(df['Tile End']=='', df['Tile End'], df['Tile End'].astype(str).str.split('.').str[0])\n",
    "    df['Sample'] = np.where(df['Tile Start']=='', df['Virus Abbreviation'] + ' ' + df['Protein'],\n",
    "                             df['Virus Abbreviation'] + ' ' + df['Protein'] + ' [' \\\n",
    "                             + df['Tile Start'] + '-' + df['Tile End'] + ']')\n",
    "    \n",
    "    wtorder = list(df[df['Mutation']=='WT']['Sample'])\n",
    "    orderDict = dict(zip(wtorder, range(len(wtorder))))\n",
    "    df['Order'] = df['Sample'].map(orderDict)\n",
    "    df['Sample'] = np.where(df['Mutation']!='-', df['Sample'] + ' ' + df['Mutation'], df['Sample'])\n",
    "    df = df.sort_values(by=['Order', 'Mutation'], ascending=[True, False])\n",
    "    \n",
    "    samplelistD = list(df[df['Condition']=='dox']['Sample'])\n",
    "    ticklistD = list(range(len(samplelistD)))\n",
    "    meanlistD = list(df[df['Condition']=='dox'][meancol])\n",
    "    stdlistD = list(df[df['Condition']=='dox'][stdcol])\n",
    "    \n",
    "    samplelistN = list(df[df['Condition']=='nodox']['Sample'])\n",
    "    ticklistN = list(range(len(samplelistN)))\n",
    "    meanlistN = list(df[df['Condition']=='nodox'][meancol])\n",
    "    stdlistN = list(df[df['Condition']=='nodox'][stdcol])\n",
    "    \n",
    "    fig, ax = plt.subplots(figsize=dims)\n",
    "    \n",
    "    for s, t, m, sd in zip(samplelistN, ticklistN, meanlistN, stdlistN):\n",
    "        ax.plot([t, t], [0, m], color='#999999', lw=0.5)\n",
    "        ax.plot(t, m, marker='o', markersize=3, color='#999999')\n",
    "        ax.errorbar(y=m, x=t, yerr=sd, lw=1, color='#999999')\n",
    "    \n",
    "    for s, t, m, sd in zip(samplelistD, ticklistD, meanlistD, stdlistD):\n",
    "        ax.plot([t, t], [0, m], color=color, lw=0.5)\n",
    "        ax.plot(t, m, marker='o', markersize=3, color=color)\n",
    "        ax.errorbar(y=m, x=t, yerr=sd, lw=1, color=color)\n",
    "        \n",
    "    ax.set_ylabel(xlabel)\n",
    "    ax.set_yticks(ticks=[0, 50, 100])\n",
    "    for x in range(0, 101, 25):\n",
    "        ax.axhline(y=x, ls=':', lw=1, color='#BBBBBB', zorder=-10)\n",
    "    ax.set_xticks(ticks=ticklistD)\n",
    "    ax.set_xticklabels(labels=samplelistD, fontsize=6, rotation=90)\n",
    "    ax.set_xlim(ax.get_xlim()[0] + 0.5, ax.get_xlim()[1] - 0.5)\n",
    "#     ax.invert_xaxis()\n",
    "    plt.tight_layout()\n",
    "    plt.savefig('../Individual Figure Panels/Figure S4/vTR_%s_validation_summary_wide.png' % screentype, dpi=1200)\n",
    "        \n",
    "plot_validation_summary(keyA, 'Activation')\n",
    "plot_validation_summary(keyR, 'Repression')\n",
    "print('Complete')"
   ]
  },
  {
   "cell_type": "code",
   "execution_count": null,
   "metadata": {},
   "outputs": [],
   "source": []
  },
  {
   "cell_type": "markdown",
   "metadata": {},
   "source": [
    "### Tiling plots of domains with all perturbations mapped - add EBNA2 and SCAF back in (WT dropped out)"
   ]
  },
  {
   "cell_type": "code",
   "execution_count": 7,
   "metadata": {},
   "outputs": [
    {
     "ename": "KeyboardInterrupt",
     "evalue": "",
     "output_type": "error",
     "traceback": [
      "\u001b[1;31m---------------------------------------------------------------------------\u001b[0m",
      "\u001b[1;31mKeyboardInterrupt\u001b[0m                         Traceback (most recent call last)",
      "\u001b[1;32m<ipython-input-7-434bdf7ff267>\u001b[0m in \u001b[0;36m<module>\u001b[1;34m\u001b[0m\n\u001b[0;32m    159\u001b[0m         \u001b[0mplt\u001b[0m\u001b[1;33m.\u001b[0m\u001b[0mclose\u001b[0m\u001b[1;33m(\u001b[0m\u001b[1;33m)\u001b[0m\u001b[1;33m\u001b[0m\u001b[1;33m\u001b[0m\u001b[0m\n\u001b[0;32m    160\u001b[0m \u001b[1;33m\u001b[0m\u001b[0m\n\u001b[1;32m--> 161\u001b[1;33m \u001b[0mtiling_plot\u001b[0m\u001b[1;33m(\u001b[0m\u001b[0mAct\u001b[0m\u001b[1;33m,\u001b[0m \u001b[1;34m'activator'\u001b[0m\u001b[1;33m,\u001b[0m \u001b[0mthreshA\u001b[0m\u001b[1;33m,\u001b[0m \u001b[0mjpred4\u001b[0m\u001b[1;33m,\u001b[0m \u001b[1;36m150\u001b[0m\u001b[1;33m)\u001b[0m\u001b[1;33m\u001b[0m\u001b[1;33m\u001b[0m\u001b[0m\n\u001b[0m\u001b[0;32m    162\u001b[0m \u001b[0mtiling_plot\u001b[0m\u001b[1;33m(\u001b[0m\u001b[0mRep\u001b[0m\u001b[1;33m,\u001b[0m \u001b[1;34m'repressor'\u001b[0m\u001b[1;33m,\u001b[0m \u001b[0mthreshR\u001b[0m\u001b[1;33m,\u001b[0m \u001b[0mjpred4\u001b[0m\u001b[1;33m,\u001b[0m \u001b[1;36m150\u001b[0m\u001b[1;33m)\u001b[0m\u001b[1;33m\u001b[0m\u001b[1;33m\u001b[0m\u001b[0m\n\u001b[0;32m    163\u001b[0m \u001b[0mprint\u001b[0m\u001b[1;33m(\u001b[0m\u001b[1;34m'Complete'\u001b[0m\u001b[1;33m)\u001b[0m\u001b[1;33m\u001b[0m\u001b[1;33m\u001b[0m\u001b[0m\n",
      "\u001b[1;32m<ipython-input-7-434bdf7ff267>\u001b[0m in \u001b[0;36mtiling_plot\u001b[1;34m(df, effect_type, thresh, structure, dpi)\u001b[0m\n\u001b[0;32m    156\u001b[0m         \u001b[0msavename\u001b[0m \u001b[1;33m=\u001b[0m \u001b[1;34m'_'\u001b[0m\u001b[1;33m.\u001b[0m\u001b[0mjoin\u001b[0m\u001b[1;33m(\u001b[0m\u001b[1;33m[\u001b[0m\u001b[0mvirus\u001b[0m\u001b[1;33m,\u001b[0m \u001b[0mprotein\u001b[0m\u001b[1;33m,\u001b[0m \u001b[0mtile\u001b[0m\u001b[1;33m,\u001b[0m \u001b[0meffect_type\u001b[0m\u001b[1;33m,\u001b[0m \u001b[1;34m'perturb_%d-dpi.png'\u001b[0m \u001b[1;33m%\u001b[0m \u001b[0mdpi\u001b[0m\u001b[1;33m]\u001b[0m\u001b[1;33m)\u001b[0m\u001b[1;33m\u001b[0m\u001b[1;33m\u001b[0m\u001b[0m\n\u001b[0;32m    157\u001b[0m         \u001b[0mplt\u001b[0m\u001b[1;33m.\u001b[0m\u001b[0mtitle\u001b[0m\u001b[1;33m(\u001b[0m\u001b[0mtitle\u001b[0m\u001b[1;33m)\u001b[0m\u001b[1;33m\u001b[0m\u001b[1;33m\u001b[0m\u001b[0m\n\u001b[1;32m--> 158\u001b[1;33m         \u001b[0mplt\u001b[0m\u001b[1;33m.\u001b[0m\u001b[0msavefig\u001b[0m\u001b[1;33m(\u001b[0m\u001b[0mos\u001b[0m\u001b[1;33m.\u001b[0m\u001b[0mpath\u001b[0m\u001b[1;33m.\u001b[0m\u001b[0mjoin\u001b[0m\u001b[1;33m(\u001b[0m\u001b[0msavedir\u001b[0m\u001b[1;33m,\u001b[0m \u001b[0msavename\u001b[0m\u001b[1;33m)\u001b[0m\u001b[1;33m,\u001b[0m \u001b[0mdpi\u001b[0m\u001b[1;33m=\u001b[0m\u001b[0mdpi\u001b[0m\u001b[1;33m,\u001b[0m \u001b[0mbbox_inches\u001b[0m\u001b[1;33m=\u001b[0m\u001b[1;34m'tight'\u001b[0m\u001b[1;33m)\u001b[0m\u001b[1;33m\u001b[0m\u001b[1;33m\u001b[0m\u001b[0m\n\u001b[0m\u001b[0;32m    159\u001b[0m         \u001b[0mplt\u001b[0m\u001b[1;33m.\u001b[0m\u001b[0mclose\u001b[0m\u001b[1;33m(\u001b[0m\u001b[1;33m)\u001b[0m\u001b[1;33m\u001b[0m\u001b[1;33m\u001b[0m\u001b[0m\n\u001b[0;32m    160\u001b[0m \u001b[1;33m\u001b[0m\u001b[0m\n",
      "\u001b[1;32m~\\anaconda3\\lib\\site-packages\\matplotlib\\pyplot.py\u001b[0m in \u001b[0;36msavefig\u001b[1;34m(*args, **kwargs)\u001b[0m\n\u001b[0;32m    857\u001b[0m \u001b[1;32mdef\u001b[0m \u001b[0msavefig\u001b[0m\u001b[1;33m(\u001b[0m\u001b[1;33m*\u001b[0m\u001b[0margs\u001b[0m\u001b[1;33m,\u001b[0m \u001b[1;33m**\u001b[0m\u001b[0mkwargs\u001b[0m\u001b[1;33m)\u001b[0m\u001b[1;33m:\u001b[0m\u001b[1;33m\u001b[0m\u001b[1;33m\u001b[0m\u001b[0m\n\u001b[0;32m    858\u001b[0m     \u001b[0mfig\u001b[0m \u001b[1;33m=\u001b[0m \u001b[0mgcf\u001b[0m\u001b[1;33m(\u001b[0m\u001b[1;33m)\u001b[0m\u001b[1;33m\u001b[0m\u001b[1;33m\u001b[0m\u001b[0m\n\u001b[1;32m--> 859\u001b[1;33m     \u001b[0mres\u001b[0m \u001b[1;33m=\u001b[0m \u001b[0mfig\u001b[0m\u001b[1;33m.\u001b[0m\u001b[0msavefig\u001b[0m\u001b[1;33m(\u001b[0m\u001b[1;33m*\u001b[0m\u001b[0margs\u001b[0m\u001b[1;33m,\u001b[0m \u001b[1;33m**\u001b[0m\u001b[0mkwargs\u001b[0m\u001b[1;33m)\u001b[0m\u001b[1;33m\u001b[0m\u001b[1;33m\u001b[0m\u001b[0m\n\u001b[0m\u001b[0;32m    860\u001b[0m     \u001b[0mfig\u001b[0m\u001b[1;33m.\u001b[0m\u001b[0mcanvas\u001b[0m\u001b[1;33m.\u001b[0m\u001b[0mdraw_idle\u001b[0m\u001b[1;33m(\u001b[0m\u001b[1;33m)\u001b[0m   \u001b[1;31m# need this if 'transparent=True' to reset colors\u001b[0m\u001b[1;33m\u001b[0m\u001b[1;33m\u001b[0m\u001b[0m\n\u001b[0;32m    861\u001b[0m     \u001b[1;32mreturn\u001b[0m \u001b[0mres\u001b[0m\u001b[1;33m\u001b[0m\u001b[1;33m\u001b[0m\u001b[0m\n",
      "\u001b[1;32m~\\anaconda3\\lib\\site-packages\\matplotlib\\figure.py\u001b[0m in \u001b[0;36msavefig\u001b[1;34m(self, fname, transparent, **kwargs)\u001b[0m\n\u001b[0;32m   2309\u001b[0m                 \u001b[0mpatch\u001b[0m\u001b[1;33m.\u001b[0m\u001b[0mset_edgecolor\u001b[0m\u001b[1;33m(\u001b[0m\u001b[1;34m'none'\u001b[0m\u001b[1;33m)\u001b[0m\u001b[1;33m\u001b[0m\u001b[1;33m\u001b[0m\u001b[0m\n\u001b[0;32m   2310\u001b[0m \u001b[1;33m\u001b[0m\u001b[0m\n\u001b[1;32m-> 2311\u001b[1;33m         \u001b[0mself\u001b[0m\u001b[1;33m.\u001b[0m\u001b[0mcanvas\u001b[0m\u001b[1;33m.\u001b[0m\u001b[0mprint_figure\u001b[0m\u001b[1;33m(\u001b[0m\u001b[0mfname\u001b[0m\u001b[1;33m,\u001b[0m \u001b[1;33m**\u001b[0m\u001b[0mkwargs\u001b[0m\u001b[1;33m)\u001b[0m\u001b[1;33m\u001b[0m\u001b[1;33m\u001b[0m\u001b[0m\n\u001b[0m\u001b[0;32m   2312\u001b[0m \u001b[1;33m\u001b[0m\u001b[0m\n\u001b[0;32m   2313\u001b[0m         \u001b[1;32mif\u001b[0m \u001b[0mtransparent\u001b[0m\u001b[1;33m:\u001b[0m\u001b[1;33m\u001b[0m\u001b[1;33m\u001b[0m\u001b[0m\n",
      "\u001b[1;32m~\\anaconda3\\lib\\site-packages\\matplotlib\\backend_bases.py\u001b[0m in \u001b[0;36mprint_figure\u001b[1;34m(self, filename, dpi, facecolor, edgecolor, orientation, format, bbox_inches, pad_inches, bbox_extra_artists, backend, **kwargs)\u001b[0m\n\u001b[0;32m   2193\u001b[0m                         \u001b[0mself\u001b[0m\u001b[1;33m.\u001b[0m\u001b[0mfigure\u001b[0m\u001b[1;33m.\u001b[0m\u001b[0mdraw\u001b[0m\u001b[1;33m(\u001b[0m\u001b[0mrenderer\u001b[0m\u001b[1;33m)\u001b[0m\u001b[1;33m\u001b[0m\u001b[1;33m\u001b[0m\u001b[0m\n\u001b[0;32m   2194\u001b[0m \u001b[1;33m\u001b[0m\u001b[0m\n\u001b[1;32m-> 2195\u001b[1;33m                     bbox_inches = self.figure.get_tightbbox(\n\u001b[0m\u001b[0;32m   2196\u001b[0m                         renderer, bbox_extra_artists=bbox_extra_artists)\n\u001b[0;32m   2197\u001b[0m                     \u001b[1;32mif\u001b[0m \u001b[0mpad_inches\u001b[0m \u001b[1;32mis\u001b[0m \u001b[1;32mNone\u001b[0m\u001b[1;33m:\u001b[0m\u001b[1;33m\u001b[0m\u001b[1;33m\u001b[0m\u001b[0m\n",
      "\u001b[1;32m~\\anaconda3\\lib\\site-packages\\matplotlib\\figure.py\u001b[0m in \u001b[0;36mget_tightbbox\u001b[1;34m(self, renderer, bbox_extra_artists)\u001b[0m\n\u001b[0;32m   2504\u001b[0m \u001b[1;33m\u001b[0m\u001b[0m\n\u001b[0;32m   2505\u001b[0m         \u001b[1;32mfor\u001b[0m \u001b[0ma\u001b[0m \u001b[1;32min\u001b[0m \u001b[0martists\u001b[0m\u001b[1;33m:\u001b[0m\u001b[1;33m\u001b[0m\u001b[1;33m\u001b[0m\u001b[0m\n\u001b[1;32m-> 2506\u001b[1;33m             \u001b[0mbbox\u001b[0m \u001b[1;33m=\u001b[0m \u001b[0ma\u001b[0m\u001b[1;33m.\u001b[0m\u001b[0mget_tightbbox\u001b[0m\u001b[1;33m(\u001b[0m\u001b[0mrenderer\u001b[0m\u001b[1;33m)\u001b[0m\u001b[1;33m\u001b[0m\u001b[1;33m\u001b[0m\u001b[0m\n\u001b[0m\u001b[0;32m   2507\u001b[0m             \u001b[1;32mif\u001b[0m \u001b[0mbbox\u001b[0m \u001b[1;32mis\u001b[0m \u001b[1;32mnot\u001b[0m \u001b[1;32mNone\u001b[0m \u001b[1;32mand\u001b[0m \u001b[1;33m(\u001b[0m\u001b[0mbbox\u001b[0m\u001b[1;33m.\u001b[0m\u001b[0mwidth\u001b[0m \u001b[1;33m!=\u001b[0m \u001b[1;36m0\u001b[0m \u001b[1;32mor\u001b[0m \u001b[0mbbox\u001b[0m\u001b[1;33m.\u001b[0m\u001b[0mheight\u001b[0m \u001b[1;33m!=\u001b[0m \u001b[1;36m0\u001b[0m\u001b[1;33m)\u001b[0m\u001b[1;33m:\u001b[0m\u001b[1;33m\u001b[0m\u001b[1;33m\u001b[0m\u001b[0m\n\u001b[0;32m   2508\u001b[0m                 \u001b[0mbb\u001b[0m\u001b[1;33m.\u001b[0m\u001b[0mappend\u001b[0m\u001b[1;33m(\u001b[0m\u001b[0mbbox\u001b[0m\u001b[1;33m)\u001b[0m\u001b[1;33m\u001b[0m\u001b[1;33m\u001b[0m\u001b[0m\n",
      "\u001b[1;32m~\\anaconda3\\lib\\site-packages\\matplotlib\\axis.py\u001b[0m in \u001b[0;36mget_tightbbox\u001b[1;34m(self, renderer, for_layout_only)\u001b[0m\n\u001b[0;32m   1109\u001b[0m         \u001b[0mticks_to_draw\u001b[0m \u001b[1;33m=\u001b[0m \u001b[0mself\u001b[0m\u001b[1;33m.\u001b[0m\u001b[0m_update_ticks\u001b[0m\u001b[1;33m(\u001b[0m\u001b[1;33m)\u001b[0m\u001b[1;33m\u001b[0m\u001b[1;33m\u001b[0m\u001b[0m\n\u001b[0;32m   1110\u001b[0m \u001b[1;33m\u001b[0m\u001b[0m\n\u001b[1;32m-> 1111\u001b[1;33m         \u001b[0mself\u001b[0m\u001b[1;33m.\u001b[0m\u001b[0m_update_label_position\u001b[0m\u001b[1;33m(\u001b[0m\u001b[0mrenderer\u001b[0m\u001b[1;33m)\u001b[0m\u001b[1;33m\u001b[0m\u001b[1;33m\u001b[0m\u001b[0m\n\u001b[0m\u001b[0;32m   1112\u001b[0m \u001b[1;33m\u001b[0m\u001b[0m\n\u001b[0;32m   1113\u001b[0m         \u001b[1;31m# go back to just this axis's tick labels\u001b[0m\u001b[1;33m\u001b[0m\u001b[1;33m\u001b[0m\u001b[1;33m\u001b[0m\u001b[0m\n",
      "\u001b[1;32m~\\anaconda3\\lib\\site-packages\\matplotlib\\axis.py\u001b[0m in \u001b[0;36m_update_label_position\u001b[1;34m(self, renderer)\u001b[0m\n\u001b[0;32m   2056\u001b[0m         \u001b[1;31m# get bounding boxes for this axis and any siblings\u001b[0m\u001b[1;33m\u001b[0m\u001b[1;33m\u001b[0m\u001b[1;33m\u001b[0m\u001b[0m\n\u001b[0;32m   2057\u001b[0m         \u001b[1;31m# that have been set by `fig.align_xlabels()`\u001b[0m\u001b[1;33m\u001b[0m\u001b[1;33m\u001b[0m\u001b[1;33m\u001b[0m\u001b[0m\n\u001b[1;32m-> 2058\u001b[1;33m         \u001b[0mbboxes\u001b[0m\u001b[1;33m,\u001b[0m \u001b[0mbboxes2\u001b[0m \u001b[1;33m=\u001b[0m \u001b[0mself\u001b[0m\u001b[1;33m.\u001b[0m\u001b[0m_get_tick_boxes_siblings\u001b[0m\u001b[1;33m(\u001b[0m\u001b[0mrenderer\u001b[0m\u001b[1;33m=\u001b[0m\u001b[0mrenderer\u001b[0m\u001b[1;33m)\u001b[0m\u001b[1;33m\u001b[0m\u001b[1;33m\u001b[0m\u001b[0m\n\u001b[0m\u001b[0;32m   2059\u001b[0m \u001b[1;33m\u001b[0m\u001b[0m\n\u001b[0;32m   2060\u001b[0m         \u001b[0mx\u001b[0m\u001b[1;33m,\u001b[0m \u001b[0my\u001b[0m \u001b[1;33m=\u001b[0m \u001b[0mself\u001b[0m\u001b[1;33m.\u001b[0m\u001b[0mlabel\u001b[0m\u001b[1;33m.\u001b[0m\u001b[0mget_position\u001b[0m\u001b[1;33m(\u001b[0m\u001b[1;33m)\u001b[0m\u001b[1;33m\u001b[0m\u001b[1;33m\u001b[0m\u001b[0m\n",
      "\u001b[1;32m~\\anaconda3\\lib\\site-packages\\matplotlib\\axis.py\u001b[0m in \u001b[0;36m_get_tick_boxes_siblings\u001b[1;34m(self, renderer)\u001b[0m\n\u001b[0;32m   2041\u001b[0m         \u001b[1;32mfor\u001b[0m \u001b[0mnn\u001b[0m\u001b[1;33m,\u001b[0m \u001b[0maxx\u001b[0m \u001b[1;32min\u001b[0m \u001b[0menumerate\u001b[0m\u001b[1;33m(\u001b[0m\u001b[0mgrp\u001b[0m\u001b[1;33m.\u001b[0m\u001b[0mget_siblings\u001b[0m\u001b[1;33m(\u001b[0m\u001b[0mself\u001b[0m\u001b[1;33m.\u001b[0m\u001b[0maxes\u001b[0m\u001b[1;33m)\u001b[0m\u001b[1;33m)\u001b[0m\u001b[1;33m:\u001b[0m\u001b[1;33m\u001b[0m\u001b[1;33m\u001b[0m\u001b[0m\n\u001b[0;32m   2042\u001b[0m             \u001b[0mticks_to_draw\u001b[0m \u001b[1;33m=\u001b[0m \u001b[0maxx\u001b[0m\u001b[1;33m.\u001b[0m\u001b[0mxaxis\u001b[0m\u001b[1;33m.\u001b[0m\u001b[0m_update_ticks\u001b[0m\u001b[1;33m(\u001b[0m\u001b[1;33m)\u001b[0m\u001b[1;33m\u001b[0m\u001b[1;33m\u001b[0m\u001b[0m\n\u001b[1;32m-> 2043\u001b[1;33m             \u001b[0mtlb\u001b[0m\u001b[1;33m,\u001b[0m \u001b[0mtlb2\u001b[0m \u001b[1;33m=\u001b[0m \u001b[0maxx\u001b[0m\u001b[1;33m.\u001b[0m\u001b[0mxaxis\u001b[0m\u001b[1;33m.\u001b[0m\u001b[0m_get_tick_bboxes\u001b[0m\u001b[1;33m(\u001b[0m\u001b[0mticks_to_draw\u001b[0m\u001b[1;33m,\u001b[0m \u001b[0mrenderer\u001b[0m\u001b[1;33m)\u001b[0m\u001b[1;33m\u001b[0m\u001b[1;33m\u001b[0m\u001b[0m\n\u001b[0m\u001b[0;32m   2044\u001b[0m             \u001b[0mbboxes\u001b[0m\u001b[1;33m.\u001b[0m\u001b[0mextend\u001b[0m\u001b[1;33m(\u001b[0m\u001b[0mtlb\u001b[0m\u001b[1;33m)\u001b[0m\u001b[1;33m\u001b[0m\u001b[1;33m\u001b[0m\u001b[0m\n\u001b[0;32m   2045\u001b[0m             \u001b[0mbboxes2\u001b[0m\u001b[1;33m.\u001b[0m\u001b[0mextend\u001b[0m\u001b[1;33m(\u001b[0m\u001b[0mtlb2\u001b[0m\u001b[1;33m)\u001b[0m\u001b[1;33m\u001b[0m\u001b[1;33m\u001b[0m\u001b[0m\n",
      "\u001b[1;32m~\\anaconda3\\lib\\site-packages\\matplotlib\\axis.py\u001b[0m in \u001b[0;36m_get_tick_bboxes\u001b[1;34m(self, ticks, renderer)\u001b[0m\n\u001b[0;32m   1089\u001b[0m     \u001b[1;32mdef\u001b[0m \u001b[0m_get_tick_bboxes\u001b[0m\u001b[1;33m(\u001b[0m\u001b[0mself\u001b[0m\u001b[1;33m,\u001b[0m \u001b[0mticks\u001b[0m\u001b[1;33m,\u001b[0m \u001b[0mrenderer\u001b[0m\u001b[1;33m)\u001b[0m\u001b[1;33m:\u001b[0m\u001b[1;33m\u001b[0m\u001b[1;33m\u001b[0m\u001b[0m\n\u001b[0;32m   1090\u001b[0m         \u001b[1;34m\"\"\"Return lists of bboxes for ticks' label1's and label2's.\"\"\"\u001b[0m\u001b[1;33m\u001b[0m\u001b[1;33m\u001b[0m\u001b[0m\n\u001b[1;32m-> 1091\u001b[1;33m         return ([tick.label1.get_window_extent(renderer)\n\u001b[0m\u001b[0;32m   1092\u001b[0m                  for tick in ticks if tick.label1.get_visible()],\n\u001b[0;32m   1093\u001b[0m                 [tick.label2.get_window_extent(renderer)\n",
      "\u001b[1;32m~\\anaconda3\\lib\\site-packages\\matplotlib\\axis.py\u001b[0m in \u001b[0;36m<listcomp>\u001b[1;34m(.0)\u001b[0m\n\u001b[0;32m   1089\u001b[0m     \u001b[1;32mdef\u001b[0m \u001b[0m_get_tick_bboxes\u001b[0m\u001b[1;33m(\u001b[0m\u001b[0mself\u001b[0m\u001b[1;33m,\u001b[0m \u001b[0mticks\u001b[0m\u001b[1;33m,\u001b[0m \u001b[0mrenderer\u001b[0m\u001b[1;33m)\u001b[0m\u001b[1;33m:\u001b[0m\u001b[1;33m\u001b[0m\u001b[1;33m\u001b[0m\u001b[0m\n\u001b[0;32m   1090\u001b[0m         \u001b[1;34m\"\"\"Return lists of bboxes for ticks' label1's and label2's.\"\"\"\u001b[0m\u001b[1;33m\u001b[0m\u001b[1;33m\u001b[0m\u001b[0m\n\u001b[1;32m-> 1091\u001b[1;33m         return ([tick.label1.get_window_extent(renderer)\n\u001b[0m\u001b[0;32m   1092\u001b[0m                  for tick in ticks if tick.label1.get_visible()],\n\u001b[0;32m   1093\u001b[0m                 [tick.label2.get_window_extent(renderer)\n",
      "\u001b[1;32m~\\anaconda3\\lib\\site-packages\\matplotlib\\text.py\u001b[0m in \u001b[0;36mget_window_extent\u001b[1;34m(self, renderer, dpi)\u001b[0m\n\u001b[0;32m    898\u001b[0m \u001b[1;33m\u001b[0m\u001b[0m\n\u001b[0;32m    899\u001b[0m         \u001b[1;32mwith\u001b[0m \u001b[0mcbook\u001b[0m\u001b[1;33m.\u001b[0m\u001b[0m_setattr_cm\u001b[0m\u001b[1;33m(\u001b[0m\u001b[0mself\u001b[0m\u001b[1;33m.\u001b[0m\u001b[0mfigure\u001b[0m\u001b[1;33m,\u001b[0m \u001b[0mdpi\u001b[0m\u001b[1;33m=\u001b[0m\u001b[0mdpi\u001b[0m\u001b[1;33m)\u001b[0m\u001b[1;33m:\u001b[0m\u001b[1;33m\u001b[0m\u001b[1;33m\u001b[0m\u001b[0m\n\u001b[1;32m--> 900\u001b[1;33m             \u001b[0mbbox\u001b[0m\u001b[1;33m,\u001b[0m \u001b[0minfo\u001b[0m\u001b[1;33m,\u001b[0m \u001b[0mdescent\u001b[0m \u001b[1;33m=\u001b[0m \u001b[0mself\u001b[0m\u001b[1;33m.\u001b[0m\u001b[0m_get_layout\u001b[0m\u001b[1;33m(\u001b[0m\u001b[0mself\u001b[0m\u001b[1;33m.\u001b[0m\u001b[0m_renderer\u001b[0m\u001b[1;33m)\u001b[0m\u001b[1;33m\u001b[0m\u001b[1;33m\u001b[0m\u001b[0m\n\u001b[0m\u001b[0;32m    901\u001b[0m             \u001b[0mx\u001b[0m\u001b[1;33m,\u001b[0m \u001b[0my\u001b[0m \u001b[1;33m=\u001b[0m \u001b[0mself\u001b[0m\u001b[1;33m.\u001b[0m\u001b[0mget_unitless_position\u001b[0m\u001b[1;33m(\u001b[0m\u001b[1;33m)\u001b[0m\u001b[1;33m\u001b[0m\u001b[1;33m\u001b[0m\u001b[0m\n\u001b[0;32m    902\u001b[0m             \u001b[0mx\u001b[0m\u001b[1;33m,\u001b[0m \u001b[0my\u001b[0m \u001b[1;33m=\u001b[0m \u001b[0mself\u001b[0m\u001b[1;33m.\u001b[0m\u001b[0mget_transform\u001b[0m\u001b[1;33m(\u001b[0m\u001b[1;33m)\u001b[0m\u001b[1;33m.\u001b[0m\u001b[0mtransform\u001b[0m\u001b[1;33m(\u001b[0m\u001b[1;33m(\u001b[0m\u001b[0mx\u001b[0m\u001b[1;33m,\u001b[0m \u001b[0my\u001b[0m\u001b[1;33m)\u001b[0m\u001b[1;33m)\u001b[0m\u001b[1;33m\u001b[0m\u001b[1;33m\u001b[0m\u001b[0m\n",
      "\u001b[1;32m~\\anaconda3\\lib\\site-packages\\matplotlib\\text.py\u001b[0m in \u001b[0;36m_get_layout\u001b[1;34m(self, renderer)\u001b[0m\n\u001b[0;32m    283\u001b[0m \u001b[1;33m\u001b[0m\u001b[0m\n\u001b[0;32m    284\u001b[0m         \u001b[1;31m# Full vertical extent of font, including ascenders and descenders:\u001b[0m\u001b[1;33m\u001b[0m\u001b[1;33m\u001b[0m\u001b[1;33m\u001b[0m\u001b[0m\n\u001b[1;32m--> 285\u001b[1;33m         _, lp_h, lp_d = renderer.get_text_width_height_descent(\n\u001b[0m\u001b[0;32m    286\u001b[0m             \u001b[1;34m\"lp\"\u001b[0m\u001b[1;33m,\u001b[0m \u001b[0mself\u001b[0m\u001b[1;33m.\u001b[0m\u001b[0m_fontproperties\u001b[0m\u001b[1;33m,\u001b[0m\u001b[1;33m\u001b[0m\u001b[1;33m\u001b[0m\u001b[0m\n\u001b[0;32m    287\u001b[0m             ismath=\"TeX\" if self.get_usetex() else False)\n",
      "\u001b[1;32m~\\anaconda3\\lib\\site-packages\\matplotlib\\backends\\backend_agg.py\u001b[0m in \u001b[0;36mget_text_width_height_descent\u001b[1;34m(self, s, prop, ismath)\u001b[0m\n\u001b[0;32m    235\u001b[0m \u001b[1;33m\u001b[0m\u001b[0m\n\u001b[0;32m    236\u001b[0m         \u001b[0mflags\u001b[0m \u001b[1;33m=\u001b[0m \u001b[0mget_hinting_flag\u001b[0m\u001b[1;33m(\u001b[0m\u001b[1;33m)\u001b[0m\u001b[1;33m\u001b[0m\u001b[1;33m\u001b[0m\u001b[0m\n\u001b[1;32m--> 237\u001b[1;33m         \u001b[0mfont\u001b[0m \u001b[1;33m=\u001b[0m \u001b[0mself\u001b[0m\u001b[1;33m.\u001b[0m\u001b[0m_get_agg_font\u001b[0m\u001b[1;33m(\u001b[0m\u001b[0mprop\u001b[0m\u001b[1;33m)\u001b[0m\u001b[1;33m\u001b[0m\u001b[1;33m\u001b[0m\u001b[0m\n\u001b[0m\u001b[0;32m    238\u001b[0m         \u001b[0mfont\u001b[0m\u001b[1;33m.\u001b[0m\u001b[0mset_text\u001b[0m\u001b[1;33m(\u001b[0m\u001b[0ms\u001b[0m\u001b[1;33m,\u001b[0m \u001b[1;36m0.0\u001b[0m\u001b[1;33m,\u001b[0m \u001b[0mflags\u001b[0m\u001b[1;33m=\u001b[0m\u001b[0mflags\u001b[0m\u001b[1;33m)\u001b[0m\u001b[1;33m\u001b[0m\u001b[1;33m\u001b[0m\u001b[0m\n\u001b[0;32m    239\u001b[0m         \u001b[0mw\u001b[0m\u001b[1;33m,\u001b[0m \u001b[0mh\u001b[0m \u001b[1;33m=\u001b[0m \u001b[0mfont\u001b[0m\u001b[1;33m.\u001b[0m\u001b[0mget_width_height\u001b[0m\u001b[1;33m(\u001b[0m\u001b[1;33m)\u001b[0m  \u001b[1;31m# width and height of unrotated string\u001b[0m\u001b[1;33m\u001b[0m\u001b[1;33m\u001b[0m\u001b[0m\n",
      "\u001b[1;32m~\\anaconda3\\lib\\site-packages\\matplotlib\\backends\\backend_agg.py\u001b[0m in \u001b[0;36m_get_agg_font\u001b[1;34m(self, prop)\u001b[0m\n\u001b[0;32m    270\u001b[0m         \u001b[0mGet\u001b[0m \u001b[0mthe\u001b[0m \u001b[0mfont\u001b[0m \u001b[1;32mfor\u001b[0m \u001b[0mtext\u001b[0m \u001b[0minstance\u001b[0m \u001b[0mt\u001b[0m\u001b[1;33m,\u001b[0m \u001b[0mcaching\u001b[0m \u001b[1;32mfor\u001b[0m \u001b[0mefficiency\u001b[0m\u001b[1;33m\u001b[0m\u001b[1;33m\u001b[0m\u001b[0m\n\u001b[0;32m    271\u001b[0m         \"\"\"\n\u001b[1;32m--> 272\u001b[1;33m         \u001b[0mfname\u001b[0m \u001b[1;33m=\u001b[0m \u001b[0mfindfont\u001b[0m\u001b[1;33m(\u001b[0m\u001b[0mprop\u001b[0m\u001b[1;33m)\u001b[0m\u001b[1;33m\u001b[0m\u001b[1;33m\u001b[0m\u001b[0m\n\u001b[0m\u001b[0;32m    273\u001b[0m         \u001b[0mfont\u001b[0m \u001b[1;33m=\u001b[0m \u001b[0mget_font\u001b[0m\u001b[1;33m(\u001b[0m\u001b[0mfname\u001b[0m\u001b[1;33m)\u001b[0m\u001b[1;33m\u001b[0m\u001b[1;33m\u001b[0m\u001b[0m\n\u001b[0;32m    274\u001b[0m \u001b[1;33m\u001b[0m\u001b[0m\n",
      "\u001b[1;32m~\\anaconda3\\lib\\site-packages\\matplotlib\\font_manager.py\u001b[0m in \u001b[0;36mfindfont\u001b[1;34m(self, prop, fontext, directory, fallback_to_default, rebuild_if_missing)\u001b[0m\n\u001b[0;32m   1312\u001b[0m             \u001b[0mprop\u001b[0m\u001b[1;33m,\u001b[0m \u001b[0mfontext\u001b[0m\u001b[1;33m,\u001b[0m \u001b[0mdirectory\u001b[0m\u001b[1;33m,\u001b[0m \u001b[0mfallback_to_default\u001b[0m\u001b[1;33m,\u001b[0m \u001b[0mrebuild_if_missing\u001b[0m\u001b[1;33m,\u001b[0m\u001b[1;33m\u001b[0m\u001b[1;33m\u001b[0m\u001b[0m\n\u001b[0;32m   1313\u001b[0m             rc_params)\n\u001b[1;32m-> 1314\u001b[1;33m         \u001b[1;32mreturn\u001b[0m \u001b[0mos\u001b[0m\u001b[1;33m.\u001b[0m\u001b[0mpath\u001b[0m\u001b[1;33m.\u001b[0m\u001b[0mrealpath\u001b[0m\u001b[1;33m(\u001b[0m\u001b[0mfilename\u001b[0m\u001b[1;33m)\u001b[0m\u001b[1;33m\u001b[0m\u001b[1;33m\u001b[0m\u001b[0m\n\u001b[0m\u001b[0;32m   1315\u001b[0m \u001b[1;33m\u001b[0m\u001b[0m\n\u001b[0;32m   1316\u001b[0m     \u001b[1;33m@\u001b[0m\u001b[0mlru_cache\u001b[0m\u001b[1;33m(\u001b[0m\u001b[1;33m)\u001b[0m\u001b[1;33m\u001b[0m\u001b[1;33m\u001b[0m\u001b[0m\n",
      "\u001b[1;32m~\\anaconda3\\lib\\ntpath.py\u001b[0m in \u001b[0;36mrealpath\u001b[1;34m(path)\u001b[0m\n\u001b[0;32m    645\u001b[0m             \u001b[0mpath\u001b[0m \u001b[1;33m=\u001b[0m \u001b[0mjoin\u001b[0m\u001b[1;33m(\u001b[0m\u001b[0mcwd\u001b[0m\u001b[1;33m,\u001b[0m \u001b[0mpath\u001b[0m\u001b[1;33m)\u001b[0m\u001b[1;33m\u001b[0m\u001b[1;33m\u001b[0m\u001b[0m\n\u001b[0;32m    646\u001b[0m         \u001b[1;32mtry\u001b[0m\u001b[1;33m:\u001b[0m\u001b[1;33m\u001b[0m\u001b[1;33m\u001b[0m\u001b[0m\n\u001b[1;32m--> 647\u001b[1;33m             \u001b[0mpath\u001b[0m \u001b[1;33m=\u001b[0m \u001b[0m_getfinalpathname\u001b[0m\u001b[1;33m(\u001b[0m\u001b[0mpath\u001b[0m\u001b[1;33m)\u001b[0m\u001b[1;33m\u001b[0m\u001b[1;33m\u001b[0m\u001b[0m\n\u001b[0m\u001b[0;32m    648\u001b[0m             \u001b[0minitial_winerror\u001b[0m \u001b[1;33m=\u001b[0m \u001b[1;36m0\u001b[0m\u001b[1;33m\u001b[0m\u001b[1;33m\u001b[0m\u001b[0m\n\u001b[0;32m    649\u001b[0m         \u001b[1;32mexcept\u001b[0m \u001b[0mOSError\u001b[0m \u001b[1;32mas\u001b[0m \u001b[0mex\u001b[0m\u001b[1;33m:\u001b[0m\u001b[1;33m\u001b[0m\u001b[1;33m\u001b[0m\u001b[0m\n",
      "\u001b[1;31mKeyboardInterrupt\u001b[0m: "
     ]
    },
    {
     "data": {
      "image/png": "[encoded data removed]",
      "text/plain": [
       "<Figure size 622.8x216 with 3 Axes>"
      ]
     },
     "metadata": {
      "needs_background": "light"
     },
     "output_type": "display_data"
    }
   ],
   "source": [
    "import os\n",
    "from matplotlib.ticker import (MultipleLocator, AutoMinorLocator)\n",
    "from matplotlib.patches import Rectangle\n",
    "from matplotlib.lines import Line2D\n",
    "\n",
    "font = {'family' : 'Arial',\n",
    "        'size'   : 8}\n",
    "\n",
    "matplotlib.rc('font', **font)\n",
    "\n",
    "jpred4 = pd.read_csv('../Supplemental Tables - CSV/HHV-perturbation/jpred4_results_summarized.csv').drop(columns='Protein Sequence')\n",
    "dropoutDict = {'P12978_010':'PPPPPPPPPPQRRDAWTQEPSPLDRDPLGYDVGHGPLASAMRMLWMANYIVRQSRGDRGLILPQGPQTAPQARLVQPHVP',\n",
    "               'P52351_041':'TKKKKRYREDDDRELTKDKNDIKELVDAIGMLRHEISALKYIRSQSPQRQHCTAVDTMPTIEEKNVASPKPSVVNASLTP'}\n",
    "coords = {'P12978_010':[91, 170], 'P52351_041':[401, 480]}\n",
    "estWT = {'P12978_010':146, 'P52351_041':446}\n",
    "\n",
    "# generate tiling plots containing all info and sequence\n",
    "def tiling_plot(df, effect_type, thresh, structure, dpi):\n",
    "    # set variables based on effect type\n",
    "    if effect_type == 'activator':\n",
    "        color = '#D7AC00'\n",
    "        ylabel = 'log$_2$(ON:OFF) Activation Score'\n",
    "        savedir = '../Individual Figure Panels/HHV_Activator_perturbations_%d-dpi' % dpi\n",
    "        sigma2 = 2*WT_A\n",
    "        \n",
    "    elif effect_type == 'repressor':\n",
    "        color = '#23BEDB'\n",
    "        ylabel = 'log$_2$(OFF:ON) Repression Score'\n",
    "        savedir = '../Individual Figure Panels/HHV_Repressor_perturbations_%d-dpi' % dpi\n",
    "        sigma2 = 2*WT_R\n",
    "    \n",
    "    # check if output directory exists - if not, make directory\n",
    "    if not os.path.exists(savedir):\n",
    "        os.makedirs(savedir)\n",
    "    \n",
    "    # subset dataframe to focus on those with correct activity, determine y-limits, and get list of tile identifiers\n",
    "    df = pd.merge(df, structure, on='Tile ID', how='left')\n",
    "    df = df[df['Effect'].isin([effect_type, 'dual'])]\n",
    "    ymax = max(list(df['R1']) + list(df['R2']))*1.05\n",
    "    ymin = min(list(df['R1']) + list(df['R2']))*1.05\n",
    "    tileList = list(set(list(df[df['Tile ID']!='-']['Tile ID'])))\n",
    "    \n",
    "    # for each tile, create plot with effect of all perturbations\n",
    "    for tile in tileList:\n",
    "        tempdf = df[df['Tile ID']==tile]\n",
    "        # if WT sequence not in the subsetted dataframe, then estimate WT activity\n",
    "        if 'WT' not in list(tempdf['Type']):\n",
    "            virus = list(tempdf['Virus Abbreviation'])[0]\n",
    "            protein = list(tempdf['Protein'])[0]\n",
    "            print('No WT measurement for %s %s (%s)' % (virus, protein, tile))\n",
    "            WT_avg = np.mean(list(tempdf[tempdf['Position']>estWT[tile]]['Avg']))\n",
    "            WT_vals = [WT_avg + sigma2, WT_avg - sigma2]\n",
    "            WT_seq = dropoutDict[tile]\n",
    "            WT_struct = list(tempdf['Structure'])[0]\n",
    "            start = coords[tile][0]\n",
    "            end = coords[tile][1] + 1\n",
    "            \n",
    "        else:\n",
    "            # extract information about WT sequence: virus, protein, scores for each replicate, sequence, and coordinates\n",
    "            virus = list(tempdf[tempdf['Type']=='WT']['Virus Abbreviation'])[0]\n",
    "            protein = list(tempdf[tempdf['Type']=='WT']['Protein'])[0]\n",
    "            WT_avg = list(tempdf[tempdf['Type']=='WT']['Avg'])[0]\n",
    "            WT_vals = [WT_avg + sigma2, WT_avg - sigma2]\n",
    "            WT_seq = list(tempdf[tempdf['Type']=='WT']['Protein Sequence'])[0]\n",
    "            WT_struct = list(tempdf[tempdf['Type']=='WT']['Structure'])[0]\n",
    "            start = int(list(tempdf[tempdf['Type']=='WT']['Tile Start'])[0])\n",
    "            end = int(list(tempdf[tempdf['Type']=='WT']['Tile End'])[0]) + 1\n",
    "        xticks = list(range(start, end, 1))\n",
    "        xticks_mod = [x - 0.5 for x in xticks]\n",
    "        xrange = list(range(start, end+1, 5))\n",
    "\n",
    "        if type(WT_struct) == float:\n",
    "            print('No structural information for %s %s (%s)' % (virus, protein, tile))\n",
    "            continue\n",
    "        \n",
    "        # create dataframes for specific subplots\n",
    "        struct_dict = {'-':'#FFFFFF', 'E':'#555555', 'H':'#AAAAAA'}\n",
    "        WT_struct = [struct_dict[s] for s in WT_struct if s in struct_dict]\n",
    "        struct_df = pd.DataFrame(index=xticks, data={'JPred4':list(WT_struct)}).T\n",
    "        \n",
    "        deletion = tempdf[tempdf['Type']=='deletion']\n",
    "        deletion = deletion.sort_values(by='Position')\n",
    "        delx = [p + 2 for p in list(deletion['Position'])]\n",
    "        dely = list(deletion['Avg'])\n",
    "        delyerr = list(deletion['Standard Error'])\n",
    "        \n",
    "        subs = tempdf[tempdf['Type']=='substitution']\n",
    "        subs = subs.sort_values(by='Position')\n",
    "        subx = list(subs['Position'])\n",
    "        suby = list(subs['Avg'])\n",
    "        subyerr = list(subs['Standard Error'])\n",
    "        subaa = list(subs['Perturbation'])\n",
    "        sub_nonhit = list(subs[subs['Hit']==0]['Position'])\n",
    "        \n",
    "        # initialize plots\n",
    "        fig, ax = plt.subplots(3, 1, figsize=(8.65,3), gridspec_kw={'height_ratios':[0.75, 1.25, 18]}, sharex=False)\n",
    "        plt.subplots_adjust(hspace=0.03)\n",
    "        \n",
    "        ax[0].set_xlim(xrange[0]-0.5, xrange[-1]-0.5)\n",
    "        ax[0].set_xticks([])\n",
    "        ax[0].set_ylim(1,2)\n",
    "        ax[0].set_yticks([])\n",
    "        ax[0].set_ylabel('', rotation=0, va='center', ha='right')\n",
    "        sns.despine(left=True, bottom=True, ax=ax[0])\n",
    "        for s, x in zip(list(WT_struct), xticks_mod):\n",
    "            ax[0].add_patch(Rectangle((x, 1), 1, 1, edgecolor=s, facecolor=s))\n",
    "            \n",
    "        custom_patch = [Line2D([0], [0], color='#AAAAAA', marker='s', lw=0),\n",
    "                        Line2D([0], [0], color='#555555', marker='s', lw=0)]\n",
    "        ax[0].legend(custom_patch, ['Helix', 'Beta'], loc='upper right',\n",
    "                     bbox_to_anchor=(0, 2), frameon=False, handletextpad=-0.2,\n",
    "                     labelspacing=0.1, borderpad=0, title='JPred4', title_fontsize=8)\n",
    "        \n",
    "        \n",
    "        # plot sequence on top with critical substitutions highlighted\n",
    "        ax[1].set_xlim(xrange[0]-0.5, xrange[-1]-0.5)\n",
    "        ax[1].xaxis.set_major_locator(MultipleLocator(5))\n",
    "        ax[1].xaxis.set_minor_locator(MultipleLocator(1))\n",
    "        ax[1].xaxis.set_ticklabels('')\n",
    "        ax[1].set_ylim(0,2)\n",
    "        ax[1].set_yticks([])\n",
    "        sns.despine(left=True, bottom=True, ax=ax[1])\n",
    "        \n",
    "        for x, aa in zip(xticks, WT_seq):\n",
    "            if x in sub_nonhit:\n",
    "                ax[1].annotate(text=aa, xy=(x, 1), va='center', ha='center', size=7, color='#EA7063')\n",
    "            else:\n",
    "                ax[1].annotate(text=aa, xy=(x, 1), va='center', ha='center', size=7)\n",
    "                \n",
    "        # plot deletion scan data, with WT scores as horizontal span\n",
    "        ax[2].set_xlim(xrange[0]-0.5, xrange[-1]-0.5)\n",
    "        ax[2].xaxis.set_major_locator(MultipleLocator(5))\n",
    "        ax[2].xaxis.set_minor_locator(MultipleLocator(1))\n",
    "        ax[2].set_ylim(ymin, ymax)\n",
    "        ax[2].axhline(y=thresh, color='#333333', ls=':', zorder=-5, lw=1)\n",
    "        ax[2].axhspan(ymax=WT_vals[0], ymin=WT_vals[1], color=color, alpha=0.25, zorder=-2)\n",
    "        ax[2].axhline(y=WT_avg, color=color, ls=':', zorder=-1, lw=1)\n",
    "        \n",
    "        for x in xrange:\n",
    "            ax[2].axvline(x=x-0.5, color='#DDDDDD', ls=':', lw=1)\n",
    "        \n",
    "        plotdf_del = pd.DataFrame({'X':delx, 'Y':dely})\n",
    "        sns.scatterplot(data=plotdf_del, x='X', y='Y', color=color, ax=ax[2], linewidth=0)\n",
    "        for x, y, ye in zip(delx, dely, delyerr):\n",
    "            ax[2].errorbar(x, y, xerr=2.5, yerr=ye, color=color, zorder=100)\n",
    "        \n",
    "        # plot substitution data\n",
    "        for x, y, aa in zip(subx, suby, subaa):\n",
    "            ax[2].annotate(text=aa, xy=(x, y), va='center', ha='center', size=7, color=color) #'#666666')\n",
    "        \n",
    "        ax[2].set_xlabel('Residue Position along Protein')\n",
    "        ax[2].set_ylabel(ylabel)\n",
    "        \n",
    "        title = virus + ' ' + protein + ' (' + tile + ')\\n\\n'\n",
    "        savename = '_'.join([virus, protein, tile, effect_type, 'perturb_%d-dpi.png' % dpi])\n",
    "        plt.title(title)\n",
    "        plt.savefig(os.path.join(savedir, savename), dpi=dpi, bbox_inches='tight')\n",
    "        plt.close()\n",
    "\n",
    "tiling_plot(Act, 'activator', threshA, jpred4, 300)\n",
    "tiling_plot(Rep, 'repressor', threshR, jpred4, 300)\n",
    "print('Complete')"
   ]
  },
  {
   "cell_type": "markdown",
   "metadata": {},
   "source": [
    "#### For final Supplemental PDF"
   ]
  },
  {
   "cell_type": "code",
   "execution_count": 8,
   "metadata": {},
   "outputs": [
    {
     "name": "stdout",
     "output_type": "stream",
     "text": [
      "No structural information for KSHV RTA (F5HCV3_060)\n",
      "No WT measurement for HHV7 SCAF (P52351_041)\n",
      " - estimating WT score as 0.6353416019325641\n",
      "No WT measurement for EBV EBNA2 (P12978_010)\n",
      " - estimating WT score as 2.010187976488491\n",
      "Complete\n"
     ]
    }
   ],
   "source": [
    "import os\n",
    "from matplotlib.ticker import (MultipleLocator, AutoMinorLocator)\n",
    "from matplotlib.patches import Rectangle\n",
    "from matplotlib.lines import Line2D\n",
    "\n",
    "font = {'family' : 'Arial',\n",
    "        'size'   : 8}\n",
    "\n",
    "matplotlib.rc('font', **font)\n",
    "\n",
    "jpred4 = pd.read_csv('../Supplemental Tables - CSV/HHV-perturbation/jpred4_results_summarized.csv').drop(columns='Protein Sequence')\n",
    "dropoutDict = {'P12978_010':'PPPPPPPPPPQRRDAWTQEPSPLDRDPLGYDVGHGPLASAMRMLWMANYIVRQSRGDRGLILPQGPQTAPQARLVQPHVP',\n",
    "               'P52351_041':'TKKKKRYREDDDRELTKDKNDIKELVDAIGMLRHEISALKYIRSQSPQRQHCTAVDTMPTIEEKNVASPKPSVVNASLTP'}\n",
    "coords = {'P12978_010':[91, 170], 'P52351_041':[401, 480]}\n",
    "estWT = {'P12978_010':146, 'P52351_041':446}\n",
    "\n",
    "# generate tiling plots containing all info and sequence\n",
    "def tiling_plot(df, effect_type, thresh, structure, dpi):\n",
    "    # set variables based on effect type\n",
    "    if effect_type == 'activator':\n",
    "        color = '#D7AC00'\n",
    "        ylabel = 'log$_2$(ON:OFF)\\nActivation Score'\n",
    "        savedir = '../Individual Figure Panels/HHV_Activator_perturbations_%d-dpi' % dpi\n",
    "        sigma2 = 2*WT_A\n",
    "        yticks = range(-4, 5, 2)\n",
    "        \n",
    "    elif effect_type == 'repressor':\n",
    "        color = '#23BEDB'\n",
    "        ylabel = 'log$_2$(OFF:ON)\\nRepression Score'\n",
    "        savedir = '../Individual Figure Panels/HHV_Repressor_perturbations_%d-dpi' % dpi\n",
    "        sigma2 = 2*WT_R\n",
    "        yticks = range(-2, 7, 2)\n",
    "    \n",
    "    # check if output directory exists - if not, make directory\n",
    "    if not os.path.exists(savedir):\n",
    "        os.makedirs(savedir)\n",
    "    \n",
    "    # subset dataframe to focus on those with correct activity, determine y-limits, and get list of tile identifiers\n",
    "    df = pd.merge(df, structure, on='Tile ID', how='left')\n",
    "    df = df[df['Effect'].isin([effect_type, 'dual'])]\n",
    "    ymax = max(list(df['R1']) + list(df['R2']))*1.05\n",
    "    ymin = min(list(df['R1']) + list(df['R2']))*1.05\n",
    "    tileList = list(set(list(df[df['Tile ID']!='-']['Tile ID'])))\n",
    "    \n",
    "    # for each tile, create plot with effect of all perturbations\n",
    "    for tile in tileList:\n",
    "        tempdf = df[df['Tile ID']==tile]\n",
    "        # if WT sequence not in the subsetted dataframe, then estimate WT activity\n",
    "        if 'WT' not in list(tempdf['Type']):\n",
    "            virus = list(tempdf['Virus Abbreviation'])[0]\n",
    "            protein = list(tempdf['Protein'])[0]\n",
    "            print('No WT measurement for %s %s (%s)' % (virus, protein, tile))\n",
    "            WT_avg = np.mean(list(tempdf[tempdf['Position']>estWT[tile]]['Avg']))\n",
    "            print(' - estimating WT score as %s' % str(WT_avg))\n",
    "            WT_vals = [WT_avg + sigma2, WT_avg - sigma2]\n",
    "            WT_seq = dropoutDict[tile]\n",
    "            WT_struct = list(tempdf['Structure'])[0]\n",
    "            start = coords[tile][0]\n",
    "            end = coords[tile][1] + 1\n",
    "            \n",
    "        else:\n",
    "            # extract information about WT sequence: virus, protein, scores for each replicate, sequence, and coordinates\n",
    "            virus = list(tempdf[tempdf['Type']=='WT']['Virus Abbreviation'])[0]\n",
    "            protein = list(tempdf[tempdf['Type']=='WT']['Protein'])[0]\n",
    "            WT_avg = list(tempdf[tempdf['Type']=='WT']['Avg'])[0]\n",
    "            WT_vals = [WT_avg + sigma2, WT_avg - sigma2]\n",
    "            WT_seq = list(tempdf[tempdf['Type']=='WT']['Protein Sequence'])[0]\n",
    "            WT_struct = list(tempdf[tempdf['Type']=='WT']['Structure'])[0]\n",
    "            start = int(list(tempdf[tempdf['Type']=='WT']['Tile Start'])[0])\n",
    "            end = int(list(tempdf[tempdf['Type']=='WT']['Tile End'])[0]) + 1\n",
    "        xticks = list(range(start, end, 1))\n",
    "        xticks_mod = [x - 0.5 for x in xticks]\n",
    "        xrange = list(range(start, end+1, 5))\n",
    "\n",
    "        if type(WT_struct) == float:\n",
    "            print('No structural information for %s %s (%s)' % (virus, protein, tile))\n",
    "            continue\n",
    "        \n",
    "        # create dataframes for specific subplots\n",
    "        struct_dict = {'-':'#FFFFFF', 'E':'#555555', 'H':'#AAAAAA'}\n",
    "        WT_struct = [struct_dict[s] for s in WT_struct if s in struct_dict]\n",
    "        struct_df = pd.DataFrame(index=xticks, data={'JPred4':list(WT_struct)}).T\n",
    "        \n",
    "        deletion = tempdf[tempdf['Type']=='deletion']\n",
    "        deletion = deletion.sort_values(by='Position')\n",
    "        delx = [p + 2 for p in list(deletion['Position'])]\n",
    "        dely = list(deletion['Avg'])\n",
    "        delyerr = list(deletion['Standard Error'])\n",
    "        \n",
    "        subs = tempdf[tempdf['Type']=='substitution']\n",
    "        subs = subs.sort_values(by='Position')\n",
    "        subx = list(subs['Position'])\n",
    "        suby = list(subs['Avg'])\n",
    "        subyerr = list(subs['Standard Error'])\n",
    "        subaa = list(subs['Perturbation'])\n",
    "        sub_nonhit = list(subs[subs['Hit']==0]['Position'])\n",
    "        \n",
    "        # initialize plots\n",
    "        fig, ax = plt.subplots(3, 1, figsize=(7.5, 1.9), gridspec_kw={'height_ratios':[0.9, 1.6, 17.5]}, sharex=False)\n",
    "        plt.subplots_adjust(hspace=0.03)\n",
    "        \n",
    "        ax[0].set_xlim(xrange[0]-0.5, xrange[-1]-0.5)\n",
    "        ax[0].set_xticks([])\n",
    "        ax[0].set_ylim(1,2)\n",
    "        ax[0].set_yticks([])\n",
    "        ax[0].set_ylabel('', rotation=0, va='center', ha='right')\n",
    "        sns.despine(left=True, bottom=True, ax=ax[0])\n",
    "        for s, x in zip(list(WT_struct), xticks_mod):\n",
    "            ax[0].add_patch(Rectangle((x, 1), 1, 1, edgecolor=s, facecolor=s))\n",
    "            \n",
    "        custom_patch = [Line2D([0], [0], color='#AAAAAA', marker='s', lw=0),\n",
    "                        Line2D([0], [0], color='#555555', marker='s', lw=0)]\n",
    "        ax[0].legend(custom_patch, ['Helix   ', 'Beta    '], loc='upper right',\n",
    "                     bbox_to_anchor=(0, 2), frameon=False, handletextpad=-0.2,\n",
    "                     labelspacing=0.1, borderpad=0, title='JPred4', title_fontsize=8)\n",
    "        \n",
    "        \n",
    "        # plot sequence on top with critical substitutions highlighted\n",
    "        ax[1].set_xlim(xrange[0]-0.5, xrange[-1]-0.5)\n",
    "        ax[1].xaxis.set_major_locator(MultipleLocator(5))\n",
    "        ax[1].xaxis.set_minor_locator(MultipleLocator(1))\n",
    "        ax[1].xaxis.set_ticklabels('')\n",
    "        ax[1].set_ylim(0,2)\n",
    "        ax[1].set_yticks([])\n",
    "        sns.despine(left=True, bottom=True, ax=ax[1])\n",
    "        \n",
    "        for x, aa in zip(xticks, WT_seq):\n",
    "            if x in sub_nonhit:\n",
    "                ax[1].annotate(text=aa, xy=(x, 1), va='center', ha='center', size=7, color='#EA7063')\n",
    "            else:\n",
    "                ax[1].annotate(text=aa, xy=(x, 1), va='center', ha='center', size=7)\n",
    "                \n",
    "        # plot deletion scan data, with WT scores as horizontal span\n",
    "        ax[2].set_xlim(xrange[0]-0.5, xrange[-1]-0.5)\n",
    "        ax[2].xaxis.set_major_locator(MultipleLocator(5))\n",
    "        ax[2].xaxis.set_minor_locator(MultipleLocator(1))\n",
    "        ax[2].set_ylim(ymin, ymax)\n",
    "        ax[2].set_yticks(yticks)\n",
    "        ax[2].axhline(y=thresh, color='#333333', ls=':', zorder=-5, lw=1)\n",
    "        ax[2].axhspan(ymax=WT_vals[0], ymin=WT_vals[1], color=color, alpha=0.25, zorder=-2)\n",
    "        ax[2].axhline(y=WT_avg, color=color, ls=':', zorder=-1, lw=1)\n",
    "        \n",
    "        for x in xrange:\n",
    "            ax[2].axvline(x=x-0.5, color='#DDDDDD', ls=':', lw=1)\n",
    "        \n",
    "        plotdf_del = pd.DataFrame({'X':delx, 'Y':dely})\n",
    "        sns.scatterplot(data=plotdf_del, x='X', y='Y', color=color, ax=ax[2], linewidth=0, s=10)\n",
    "        for x, y, ye in zip(delx, dely, delyerr):\n",
    "            ax[2].errorbar(x, y, xerr=2.5, yerr=ye, color=color, zorder=100, lw=1)\n",
    "        \n",
    "        # plot substitution data\n",
    "        for x, y, aa in zip(subx, suby, subaa):\n",
    "            ax[2].annotate(text=aa, xy=(x, y), va='center', ha='center', size=7, color=color) #'#666666')\n",
    "        \n",
    "        ax[2].set_xlabel('Residue Position along Protein')\n",
    "        ax[2].set_ylabel(ylabel)\n",
    "        \n",
    "        title = virus + ' ' + protein + ' (' + tile + ')\\n\\n'\n",
    "        savename = '_'.join([virus, protein, tile, effect_type, 'perturb_%d-dpi.png' % dpi])\n",
    "        plt.title(title, fontsize=8)\n",
    "        plt.savefig(os.path.join(savedir, savename), dpi=dpi, bbox_inches='tight')\n",
    "        plt.close()\n",
    "\n",
    "tiling_plot(Act, 'activator', threshA, jpred4, 150)\n",
    "tiling_plot(Rep, 'repressor', threshR, jpred4, 150)\n",
    "print('Complete')"
   ]
  },
  {
   "cell_type": "markdown",
   "metadata": {},
   "source": [
    "### END"
   ]
  },
  {
   "cell_type": "code",
   "execution_count": null,
   "metadata": {},
   "outputs": [],
   "source": []
  },
  {
   "cell_type": "markdown",
   "metadata": {},
   "source": [
    "### Miscellaneous JPred4"
   ]
  },
  {
   "cell_type": "code",
   "execution_count": 245,
   "metadata": {},
   "outputs": [
    {
     "name": "stdout",
     "output_type": "stream",
     "text": [
      "Complete\n"
     ]
    },
    {
     "name": "stderr",
     "output_type": "stream",
     "text": [
      "<ipython-input-245-d8fd7b393730>:3: SettingWithCopyWarning: \n",
      "A value is trying to be set on a copy of a slice from a DataFrame.\n",
      "Try using .loc[row_indexer,col_indexer] = value instead\n",
      "\n",
      "See the caveats in the documentation: https://pandas.pydata.org/pandas-docs/stable/user_guide/indexing.html#returning-a-view-versus-a-copy\n",
      "  prot_seqs2['Tile ID'] = prot_seqs['Full Tile ID'].str.split('_').str[:-1].str.join('_')\n"
     ]
    }
   ],
   "source": [
    "# generate fasta file for secondary structure prediction with JPred4\n",
    "prot_seqs2 = prot_seqs[prot_seqs['Full Tile ID'].str.contains('_WT')]\n",
    "prot_seqs2['Tile ID'] = prot_seqs['Full Tile ID'].str.split('_').str[:-1].str.join('_')\n",
    "secondary = pd.merge(maxTiles, prot_seqs2, on='Tile ID', how='left')\n",
    "tileIDs = list(secondary['Tile ID'])\n",
    "seqList = list(secondary['Protein Sequence'])\n",
    "\n",
    "savefile = 'maxTile_WT_sequences.fasta'\n",
    "with open(savefile, 'w') as fasta:\n",
    "    for ID, seq in zip(tileIDs, seqList):\n",
    "        fasta.write('>'+ID+'\\n')\n",
    "        fasta.write(seq+'\\n')\n",
    "\n",
    "print('Complete')"
   ]
  },
  {
   "cell_type": "code",
   "execution_count": 254,
   "metadata": {},
   "outputs": [],
   "source": [
    "import tarfile\n",
    "jpred4 = tarfile.open('jp_batch_1649180431__ALL_JOBS_ARCHIVE.tar.gz')\n",
    "jpred4.extractall('jpred4_results')\n",
    "jpred4.close()"
   ]
  },
  {
   "cell_type": "code",
   "execution_count": 289,
   "metadata": {},
   "outputs": [
    {
     "name": "stdout",
     "output_type": "stream",
     "text": [
      "Complete\n"
     ]
    }
   ],
   "source": [
    "# import sys\n",
    "# !{sys.executable} -m pip install html2text\n",
    "import html2text\n",
    "\n",
    "results_dir = 'jpred4_results'\n",
    "tileList = []\n",
    "seqList = []\n",
    "structureList = []\n",
    "\n",
    "for sub_dir in os.listdir(results_dir):\n",
    "    sub_dir_path = os.path.join(results_dir, sub_dir)\n",
    "    for file in os.listdir(sub_dir_path):\n",
    "        file_path = os.path.join(sub_dir_path, file)\n",
    "        if '.name' in file:\n",
    "            tileID = file[:-5]\n",
    "            tileList.append(tileID)\n",
    "        if 'simple' in file:\n",
    "            first = True\n",
    "            last = False\n",
    "            with open(file_path, 'r') as simple_html:\n",
    "                count = 0\n",
    "                for line in simple_html:\n",
    "                    decoded = html2text.html2text(line).strip()\n",
    "                    if len(decoded) != 0:\n",
    "                        if first:\n",
    "                            seqList.append(decoded)\n",
    "                            first = False\n",
    "                        elif (not first) & (not last):\n",
    "                            structureList.append(decoded)\n",
    "                            last = True\n",
    "\n",
    "structureList = [s.replace('\\\\', '') for s in structureList]\n",
    "jpred4_df = pd.DataFrame({'Tile ID':tileList, 'Protein Sequence':seqList, 'Structure':structureList})\n",
    "jpred4_df.to_csv('jpred4_results_summarized.csv', index=False)\n",
    "print('Complete')"
   ]
  }
 ],
 "metadata": {
  "kernelspec": {
   "display_name": "Python 3",
   "language": "python",
   "name": "python3"
  },
  "language_info": {
   "codemirror_mode": {
    "name": "ipython",
    "version": 3
   },
   "file_extension": ".py",
   "mimetype": "text/x-python",
   "name": "python",
   "nbconvert_exporter": "python",
   "pygments_lexer": "ipython3",
   "version": "3.8.5"
  }
 },
 "nbformat": 4,
 "nbformat_minor": 4
}
